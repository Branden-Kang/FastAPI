{
  "nbformat": 4,
  "nbformat_minor": 0,
  "metadata": {
    "colab": {
      "provenance": [],
      "authorship_tag": "ABX9TyPSeveyy5f93NLMp2EMaKdf"
    },
    "kernelspec": {
      "name": "python3",
      "display_name": "Python 3"
    },
    "language_info": {
      "name": "python"
    }
  },
  "cells": [
    {
      "cell_type": "markdown",
      "source": [
        "[Reference](https://ahmed-nafies.medium.com/tutorial-fastapi-sqlalchemy-postgresql-alembic-and-docker-part-2-asynchronous-version-8a339ce97e6d)"
      ],
      "metadata": {
        "id": "x2tPQADh7liG"
      }
    },
    {
      "cell_type": "code",
      "execution_count": 1,
      "metadata": {
        "colab": {
          "base_uri": "https://localhost:8080/"
        },
        "id": "80Rs6UkK65f0",
        "outputId": "dc91951d-ee64-4270-ffdf-3374f83a6730"
      },
      "outputs": [
        {
          "output_type": "stream",
          "name": "stdout",
          "text": [
            "/bin/bash: line 1: pipenv: command not found\n",
            "/bin/bash: line 1: pipenv: command not found\n",
            "/bin/bash: line 1: pipenv: command not found\n"
          ]
        }
      ],
      "source": [
        "!pipenv install databases\n",
        "!pipenv install databases[postgresql]\n",
        "!pipenv install asyncpg"
      ]
    },
    {
      "cell_type": "markdown",
      "source": [
        "```\n",
        "# Pull base image\n",
        "FROM python:3.7\n",
        "\n",
        "# Set environment varibles\n",
        "ENV PYTHONDONTWRITEBYTECODE 1\n",
        "ENV PYTHONUNBUFFERED 1\n",
        "\n",
        "WORKDIR /code/\n",
        "\n",
        "# Install dependencies\n",
        "RUN pip install pipenv\n",
        "COPY Pipfile Pipfile.lock /code/\n",
        "RUN pipenv install --system --dev\n",
        "\n",
        "COPY . /code/\n",
        "\n",
        "EXPOSE 8000\n",
        "```"
      ],
      "metadata": {
        "id": "kN_YkLL37txD"
      }
    },
    {
      "cell_type": "markdown",
      "source": [
        "```\n",
        "version: \"3\"\n",
        "\n",
        "services:\n",
        "  db:\n",
        "    image: postgres:11\n",
        "    ports:\n",
        "      - \"5432:5432\"\n",
        "    environment:\n",
        "      - POSTGRES_USER=postgres\n",
        "      - POSTGRES_PASSWORD=postgres\n",
        "      - POSTGRES_DB=test_db\n",
        "  web:\n",
        "    build: .\n",
        "    command: bash -c \"uvicorn main:app --host 0.0.0.0 --port 8000 --reload\"\n",
        "    volumes:\n",
        "      - .:/code\n",
        "    ports:\n",
        "      - \"8000:8000\"\n",
        "    depends_on:\n",
        "      - db\n",
        "\n",
        "  pgadmin:\n",
        "    container_name: pgadmin\n",
        "    image: dpage/pgadmin4\n",
        "    environment:\n",
        "      - PGADMIN_DEFAULT_EMAIL=pgadmin4@pgadmin.org\n",
        "      - PGADMIN_DEFAULT_PASSWORD=admin\n",
        "    ports:\n",
        "      - \"5050:80\"\n",
        "    depends_on:\n",
        "      - db\n",
        "```"
      ],
      "metadata": {
        "id": "uI8CQpHO7yeO"
      }
    },
    {
      "cell_type": "code",
      "source": [
        "from pydantic import BaseModel\n",
        "\n",
        "class User(BaseModel):\n",
        "    first_name: str\n",
        "    last_name: str\n",
        "    age: int\n",
        "\n",
        "    class Config:\n",
        "        orm_mode = True"
      ],
      "metadata": {
        "id": "4vUb0m8X7sS1"
      },
      "execution_count": 2,
      "outputs": []
    },
    {
      "cell_type": "code",
      "source": [
        "import os\n",
        "from databases import Database\n",
        "from dotenv import load_dotenv\n",
        "import sqlalchemy\n",
        "BASE_DIR = os.path.dirname(os.path.abspath(__file__))\n",
        "load_dotenv(os.path.join(BASE_DIR, \".env\"))\n",
        "\n",
        "db = Database(os.environ[\"DATABASE_URL\"])\n",
        "metadata = sqlalchemy.MetaData()"
      ],
      "metadata": {
        "id": "7D3Q_qiL71O8"
      },
      "execution_count": 3,
      "outputs": []
    },
    {
      "cell_type": "code",
      "source": [
        "from db import db\n",
        "from fastapi import FastAPI\n",
        "\n",
        "\n",
        "app = FastAPI(title=\"Async FastAPI\")\n",
        "\n",
        "\n",
        "@app.on_event(\"startup\")\n",
        "async def startup():\n",
        "    await db.connect()\n",
        "\n",
        "\n",
        "@app.on_event(\"shutdown\")\n",
        "async def shutdown():\n",
        "    await db.disconnect()"
      ],
      "metadata": {
        "id": "nCNeTl-874Iz"
      },
      "execution_count": 4,
      "outputs": []
    },
    {
      "cell_type": "code",
      "source": [
        "from db import db\n",
        "\n",
        "users = sqlalchemy.Table(\n",
        "    \"users\",\n",
        "    metadata,\n",
        "    sqlalchemy.Column(\"id\", sqlalchemy.Integer, primary_key=True),\n",
        "    sqlalchemy.Column(\"first_name\", sqlalchemy.String),\n",
        "    sqlalchemy.Column(\"last_name\", sqlalchemy.String),\n",
        "    sqlalchemy.Column(\"age\", sqlalchemy.Integer),\n",
        ")"
      ],
      "metadata": {
        "id": "aV4eBO7P76i_"
      },
      "execution_count": 7,
      "outputs": []
    },
    {
      "cell_type": "code",
      "source": [
        "import sqlalchemy\n",
        "from db import db, metadata, sqlalchemy\n",
        "\n",
        "\n",
        "users = sqlalchemy.Table(\n",
        "    \"users\",\n",
        "    metadata,\n",
        "    sqlalchemy.Column(\"id\", sqlalchemy.Integer, primary_key=True),\n",
        "    sqlalchemy.Column(\"first_name\", sqlalchemy.String),\n",
        "    sqlalchemy.Column(\"last_name\", sqlalchemy.String),\n",
        "    sqlalchemy.Column(\"age\", sqlalchemy.Integer),\n",
        ")\n",
        "\n",
        "\n",
        "class User:\n",
        "    @classmethod\n",
        "    async def get(cls, id):\n",
        "        query = users.select().where(users.c.id == id)\n",
        "        user = await db.fetch_one(query)\n",
        "        return user\n",
        "\n",
        "    @classmethod\n",
        "    async def create(cls, **user):\n",
        "        query = users.insert().values(**user)\n",
        "        user_id = await db.execute(query)\n",
        "        return user_id"
      ],
      "metadata": {
        "id": "zaelxh2o78Hd"
      },
      "execution_count": 8,
      "outputs": []
    },
    {
      "cell_type": "code",
      "source": [
        "import uvicorn\n",
        "from models import User as ModelUser\n",
        "from schema import User as SchemaUser\n",
        "from app import app\n",
        "from db import db\n",
        "\n",
        "\n",
        "@app.post(\"/user/\")\n",
        "async def create_user(user: SchemaUser):\n",
        "    user_id = await ModelUser.create(**user.dict())\n",
        "    return {\"user_id\": user_id}\n",
        "\n",
        "\n",
        "@app.get(\"/user/{id}\", response_model=SchemaUser)\n",
        "async def get_user(id: int):\n",
        "    user = await ModelUser.get(id)\n",
        "    return SchemaUser(**user).dict()\n",
        "\n",
        "\n",
        "if __name__ == \"__main__\":\n",
        "    uvicorn.run(app, host=\"0.0.0.0\", port=8000)"
      ],
      "metadata": {
        "id": "2T_iEeFH8DLO"
      },
      "execution_count": 10,
      "outputs": []
    },
    {
      "cell_type": "code",
      "source": [
        "import models\n",
        "from db import metadata\n",
        "\n",
        "target_metadata = metadata"
      ],
      "metadata": {
        "id": "jfHNoJxx8GL5"
      },
      "execution_count": 11,
      "outputs": []
    },
    {
      "cell_type": "markdown",
      "source": [
        "```\n",
        "docker-compose build\n",
        "\n",
        "docker-compose run web alembic revision --autogenerate\n",
        "\n",
        "docker-compose run web alembic upgrade head\n",
        "\n",
        "docker-compose up\n",
        "```"
      ],
      "metadata": {
        "id": "s8ZlfVpv8LiS"
      }
    }
  ]
}