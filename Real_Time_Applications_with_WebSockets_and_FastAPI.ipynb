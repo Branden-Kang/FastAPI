{
  "nbformat": 4,
  "nbformat_minor": 0,
  "metadata": {
    "colab": {
      "provenance": [],
      "authorship_tag": "ABX9TyMYvyuPd3cIxSHliJBxzYDW"
    },
    "kernelspec": {
      "name": "python3",
      "display_name": "Python 3"
    },
    "language_info": {
      "name": "python"
    }
  },
  "cells": [
    {
      "cell_type": "markdown",
      "source": [
        "[Reference](https://jnikenoueba.medium.com/real-time-applications-with-websockets-and-fastapi-7f9ea66bcddf)"
      ],
      "metadata": {
        "id": "AbLbJTDQ5MAV"
      }
    },
    {
      "cell_type": "markdown",
      "source": [
        "```\n",
        "fastapi_websockets/\n",
        "├── app/\n",
        "│   ├── __init__.py\n",
        "│   ├── main.py\n",
        "├── index.html\n",
        "├── requirements.txt\n",
        "└── README.md\n",
        "```"
      ],
      "metadata": {
        "id": "KQMby4F_5REY"
      }
    },
    {
      "cell_type": "markdown",
      "source": [
        "# 1. Setting Up Your Environment\n",
        "```\n",
        "python -m venv venv\n",
        "source venv/bin/activate  # On Windows use `venv\\Scripts\\activate`\n",
        "pip install fastapi uvicorn\n",
        "```"
      ],
      "metadata": {
        "id": "cMW46div5TH6"
      }
    },
    {
      "cell_type": "markdown",
      "source": [
        "# 2. Creating a Simple WebSocket Server\n",
        "```\n",
        "main.py\n",
        "```"
      ],
      "metadata": {
        "id": "Ys-wDnvu5V--"
      }
    },
    {
      "cell_type": "code",
      "execution_count": 2,
      "metadata": {
        "id": "ismArmSI5JJg"
      },
      "outputs": [],
      "source": [
        "from fastapi import FastAPI, WebSocket, WebSocketDisconnect\n",
        "from typing import List\n",
        "\n",
        "app = FastAPI()\n",
        "\n",
        "class ConnectionManager:\n",
        "    def __init__(self):\n",
        "        self.active_connections: List[WebSocket] = []\n",
        "\n",
        "    async def connect(self, websocket: WebSocket):\n",
        "        await websocket.accept()\n",
        "        self.active_connections.append(websocket)\n",
        "\n",
        "    def disconnect(self, websocket: WebSocket):\n",
        "        self.active_connections.remove(websocket)\n",
        "\n",
        "    async def send_message(self, message: str, websocket: WebSocket):\n",
        "        await websocket.send_text(message)\n",
        "\n",
        "    async def broadcast(self, message: str):\n",
        "        for connection in self.active_connections:\n",
        "            await connection.send_text(message)\n",
        "\n",
        "manager = ConnectionManager()\n",
        "\n",
        "@app.websocket(\"/ws/{client_id}\")\n",
        "async def websocket_endpoint(websocket: WebSocket, client_id: int):\n",
        "    await manager.connect(websocket)\n",
        "    try:\n",
        "        while True:\n",
        "            data = await websocket.receive_text()\n",
        "            await manager.send_message(f\"Client {client_id}: {data}\", websocket)\n",
        "            await manager.broadcast(f\"Client {client_id} says: {data}\")\n",
        "    except WebSocketDisconnect:\n",
        "        manager.disconnect(websocket)\n",
        "        await manager.broadcast(f\"Client {client_id} disconnected\")"
      ]
    },
    {
      "cell_type": "markdown",
      "source": [
        "# 3. Running the Application\n",
        "```\n",
        "uvicorn app.main:app --reload --host 0.0.0.0 --port 8000\n",
        "```"
      ],
      "metadata": {
        "id": "zgsy8wkv5gUI"
      }
    },
    {
      "cell_type": "markdown",
      "source": [
        "# 4. Creating a Frontend for Real-Time Communication\n",
        "```\n",
        "index.html\n",
        "\n",
        "<!DOCTYPE html>\n",
        "<html>\n",
        "<head>\n",
        "    <title>WebSocket Chat</title>\n",
        "</head>\n",
        "<body>\n",
        "    <h1>WebSocket Chat</h1>\n",
        "    <input type=\"text\" id=\"messageInput\" autocomplete=\"off\"/>\n",
        "    <button onclick=\"sendMessage()\">Send</button>\n",
        "    <ul id=\"messages\"></ul>\n",
        "\n",
        "    <script>\n",
        "        const clientId = Math.floor(Math.random() * 1000);\n",
        "        const ws = new WebSocket(`ws://localhost:8000/ws/${clientId}`);\n",
        "\n",
        "        ws.onmessage = function(event) {\n",
        "            const messages = document.getElementById('messages');\n",
        "            const message = document.createElement('li');\n",
        "            message.textContent = event.data;\n",
        "            messages.appendChild(message);\n",
        "        };\n",
        "\n",
        "        function sendMessage() {\n",
        "            const input = document.getElementById(\"messageInput\");\n",
        "            ws.send(input.value);\n",
        "            input.value = '';\n",
        "        }\n",
        "    </script>\n",
        "</body>\n",
        "</html>\n",
        "```"
      ],
      "metadata": {
        "id": "5ZXsPTc05i8S"
      }
    },
    {
      "cell_type": "markdown",
      "source": [
        "# 5. Serving the Frontend with FastAPI"
      ],
      "metadata": {
        "id": "p4v_q3Mg5oUm"
      }
    },
    {
      "cell_type": "code",
      "source": [
        "from fastapi import FastAPI, WebSocket, WebSocketDisconnect\n",
        "from fastapi.responses import HTMLResponse\n",
        "from typing import List\n",
        "\n",
        "app = FastAPI()\n",
        "\n",
        "class ConnectionManager:\n",
        "    def __init__(self):\n",
        "        self.active_connections: List[WebSocket] = []\n",
        "\n",
        "    async def connect(self, websocket: WebSocket):\n",
        "        await websocket.accept()\n",
        "        self.active_connections.append(websocket)\n",
        "\n",
        "    def disconnect(self, websocket: WebSocket):\n",
        "        self.active_connections.remove(websocket)\n",
        "\n",
        "    async def send_message(self, message: str, websocket: WebSocket):\n",
        "        await websocket.send_text(message)\n",
        "\n",
        "    async def broadcast(self, message: str):\n",
        "        for connection in self.active_connections:\n",
        "            await connection.send_text(message)\n",
        "\n",
        "manager = ConnectionManager()\n",
        "\n",
        "@app.websocket(\"/ws/{client_id}\")\n",
        "async def websocket_endpoint(websocket: WebSocket, client_id: int):\n",
        "    await manager.connect(websocket)\n",
        "    try:\n",
        "        while True:\n",
        "            data = await websocket.receive_text()\n",
        "            await manager.send_message(f\"Client {client_id}: {data}\", websocket)\n",
        "            await manager.broadcast(f\"Client {client_id} says: {data}\")\n",
        "    except WebSocketDisconnect:\n",
        "        manager.disconnect(websocket)\n",
        "        await manager.broadcast(f\"Client {client_id} disconnected\")\n",
        "\n",
        "@app.get(\"/\")\n",
        "async def get():\n",
        "    with open(\"index.html\") as f:\n",
        "        return HTMLResponse(f.read())"
      ],
      "metadata": {
        "id": "WWzM_ie15bIT"
      },
      "execution_count": 3,
      "outputs": []
    },
    {
      "cell_type": "markdown",
      "source": [
        "# 6. Testing the Real-Time Application\n",
        "```\n",
        "uvicorn app.main:app --reload --host 0.0.0.0 --port 8000\n",
        "```"
      ],
      "metadata": {
        "id": "BbyiIR_85rUs"
      }
    }
  ]
}