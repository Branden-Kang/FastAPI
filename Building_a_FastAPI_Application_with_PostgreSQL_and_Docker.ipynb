{
  "nbformat": 4,
  "nbformat_minor": 0,
  "metadata": {
    "colab": {
      "provenance": [],
      "authorship_tag": "ABX9TyPvbXqyvhnm+6ZwEESZq0QI"
    },
    "kernelspec": {
      "name": "python3",
      "display_name": "Python 3"
    },
    "language_info": {
      "name": "python"
    }
  },
  "cells": [
    {
      "cell_type": "markdown",
      "source": [
        "[Reference](https://rajansahu713.medium.com/building-a-fastapi-application-with-postgresql-and-docker-5cf67e383554)"
      ],
      "metadata": {
        "id": "GnuFVzE-Mqh0"
      }
    },
    {
      "cell_type": "markdown",
      "source": [
        "# Setting Up the Database"
      ],
      "metadata": {
        "id": "HBJsIcdGMviv"
      }
    },
    {
      "cell_type": "code",
      "execution_count": 1,
      "metadata": {
        "id": "cvzxqCliMFeS"
      },
      "outputs": [],
      "source": [
        "from sqlalchemy.ext.asyncio import AsyncSession, create_async_engine\n",
        "from sqlalchemy.ext.declarative import declarative_base\n",
        "from sqlalchemy.orm import sessionmaker\n",
        "\n",
        "DATABASE_URL = \"postgresql+asyncpg://postgres:123456@db:5432/demo\"\n",
        "engine = create_async_engine(DATABASE_URL, echo=True)\n",
        "SessionLocal = sessionmaker(bind=engine, class_=AsyncSession, expire_on_commit=False)\n",
        "Base = declarative_base()"
      ]
    },
    {
      "cell_type": "markdown",
      "source": [
        "# Creating the Dockerfile\n",
        "```\n",
        "FROM python:3.11\n",
        "WORKDIR /app\n",
        "COPY requirements.txt .\n",
        "RUN pip install --no-cache-dir -r requirements.txt\n",
        "COPY . .\n",
        "CMD [\"uvicorn\", \"main:app\", \"--host\", \"0.0.0.0\", \"--port\", \"8000\"]\n",
        "```"
      ],
      "metadata": {
        "id": "TODfDofGMyNG"
      }
    },
    {
      "cell_type": "markdown",
      "source": [
        "# Docker Compose Configuration\n",
        "```\n",
        "version: '3.11'\n",
        "\n",
        "services:\n",
        "  db:\n",
        "    image: postgres\n",
        "    environment:\n",
        "      POSTGRES_USER: postgres\n",
        "      POSTGRES_PASSWORD: 123456\n",
        "      POSTGRES_DB: demo\n",
        "    ports:\n",
        "      - \"5432:5432\"\n",
        "    volumes:\n",
        "      - postgres_data:/var/lib/postgresql/data\n",
        "  web:\n",
        "    build: ./app\n",
        "    command: uvicorn main:app --host 0.0.0.0 --port 8000 --reload\n",
        "    volumes:\n",
        "      - ./app:/app\n",
        "    ports:\n",
        "      - \"8000:8000\"\n",
        "    depends_on:\n",
        "      - db\n",
        "volumes:\n",
        "  postgres_data:\n",
        "```"
      ],
      "metadata": {
        "id": "jSVMnuSeM07l"
      }
    },
    {
      "cell_type": "markdown",
      "source": [
        "# Defining Models and Schemas"
      ],
      "metadata": {
        "id": "8cJQMGARM3rI"
      }
    },
    {
      "cell_type": "code",
      "source": [
        "import sqlalchemy\n",
        "from databases import Base\n",
        "\n",
        "class Item(Base):\n",
        "    __tablename__ = \"items\n",
        "    id = sqlalchemy.Column(sqlalchemy.Integer, primary_key=True, index=True)\n",
        "    name = sqlalchemy.Column(sqlalchemy.String, index=True)\n",
        "    description = sqlalchemy.Column(sqlalchemy.String, index=True)"
      ],
      "metadata": {
        "id": "xa_1_ZctMxO0"
      },
      "execution_count": 3,
      "outputs": []
    },
    {
      "cell_type": "code",
      "source": [
        "from pydantic import BaseModel\n",
        "\n",
        "class ItemBase(BaseModel):\n",
        "    name: str\n",
        "    description: str\n",
        "class ItemCreate(ItemBase):\n",
        "    pass\n",
        "class ItemResponse(ItemBase):\n",
        "    id: int\n",
        "    class Config:\n",
        "        from_attributes = True"
      ],
      "metadata": {
        "id": "y_d7w6STM5aV"
      },
      "execution_count": 4,
      "outputs": []
    },
    {
      "cell_type": "code",
      "source": [
        "from fastapi import FastAPI, Depends, HTTPException\n",
        "from sqlalchemy.ext.asyncio import AsyncSession\n",
        "from sqlalchemy.future import select\n",
        "from databases import Base, SessionLocal, engine\n",
        "from schemas import ItemResponse, ItemCreate\n",
        "from models import Item\n",
        "from contextlib import asynccontextmanager\n",
        "\n",
        "\n",
        "# Function to create the database tables\n",
        "async def create_all():\n",
        "    async with engine.begin() as conn:\n",
        "        await conn.run_sync(Base.metadata.create_all)\n",
        "@asynccontextmanager\n",
        "async def lifespan(app: FastAPI):\n",
        "    await create_all()\n",
        "    yield\n",
        "app = FastAPI(lifespan=lifespan)\n",
        "# Dependency\n",
        "async def get_db():\n",
        "    async with SessionLocal() as session:\n",
        "        yield session\n",
        "@app.post(\"/items/\", response_model=ItemResponse)\n",
        "async def create_item(item: ItemCreate, db: AsyncSession = Depends(get_db)):\n",
        "    db_item = Item(name=item.name, description=item.description)\n",
        "    db.add(db_item)\n",
        "    await db.commit()\n",
        "    await db.refresh(db_item)\n",
        "    return db_item\n",
        "@app.get(\"/items/{item_id}\", response_model=ItemResponse)\n",
        "async def read_item(item_id: int, db: AsyncSession = Depends(get_db)):\n",
        "    result = await db.execute(select(Item).where(Item.id == item_id))\n",
        "    item = result.scalars().first()\n",
        "    if item is None:\n",
        "        raise HTTPException(status_code=404, detail=\"Item not found\")\n",
        "    return item\n",
        "@app.put(\"/items/{item_id}\", response_model=ItemResponse)\n",
        "async def update_item(item_id: int, item: ItemCreate, db: AsyncSession = Depends(get_db)):\n",
        "    result = await db.execute(select(Item).where(Item.id == item_id))\n",
        "    db_item = result.scalars().first()\n",
        "    if db_item is None:\n",
        "        raise HTTPException(status_code=404, detail=\"Item not found\")\n",
        "    db_item.name = item.name\n",
        "    db_item.description = item.description\n",
        "    await db.commit()\n",
        "    await db.refresh(db_item)\n",
        "    return db_item\n",
        "@app.delete(\"/items/{item_id}\", response_model=ItemResponse)\n",
        "async def delete_item(item_id: int, db: AsyncSession = Depends(get_db)):\n",
        "    result = await db.execute(select(Item).where(Item.id == item_id))\n",
        "    db_item = result.scalars().first()\n",
        "    if db_item is None:\n",
        "        raise HTTPException(status_code=404, detail=\"Item not found\")\n",
        "    await db.delete(db_item)\n",
        "    await db.commit()\n",
        "    return db_item"
      ],
      "metadata": {
        "id": "VSURbGz3M8kd"
      },
      "execution_count": 5,
      "outputs": []
    },
    {
      "cell_type": "markdown",
      "source": [
        "```\n",
        "docker-compose up --build\n",
        "```"
      ],
      "metadata": {
        "id": "tn96JSosNBSN"
      }
    }
  ]
}