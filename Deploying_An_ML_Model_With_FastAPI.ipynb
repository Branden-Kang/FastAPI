{
  "nbformat": 4,
  "nbformat_minor": 0,
  "metadata": {
    "colab": {
      "name": "Deploying An ML Model With FastAPI.ipynb",
      "provenance": [],
      "collapsed_sections": [],
      "authorship_tag": "ABX9TyPS0AxIcf3vj0RwjnL8wxBs"
    },
    "kernelspec": {
      "name": "python3",
      "display_name": "Python 3"
    },
    "language_info": {
      "name": "python"
    }
  },
  "cells": [
    {
      "cell_type": "markdown",
      "metadata": {
        "id": "r6mDEVN8wwUs"
      },
      "source": [
        "[Reference](https://towardsdatascience.com/deploying-an-ml-model-with-fastapi-a-succinct-guide-69eceda27b21)"
      ]
    },
    {
      "cell_type": "markdown",
      "metadata": {
        "id": "EFCvBOGow2pg"
      },
      "source": [
        "# Setting up your environment\n"
      ]
    },
    {
      "cell_type": "code",
      "metadata": {
        "id": "JFlxKcXxwq-s"
      },
      "source": [
        "pipenv shell"
      ],
      "execution_count": null,
      "outputs": []
    },
    {
      "cell_type": "code",
      "metadata": {
        "id": "CIyqYt5bw54Z"
      },
      "source": [
        "pipenv install spacy spacytextblob pydantic fastapi uvicorn"
      ],
      "execution_count": null,
      "outputs": []
    },
    {
      "cell_type": "markdown",
      "metadata": {
        "id": "xgyw8ao3w8_w"
      },
      "source": [
        "# Building the model"
      ]
    },
    {
      "cell_type": "code",
      "metadata": {
        "id": "Aru9XjWJw6eD"
      },
      "source": [
        "import spacy\n",
        "from spacytextblob import SpacyTextBlob\n",
        "from pydantic import BaseModel\n",
        "\n",
        "class SentimentQueryModel(BaseModel):\n",
        "    text : str\n",
        "\n",
        "\n",
        "class SentimentModel:\n",
        "    def get_sentiment(self, text):\n",
        "        nlp = spacy.load('en_core_web_sm')\n",
        "        spacy_text_blob = SpacyTextBlob()\n",
        "        nlp.add_pipe(spacy_text_blob)\n",
        "\n",
        "        doc = nlp(text)\n",
        "        polarity = doc._.sentiment.polarity      \n",
        "        subjectivity = doc._.sentiment.subjectivity\n",
        "        return polarity, subjectivity"
      ],
      "execution_count": null,
      "outputs": []
    },
    {
      "cell_type": "markdown",
      "metadata": {
        "id": "vqJGRtaQxKfF"
      },
      "source": [
        "# Making the API"
      ]
    },
    {
      "cell_type": "code",
      "metadata": {
        "id": "1kBl4MJOxWQy"
      },
      "source": [
        "import uvicornfrom fastapi \n",
        "import FastAPIfrom model\n",
        "import SentimentModel, SentimentQueryModel"
      ],
      "execution_count": null,
      "outputs": []
    },
    {
      "cell_type": "code",
      "metadata": {
        "id": "2e1shWIIxWty"
      },
      "source": [
        "app = FastAPI()\n",
        "model = SentimentModel()"
      ],
      "execution_count": null,
      "outputs": []
    },
    {
      "cell_type": "code",
      "metadata": {
        "id": "YdTS-a5HxamX"
      },
      "source": [
        "@app.post('/predict')\n",
        "def predict(data: SentimentQueryModel):    \n",
        "    data = data.dict()\n",
        "    polarity, subjectivity = model.get_sentiment(data['text'])\n",
        "    return { 'polarity': polarity,        \n",
        "             'subjectivity': subjectivity    \n",
        "           }"
      ],
      "execution_count": null,
      "outputs": []
    },
    {
      "cell_type": "code",
      "metadata": {
        "id": "3GR9S-EUxcm4"
      },
      "source": [
        "if __name__ == '__main__':    \n",
        "    uvicorn.run(app, host='127.0.0.1', port=8000)"
      ],
      "execution_count": null,
      "outputs": []
    }
  ]
}