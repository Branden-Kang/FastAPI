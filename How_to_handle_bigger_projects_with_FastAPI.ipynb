{
  "nbformat": 4,
  "nbformat_minor": 0,
  "metadata": {
    "colab": {
      "provenance": [],
      "authorship_tag": "ABX9TyPLySJ/I4+jHTaF7TDW7Qx5"
    },
    "kernelspec": {
      "name": "python3",
      "display_name": "Python 3"
    },
    "language_info": {
      "name": "python"
    }
  },
  "cells": [
    {
      "cell_type": "markdown",
      "source": [
        "[Reference](https://medium.com/geekculture/how-to-handle-bigger-projects-with-fastapi-94ffac1efec8)"
      ],
      "metadata": {
        "id": "vmVGM8T-B2Vb"
      }
    },
    {
      "cell_type": "code",
      "execution_count": null,
      "metadata": {
        "id": "KnLBH6abBzKo"
      },
      "outputs": [],
      "source": [
        "#main.py\n",
        "from fastapi import FastAPI\n",
        "\n",
        "\n",
        "app = FastAPI()\n",
        "\n",
        "@app.get(\"/publicapi/v1/health\")\n",
        "async def get_health() -> dict:\n",
        "\"\"\"Health check information about this service\"\"\"\n",
        "\n",
        "  return {\n",
        "    'Database': 'Status is up',\n",
        "    'Application:': 'Status is up',\n",
        "    'Networking': '0.99 ms latency'\n",
        "}\n",
        "\n",
        "if __name__ == '__main__':\n",
        "    uvicorn.run(\"main:app\", host=\"127.0.0.1\", port=8000, reload=True)"
      ]
    },
    {
      "cell_type": "code",
      "source": [
        "# main.py\n",
        "from fastapi import HTTPException\n",
        "\n",
        "teams = {\n",
        "  \"infra\": {\n",
        "    \"manager\": \"John Doe\",\n",
        "    \"phone\": \"00 000 111 222 333\"\n",
        "  },\n",
        "  \"dev\": {\n",
        "    \"manager\": \"Jane Doe\",\n",
        "    \"phone\": \"44 555 666 777 888\"\n",
        "  },\n",
        "  \"qa\": {...},\n",
        "  \"operations\": {...}\n",
        "}\n",
        "\n",
        "@app.get(\"/publicapi/v1/teams/{team}\")\n",
        "async def get_team(team: str) -> dict:\n",
        "\"\"\"Retrieves information about particular team\"\"\"\n",
        "  try:\n",
        "    return teams[team]\n",
        "  except KeyError:\n",
        "    raise HTTPException(\n",
        "      status_code=404,\n",
        "      detail=f'{team} does not exist.')"
      ],
      "metadata": {
        "id": "oSiCaPRRB4j4"
      },
      "execution_count": null,
      "outputs": []
    }
  ]
}