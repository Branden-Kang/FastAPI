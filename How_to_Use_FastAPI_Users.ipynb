{
  "nbformat": 4,
  "nbformat_minor": 0,
  "metadata": {
    "colab": {
      "provenance": [],
      "authorship_tag": "ABX9TyO7K/ePTtj24LlBqNasXdWT"
    },
    "kernelspec": {
      "name": "python3",
      "display_name": "Python 3"
    },
    "language_info": {
      "name": "python"
    }
  },
  "cells": [
    {
      "cell_type": "markdown",
      "source": [
        "[Reference](https://medium.com/@kasperjuunge/how-to-use-fastapi-users-cae8ed1058f8)"
      ],
      "metadata": {
        "id": "gmfyTNe2yRs-"
      }
    },
    {
      "cell_type": "code",
      "execution_count": 11,
      "metadata": {
        "id": "mTMRXDOgyQJ3"
      },
      "outputs": [],
      "source": [
        "!pip install fastapi fastapi-users sqlmodel sqlite"
      ]
    },
    {
      "cell_type": "code",
      "source": [
        "from sqlmodel import SQLModel, Field\n",
        "from fastapi_users.db import SQLModelBaseUser\n",
        "\n",
        "class User(SQLModelBaseUser, table=True):\n",
        "    first_name: str = Field(nullable=False)\n",
        "    last_name: str = Field(nullable=False)"
      ],
      "metadata": {
        "id": "nV2AGWcqyUH-"
      },
      "execution_count": 12,
      "outputs": []
    },
    {
      "cell_type": "code",
      "source": [
        "from fastapi_users import models\n",
        "\n",
        "class UserCreate(models.CreateUpdateDictModel):\n",
        "    first_name: str\n",
        "    last_name: str\n",
        "    email: str\n",
        "    password: str"
      ],
      "metadata": {
        "id": "4BXIgHWfyU-O"
      },
      "execution_count": 13,
      "outputs": []
    },
    {
      "cell_type": "code",
      "source": [
        "class UserUpdate(models.CreateUpdateDictModel):\n",
        "    first_name: Optional[str] = None\n",
        "    last_name: Optional[str] = None"
      ],
      "metadata": {
        "id": "06WZJL8WyV1A"
      },
      "execution_count": 14,
      "outputs": []
    },
    {
      "cell_type": "code",
      "source": [
        "class UserDB(User, models.BaseUserDB):\n",
        "    pass"
      ],
      "metadata": {
        "id": "-6uk4X4IyX9S"
      },
      "execution_count": 15,
      "outputs": []
    },
    {
      "cell_type": "code",
      "source": [
        "from sqlmodel import SQLModel, create_engine\n",
        "\n",
        "sqlite_file_name = \"database.db\"\n",
        "sqlite_url = f\"sqlite:///{sqlite_file_name}\"\n",
        "engine = create_engine(sqlite_url)\n",
        "\n",
        "def create_db_and_tables():\n",
        "    SQLModel.metadata.create_all(engine)"
      ],
      "metadata": {
        "id": "eq4Okp2MyY9f"
      },
      "execution_count": 9,
      "outputs": []
    },
    {
      "cell_type": "code",
      "source": [
        "from fastapi import FastAPI\n",
        "from fastapi_users import FastAPIUsers\n",
        "from fastapi_users.db import SQLModelUserDatabase\n",
        "\n",
        "app = FastAPI()\n",
        "\n",
        "# Setup User manager\n",
        "user_db = SQLModelUserDatabase(UserDB, engine)\n",
        "fastapi_users = FastAPIUsers(user_db, [jwt_authentication], User, UserCreate, UserUpdate, UserDB)\n",
        "\n",
        "# User routes\n",
        "app.include_router(\n",
        "    fastapi_users.get_auth_router(jwt_authentication), prefix=\"/auth/jwt\", tags=[\"auth\"]\n",
        ")\n",
        "app.include_router(\n",
        "    fastapi_users.get_register_router(UserCreate), prefix=\"/auth\", tags=[\"auth\"]\n",
        ")\n",
        "app.include_router(\n",
        "    fastapi_users.get_users_router(User, UserCreate, UserUpdate), prefix=\"/users\", tags=[\"users\"]\n",
        ")\n",
        "\n",
        "@app.on_event(\"startup\")\n",
        "def on_startup():\n",
        "    create_db_and_tables()"
      ],
      "metadata": {
        "id": "gO9Y3b1Pyd7c"
      },
      "execution_count": 8,
      "outputs": []
    }
  ]
}