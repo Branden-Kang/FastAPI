{
  "nbformat": 4,
  "nbformat_minor": 0,
  "metadata": {
    "colab": {
      "provenance": [],
      "authorship_tag": "ABX9TyOBaN+YN/2Y4vbR2tk4x+wY"
    },
    "kernelspec": {
      "name": "python3",
      "display_name": "Python 3"
    },
    "language_info": {
      "name": "python"
    }
  },
  "cells": [
    {
      "cell_type": "markdown",
      "source": [
        "[Reference](https://medium.com/@kasperjuunge/10-most-common-usage-patterns-of-fastapi-%EF%B8%8F-11173d0a2c48)"
      ],
      "metadata": {
        "id": "cWy70oZ8sWhK"
      }
    },
    {
      "cell_type": "markdown",
      "source": [
        "# 1. Creating a Simple Route"
      ],
      "metadata": {
        "id": "k3JO333esZEt"
      }
    },
    {
      "cell_type": "code",
      "source": [
        "pip install fastapi"
      ],
      "metadata": {
        "colab": {
          "base_uri": "https://localhost:8080/"
        },
        "id": "lxrFntsbsc7i",
        "outputId": "a0b634f0-e000-44c3-e10e-0f159844138c"
      },
      "execution_count": 2,
      "outputs": [
        {
          "output_type": "stream",
          "name": "stdout",
          "text": [
            "Collecting fastapi\n",
            "  Downloading fastapi-0.104.0-py3-none-any.whl (92 kB)\n",
            "\u001b[?25l     \u001b[90m━━━━━━━━━━━━━━━━━━━━━━━━━━━━━━━━━━━━━━━━\u001b[0m \u001b[32m0.0/92.9 kB\u001b[0m \u001b[31m?\u001b[0m eta \u001b[36m-:--:--\u001b[0m\r\u001b[2K     \u001b[90m━━━━━━━━━━━━━━━━━━━━━━━━━━━━━━━━━━━━━━━━\u001b[0m \u001b[32m92.9/92.9 kB\u001b[0m \u001b[31m2.8 MB/s\u001b[0m eta \u001b[36m0:00:00\u001b[0m\n",
            "\u001b[?25hRequirement already satisfied: anyio<4.0.0,>=3.7.1 in /usr/local/lib/python3.10/dist-packages (from fastapi) (3.7.1)\n",
            "Requirement already satisfied: pydantic!=1.8,!=1.8.1,!=2.0.0,!=2.0.1,!=2.1.0,<3.0.0,>=1.7.4 in /usr/local/lib/python3.10/dist-packages (from fastapi) (1.10.13)\n",
            "Collecting starlette<0.28.0,>=0.27.0 (from fastapi)\n",
            "  Downloading starlette-0.27.0-py3-none-any.whl (66 kB)\n",
            "\u001b[2K     \u001b[90m━━━━━━━━━━━━━━━━━━━━━━━━━━━━━━━━━━━━━━━━\u001b[0m \u001b[32m67.0/67.0 kB\u001b[0m \u001b[31m6.9 MB/s\u001b[0m eta \u001b[36m0:00:00\u001b[0m\n",
            "\u001b[?25hCollecting typing-extensions>=4.8.0 (from fastapi)\n",
            "  Downloading typing_extensions-4.8.0-py3-none-any.whl (31 kB)\n",
            "Requirement already satisfied: idna>=2.8 in /usr/local/lib/python3.10/dist-packages (from anyio<4.0.0,>=3.7.1->fastapi) (3.4)\n",
            "Requirement already satisfied: sniffio>=1.1 in /usr/local/lib/python3.10/dist-packages (from anyio<4.0.0,>=3.7.1->fastapi) (1.3.0)\n",
            "Requirement already satisfied: exceptiongroup in /usr/local/lib/python3.10/dist-packages (from anyio<4.0.0,>=3.7.1->fastapi) (1.1.3)\n",
            "Installing collected packages: typing-extensions, starlette, fastapi\n",
            "  Attempting uninstall: typing-extensions\n",
            "    Found existing installation: typing_extensions 4.5.0\n",
            "    Uninstalling typing_extensions-4.5.0:\n",
            "      Successfully uninstalled typing_extensions-4.5.0\n",
            "\u001b[31mERROR: pip's dependency resolver does not currently take into account all the packages that are installed. This behaviour is the source of the following dependency conflicts.\n",
            "lida 0.0.10 requires kaleido, which is not installed.\n",
            "lida 0.0.10 requires python-multipart, which is not installed.\n",
            "lida 0.0.10 requires uvicorn, which is not installed.\n",
            "tensorflow-probability 0.22.0 requires typing-extensions<4.6.0, but you have typing-extensions 4.8.0 which is incompatible.\u001b[0m\u001b[31m\n",
            "\u001b[0mSuccessfully installed fastapi-0.104.0 starlette-0.27.0 typing-extensions-4.8.0\n"
          ]
        }
      ]
    },
    {
      "cell_type": "code",
      "execution_count": 3,
      "metadata": {
        "id": "LUbZQJEIsU3w"
      },
      "outputs": [],
      "source": [
        "from fastapi import FastAPI\n",
        "\n",
        "app = FastAPI()\n",
        "\n",
        "@app.get(\"/\")\n",
        "def read_root():\n",
        "    return {\"Hello\": \"World\"}"
      ]
    },
    {
      "cell_type": "markdown",
      "source": [
        "# 2. Path Parameters"
      ],
      "metadata": {
        "id": "znoJomMwsbCb"
      }
    },
    {
      "cell_type": "code",
      "source": [
        "@app.get(\"/items/{item_id}\")\n",
        "def read_item(item_id: int):\n",
        "    return {\"item_id\": item_id}"
      ],
      "metadata": {
        "id": "MeCW1aTLsaCn"
      },
      "execution_count": 4,
      "outputs": []
    },
    {
      "cell_type": "markdown",
      "source": [
        "# 3. Query Parameters"
      ],
      "metadata": {
        "id": "dlLFOE0RsjgP"
      }
    },
    {
      "cell_type": "code",
      "source": [
        "@app.get(\"/items/\")\n",
        "def read_items(skip: int = 0, limit: int = 10):\n",
        "    return {\"skip\": skip, \"limit\": limit}"
      ],
      "metadata": {
        "id": "rd522-wosjUR"
      },
      "execution_count": 5,
      "outputs": []
    },
    {
      "cell_type": "markdown",
      "source": [
        "# 4. Request Bodies"
      ],
      "metadata": {
        "id": "HzzRQC-nslow"
      }
    },
    {
      "cell_type": "code",
      "source": [
        "from pydantic import BaseModel\n",
        "\n",
        "class Item(BaseModel):\n",
        "    name: str\n",
        "    description: str = None\n",
        "    price: float\n",
        "\n",
        "@app.post(\"/items/\")\n",
        "def create_item(item: Item):\n",
        "    return {\"item\": item}"
      ],
      "metadata": {
        "id": "3a-tU5hssiRW"
      },
      "execution_count": 6,
      "outputs": []
    },
    {
      "cell_type": "markdown",
      "source": [
        "# 5. Path and Query Parameters Combined"
      ],
      "metadata": {
        "id": "lUhZyW5hsoZ-"
      }
    },
    {
      "cell_type": "code",
      "source": [
        "@app.get(\"/items/{item_id}\")\n",
        "def read_item(item_id: int, q: str = None):\n",
        "    return {\"item_id\": item_id, \"q\": q}"
      ],
      "metadata": {
        "id": "LJuOiv9xsnOn"
      },
      "execution_count": 7,
      "outputs": []
    },
    {
      "cell_type": "markdown",
      "source": [
        "# 6. Response Model"
      ],
      "metadata": {
        "id": "1bAkNckhsrB5"
      }
    },
    {
      "cell_type": "code",
      "source": [
        "class Item(BaseModel):\n",
        "    name: str\n",
        "    description: str = None\n",
        "    price: float\n",
        "\n",
        "@app.get(\"/items/{item_id}\", response_model=Item)\n",
        "def read_item(item_id: int):\n",
        "    return {\"name\": \"Foo\", \"price\": 42.0}"
      ],
      "metadata": {
        "id": "X2UAkEcAsp1n"
      },
      "execution_count": 8,
      "outputs": []
    },
    {
      "cell_type": "markdown",
      "source": [
        "# 7. Exception Handling"
      ],
      "metadata": {
        "id": "bDPedwl7stuW"
      }
    },
    {
      "cell_type": "code",
      "source": [
        "from fastapi import HTTPException\n",
        "\n",
        "@app.get(\"/items/{item_id}\")\n",
        "def read_item(item_id: int):\n",
        "    if item_id not in items:\n",
        "        raise HTTPException(status_code=404, detail=\"Item not found\")\n",
        "    return {\"item\": items[item_id]}"
      ],
      "metadata": {
        "id": "1_Bz80bissgY"
      },
      "execution_count": 9,
      "outputs": []
    },
    {
      "cell_type": "markdown",
      "source": [
        "# 8. Route Dependencies"
      ],
      "metadata": {
        "id": "S39bOH10swIR"
      }
    },
    {
      "cell_type": "code",
      "source": [
        "from fastapi import Depends\n",
        "\n",
        "def common_parameters(q: str = None, skip: int = 0, limit: int = 100):\n",
        "    return {\"q\": q, \"skip\": skip, \"limit\": limit}\n",
        "\n",
        "@app.get(\"/items/\")\n",
        "def read_items(commons: dict = Depends(common_parameters)):\n",
        "    return commons"
      ],
      "metadata": {
        "id": "58lWOx3asu93"
      },
      "execution_count": 10,
      "outputs": []
    },
    {
      "cell_type": "markdown",
      "source": [
        "# 9. Authentication and Security"
      ],
      "metadata": {
        "id": "zok1HCFvsybc"
      }
    },
    {
      "cell_type": "code",
      "source": [
        "from fastapi import Depends, HTTPException, Security\n",
        "from fastapi.security import OAuth2PasswordBearer, SecurityScopes\n",
        "\n",
        "oauth2_scheme = OAuth2PasswordBearer(tokenUrl=\"/token\")\n",
        "\n",
        "@app.get(\"/items/\")\n",
        "def read_items(token: str = Depends(oauth2_scheme)):\n",
        "    return {\"token\": token}"
      ],
      "metadata": {
        "id": "69cdBVjwsxPC"
      },
      "execution_count": 11,
      "outputs": []
    },
    {
      "cell_type": "markdown",
      "source": [
        "# 10. File Handling"
      ],
      "metadata": {
        "id": "aRZG2kMns1d9"
      }
    },
    {
      "cell_type": "code",
      "source": [
        "from fastapi import UploadFile, File\n",
        "\n",
        "@app.post(\"/uploadfile/\")\n",
        "def create_upload_file(file: UploadFile = File(...)):\n",
        "    return {\"filename\": file.filename}"
      ],
      "metadata": {
        "id": "-4Jfm6IIszsC"
      },
      "execution_count": 12,
      "outputs": []
    }
  ]
}