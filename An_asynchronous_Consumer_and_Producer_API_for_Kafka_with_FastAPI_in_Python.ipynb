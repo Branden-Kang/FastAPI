{
  "nbformat": 4,
  "nbformat_minor": 0,
  "metadata": {
    "colab": {
      "name": "An asynchronous Consumer and Producer API for Kafka with FastAPI in Python.ipynb",
      "provenance": [],
      "collapsed_sections": [],
      "authorship_tag": "ABX9TyMwtsxb9nJRn43dCb4zPvTB"
    },
    "kernelspec": {
      "name": "python3",
      "display_name": "Python 3"
    },
    "language_info": {
      "name": "python"
    }
  },
  "cells": [
    {
      "cell_type": "markdown",
      "source": [
        "[Reference](https://medium.com/@vinybrasil/a-asynchronous-consumer-and-producer-api-for-kafka-with-fastapi-in-python-ec8fc624e740)"
      ],
      "metadata": {
        "id": "nEJ-I4N2JwIc"
      }
    },
    {
      "cell_type": "markdown",
      "source": [
        "# Setting up Kafka\n",
        "```\n",
        "# docker-compose.yml\n",
        "\n",
        "version: '2'\n",
        "services:\n",
        "  zookeeper:\n",
        "    image: confluentinc/cp-zookeeper:latest\n",
        "    environment:\n",
        "      ZOOKEEPER_CLIENT_PORT: 2181\n",
        "      ZOOKEEPER_TICK_TIME: 2000\n",
        "    ports:\n",
        "      - 22181:2181\n",
        "  \n",
        "  kafka:\n",
        "    image: confluentinc/cp-kafka:latest\n",
        "    depends_on:\n",
        "      - zookeeper\n",
        "    ports:\n",
        "      - 29092:29092\n",
        "    environment:\n",
        "      KAFKA_BROKER_ID: 1\n",
        "      KAFKA_ZOOKEEPER_CONNECT: zookeeper:2181\n",
        "      KAFKA_ADVERTISED_LISTENERS: PLAINTEXT://kafka:9092,PLAINTEXT_HOST://localhost:29092\n",
        "      KAFKA_LISTENER_SECURITY_PROTOCOL_MAP: PLAINTEXT:PLAINTEXT,PLAINTEXT_HOST:PLAINTEXT\n",
        "      KAFKA_INTER_BROKER_LISTENER_NAME: PLAINTEXT\n",
        "      KAFKA_OFFSETS_TOPIC_REPLICATION_FACTOR: 1\n",
        "```\n",
        "\n",
        "docker-compose -f docker-compose.yml up\n",
        "docker exec -ti kafka /opt/kafka/bin/kafka-topics.sh --create --zookeeper zookeeper:2181 --replication-factor 1 --partitions 1 --topic test1\n",
        "\n",
        "## Write events\n",
        "docker exec -ti kafka /opt/kafka/bin/kafka-console-producer.sh --topic test1 --bootstrap-server localhost:9092\n",
        "\n",
        "## Read events\n",
        "docker exec -ti kafka /opt/kafka/bin/kafka-console-consumer.sh --topic test1 --from-beginning --bootstrap-server localhost:9092\n",
        "\n"
      ],
      "metadata": {
        "id": "pWDTdYjFJy2Z"
      }
    },
    {
      "cell_type": "markdown",
      "source": [
        "# Creating the API\n"
      ],
      "metadata": {
        "id": "XXp1EUrtJ_9E"
      }
    },
    {
      "cell_type": "code",
      "execution_count": 1,
      "metadata": {
        "id": "IEGHBCTfJssO"
      },
      "outputs": [],
      "source": [
        "# import asyncio\n",
        "# import json\n",
        "\n",
        "# from pydantic import BaseModel, StrictStr\n",
        "# from aiokafka import AIOKafkaConsumer, AIOKafkaProducer\n",
        "# from fastapi import FastAPI\n",
        "\n",
        "# app = FastAPI()\n",
        "\n",
        "# loop = asyncio.get_event_loop()\n",
        "\n",
        "# KAFKA_INSTANCE = \"localhost:29092\""
      ]
    },
    {
      "cell_type": "code",
      "source": [
        "# async def consume():\n",
        "#     await consumer.start()\n",
        "#     try:\n",
        "#         async for msg in consumer:\n",
        "#             print(\n",
        "#                 \"consumed: \",\n",
        "#                 msg.topic,\n",
        "#                 msg.partition,\n",
        "#                 msg.offset,\n",
        "#                 msg.key,\n",
        "#                 msg.value,\n",
        "#                 msg.timestamp,\n",
        "#             )\n",
        "\n",
        "#     finally:\n",
        "#         await consumer.stop()"
      ],
      "metadata": {
        "id": "lMsPlHjxKEhz"
      },
      "execution_count": 2,
      "outputs": []
    },
    {
      "cell_type": "code",
      "source": [
        "# @app.on_event(\"startup\")\n",
        "# async def startup_event():\n",
        "#     await aioproducer.start()\n",
        "#     loop.create_task(consume())\n",
        "\n",
        "\n",
        "# @app.on_event(\"shutdown\")\n",
        "# async def shutdown_event():\n",
        "#     await aioproducer.stop()\n",
        "#     await consumer.stop()"
      ],
      "metadata": {
        "id": "F_RUDcFjKGu4"
      },
      "execution_count": 3,
      "outputs": []
    },
    {
      "cell_type": "code",
      "source": [
        "# class ProducerResponse(BaseModel):\n",
        "#     name: StrictStr\n",
        "#     message_id: StrictStr\n",
        "#     topic: StrictStr\n",
        "#     timestamp: StrictStr = \"\"\n",
        "\n",
        "# class ProducerMessage(BaseModel):\n",
        "#     name: StrictStr\n",
        "#     message_id: StrictStr = \"\"\n",
        "#     timestamp: StrictStr = \"\"\n",
        "\n",
        "# @app.post(\"/producer/{topicname}\")\n",
        "# async def kafka_produce(msg: ProducerMessage, topicname: str):\n",
        "\n",
        "#     await aioproducer.send(topicname, json.dumps(msg.dict()).encode(\"ascii\"))\n",
        "#     response = ProducerResponse(\n",
        "#         name=msg.name, message_id=msg.message_id, topic=topicname\n",
        "#     )\n",
        "\n",
        "#     return response"
      ],
      "metadata": {
        "id": "XfCj2KwRKIOp"
      },
      "execution_count": 4,
      "outputs": []
    },
    {
      "cell_type": "code",
      "source": [
        "# uvicorn main:app --reload"
      ],
      "metadata": {
        "id": "qpGNibtyKInG"
      },
      "execution_count": 5,
      "outputs": []
    },
    {
      "cell_type": "code",
      "source": [
        "# curl -X POST -d {\\\"name\\\":\\\"salve\\\"} -H \"Content-Type: application/json\"  http://localhost:8000/producer/test1"
      ],
      "metadata": {
        "id": "rNzkvu-2KLkd"
      },
      "execution_count": 6,
      "outputs": []
    },
    {
      "cell_type": "markdown",
      "source": [
        "![kafka_FastAPI](https://miro.medium.com/max/1100/1*kU1CYvl9WwsvAFfaZxIKMw.png)"
      ],
      "metadata": {
        "id": "xqrNNVlOKRdK"
      }
    }
  ]
}