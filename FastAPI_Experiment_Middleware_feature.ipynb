{
  "nbformat": 4,
  "nbformat_minor": 0,
  "metadata": {
    "colab": {
      "provenance": [],
      "authorship_tag": "ABX9TyPXVnN2Aj/GoEMhgPQDAUsq"
    },
    "kernelspec": {
      "name": "python3",
      "display_name": "Python 3"
    },
    "language_info": {
      "name": "python"
    }
  },
  "cells": [
    {
      "cell_type": "markdown",
      "source": [
        "[Reference](https://medium.com/@life-is-short-so-enjoy-it/fastapi-experiment-middleware-feature-c0a0c7314d74)"
      ],
      "metadata": {
        "id": "rHm-2qN8PYds"
      }
    },
    {
      "cell_type": "markdown",
      "source": [
        "# Experiment 1: Build a simple middleware"
      ],
      "metadata": {
        "id": "6btm0KcsPote"
      }
    },
    {
      "cell_type": "code",
      "source": [
        "!pip install fastapi"
      ],
      "metadata": {
        "colab": {
          "base_uri": "https://localhost:8080/"
        },
        "id": "QKwzcsEVPuGe",
        "outputId": "f5e92a39-0e28-44e5-e924-5978a1d71844"
      },
      "execution_count": 2,
      "outputs": [
        {
          "output_type": "stream",
          "name": "stdout",
          "text": [
            "Collecting fastapi\n",
            "  Downloading fastapi-0.101.1-py3-none-any.whl (65 kB)\n",
            "\u001b[?25l     \u001b[90m━━━━━━━━━━━━━━━━━━━━━━━━━━━━━━━━━━━━━━━━\u001b[0m \u001b[32m0.0/65.8 kB\u001b[0m \u001b[31m?\u001b[0m eta \u001b[36m-:--:--\u001b[0m\r\u001b[2K     \u001b[91m━━━━━━━━━━━━━━━━━━━━━━━━━━━━━━━━━━━━━\u001b[0m\u001b[90m╺\u001b[0m\u001b[90m━━\u001b[0m \u001b[32m61.4/65.8 kB\u001b[0m \u001b[31m2.1 MB/s\u001b[0m eta \u001b[36m0:00:01\u001b[0m\r\u001b[2K     \u001b[90m━━━━━━━━━━━━━━━━━━━━━━━━━━━━━━━━━━━━━━━━\u001b[0m \u001b[32m65.8/65.8 kB\u001b[0m \u001b[31m1.6 MB/s\u001b[0m eta \u001b[36m0:00:00\u001b[0m\n",
            "\u001b[?25hRequirement already satisfied: pydantic!=1.8,!=1.8.1,!=2.0.0,!=2.0.1,!=2.1.0,<3.0.0,>=1.7.4 in /usr/local/lib/python3.10/dist-packages (from fastapi) (2.1.1)\n",
            "Collecting starlette<0.28.0,>=0.27.0 (from fastapi)\n",
            "  Downloading starlette-0.27.0-py3-none-any.whl (66 kB)\n",
            "\u001b[2K     \u001b[90m━━━━━━━━━━━━━━━━━━━━━━━━━━━━━━━━━━━━━━━━\u001b[0m \u001b[32m67.0/67.0 kB\u001b[0m \u001b[31m5.3 MB/s\u001b[0m eta \u001b[36m0:00:00\u001b[0m\n",
            "\u001b[?25hRequirement already satisfied: typing-extensions>=4.5.0 in /usr/local/lib/python3.10/dist-packages (from fastapi) (4.7.1)\n",
            "Requirement already satisfied: annotated-types>=0.4.0 in /usr/local/lib/python3.10/dist-packages (from pydantic!=1.8,!=1.8.1,!=2.0.0,!=2.0.1,!=2.1.0,<3.0.0,>=1.7.4->fastapi) (0.5.0)\n",
            "Requirement already satisfied: pydantic-core==2.4.0 in /usr/local/lib/python3.10/dist-packages (from pydantic!=1.8,!=1.8.1,!=2.0.0,!=2.0.1,!=2.1.0,<3.0.0,>=1.7.4->fastapi) (2.4.0)\n",
            "Requirement already satisfied: anyio<5,>=3.4.0 in /usr/local/lib/python3.10/dist-packages (from starlette<0.28.0,>=0.27.0->fastapi) (3.7.1)\n",
            "Requirement already satisfied: idna>=2.8 in /usr/local/lib/python3.10/dist-packages (from anyio<5,>=3.4.0->starlette<0.28.0,>=0.27.0->fastapi) (3.4)\n",
            "Requirement already satisfied: sniffio>=1.1 in /usr/local/lib/python3.10/dist-packages (from anyio<5,>=3.4.0->starlette<0.28.0,>=0.27.0->fastapi) (1.3.0)\n",
            "Requirement already satisfied: exceptiongroup in /usr/local/lib/python3.10/dist-packages (from anyio<5,>=3.4.0->starlette<0.28.0,>=0.27.0->fastapi) (1.1.3)\n",
            "Installing collected packages: starlette, fastapi\n",
            "Successfully installed fastapi-0.101.1 starlette-0.27.0\n"
          ]
        }
      ]
    },
    {
      "cell_type": "code",
      "execution_count": 3,
      "metadata": {
        "id": "6d2tEhlePRvk"
      },
      "outputs": [],
      "source": [
        "import time\n",
        "from fastapi import FastAPI, Request\n",
        "\n",
        "app = FastAPI()\n",
        "\n",
        "@app.get(\"/\")\n",
        "async def root():\n",
        "    return \"Wonderful!!\""
      ]
    },
    {
      "cell_type": "code",
      "source": [
        "# !curl -i 127.0.0.1:8000"
      ],
      "metadata": {
        "id": "fmWwVx-yPp7Y"
      },
      "execution_count": 4,
      "outputs": []
    },
    {
      "cell_type": "code",
      "source": [
        "import time\n",
        "from fastapi import FastAPI, Request\n",
        "\n",
        "app = FastAPI()\n",
        "\n",
        "# Implemented and added custom middleware to FastAPI\n",
        "@app.middleware(\"http\")\n",
        "async def add_process_time_header(request: Request, call_next):\n",
        "    start_time = time.time()\n",
        "    response = await call_next(request)\n",
        "    response.headers[\"X-Process-Time\"] = str(time.time() - start_time)\n",
        "    return response\n",
        "\n",
        "@app.get(\"/\")\n",
        "async def root():\n",
        "    return \"Wonderful!!\""
      ],
      "metadata": {
        "id": "e4QHzJn6P1iL"
      },
      "execution_count": 5,
      "outputs": []
    },
    {
      "cell_type": "markdown",
      "source": [
        "# Experiment 2: What if there is no matched path? Will the middleware be executed?"
      ],
      "metadata": {
        "id": "rlieDzZ9P7V8"
      }
    },
    {
      "cell_type": "code",
      "source": [
        "import time\n",
        "from fastapi import FastAPI, Request\n",
        "\n",
        "app = FastAPI()\n",
        "\n",
        "@app.middleware(\"http\")\n",
        "async def add_process_time_header(request: Request, call_next):\n",
        "    print(\"in add_process_time_header middleware.\") # dummy message\n",
        "    start_time = time.time()\n",
        "    response = await call_next(request)\n",
        "    response.headers[\"X-Process-Time\"] = str(time.time() - start_time)\n",
        "    return response\n",
        "\n",
        "@app.get(\"/\")\n",
        "async def root():\n",
        "    return \"Wonderful!!\""
      ],
      "metadata": {
        "id": "AigVULGmP3Mk"
      },
      "execution_count": 6,
      "outputs": []
    },
    {
      "cell_type": "markdown",
      "source": [
        "# Experiment 3: Does the middleware work even for the non-async endpoint?\n"
      ],
      "metadata": {
        "id": "HrziApRaSYbO"
      }
    },
    {
      "cell_type": "code",
      "source": [
        "import time\n",
        "from fastapi import FastAPI, Request\n",
        "\n",
        "app = FastAPI()\n",
        "\n",
        "@app.middleware(\"http\")\n",
        "async def add_process_time_header(request: Request, call_next):\n",
        "    start_time = time.time()\n",
        "    response = await call_next(request)\n",
        "    response.headers[\"X-Process-Time\"] = str(time.time() - start_time)\n",
        "    return response\n",
        "\n",
        "@app.get(\"/\")\n",
        "def root():\n",
        "    return \"Wonderful!! - Sync\""
      ],
      "metadata": {
        "id": "pWWF3vv-P860"
      },
      "execution_count": 7,
      "outputs": []
    },
    {
      "cell_type": "markdown",
      "source": [
        "# Experiment 4: What is the sequence of executions?"
      ],
      "metadata": {
        "id": "h-Y5-L6JSbct"
      }
    },
    {
      "cell_type": "code",
      "source": [
        "async def add_process_time_header(request: Request, call_next):\n",
        "    # 1. Do thing before the matched path operation\n",
        "    start_time = time.time()\n",
        "    # 2. find / execute the matched path operation\n",
        "    response = await call_next(request)\n",
        "    # 3. Do thing after the matched path operation\n",
        "    response.headers[\"X-Process-Time\"] = str(time.time() - start_time)\n",
        "    return response"
      ],
      "metadata": {
        "id": "Z_0Kia0HSZ3I"
      },
      "execution_count": 9,
      "outputs": []
    },
    {
      "cell_type": "code",
      "source": [
        "# ref: https://github.com/encode/starlette/blob/master/starlette/applications.py\n",
        "\n",
        "def build_middleware_stack(self) -> ASGIApp:\n",
        "    debug = self.debug\n",
        "    error_handler = None\n",
        "    exception_handlers: typing.Dict[\n",
        "        typing.Any, typing.Callable[[Request, Exception], Response]\n",
        "    ] = {}\n",
        "\n",
        "    for key, value in self.exception_handlers.items():\n",
        "        if key in (500, Exception):\n",
        "            error_handler = value\n",
        "        else:\n",
        "            exception_handlers[key] = value\n",
        "\n",
        "    middleware = (\n",
        "        [Middleware(ServerErrorMiddleware, handler=error_handler, debug=debug)]\n",
        "        + self.user_middleware\n",
        "        + [\n",
        "            Middleware(\n",
        "                ExceptionMiddleware, handlers=exception_handlers, debug=debug\n",
        "            )\n",
        "        ]\n",
        "    )\n",
        "\n",
        "    app = self.router\n",
        "    for cls, options in reversed(middleware):\n",
        "        app = cls(app=app, **options)\n",
        "    return app"
      ],
      "metadata": {
        "id": "C0siW_BjSdDG"
      },
      "execution_count": 10,
      "outputs": []
    },
    {
      "cell_type": "markdown",
      "source": [
        "# Experiment 5: ASGI Middlewares"
      ],
      "metadata": {
        "id": "EpP28PxNVsTE"
      }
    },
    {
      "cell_type": "code",
      "source": [
        "# ref: https://github.com/encode/starlette/blob/master/starlette/middleware/gzip.py\n",
        "class GZipMiddleware:\n",
        "    def __init__(\n",
        "        self, app: ASGIApp, minimum_size: int = 500, compresslevel: int = 9\n",
        "    ) -> None:\n",
        "        self.app = app\n",
        "        self.minimum_size = minimum_size\n",
        "        self.compresslevel = compresslevel\n",
        "\n",
        "    async def __call__(self, scope: Scope, receive: Receive, send: Send) -> None:\n",
        "        if scope[\"type\"] == \"http\":\n",
        "            headers = Headers(scope=scope)\n",
        "            if \"gzip\" in headers.get(\"Accept-Encoding\", \"\"):\n",
        "                responder = GZipResponder(\n",
        "                    self.app, self.minimum_size, compresslevel=self.compresslevel\n",
        "                )\n",
        "                await responder(scope, receive, send)\n",
        "                return\n",
        "        await self.app(scope, receive, send)"
      ],
      "metadata": {
        "id": "pZ9__eBtShdZ"
      },
      "execution_count": 12,
      "outputs": []
    },
    {
      "cell_type": "code",
      "source": [
        "from fastapi.middleware.cors import CORSMiddleware\n",
        "\n",
        "app = FastAPI()\n",
        "\n",
        "origins = [\n",
        "    \"http://localhost.tiangolo.com\",\n",
        "    \"https://localhost.tiangolo.com\",\n",
        "    \"http://localhost\",\n",
        "    \"http://localhost:8080\",\n",
        "]\n",
        "\n",
        "app.add_middleware(\n",
        "    CORSMiddleware,\n",
        "    allow_origins=origins,\n",
        "    allow_credentials=True,\n",
        "    allow_methods=[\"*\"],\n",
        "    allow_headers=[\"*\"],\n",
        ")"
      ],
      "metadata": {
        "id": "-oCJbHr_Vtff"
      },
      "execution_count": 13,
      "outputs": []
    },
    {
      "cell_type": "markdown",
      "source": [
        "# Experiment 5: How is the custom middleware added?"
      ],
      "metadata": {
        "id": "myvUqUpDVzqL"
      }
    },
    {
      "cell_type": "code",
      "source": [
        "@app.middleware(\"http\")\n",
        "async def add_process_time_header(request: Request, call_next):\n",
        "    start_time = time.time()\n",
        "    response = await call_next(request)\n",
        "    response.headers[\"X-Process-Time\"] = str(time.time() - start_time)\n",
        "    return response"
      ],
      "metadata": {
        "id": "evVVCrIIVv6R"
      },
      "execution_count": 14,
      "outputs": []
    },
    {
      "cell_type": "code",
      "source": [
        "# ref: https://github.com/tiangolo/fastapi/blob/master/fastapi/applications.py\n",
        "\n",
        "def middleware(\n",
        "    self, middleware_type: str\n",
        ") -> Callable[[DecoratedCallable], DecoratedCallable]:\n",
        "    def decorator(func: DecoratedCallable) -> DecoratedCallable:\n",
        "        # this add_middleware is in Starlette\n",
        "        # This is the format of adding ASGI middleware as you saw before.\n",
        "        # BaseHTTPMiddleware is defined in Starlette\n",
        "        # ref: https://github.com/encode/starlette/blob/master/starlette/middleware/base.py\n",
        "        self.add_middleware(BaseHTTPMiddleware, dispatch=func)\n",
        "        return func\n",
        "\n",
        "    return decorator"
      ],
      "metadata": {
        "id": "AdmOX9zLV1Fn"
      },
      "execution_count": 15,
      "outputs": []
    },
    {
      "cell_type": "code",
      "source": [
        "# ref: https://github.com/encode/starlette/blob/master/starlette/applications.py\n",
        "\n",
        "def add_middleware(self, middleware_class: type, **options: typing.Any) -> None:\n",
        "    if self.middleware_stack is not None:  # pragma: no cover\n",
        "        raise RuntimeError(\"Cannot add middleware after an application has started\")\n",
        "    self.user_middleware.insert(0, Middleware(middleware_class, **options))"
      ],
      "metadata": {
        "id": "VXIQN68qV2Re"
      },
      "execution_count": 16,
      "outputs": []
    }
  ]
}