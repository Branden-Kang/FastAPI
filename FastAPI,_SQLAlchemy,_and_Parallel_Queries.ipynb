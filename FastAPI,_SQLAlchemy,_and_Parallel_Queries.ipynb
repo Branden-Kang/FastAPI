{
  "nbformat": 4,
  "nbformat_minor": 0,
  "metadata": {
    "colab": {
      "provenance": [],
      "authorship_tag": "ABX9TyOKBvn5mipxLQQGSLctAHoa"
    },
    "kernelspec": {
      "name": "python3",
      "display_name": "Python 3"
    },
    "language_info": {
      "name": "python"
    }
  },
  "cells": [
    {
      "cell_type": "markdown",
      "source": [
        "[Reference](https://medium.com/@lironbenyeda/fastapi-sqlalchemy-and-parallel-queries-walk-into-a-bar-86dfe40aa878)"
      ],
      "metadata": {
        "id": "dLPcYMGvQZPd"
      }
    },
    {
      "cell_type": "code",
      "execution_count": 2,
      "metadata": {
        "id": "wC4JmZC1QUHL"
      },
      "outputs": [],
      "source": [
        "async def get_db_session():\n",
        "    db_session = DBSession()\n",
        "    try:\n",
        "        yield db_session\n",
        "    finally:\n",
        "        db_session.close()\n",
        "\n",
        "@app.get(\"/total_books\")\n",
        "async def get_total_books(db_session: AsyncSession = Depends(get_db_session)):\n",
        "    return await crud.get_book_table_total_count(db_session)"
      ]
    },
    {
      "cell_type": "code",
      "source": [
        "async def get_book_table_total_count(db_session: AsyncSession):\n",
        "    result = await db_session.execute(select(count()).select_from(Book))\n",
        "    return result.scalar() or 0"
      ],
      "metadata": {
        "id": "mjErsdOpR9MW"
      },
      "execution_count": 3,
      "outputs": []
    },
    {
      "cell_type": "code",
      "source": [
        "@app.get(\"/multiple_counts\")\n",
        "async def get_multiple_counts(db_session: AsyncSession = Depends(get_db_session)):\n",
        "    async with TaskGroup() as tg:\n",
        "        task1 = tg.create_task(crud.get_book_table_total_count(db_session))\n",
        "        task2 = tg.create_task(crud.get_book_table_total_count(db_session))\n",
        "        task3 = tg.create_task(crud.get_book_table_total_count(db_session))\n",
        "    return task1.result(), task2.result(), task3.result()"
      ],
      "metadata": {
        "id": "fKW5MF8NR9ar"
      },
      "execution_count": 4,
      "outputs": []
    },
    {
      "cell_type": "code",
      "source": [
        "from asyncio import current_task\n",
        "\n",
        "from sqlalchemy.ext.asyncio import async_scoped_session, async_sessionmaker\n",
        "\n",
        "async_session_factory = async_sessionmaker(\n",
        "    some_async_engine, expire_on_commit=False\n",
        ")\n",
        "AsyncScopedSession = async_scoped_session(\n",
        "    async_session_factory, scopefunc=current_task\n",
        ")\n",
        "some_async_session = AsyncScopedSession()"
      ],
      "metadata": {
        "id": "q2tIyKVXR-wS"
      },
      "execution_count": 5,
      "outputs": []
    },
    {
      "cell_type": "code",
      "source": [
        "from asyncio import current_task, TaskGroup\n",
        "from typing import AsyncGenerator, Iterable\n",
        "\n",
        "from sqlalchemy.ext.asyncio import AsyncSession\n",
        "from sqlalchemy.ext.asyncio import async_scoped_session\n",
        "\n",
        "from db.db_connector import SqlAlchemyConnector\n",
        "\n",
        "class DBManager:\n",
        "    def __init__(self):\n",
        "        connector = SqlAlchemyConnector()\n",
        "        self.scoped_session_factory = \\\n",
        "            async_scoped_session(connector.session_factory,\n",
        "                                 scopefunc=_get_current_task_id)\n",
        "\n",
        "    def get_session(self) -> AsyncSession:\n",
        "        return self.scoped_session_factory()\n",
        "\n",
        "\n",
        "# New dependency\n",
        "async def get_db_manager() -> AsyncGenerator[DBManager, None]:\n",
        "    db_manager = DBManager()\n",
        "    try:\n",
        "        yield db_manager\n",
        "    finally:\n",
        "        sessions = db_manager.scoped_session_factory.registry.registry.values()\n",
        "        await _close_sessions(sessions)\n",
        "\n",
        "\n",
        "async def _close_sessions(db_sessions: Iterable[AsyncSession]):\n",
        "    async with TaskGroup() as task_group:\n",
        "        for db_session in db_sessions:\n",
        "            task_group.create_task(db_session.close())\n",
        "\n",
        "\n",
        "def _get_current_task_id() -> int:\n",
        "    return id(current_task())"
      ],
      "metadata": {
        "id": "MFpoIJUqSC2h"
      },
      "execution_count": 6,
      "outputs": []
    }
  ]
}