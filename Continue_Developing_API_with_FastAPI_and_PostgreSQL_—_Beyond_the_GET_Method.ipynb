{
  "nbformat": 4,
  "nbformat_minor": 0,
  "metadata": {
    "colab": {
      "provenance": [],
      "authorship_tag": "ABX9TyNbXcsV7EUXJoMKudJ7hhzJ"
    },
    "kernelspec": {
      "name": "python3",
      "display_name": "Python 3"
    },
    "language_info": {
      "name": "python"
    }
  },
  "cells": [
    {
      "cell_type": "markdown",
      "source": [
        "[Reference](https://python.plainenglish.io/continue-developing-api-with-fastapi-and-postgresql-beyond-the-get-method-937a9010583f)"
      ],
      "metadata": {
        "id": "2QEC8NDDnNEG"
      }
    },
    {
      "cell_type": "markdown",
      "source": [
        "- POST — to write new data\n",
        "- DELETE — removes your data\n",
        "- PUT — updates existing information"
      ],
      "metadata": {
        "id": "iGKe2QEinQg8"
      }
    },
    {
      "cell_type": "code",
      "source": [
        "# schemas.py\n",
        "from pydantic import BaseModel\n",
        "from typing import Optional\n",
        "\n",
        "class StockBase(BaseModel):\n",
        "    symbol: str\n",
        "    stockname: str\n",
        "    lastsale: str\n",
        "    country: str\n",
        "    ipoyear: Optional[int] = None\n",
        "    volume: int\n",
        "\n",
        "class StockCreate(StockBase):\n",
        "    pass\n",
        "\n",
        "class Stock(StockBase):\n",
        "\n",
        "    class Config:\n",
        "        orm_mode = True\n",
        "\n",
        "class UserBase(BaseModel):\n",
        "    user_id: str\n",
        "\n",
        "class User(UserBase):\n",
        "    first_name: str\n",
        "    last_name: str\n",
        "    last_sale_amount: int\n",
        "\n",
        "    class Config:\n",
        "        orm_mode = True\n",
        "\n",
        "class UserCreate(User):\n",
        "    pass\n",
        "\n",
        "class UserUpdateSaleAmount(UserBase):\n",
        "    last_sale_amount: int\n",
        "\n",
        "    class Config:\n",
        "        orm_mode = True"
      ],
      "metadata": {
        "colab": {
          "base_uri": "https://localhost:8080/"
        },
        "id": "0PanPoUpohtb",
        "outputId": "137ed0d0-e59a-4239-b593-879d5604dfc9"
      },
      "execution_count": 3,
      "outputs": [
        {
          "output_type": "stream",
          "name": "stderr",
          "text": [
            "/usr/local/lib/python3.10/dist-packages/pydantic/_internal/_config.py:334: UserWarning: Valid config keys have changed in V2:\n",
            "* 'orm_mode' has been renamed to 'from_attributes'\n",
            "  warnings.warn(message, UserWarning)\n"
          ]
        }
      ]
    },
    {
      "cell_type": "code",
      "source": [
        "from sqlalchemy import create_engine\n",
        "from sqlalchemy.ext.declarative import declarative_base\n",
        "from sqlalchemy.orm import sessionmaker\n",
        "\n",
        "from config import settings\n",
        "\n",
        "engine = create_engine(\n",
        "    settings.sqlalchemy_string, connect_args={'sslmode':'require'}\n",
        ")\n",
        "SessionLocal = sessionmaker(autocommit=False, autoflush=False, bind=engine)\n",
        "Base = declarative_base()"
      ],
      "metadata": {
        "id": "QS2FYOWtos-Q"
      },
      "execution_count": 6,
      "outputs": []
    },
    {
      "cell_type": "code",
      "source": [
        "from sqlalchemy import Column, Integer, String, Float, BigInteger\n",
        "\n",
        "class Stock(Base):\n",
        "    __tablename__ = \"nasdaq_stocks\"\n",
        "\n",
        "    symbol = Column(String, primary_key=True)\n",
        "    stockname = Column(String)\n",
        "    lastsale = Column(String)\n",
        "    netchange = Column(Float)\n",
        "    percentchange = Column(String)\n",
        "    marketcap = Column(BigInteger)\n",
        "    country = Column(String, nullable=True)\n",
        "    ipoyear = Column(Integer, nullable=True)\n",
        "    volume = Column(Integer)\n",
        "    sector = Column(String, nullable=True)\n",
        "    industry = Column(String, nullable=True)\n",
        "\n",
        "class User(Base):\n",
        "    __tablename__ = \"users\"\n",
        "\n",
        "    user_id = Column(String, primary_key=True)\n",
        "    first_name = Column(String)\n",
        "    last_name = Column(String)\n",
        "    last_sale_amount = Column(Integer)"
      ],
      "metadata": {
        "id": "Rykq9ZLFnarB"
      },
      "execution_count": 8,
      "outputs": []
    },
    {
      "cell_type": "code",
      "source": [
        "from sqlalchemy.orm import Session\n",
        "\n",
        "import models, schemas\n",
        "\n",
        "def get_stock(db: Session, symbol: str):\n",
        "    return db.query(models.Stock).filter(models.Stock.symbol == symbol).first()\n",
        "\n",
        "def post_stock(db: Session):\n",
        "    pass\n",
        "\n",
        "def get_user(db: Session, user_id: str):\n",
        "    return db.query(models.User).filter(models.User.user_id == user_id).first()\n",
        "\n",
        "def post_user(db: Session, user_data: schemas.UserCreate):\n",
        "    db.begin()\n",
        "    db.add(models.User(user_id=user_data.user_id,\n",
        "                       first_name=user_data.first_name,\n",
        "                       last_name=user_data.last_name,\n",
        "                       last_sale_amount=user_data.last_sale_amount))\n",
        "    db.commit()\n",
        "\n",
        "def put_user_sale(db: Session, user_data: schemas.UserUpdateSaleAmount):\n",
        "    db.query(models.User).filter(models.User.user_id == user_data.user_id).update(\n",
        "        {\n",
        "            \"last_sale_amount\": user_data.last_sale_amount,\n",
        "        }\n",
        "    )\n",
        "    db.commit()\n",
        "\n",
        "def delete_user(db: Session, user_id: str):\n",
        "    db.query(models.User).filter(models.User.user_id == user_id).delete()\n",
        "    db.commit()"
      ],
      "metadata": {
        "id": "4iR6R972oooH"
      },
      "execution_count": 9,
      "outputs": []
    },
    {
      "cell_type": "code",
      "source": [
        "from fastapi import FastAPI, HTTPException, Query, Depends\n",
        "from sqlalchemy.orm import Session\n",
        "\n",
        "from database import SessionLocal, engine\n",
        "\n",
        "models.Base.metadata.create_all(bind=engine)\n",
        "\n",
        "app = FastAPI(\n",
        "    title=\"NASDAQ stocks\",\n",
        "    description=\"Start using FastAPI in development\",\n",
        "    version=\"0.1\"\n",
        ")\n",
        "\n",
        "# Dependency\n",
        "def get_db():\n",
        "    db = SessionLocal()\n",
        "    try:\n",
        "        yield db\n",
        "    finally:\n",
        "        db.close()\n",
        "\n",
        "\n",
        "@app.get('/stock/{symbol}', response_model=schemas.Stock, status_code=200)\n",
        "def get_stock(symbol: str, db: Session = Depends(get_db)) -> models.Stock:\n",
        "    db_stock = crud.get_stock(db, symbol=symbol)\n",
        "    if db_stock is None:\n",
        "        raise HTTPException(\n",
        "            status_code=404, detail=f\"No stock {symbol} found.\"\n",
        "        )\n",
        "\n",
        "    return db_stock\n",
        "\n",
        "@app.get('/user/{user_id}', response_model=schemas.User, status_code=200)\n",
        "def get_user(user_id: str, db: Session = Depends(get_db)) -> models.User:\n",
        "    db_user = crud.get_user(db, user_id=user_id)\n",
        "    if db_user is None:\n",
        "        raise HTTPException(\n",
        "            status_code=404, detail=f\"No user {user_id} found.\"\n",
        "        )\n",
        "\n",
        "    return db_user\n",
        "\n",
        "@app.post(\"/create_user/\")\n",
        "async def post_user(user: schemas.UserCreate, db: Session = Depends(get_db)):\n",
        "    try:\n",
        "        crud.post_user(db, user)\n",
        "    except Exception as e:\n",
        "        raise e\n",
        "\n",
        "    return {\"response\": f\"User {user.user_id} was created.\"}\n",
        "\n",
        "@app.put(\"/update_user_last_sale/\")\n",
        "async def update_user_last_sale(user: schemas.UserUpdateSaleAmount, db: Session = Depends(get_db)):\n",
        "    try:\n",
        "        crud.put_user_sale(db, user)\n",
        "    except Exception as e:\n",
        "        raise e\n",
        "\n",
        "    return {\"response\": f\"User {user.user_id} data was updated.\"}\n",
        "\n",
        "@app.delete(\"/delete_user/{user_id}\")\n",
        "def delete_user(user_id: str, db: Session = Depends(get_db)):\n",
        "    try:\n",
        "        crud.delete_user(db, user_id)\n",
        "    except Exception as e:\n",
        "        raise e\n",
        "\n",
        "    return {\"response\": f\"User {user_id} is removed.\"}"
      ],
      "metadata": {
        "id": "HdbUPQCepKyW"
      },
      "execution_count": 10,
      "outputs": []
    },
    {
      "cell_type": "code",
      "source": [
        "import requests\n",
        "import random\n",
        "import names\n",
        "\n",
        "headers = {\n",
        "    'accept': 'application/json',\n",
        "    'Content-Type': 'application/json',\n",
        "}\n",
        "\n",
        "for i in range(1, 100):\n",
        "    json_data = {\n",
        "        'user_id': str(i),\n",
        "        'first_name': names.get_first_name(),\n",
        "        'last_name': names.get_last_name(),\n",
        "        'last_sale_amount': random.randint(1, 200000),\n",
        "    }\n",
        "\n",
        "    response = requests.post('http://127.0.0.1:8000/user/', headers=headers, json=json_data)\n",
        "    print(response.json())"
      ],
      "metadata": {
        "id": "IBOnB0T2pUaE"
      },
      "execution_count": 11,
      "outputs": []
    },
    {
      "cell_type": "markdown",
      "source": [
        "# Implementing PUT method\n"
      ],
      "metadata": {
        "id": "8Gwww_PkpcZ5"
      }
    },
    {
      "cell_type": "code",
      "source": [
        "import requests\n",
        "import random\n",
        "\n",
        "print(requests.get('http://127.0.0.1:8000/user/2').json())\n",
        "\n",
        "headers = {\n",
        "    'accept': 'application/json',\n",
        "    'Content-Type': 'application/json',\n",
        "}\n",
        "\n",
        "json_data = {\n",
        "  \"user_id\": \"2\",\n",
        "  \"last_sale_amount\": random.randint(0, 200000)\n",
        "}\n",
        "\n",
        "response = requests.put('http://127.0.0.1:8000/update_user_last_sale/', headers=headers, json=json_data)\n",
        "print(response.json())\n",
        "\n",
        "print(requests.get('http://127.0.0.1:8000/user/2').json())"
      ],
      "metadata": {
        "id": "V0O4fXYppYKL"
      },
      "execution_count": 12,
      "outputs": []
    },
    {
      "cell_type": "markdown",
      "source": [
        "# Implementing DELETE method"
      ],
      "metadata": {
        "id": "XjmMcltlpf4m"
      }
    },
    {
      "cell_type": "code",
      "source": [
        "import requests\n",
        "\n",
        "delete_user = \"5\"\n",
        "print(requests.delete(f\"http://127.0.0.1:8000/delete_user/{delete_user}\").json())\n",
        "print(requests.get(f\"http://127.0.0.1:8000/user/{delete_user}\").json())"
      ],
      "metadata": {
        "id": "dcUUmyx9pePg"
      },
      "execution_count": 13,
      "outputs": []
    }
  ]
}