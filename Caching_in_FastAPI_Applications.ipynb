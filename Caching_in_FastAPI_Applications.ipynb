{
  "nbformat": 4,
  "nbformat_minor": 0,
  "metadata": {
    "colab": {
      "provenance": [],
      "authorship_tag": "ABX9TyNwWLHY06j9FYPKJTT/qq1Z"
    },
    "kernelspec": {
      "name": "python3",
      "display_name": "Python 3"
    },
    "language_info": {
      "name": "python"
    }
  },
  "cells": [
    {
      "cell_type": "markdown",
      "source": [
        "[Reference](https://rajansahu713.medium.com/caching-in-fastapi-applications-4dbd49027966)"
      ],
      "metadata": {
        "id": "CRyGeyENaaJ4"
      }
    },
    {
      "cell_type": "code",
      "execution_count": 1,
      "metadata": {
        "id": "vZC0whrvaMGX"
      },
      "outputs": [],
      "source": [
        "from functools import lru_cache\n",
        "import asyncio\n",
        "\n",
        "@lru_cache(maxsize=100)\n",
        "async def get_factorial(n: int):\n",
        "    await asyncio.sleep(2)\n",
        "    if n == 1:\n",
        "        return 1\n",
        "    return n * await get_factorial(n-1)"
      ]
    },
    {
      "cell_type": "code",
      "source": [
        "pip install diskcache"
      ],
      "metadata": {
        "colab": {
          "base_uri": "https://localhost:8080/"
        },
        "id": "w0fACN5RadTN",
        "outputId": "59aacdb9-bcd8-4c71-a474-bc693e36b0b1"
      },
      "execution_count": 2,
      "outputs": [
        {
          "output_type": "stream",
          "name": "stdout",
          "text": [
            "Collecting diskcache\n",
            "  Downloading diskcache-5.6.3-py3-none-any.whl.metadata (20 kB)\n",
            "Downloading diskcache-5.6.3-py3-none-any.whl (45 kB)\n",
            "\u001b[2K   \u001b[90m━━━━━━━━━━━━━━━━━━━━━━━━━━━━━━━━━━━━━━━━\u001b[0m \u001b[32m45.5/45.5 kB\u001b[0m \u001b[31m999.2 kB/s\u001b[0m eta \u001b[36m0:00:00\u001b[0m\n",
            "\u001b[?25hInstalling collected packages: diskcache\n",
            "Successfully installed diskcache-5.6.3\n"
          ]
        }
      ]
    },
    {
      "cell_type": "code",
      "source": [
        "# decorators\n",
        "\n",
        "from functools import wraps\n",
        "from hashlib import sha256\n",
        "import json\n",
        "from diskcache import Cache\n",
        "\n",
        "cache = Cache('cache_dir')  # Initialize the disk cache\n",
        "\n",
        "def cache_decorator(expire=3600):\n",
        "    def decorator(func):\n",
        "        @wraps(func)\n",
        "        def wrapper(*args, **kwargs):\n",
        "            # Create a unique cache key based on function name and parameters\n",
        "            key = sha256(json.dumps((func.__name__, args, kwargs), sort_keys=True).encode()).hexdigest()\n",
        "            data = cache.get(key)\n",
        "            if not data:\n",
        "                data = func(*args, **kwargs)\n",
        "                cache.set(key, data, expire=expire)\n",
        "            return data\n",
        "        return wrapper\n",
        "    return decorator"
      ],
      "metadata": {
        "id": "mr_Fe_vwafU0"
      },
      "execution_count": 3,
      "outputs": []
    },
    {
      "cell_type": "code",
      "source": [
        "pip install fastapi"
      ],
      "metadata": {
        "colab": {
          "base_uri": "https://localhost:8080/"
        },
        "id": "AR7DqcMram0Q",
        "outputId": "b3ce2b68-7cf6-4d91-c216-03e4ca8088a1"
      },
      "execution_count": 5,
      "outputs": [
        {
          "output_type": "stream",
          "name": "stdout",
          "text": [
            "Collecting fastapi\n",
            "  Downloading fastapi-0.112.1-py3-none-any.whl.metadata (27 kB)\n",
            "Collecting starlette<0.39.0,>=0.37.2 (from fastapi)\n",
            "  Downloading starlette-0.38.2-py3-none-any.whl.metadata (5.9 kB)\n",
            "Requirement already satisfied: pydantic!=1.8,!=1.8.1,!=2.0.0,!=2.0.1,!=2.1.0,<3.0.0,>=1.7.4 in /usr/local/lib/python3.10/dist-packages (from fastapi) (2.8.2)\n",
            "Requirement already satisfied: typing-extensions>=4.8.0 in /usr/local/lib/python3.10/dist-packages (from fastapi) (4.12.2)\n",
            "Requirement already satisfied: annotated-types>=0.4.0 in /usr/local/lib/python3.10/dist-packages (from pydantic!=1.8,!=1.8.1,!=2.0.0,!=2.0.1,!=2.1.0,<3.0.0,>=1.7.4->fastapi) (0.7.0)\n",
            "Requirement already satisfied: pydantic-core==2.20.1 in /usr/local/lib/python3.10/dist-packages (from pydantic!=1.8,!=1.8.1,!=2.0.0,!=2.0.1,!=2.1.0,<3.0.0,>=1.7.4->fastapi) (2.20.1)\n",
            "Requirement already satisfied: anyio<5,>=3.4.0 in /usr/local/lib/python3.10/dist-packages (from starlette<0.39.0,>=0.37.2->fastapi) (3.7.1)\n",
            "Requirement already satisfied: idna>=2.8 in /usr/local/lib/python3.10/dist-packages (from anyio<5,>=3.4.0->starlette<0.39.0,>=0.37.2->fastapi) (3.7)\n",
            "Requirement already satisfied: sniffio>=1.1 in /usr/local/lib/python3.10/dist-packages (from anyio<5,>=3.4.0->starlette<0.39.0,>=0.37.2->fastapi) (1.3.1)\n",
            "Requirement already satisfied: exceptiongroup in /usr/local/lib/python3.10/dist-packages (from anyio<5,>=3.4.0->starlette<0.39.0,>=0.37.2->fastapi) (1.2.2)\n",
            "Downloading fastapi-0.112.1-py3-none-any.whl (93 kB)\n",
            "\u001b[2K   \u001b[90m━━━━━━━━━━━━━━━━━━━━━━━━━━━━━━━━━━━━━━━━\u001b[0m \u001b[32m93.2/93.2 kB\u001b[0m \u001b[31m1.4 MB/s\u001b[0m eta \u001b[36m0:00:00\u001b[0m\n",
            "\u001b[?25hDownloading starlette-0.38.2-py3-none-any.whl (72 kB)\n",
            "\u001b[2K   \u001b[90m━━━━━━━━━━━━━━━━━━━━━━━━━━━━━━━━━━━━━━━━\u001b[0m \u001b[32m72.0/72.0 kB\u001b[0m \u001b[31m3.1 MB/s\u001b[0m eta \u001b[36m0:00:00\u001b[0m\n",
            "\u001b[?25hInstalling collected packages: starlette, fastapi\n",
            "Successfully installed fastapi-0.112.1 starlette-0.38.2\n"
          ]
        }
      ]
    },
    {
      "cell_type": "code",
      "source": [
        "# main.py\n",
        "\n",
        "from fastapi import FastAPI\n",
        "# from decorators import cache_decorator, cache\n",
        "# from functools_caching import get_factorial\n",
        "\n",
        "app = FastAPI()\n",
        "\n",
        "\n",
        "# Define your data processing function with the caching decorator\n",
        "@app.post(\"/data\")\n",
        "@cache_decorator(expire=3600)\n",
        "def get_data(body: dict):\n",
        "    # performing operations\n",
        "\n",
        "    processed_data = body\n",
        "\n",
        "    # For demonstration, we're just returning the input\n",
        "    return processed_data\n",
        "\n",
        "@app.get(\"/clear-cache\")\n",
        "def clear_cache():\n",
        "    cache.clear()\n",
        "    return {\"message\": \"Cache invalidated\"}\n",
        "\n",
        "\n",
        "@app.get(\"/factorial/{num}\")\n",
        "async def compute(num: int):\n",
        "    result = await get_factorial(num)\n",
        "    return {\"param\": num, \"result\": result}"
      ],
      "metadata": {
        "id": "EBJe3Njlagqx"
      },
      "execution_count": 11,
      "outputs": []
    }
  ]
}