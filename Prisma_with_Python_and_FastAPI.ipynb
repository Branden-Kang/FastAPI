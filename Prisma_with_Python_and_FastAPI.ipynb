{
  "nbformat": 4,
  "nbformat_minor": 0,
  "metadata": {
    "colab": {
      "name": "Prisma with Python and FastAPI.ipynb",
      "provenance": [],
      "authorship_tag": "ABX9TyNr/P67mIjF1Ls1pnPEm/vl"
    },
    "kernelspec": {
      "name": "python3",
      "display_name": "Python 3"
    },
    "language_info": {
      "name": "python"
    }
  },
  "cells": [
    {
      "cell_type": "markdown",
      "source": [
        "[Reference](https://medium.com/dooboolab/prisma-with-python-and-fastapi-33bf25bb20c0)"
      ],
      "metadata": {
        "id": "TAVkMTylxsnY"
      }
    },
    {
      "cell_type": "markdown",
      "source": [
        "# 1. Install Prisma Client"
      ],
      "metadata": {
        "id": "J_7oTLdVxyV6"
      }
    },
    {
      "cell_type": "code",
      "execution_count": 1,
      "metadata": {
        "colab": {
          "base_uri": "https://localhost:8080/"
        },
        "id": "Ig4ldSnbxqlN",
        "outputId": "00c8c01d-86e7-4815-ad31-0e6dcddf721f"
      },
      "outputs": [
        {
          "output_type": "stream",
          "name": "stdout",
          "text": [
            "Looking in indexes: https://pypi.org/simple, https://us-python.pkg.dev/colab-wheels/public/simple/\n",
            "Collecting prisma\n",
            "  Downloading prisma-0.6.6-py3-none-any.whl (90 kB)\n",
            "\u001b[K     |████████████████████████████████| 90 kB 3.6 MB/s \n",
            "\u001b[?25hCollecting python-dotenv>=0.12.0\n",
            "  Downloading python_dotenv-0.20.0-py3-none-any.whl (17 kB)\n",
            "Requirement already satisfied: typing-extensions>=3.7 in /usr/local/lib/python3.7/dist-packages (from prisma) (4.1.1)\n",
            "Requirement already satisfied: cached-property in /usr/local/lib/python3.7/dist-packages (from prisma) (1.5.2)\n",
            "Collecting httpx>=0.19.0\n",
            "  Downloading httpx-0.23.0-py3-none-any.whl (84 kB)\n",
            "\u001b[K     |████████████████████████████████| 84 kB 835 kB/s \n",
            "\u001b[?25hRequirement already satisfied: pydantic>=1.8.0 in /usr/local/lib/python3.7/dist-packages (from prisma) (1.8.2)\n",
            "Requirement already satisfied: jinja2>=2.11.2 in /usr/local/lib/python3.7/dist-packages (from prisma) (2.11.3)\n",
            "Requirement already satisfied: click>=7.1.2 in /usr/local/lib/python3.7/dist-packages (from prisma) (7.1.2)\n",
            "Requirement already satisfied: certifi in /usr/local/lib/python3.7/dist-packages (from httpx>=0.19.0->prisma) (2022.6.15)\n",
            "Collecting sniffio\n",
            "  Downloading sniffio-1.2.0-py3-none-any.whl (10 kB)\n",
            "Collecting httpcore<0.16.0,>=0.15.0\n",
            "  Downloading httpcore-0.15.0-py3-none-any.whl (68 kB)\n",
            "\u001b[K     |████████████████████████████████| 68 kB 6.7 MB/s \n",
            "\u001b[?25hCollecting rfc3986[idna2008]<2,>=1.3\n",
            "  Downloading rfc3986-1.5.0-py2.py3-none-any.whl (31 kB)\n",
            "Collecting anyio==3.*\n",
            "  Downloading anyio-3.6.1-py3-none-any.whl (80 kB)\n",
            "\u001b[K     |████████████████████████████████| 80 kB 8.0 MB/s \n",
            "\u001b[?25hCollecting h11<0.13,>=0.11\n",
            "  Downloading h11-0.12.0-py3-none-any.whl (54 kB)\n",
            "\u001b[K     |████████████████████████████████| 54 kB 3.2 MB/s \n",
            "\u001b[?25hRequirement already satisfied: idna>=2.8 in /usr/local/lib/python3.7/dist-packages (from anyio==3.*->httpcore<0.16.0,>=0.15.0->httpx>=0.19.0->prisma) (2.10)\n",
            "Requirement already satisfied: MarkupSafe>=0.23 in /usr/local/lib/python3.7/dist-packages (from jinja2>=2.11.2->prisma) (2.0.1)\n",
            "Installing collected packages: sniffio, rfc3986, h11, anyio, httpcore, python-dotenv, httpx, prisma\n",
            "Successfully installed anyio-3.6.1 h11-0.12.0 httpcore-0.15.0 httpx-0.23.0 prisma-0.6.6 python-dotenv-0.20.0 rfc3986-1.5.0 sniffio-1.2.0\n",
            "\u001b[?25lDownloading binaries  [\u001b[33m#\u001b[0m\u001b[33m#\u001b[0m\u001b[33m#\u001b[0m\u001b[33m#\u001b[0m\u001b[33m#\u001b[0m\u001b[33m#\u001b[0m\u001b[33m#\u001b[0m\u001b[33m#\u001b[0m\u001b[33m#\u001b[0m\u001b[33m#\u001b[0m\u001b[33m#\u001b[0m\u001b[33m#\u001b[0m\u001b[33m#\u001b[0m\u001b[33m#\u001b[0m\u001b[33m#\u001b[0m\u001b[33m#\u001b[0m\u001b[33m#\u001b[0m\u001b[33m#\u001b[0m\u001b[33m#\u001b[0m\u001b[33m#\u001b[0m\u001b[33m#\u001b[0m\u001b[33m#\u001b[0m\u001b[33m#\u001b[0m\u001b[33m#\u001b[0m\u001b[33m#\u001b[0m\u001b[33m#\u001b[0m\u001b[33m#\u001b[0m\u001b[33m#\u001b[0m\u001b[33m#\u001b[0m\u001b[33m#\u001b[0m\u001b[33m#\u001b[0m\u001b[33m#\u001b[0m\u001b[33m#\u001b[0m\u001b[33m#\u001b[0m\u001b[33m#\u001b[0m\u001b[33m#\u001b[0m]  100%                                \u001b[?25h\n",
            "\u001b[33mprisma:warn\u001b[39m The postinstall script automatically ran `prisma generate` and did not find your `prisma/schema.prisma`.\n",
            "If you have a Prisma schema file in a custom path, you will need to run\n",
            "`prisma generate --schema=./path/to/your/schema.prisma` to generate Prisma Client.\n",
            "If you do not have a Prisma schema file yet, you can ignore this message.\n",
            "\n"
          ]
        }
      ],
      "source": [
        "!pip install prisma\n",
        "!prisma generate"
      ]
    },
    {
      "cell_type": "code",
      "source": [
        "from prisma import Prisma\n",
        "prisma = Prisma()"
      ],
      "metadata": {
        "id": "3x6wm_15xv9h"
      },
      "execution_count": 3,
      "outputs": []
    },
    {
      "cell_type": "markdown",
      "source": [
        "# 2. Install FastAPI\n"
      ],
      "metadata": {
        "id": "PVKKRwXTxzY0"
      }
    },
    {
      "cell_type": "code",
      "source": [
        "# main.py\n",
        "from src.apis import apis\n",
        "from src.prisma import prisma\n",
        "from fastapi.middleware.gzip import GZipMiddleware\n",
        "from fastapi import FastAPI\n",
        "app = FastAPI()\n",
        "app.add_middleware(GZipMiddleware, minimum_size=1000)\n",
        "app.include_router(apis, prefix=\"/apis\")\n",
        "@app.on_event(\"startup\")\n",
        "async def startup():\n",
        "    await prisma.connect()\n",
        "@app.on_event(\"shutdown\")\n",
        "async def shutdown():\n",
        "    await prisma.disconnect()\n",
        "@app.get(\"/\")\n",
        "def read_root():\n",
        "    return {\"version\": \"1.0.0\"}"
      ],
      "metadata": {
        "id": "gh0p9Fugxw9N"
      },
      "execution_count": 4,
      "outputs": []
    },
    {
      "cell_type": "code",
      "source": [
        "# __init__.py\n",
        "from fastapi import APIRouter\n",
        "from src.apis.auth import router as authRouter\n",
        "apis = APIRouter()\n",
        "apis.include_router(authRouter)\n",
        "__all__ = [\"apis\"]"
      ],
      "metadata": {
        "id": "RicrF-1sx1BH"
      },
      "execution_count": 5,
      "outputs": []
    },
    {
      "cell_type": "code",
      "source": [
        "# auth.py\n",
        "import datetime\n",
        "from typing import List, Optional\n",
        "from fastapi import APIRouter\n",
        "from prisma.models import User\n",
        "from pydantic import BaseModel\n",
        "from src.models.scalar import Gender\n",
        "from src.prisma import prisma\n",
        "from src.utils.auth import (\n",
        "    encryptPassword,\n",
        "    signJWT,\n",
        "    validatePassword,\n",
        ")\n",
        "router = APIRouter()\n",
        "class SignIn(BaseModel):\n",
        "    email: str\n",
        "    password: str\n",
        "class SignInOut(BaseModel):\n",
        "    token: str\n",
        "    user: User\n",
        "@router.post(\"/auth/sign-in\", tags=[\"auth\"])\n",
        "async def sign_in(signIn: SignIn):\n",
        "    user = await prisma.user.find_first(\n",
        "        where={\n",
        "            \"email\": signIn.email,\n",
        "        }\n",
        "    )\n",
        "validated = validatePassword(signIn.password, user.password)\n",
        "    del user.password\n",
        "if validated:\n",
        "        token = signJWT(user.id)\n",
        "        return SignInOut(token=token, user=user)\n",
        "return None\n",
        "class SignUp(BaseModel):\n",
        "    email: str\n",
        "    password: str\n",
        "    name: Optional[str] = None\n",
        "    nickname: Optional[str] = None\n",
        "    birthday: Optional[datetime.date] = None\n",
        "    gender: Optional[Gender] = None\n",
        "    phone: Optional[str] = None\n",
        "@router.post(\"/auth/sign-up\", tags=[\"auth\"])\n",
        "async def sign_up(user: SignUp):\n",
        "    password = encryptPassword(user.password)\n",
        "    created = await prisma.user.create(\n",
        "        {\n",
        "            \"email\": user.email,\n",
        "            \"password\": encryptPassword(user.password),\n",
        "            \"name\": user.name,\n",
        "            \"nickname\": user.nickname,\n",
        "            \"birthDay\": user.birthday,\n",
        "            \"gender\": user.gender,\n",
        "            \"phone\": user.phone,\n",
        "        }\n",
        "    )\n",
        "return created"
      ],
      "metadata": {
        "id": "tOO9DC4hx7S9"
      },
      "execution_count": 6,
      "outputs": []
    }
  ]
}