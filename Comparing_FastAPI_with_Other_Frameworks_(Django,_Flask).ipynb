{
  "nbformat": 4,
  "nbformat_minor": 0,
  "metadata": {
    "colab": {
      "provenance": [],
      "authorship_tag": "ABX9TyNtP8pccfQIzF55g8DrjMEP"
    },
    "kernelspec": {
      "name": "python3",
      "display_name": "Python 3"
    },
    "language_info": {
      "name": "python"
    }
  },
  "cells": [
    {
      "cell_type": "markdown",
      "source": [
        "[Reference](https://awstip.com/comparing-fastapi-with-other-frameworks-django-flask-3cb5988fdc77)"
      ],
      "metadata": {
        "id": "ZGxs-Tv3JdEf"
      }
    },
    {
      "cell_type": "markdown",
      "source": [
        "# FastAPI:"
      ],
      "metadata": {
        "id": "RRq5RUuxJg7I"
      }
    },
    {
      "cell_type": "code",
      "execution_count": 1,
      "metadata": {
        "id": "YUqa_3VVJTV1"
      },
      "outputs": [],
      "source": [
        "from fastapi import FastAPI\n",
        "\n",
        "app = FastAPI()\n",
        "\n",
        "@app.get(\"/\")\n",
        "def read_root():\n",
        " return {\"Hello\": \"World\"}\n",
        "\n",
        "@app.get(\"/items/{item_id}\")\n",
        "def read_item(item_id: int, q: str = None):\n",
        " return {\"item_id\": item_id, \"q\": q}"
      ]
    },
    {
      "cell_type": "markdown",
      "source": [
        "# Django:"
      ],
      "metadata": {
        "id": "P2_BmlSpJjnp"
      }
    },
    {
      "cell_type": "code",
      "source": [
        "# In urls.py\n",
        "from django.urls import path\n",
        "from . import views\n",
        "\n",
        "urlpatterns = [\n",
        " path('', views.home),\n",
        " path('items/<int:item_id>/', views.item),\n",
        "]\n",
        "\n",
        "# In views.py\n",
        "from django.http import JsonResponse\n",
        "def home(request):\n",
        " return JsonResponse({\"Hello\": \"World\"})\n",
        "\n",
        "def item(request, item_id):\n",
        " q = request.GET.get('q', None)\n",
        " return JsonResponse({\"item_id\": item_id, \"q\": q})"
      ],
      "metadata": {
        "id": "wdS-_-4PJinI"
      },
      "execution_count": 2,
      "outputs": []
    },
    {
      "cell_type": "markdown",
      "source": [
        "# Flask:"
      ],
      "metadata": {
        "id": "r3nHILA8JnWb"
      }
    },
    {
      "cell_type": "code",
      "source": [
        "from flask import Flask, request, jsonify\n",
        "\n",
        "app = Flask(__name__)\n",
        "\n",
        "@app.route('/')\n",
        "def home():\n",
        "    return jsonify({\"Hello\": \"World\"})\n",
        "\n",
        "@app.route('/items/<int:item_id>')\n",
        "def item(item_id):\n",
        "    q = request.args.get('q')\n",
        "    return jsonify({\"item_id\": item_id, \"q\": q})\n",
        "\n",
        "if __name__ == '__main__':\n",
        "    app.run(debug=True)"
      ],
      "metadata": {
        "id": "hocxqt9-JlWX"
      },
      "execution_count": 3,
      "outputs": []
    }
  ]
}