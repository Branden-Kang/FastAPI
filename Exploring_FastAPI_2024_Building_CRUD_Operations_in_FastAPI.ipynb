{
  "nbformat": 4,
  "nbformat_minor": 0,
  "metadata": {
    "colab": {
      "provenance": [],
      "authorship_tag": "ABX9TyP3RMr08+MfsA/H90OLi62E"
    },
    "kernelspec": {
      "name": "python3",
      "display_name": "Python 3"
    },
    "language_info": {
      "name": "python"
    }
  },
  "cells": [
    {
      "cell_type": "markdown",
      "source": [
        "[Reference](https://medium.com/@mathur.danduprolu/exploring-fastapi-2024-building-crud-operations-in-fastapi-part-2-7-16e9644e9a8d)"
      ],
      "metadata": {
        "id": "zzTVUk7fvXPm"
      }
    },
    {
      "cell_type": "markdown",
      "source": [
        "# Step 1: Setting Up the Project Structure\n",
        "\n",
        "```\n",
        "mkdir fastapi_crud_app\n",
        "cd fastapi_crud_app\n",
        "```"
      ],
      "metadata": {
        "id": "r_-7mlIMvaJf"
      }
    },
    {
      "cell_type": "code",
      "execution_count": 1,
      "metadata": {
        "colab": {
          "base_uri": "https://localhost:8080/"
        },
        "id": "fSruAffmvQT2",
        "outputId": "3bb72dee-8ac8-4f55-eb86-8cbca2faff63"
      },
      "outputs": [
        {
          "output_type": "stream",
          "name": "stdout",
          "text": [
            "Collecting fastapi\n",
            "  Downloading fastapi-0.115.12-py3-none-any.whl.metadata (27 kB)\n",
            "Collecting uvicorn\n",
            "  Downloading uvicorn-0.34.0-py3-none-any.whl.metadata (6.5 kB)\n",
            "Collecting starlette<0.47.0,>=0.40.0 (from fastapi)\n",
            "  Downloading starlette-0.46.1-py3-none-any.whl.metadata (6.2 kB)\n",
            "Requirement already satisfied: pydantic!=1.8,!=1.8.1,!=2.0.0,!=2.0.1,!=2.1.0,<3.0.0,>=1.7.4 in /usr/local/lib/python3.11/dist-packages (from fastapi) (2.11.1)\n",
            "Requirement already satisfied: typing-extensions>=4.8.0 in /usr/local/lib/python3.11/dist-packages (from fastapi) (4.13.0)\n",
            "Requirement already satisfied: click>=7.0 in /usr/local/lib/python3.11/dist-packages (from uvicorn) (8.1.8)\n",
            "Requirement already satisfied: h11>=0.8 in /usr/local/lib/python3.11/dist-packages (from uvicorn) (0.14.0)\n",
            "Requirement already satisfied: annotated-types>=0.6.0 in /usr/local/lib/python3.11/dist-packages (from pydantic!=1.8,!=1.8.1,!=2.0.0,!=2.0.1,!=2.1.0,<3.0.0,>=1.7.4->fastapi) (0.7.0)\n",
            "Requirement already satisfied: pydantic-core==2.33.0 in /usr/local/lib/python3.11/dist-packages (from pydantic!=1.8,!=1.8.1,!=2.0.0,!=2.0.1,!=2.1.0,<3.0.0,>=1.7.4->fastapi) (2.33.0)\n",
            "Requirement already satisfied: typing-inspection>=0.4.0 in /usr/local/lib/python3.11/dist-packages (from pydantic!=1.8,!=1.8.1,!=2.0.0,!=2.0.1,!=2.1.0,<3.0.0,>=1.7.4->fastapi) (0.4.0)\n",
            "Requirement already satisfied: anyio<5,>=3.6.2 in /usr/local/lib/python3.11/dist-packages (from starlette<0.47.0,>=0.40.0->fastapi) (4.9.0)\n",
            "Requirement already satisfied: idna>=2.8 in /usr/local/lib/python3.11/dist-packages (from anyio<5,>=3.6.2->starlette<0.47.0,>=0.40.0->fastapi) (3.10)\n",
            "Requirement already satisfied: sniffio>=1.1 in /usr/local/lib/python3.11/dist-packages (from anyio<5,>=3.6.2->starlette<0.47.0,>=0.40.0->fastapi) (1.3.1)\n",
            "Downloading fastapi-0.115.12-py3-none-any.whl (95 kB)\n",
            "\u001b[2K   \u001b[90m━━━━━━━━━━━━━━━━━━━━━━━━━━━━━━━━━━━━━━━━\u001b[0m \u001b[32m95.2/95.2 kB\u001b[0m \u001b[31m5.4 MB/s\u001b[0m eta \u001b[36m0:00:00\u001b[0m\n",
            "\u001b[?25hDownloading uvicorn-0.34.0-py3-none-any.whl (62 kB)\n",
            "\u001b[2K   \u001b[90m━━━━━━━━━━━━━━━━━━━━━━━━━━━━━━━━━━━━━━━━\u001b[0m \u001b[32m62.3/62.3 kB\u001b[0m \u001b[31m3.2 MB/s\u001b[0m eta \u001b[36m0:00:00\u001b[0m\n",
            "\u001b[?25hDownloading starlette-0.46.1-py3-none-any.whl (71 kB)\n",
            "\u001b[2K   \u001b[90m━━━━━━━━━━━━━━━━━━━━━━━━━━━━━━━━━━━━━━━━\u001b[0m \u001b[32m72.0/72.0 kB\u001b[0m \u001b[31m3.4 MB/s\u001b[0m eta \u001b[36m0:00:00\u001b[0m\n",
            "\u001b[?25hInstalling collected packages: uvicorn, starlette, fastapi\n",
            "Successfully installed fastapi-0.115.12 starlette-0.46.1 uvicorn-0.34.0\n"
          ]
        }
      ],
      "source": [
        "pip install fastapi uvicorn"
      ]
    },
    {
      "cell_type": "markdown",
      "source": [
        "```\n",
        "uvicorn main:app --reload\n",
        "```"
      ],
      "metadata": {
        "id": "IE-qj6IpveUy"
      }
    },
    {
      "cell_type": "markdown",
      "source": [
        "# Step 2: Defining the Book Model with Pydantic"
      ],
      "metadata": {
        "id": "emsIIVLMvhkQ"
      }
    },
    {
      "cell_type": "code",
      "source": [
        "# main.py\n",
        "from fastapi import FastAPI, HTTPException\n",
        "from pydantic import BaseModel\n",
        "from typing import List\n",
        "\n",
        "app = FastAPI()\n",
        "\n",
        "class Book(BaseModel):\n",
        "    title: str\n",
        "    author: str\n",
        "    description: str\n",
        "    rating: int"
      ],
      "metadata": {
        "id": "CvMzr4BlvdRJ"
      },
      "execution_count": 2,
      "outputs": []
    },
    {
      "cell_type": "code",
      "source": [
        "books = []"
      ],
      "metadata": {
        "id": "pPT661BCvjoG"
      },
      "execution_count": 3,
      "outputs": []
    },
    {
      "cell_type": "markdown",
      "source": [
        "# Step 3: Building the CRUD Operations"
      ],
      "metadata": {
        "id": "cm75ZF4-vmnb"
      }
    },
    {
      "cell_type": "markdown",
      "source": [
        "## 1. Create a New Book (POST)"
      ],
      "metadata": {
        "id": "N1E4TaSVvsc0"
      }
    },
    {
      "cell_type": "code",
      "source": [
        "@app.post(\"/books/\", response_model=Book)\n",
        "async def create_book(book: Book):\n",
        "    books.append(book)\n",
        "    return book"
      ],
      "metadata": {
        "id": "de9ZQi1lvlqt"
      },
      "execution_count": 4,
      "outputs": []
    },
    {
      "cell_type": "markdown",
      "source": [
        "## 2. Read All Books (GET)"
      ],
      "metadata": {
        "id": "JFz1buFvvuEE"
      }
    },
    {
      "cell_type": "code",
      "source": [
        "@app.get(\"/books/\", response_model=List[Book])\n",
        "async def get_books():\n",
        "    return books"
      ],
      "metadata": {
        "id": "zAisN4xLvoqL"
      },
      "execution_count": 5,
      "outputs": []
    },
    {
      "cell_type": "markdown",
      "source": [
        "## 3. Read a Single Book by Title (GET)"
      ],
      "metadata": {
        "id": "5lk-5c-Evv4K"
      }
    },
    {
      "cell_type": "code",
      "source": [
        "@app.get(\"/books/{book_title}\", response_model=Book)\n",
        "async def get_book(book_title: str):\n",
        "    for book in books:\n",
        "        if book.title == book_title:\n",
        "            return book\n",
        "    raise HTTPException(status_code=404, detail=\"Book not found\")"
      ],
      "metadata": {
        "id": "nf0grW8Rvuu7"
      },
      "execution_count": 6,
      "outputs": []
    },
    {
      "cell_type": "markdown",
      "source": [
        "## 4. Update a Book’s Information (PUT)"
      ],
      "metadata": {
        "id": "yFmxlOtWv0sw"
      }
    },
    {
      "cell_type": "code",
      "source": [
        "@app.put(\"/books/{book_title}\", response_model=Book)\n",
        "async def update_book(book_title: str, book: Book):\n",
        "    for idx, b in enumerate(books):\n",
        "        if b.title == book_title:\n",
        "            books[idx] = book\n",
        "            return book\n",
        "    raise HTTPException(status_code=404, detail=\"Book not found\")"
      ],
      "metadata": {
        "id": "UXHyRSDuvx9Q"
      },
      "execution_count": 7,
      "outputs": []
    },
    {
      "cell_type": "markdown",
      "source": [
        "## 5. Delete a Book by Title (DELETE)"
      ],
      "metadata": {
        "id": "2fHa8Ggev6HU"
      }
    },
    {
      "cell_type": "code",
      "source": [
        "@app.delete(\"/books/{book_title}\", response_model=dict)\n",
        "async def delete_book(book_title: str):\n",
        "    for idx, book in enumerate(books):\n",
        "        if book.title == book_title:\n",
        "            del books[idx]\n",
        "            return {\"message\": \"Book deleted successfully\"}\n",
        "    raise HTTPException(status_code=404, detail=\"Book not found\")"
      ],
      "metadata": {
        "id": "YQoD6aK7v6lI"
      },
      "execution_count": 8,
      "outputs": []
    }
  ]
}