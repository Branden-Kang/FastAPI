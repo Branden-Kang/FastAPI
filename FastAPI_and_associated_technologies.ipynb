{
  "nbformat": 4,
  "nbformat_minor": 0,
  "metadata": {
    "colab": {
      "provenance": [],
      "authorship_tag": "ABX9TyODSaG4Grzds3UwezYzJlRq"
    },
    "kernelspec": {
      "name": "python3",
      "display_name": "Python 3"
    },
    "language_info": {
      "name": "python"
    }
  },
  "cells": [
    {
      "cell_type": "markdown",
      "source": [
        "[Reference](https://jnikenoueba.medium.com/fastapi-and-associated-technologies-132b9f389015)"
      ],
      "metadata": {
        "id": "QvDz95YJuoat"
      }
    },
    {
      "cell_type": "markdown",
      "source": [
        "# Associated Technologies\n",
        "1. Uvicorn\n",
        "2. Pydantic\n",
        "3. SQLAlchemy\n",
        "4. Alembic\n",
        "5. Tortoise-ORM\n",
        "6. Motor: An async drive for MongoDB\n",
        "7. Docker\n",
        "8. Redis\n",
        "9. JWT (JSON Web Tokens)\n",
        "10. OAuth2"
      ],
      "metadata": {
        "id": "kwPGInF4u0aD"
      }
    },
    {
      "cell_type": "code",
      "execution_count": 1,
      "metadata": {
        "id": "AfabwqpHulxB"
      },
      "outputs": [],
      "source": [
        "from fastapi import FastAPI, Depends, HTTPException\n",
        "from pydantic import BaseModel\n",
        "from sqlalchemy import Column, Integer, String, create_engine\n",
        "from sqlalchemy.ext.declarative import declarative_base\n",
        "from sqlalchemy.orm import sessionmaker, Session\n",
        "\n",
        "DATABASE_URL = \"sqlite:///./test.db\"\n",
        "Base = declarative_base()\n",
        "engine = create_engine(DATABASE_URL)\n",
        "SessionLocal = sessionmaker(autocommit=False, autoflush=False, bind=engine)\n",
        "\n",
        "class User(Base):\n",
        " __tablename__ = \"users\"\n",
        " id = Column(Integer, primary_key=True, index=True)\n",
        " name = Column(String, index=True)\n",
        " email = Column(String, unique=True, index=True)\n",
        "\n",
        "class UserCreate(BaseModel):\n",
        " name: str\n",
        " email: str\n",
        "\n",
        "app = FastAPI()\n",
        "\n",
        "def get_db():\n",
        " db = SessionLocal()\n",
        " try:\n",
        "   yield db\n",
        " finally:\n",
        "   db.close()\n",
        "\n",
        "@app.post(\"/users/\", response_model=UserCreate)\n",
        "def create_user(user: UserCreate, db: Session = Depends(get_db)):\n",
        "   db_user = User(name=user.name, email=user.email)\n",
        "   db.add(db_user)\n",
        "   db.commit()\n",
        "   db.refresh(db_user)\n",
        " return db_user\n",
        "\n",
        "@app.get(\"/users/{user_id}\", response_model=UserCreate)\n",
        "def read_user(user_id: int, db: Session = Depends(get_db)):\n",
        " db_user = db.query(User).filter(User.id == user_id).first()\n",
        " if db_user is None:\n",
        "   raise HTTPException(status_code=404, detail=\"User not found\")\n",
        " return db_user\n",
        "\n",
        "# Start the application with Uvicorn\n",
        "# uvicorn main:app - reload"
      ]
    }
  ]
}