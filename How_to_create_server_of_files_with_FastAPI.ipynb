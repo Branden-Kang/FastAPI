{
  "nbformat": 4,
  "nbformat_minor": 0,
  "metadata": {
    "colab": {
      "name": "How to create server of files with FastAPI.ipynb",
      "provenance": [],
      "authorship_tag": "ABX9TyPquWOIqPd5cZMBD47l/6Oa"
    },
    "kernelspec": {
      "name": "python3",
      "display_name": "Python 3"
    },
    "language_info": {
      "name": "python"
    }
  },
  "cells": [
    {
      "cell_type": "markdown",
      "metadata": {
        "id": "MiTGHrt9TN-U"
      },
      "source": [
        "[Reference](https://nelsoncode.medium.com/how-to-create-server-of-files-with-fastapi-9acb5500c7cd)"
      ]
    },
    {
      "cell_type": "code",
      "metadata": {
        "colab": {
          "base_uri": "https://localhost:8080/"
        },
        "id": "Fj5a5inGTYCr",
        "outputId": "83d108ff-0cd8-43f5-9973-ae9d59947370"
      },
      "source": [
        "!pip install fastapi"
      ],
      "execution_count": 2,
      "outputs": [
        {
          "output_type": "stream",
          "name": "stdout",
          "text": [
            "Collecting fastapi\n",
            "  Downloading fastapi-0.70.0-py3-none-any.whl (51 kB)\n",
            "\u001b[K     |████████████████████████████████| 51 kB 497 kB/s \n",
            "\u001b[?25hCollecting starlette==0.16.0\n",
            "  Downloading starlette-0.16.0-py3-none-any.whl (61 kB)\n",
            "\u001b[K     |████████████████████████████████| 61 kB 229 kB/s \n",
            "\u001b[?25hCollecting pydantic!=1.7,!=1.7.1,!=1.7.2,!=1.7.3,!=1.8,!=1.8.1,<2.0.0,>=1.6.2\n",
            "  Downloading pydantic-1.8.2-cp37-cp37m-manylinux2014_x86_64.whl (10.1 MB)\n",
            "\u001b[K     |████████████████████████████████| 10.1 MB 29.3 MB/s \n",
            "\u001b[?25hRequirement already satisfied: typing-extensions in /usr/local/lib/python3.7/dist-packages (from starlette==0.16.0->fastapi) (3.10.0.2)\n",
            "Collecting anyio<4,>=3.0.0\n",
            "  Downloading anyio-3.3.4-py3-none-any.whl (78 kB)\n",
            "\u001b[K     |████████████████████████████████| 78 kB 7.0 MB/s \n",
            "\u001b[?25hCollecting sniffio>=1.1\n",
            "  Downloading sniffio-1.2.0-py3-none-any.whl (10 kB)\n",
            "Requirement already satisfied: idna>=2.8 in /usr/local/lib/python3.7/dist-packages (from anyio<4,>=3.0.0->starlette==0.16.0->fastapi) (2.10)\n",
            "Installing collected packages: sniffio, anyio, starlette, pydantic, fastapi\n",
            "Successfully installed anyio-3.3.4 fastapi-0.70.0 pydantic-1.8.2 sniffio-1.2.0 starlette-0.16.0\n"
          ]
        }
      ]
    },
    {
      "cell_type": "markdown",
      "metadata": {
        "id": "FImCAlhjTcef"
      },
      "source": [
        "# How to upload files by Form Data using FastAPI\n"
      ]
    },
    {
      "cell_type": "code",
      "metadata": {
        "id": "1g3hEoFUTOHz"
      },
      "source": [
        "from fastapi import FastAPI, UploadFile, File\n",
        "app = FastAPI()\n",
        "@app.post(\"/upload\")\n",
        "async def upload_file(file: UploadFile = File(...)):\n",
        "    with open(file.filename, 'wb') as image:\n",
        "        content = await file.read()\n",
        "        image.write(content)\n",
        "        image.close()\n",
        "    return JSONResponse(content={\"filename\": file.filename}, status_code=200)"
      ],
      "execution_count": 4,
      "outputs": []
    },
    {
      "cell_type": "markdown",
      "metadata": {
        "id": "ScZxYq75TezO"
      },
      "source": [
        "# How to download files using FastAPI\n"
      ]
    },
    {
      "cell_type": "code",
      "metadata": {
        "id": "BggYEgUPTAGl"
      },
      "source": [
        "from fastapi import FastAPI\n",
        "from os import getcwd\n",
        "from fastapi.responses import FileResponse\n",
        "app = FastAPI()\n",
        "@router.get(\"/download/{name_file}\")\n",
        "def download_file(name_file: str):\n",
        "    return FileResponse(path=getcwd() + \"/\" + name_file, media_type='application/octet-stream', filename=name_file)"
      ],
      "execution_count": 5,
      "outputs": []
    },
    {
      "cell_type": "markdown",
      "metadata": {
        "id": "R15u71h_Th3h"
      },
      "source": [
        "# How to get files using FastAPI\n"
      ]
    },
    {
      "cell_type": "code",
      "metadata": {
        "id": "A6xjuTBOTgcZ"
      },
      "source": [
        "from fastapi import FastAPI\n",
        "from os import getcwd\n",
        "from fastapi.responses import FileResponse\n",
        "app = FastAPI()\n",
        "@router.get(\"/file/{name_file}\")\n",
        "def get_file(name_file: str):\n",
        "    return FileResponse(path=getcwd() + \"/\" + name_file)"
      ],
      "execution_count": 6,
      "outputs": []
    },
    {
      "cell_type": "markdown",
      "metadata": {
        "id": "W5CqQyKvTlwH"
      },
      "source": [
        "# How to delete files using FastAPI\n"
      ]
    },
    {
      "cell_type": "code",
      "metadata": {
        "id": "HNFEFBVDTkYp"
      },
      "source": [
        "from fastapi import FastAPI\n",
        "from os import getcwd, remove\n",
        "from fastapi.responses import JSONResponse\n",
        "app = FastAPI()\n",
        "@router.delete(\"/delete/file/{name_file}\")\n",
        "def delete_file(name_file: str):\n",
        "    try:\n",
        "        remove(getcwd() + \"/\" + name_file)\n",
        "        return JSONResponse(content={\n",
        "            \"removed\": True\n",
        "            }, status_code=200)   \n",
        "    except FileNotFoundError:\n",
        "        return JSONResponse(content={\n",
        "            \"removed\": False,\n",
        "            \"error_message\": \"File not found\"\n",
        "        }, status_code=404)"
      ],
      "execution_count": 7,
      "outputs": []
    }
  ]
}