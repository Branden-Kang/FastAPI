{
  "nbformat": 4,
  "nbformat_minor": 0,
  "metadata": {
    "colab": {
      "provenance": [],
      "collapsed_sections": [],
      "authorship_tag": "ABX9TyOnSvs7w0vBFfcylsRQia+z"
    },
    "kernelspec": {
      "name": "python3",
      "display_name": "Python 3"
    },
    "language_info": {
      "name": "python"
    }
  },
  "cells": [
    {
      "cell_type": "markdown",
      "source": [
        "[Reference](https://afaqueumer.medium.com/streamlit-fastapi-%EF%B8%8F-the-ingredients-you-need-for-your-next-data-science-recipe-ffbeb5f76a92)"
      ],
      "metadata": {
        "id": "aN7h3F5L0CVM"
      }
    },
    {
      "cell_type": "markdown",
      "source": [
        "# Step 1: Create the calculator module\n"
      ],
      "metadata": {
        "id": "d6mbBkGC0Fkr"
      }
    },
    {
      "cell_type": "code",
      "execution_count": 1,
      "metadata": {
        "id": "h_DhQxUZz9_S"
      },
      "outputs": [],
      "source": [
        "# def calculate(operation, x, y):\n",
        "#     '''\n",
        "#     operation - takes the string [add, sub, mul. div]\n",
        "#     x& y - two numbers\n",
        "#     '''\n",
        "#     if operation == 'Addition':\n",
        "#         return x + y\n",
        "#     elif operation == 'Subtraction':\n",
        "#         if x>y:\n",
        "#             return x-y\n",
        "#         else:\n",
        "#             return y-x\n",
        "\n",
        "#     elif operation == 'Multiplication':\n",
        "#         return x*y\n",
        "\n",
        "#     elif operation == 'Division':\n",
        "#         return x/y"
      ]
    },
    {
      "cell_type": "markdown",
      "source": [
        "# Step 2: Creating the API using FastAPI "
      ],
      "metadata": {
        "id": "Th3FA2DO0G4d"
      }
    },
    {
      "cell_type": "code",
      "source": [
        "# # pip install fastapi\n",
        "# # pip install uvicorn\n",
        "# # uvicorn main:app --reload\n",
        "# # http://127.0.0.1:8000/docs\n",
        "# from fastapi import FastAPI\n",
        "# from pydantic import BaseModela\n",
        "# from calculator import calculate\n",
        "\n",
        "# class User_input(BaseModel):\n",
        "#     operation: str\n",
        "#     x: float\n",
        "#     y: float\n",
        "\n",
        "# app = FastAPI()\n",
        "\n",
        "# @app.post(\"/calculate\")\n",
        "# def operate(input:User_input):\n",
        "#     result = calculate(input.operation, input.x, input.y)\n",
        "#     return result"
      ],
      "metadata": {
        "id": "2ZpCZfGp0HNI"
      },
      "execution_count": 2,
      "outputs": []
    },
    {
      "cell_type": "markdown",
      "source": [
        "# Step 3. Create the web app using Streamlit "
      ],
      "metadata": {
        "id": "WvIzQmXw8r6M"
      }
    },
    {
      "cell_type": "code",
      "source": [
        "# # streamlit run stream_lit.py\n",
        "# import streamlit as st\n",
        "# import json\n",
        "# import requests\n",
        "\n",
        "# st.title('Basic Calculator App')\n",
        "\n",
        "# option = st.selectbox(\"What operation You want to perform?\",\n",
        "#                       (\"Addition\", 'Subtraction', 'Multiplication', 'Division'))\n",
        "# st.write(\"\")\n",
        "# st.write(\"Select the numbers from slider below\")\n",
        "# x = st.slider(\"X\", 0, 100, 20)\n",
        "# y = st.slider(\"Y\", 0, 130, 10)\n",
        "\n",
        "# # converting the inputs into a json format\n",
        "# inputs = {\"operation\": option, \"x\":x, \"y\":y}\n",
        "\n",
        "# # when the user clicks on button it will fetch the API\n",
        "# if st.button('Calculate'):\n",
        "#     res = requests.post(url = \"http://127.0.0.01:8000/calculate\", data=json.dumps(inputs))\n",
        "#     st.subheader(f\"Response from API = {res.text}\")"
      ],
      "metadata": {
        "id": "qBgdtsuJ8tET"
      },
      "execution_count": 3,
      "outputs": []
    },
    {
      "cell_type": "markdown",
      "source": [
        "# Step 4: Assemble Frontend with Backend\n"
      ],
      "metadata": {
        "id": "KDorMDdZAVxa"
      }
    },
    {
      "cell_type": "code",
      "source": [
        "# # For running streamlit app\n",
        "# streamlit run stream_lit.py\n",
        "# # For running backend with FastAPI\n",
        "# uvicorn fast_api:app --reload"
      ],
      "metadata": {
        "id": "8LPegjVFAWol"
      },
      "execution_count": 4,
      "outputs": []
    }
  ]
}