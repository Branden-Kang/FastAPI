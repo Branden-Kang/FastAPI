{
  "nbformat": 4,
  "nbformat_minor": 0,
  "metadata": {
    "colab": {
      "provenance": [],
      "authorship_tag": "ABX9TyOD4r9VY+XE7rgEyKJ1g9UI"
    },
    "kernelspec": {
      "name": "python3",
      "display_name": "Python 3"
    },
    "language_info": {
      "name": "python"
    }
  },
  "cells": [
    {
      "cell_type": "markdown",
      "source": [
        "[Reference](https://medium.com/geekculture/how-to-dockerise-your-fastapi-application-43fb4a106ae)"
      ],
      "metadata": {
        "id": "-fjoaWXSVDOZ"
      }
    },
    {
      "cell_type": "code",
      "source": [
        "!pip install fastapi"
      ],
      "metadata": {
        "colab": {
          "base_uri": "https://localhost:8080/"
        },
        "id": "XiAZMRn5VMqA",
        "outputId": "bebe0e66-6ef2-4ea1-be96-799984497a7e"
      },
      "execution_count": 3,
      "outputs": [
        {
          "output_type": "stream",
          "name": "stdout",
          "text": [
            "Collecting fastapi\n",
            "  Downloading fastapi-0.101.1-py3-none-any.whl (65 kB)\n",
            "\u001b[2K     \u001b[90m━━━━━━━━━━━━━━━━━━━━━━━━━━━━━━━━━━━━━━━━\u001b[0m \u001b[32m65.8/65.8 kB\u001b[0m \u001b[31m1.3 MB/s\u001b[0m eta \u001b[36m0:00:00\u001b[0m\n",
            "\u001b[?25hRequirement already satisfied: pydantic!=1.8,!=1.8.1,!=2.0.0,!=2.0.1,!=2.1.0,<3.0.0,>=1.7.4 in /usr/local/lib/python3.10/dist-packages (from fastapi) (2.2.0)\n",
            "Collecting starlette<0.28.0,>=0.27.0 (from fastapi)\n",
            "  Downloading starlette-0.27.0-py3-none-any.whl (66 kB)\n",
            "\u001b[2K     \u001b[90m━━━━━━━━━━━━━━━━━━━━━━━━━━━━━━━━━━━━━━━━\u001b[0m \u001b[32m67.0/67.0 kB\u001b[0m \u001b[31m3.5 MB/s\u001b[0m eta \u001b[36m0:00:00\u001b[0m\n",
            "\u001b[?25hRequirement already satisfied: typing-extensions>=4.5.0 in /usr/local/lib/python3.10/dist-packages (from fastapi) (4.7.1)\n",
            "Requirement already satisfied: annotated-types>=0.4.0 in /usr/local/lib/python3.10/dist-packages (from pydantic!=1.8,!=1.8.1,!=2.0.0,!=2.0.1,!=2.1.0,<3.0.0,>=1.7.4->fastapi) (0.5.0)\n",
            "Requirement already satisfied: pydantic-core==2.6.0 in /usr/local/lib/python3.10/dist-packages (from pydantic!=1.8,!=1.8.1,!=2.0.0,!=2.0.1,!=2.1.0,<3.0.0,>=1.7.4->fastapi) (2.6.0)\n",
            "Requirement already satisfied: anyio<5,>=3.4.0 in /usr/local/lib/python3.10/dist-packages (from starlette<0.28.0,>=0.27.0->fastapi) (3.7.1)\n",
            "Requirement already satisfied: idna>=2.8 in /usr/local/lib/python3.10/dist-packages (from anyio<5,>=3.4.0->starlette<0.28.0,>=0.27.0->fastapi) (3.4)\n",
            "Requirement already satisfied: sniffio>=1.1 in /usr/local/lib/python3.10/dist-packages (from anyio<5,>=3.4.0->starlette<0.28.0,>=0.27.0->fastapi) (1.3.0)\n",
            "Requirement already satisfied: exceptiongroup in /usr/local/lib/python3.10/dist-packages (from anyio<5,>=3.4.0->starlette<0.28.0,>=0.27.0->fastapi) (1.1.3)\n",
            "Installing collected packages: starlette, fastapi\n",
            "Successfully installed fastapi-0.101.1 starlette-0.27.0\n"
          ]
        }
      ]
    },
    {
      "cell_type": "code",
      "execution_count": 4,
      "metadata": {
        "id": "JPB7keZASnLa"
      },
      "outputs": [],
      "source": [
        "from fastapi import FastAPI\n",
        "\n",
        "app = FastAPI(name=\"Dockerise a fastapi\", debug=True)\n",
        "\n",
        "\n",
        "@app.get(path=\"/getnames\")\n",
        "def get_names():\n",
        "    names = [{\"id\": 1, \"name\": \"John\"}, {\"id\": 2, \"name\": \"Mathew\"}]\n",
        "    return names\n",
        "\n",
        "\n",
        "@app.get(path=\"/getid\")\n",
        "def get_ids():\n",
        "    ids = [{\"id\": 1, \"name\": \"John\"}, {\"id\": 2, \"name\": \"Mathew\"}]\n",
        "    return ids"
      ]
    },
    {
      "cell_type": "code",
      "source": [
        "# # requirements.txt\n",
        "# fastapi==0.85.0"
      ],
      "metadata": {
        "id": "MjdI6vjMVGf4"
      },
      "execution_count": 2,
      "outputs": []
    },
    {
      "cell_type": "markdown",
      "source": [
        "```\n",
        "FROM python:3.9-bullseye\n",
        "WORKDIR /fastapiapp\n",
        "COPY ./ ./fastapiapp\n",
        "RUN pip install -r fastapiapp/requirements.txt\n",
        "ENV FASTAPI_APP=docker_fastapi.py\n",
        "EXPOSE 8000\n",
        "CMD [ \"uvicorn\", \"fastapiapp.docker_fastapi:app\", \"--reload\", \"--host\", \"0.0.0.0\"]\n",
        "```"
      ],
      "metadata": {
        "id": "rknmE4oIVUIG"
      }
    },
    {
      "cell_type": "markdown",
      "source": [
        "```\n",
        "docker build -t myfastapiapp .\n",
        "```"
      ],
      "metadata": {
        "id": "JbxDwbVhVVmG"
      }
    },
    {
      "cell_type": "markdown",
      "source": [
        "```\n",
        "(docker-env) docker run -p 8000:8000 myfastapiapp\n",
        "```"
      ],
      "metadata": {
        "id": "n1H4v7h-VYeO"
      }
    }
  ]
}