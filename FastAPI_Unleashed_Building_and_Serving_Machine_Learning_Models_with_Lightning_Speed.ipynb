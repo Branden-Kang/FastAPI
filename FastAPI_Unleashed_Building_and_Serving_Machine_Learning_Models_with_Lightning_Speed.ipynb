{
  "nbformat": 4,
  "nbformat_minor": 0,
  "metadata": {
    "colab": {
      "provenance": [],
      "authorship_tag": "ABX9TyMDp26LzICYFWprs1x3smN2"
    },
    "kernelspec": {
      "name": "python3",
      "display_name": "Python 3"
    },
    "language_info": {
      "name": "python"
    }
  },
  "cells": [
    {
      "cell_type": "markdown",
      "source": [
        "[Reference](https://medium.com/@bragadeeshs/fastapi-unleashed-building-and-serving-machine-learning-models-with-lightning-speed-8d8dfd509b82)"
      ],
      "metadata": {
        "id": "CvxKgGDixhTI"
      }
    },
    {
      "cell_type": "markdown",
      "source": [
        "# Building the Sentiment Analysis Model"
      ],
      "metadata": {
        "id": "wZSq2Eoixwec"
      }
    },
    {
      "cell_type": "markdown",
      "source": [
        "1. Data Collection\n",
        "2. Data Preprocessing\n",
        "3. Data Splitting"
      ],
      "metadata": {
        "id": "zfsfjC7Oxzdt"
      }
    },
    {
      "cell_type": "code",
      "execution_count": 1,
      "metadata": {
        "id": "NAo8LjW3xTAz"
      },
      "outputs": [],
      "source": [
        "# Sample data\n",
        "sample_reviews = [\n",
        "    \"This product is amazing!\",\n",
        "    \"Terrible experience, do not recommend.\",\n",
        "    \"Good value for the price.\",\n",
        "    \"I have mixed feelings about this.\",\n",
        "]\n",
        "\n",
        "# Label the data (0 for negative, 1 for positive, 2 for neutral)\n",
        "labels = [1, 0, 1, 2]\n",
        "\n",
        "# Split the data into training and testing sets\n",
        "from sklearn.model_selection import train_test_split\n",
        "\n",
        "X_train, X_test, y_train, y_test = train_test_split(sample_reviews, labels, test_size=0.2, random_state=42)"
      ]
    },
    {
      "cell_type": "markdown",
      "source": [
        "4. Model Selection: Naive Bayes\n",
        "5. Training"
      ],
      "metadata": {
        "id": "zpspse3Cx5n3"
      }
    },
    {
      "cell_type": "code",
      "source": [
        "from sklearn.feature_extraction.text import CountVectorizer\n",
        "from sklearn.naive_bayes import MultinomialNB\n",
        "from sklearn.pipeline import Pipeline\n",
        "\n",
        "# Create a text classification pipeline\n",
        "text_clf = Pipeline([\n",
        "    ('vectorizer', CountVectorizer()),\n",
        "    ('classifier', MultinomialNB())\n",
        "])\n",
        "\n",
        "# Train the model\n",
        "text_clf.fit(X_train, y_train)"
      ],
      "metadata": {
        "colab": {
          "base_uri": "https://localhost:8080/",
          "height": 124
        },
        "id": "rf78a6sKx3_n",
        "outputId": "142d52d3-d847-417e-dea1-f883a1f65617"
      },
      "execution_count": 2,
      "outputs": [
        {
          "output_type": "execute_result",
          "data": {
            "text/plain": [
              "Pipeline(steps=[('vectorizer', CountVectorizer()),\n",
              "                ('classifier', MultinomialNB())])"
            ],
            "text/html": [
              "<style>#sk-container-id-1 {color: black;background-color: white;}#sk-container-id-1 pre{padding: 0;}#sk-container-id-1 div.sk-toggleable {background-color: white;}#sk-container-id-1 label.sk-toggleable__label {cursor: pointer;display: block;width: 100%;margin-bottom: 0;padding: 0.3em;box-sizing: border-box;text-align: center;}#sk-container-id-1 label.sk-toggleable__label-arrow:before {content: \"▸\";float: left;margin-right: 0.25em;color: #696969;}#sk-container-id-1 label.sk-toggleable__label-arrow:hover:before {color: black;}#sk-container-id-1 div.sk-estimator:hover label.sk-toggleable__label-arrow:before {color: black;}#sk-container-id-1 div.sk-toggleable__content {max-height: 0;max-width: 0;overflow: hidden;text-align: left;background-color: #f0f8ff;}#sk-container-id-1 div.sk-toggleable__content pre {margin: 0.2em;color: black;border-radius: 0.25em;background-color: #f0f8ff;}#sk-container-id-1 input.sk-toggleable__control:checked~div.sk-toggleable__content {max-height: 200px;max-width: 100%;overflow: auto;}#sk-container-id-1 input.sk-toggleable__control:checked~label.sk-toggleable__label-arrow:before {content: \"▾\";}#sk-container-id-1 div.sk-estimator input.sk-toggleable__control:checked~label.sk-toggleable__label {background-color: #d4ebff;}#sk-container-id-1 div.sk-label input.sk-toggleable__control:checked~label.sk-toggleable__label {background-color: #d4ebff;}#sk-container-id-1 input.sk-hidden--visually {border: 0;clip: rect(1px 1px 1px 1px);clip: rect(1px, 1px, 1px, 1px);height: 1px;margin: -1px;overflow: hidden;padding: 0;position: absolute;width: 1px;}#sk-container-id-1 div.sk-estimator {font-family: monospace;background-color: #f0f8ff;border: 1px dotted black;border-radius: 0.25em;box-sizing: border-box;margin-bottom: 0.5em;}#sk-container-id-1 div.sk-estimator:hover {background-color: #d4ebff;}#sk-container-id-1 div.sk-parallel-item::after {content: \"\";width: 100%;border-bottom: 1px solid gray;flex-grow: 1;}#sk-container-id-1 div.sk-label:hover label.sk-toggleable__label {background-color: #d4ebff;}#sk-container-id-1 div.sk-serial::before {content: \"\";position: absolute;border-left: 1px solid gray;box-sizing: border-box;top: 0;bottom: 0;left: 50%;z-index: 0;}#sk-container-id-1 div.sk-serial {display: flex;flex-direction: column;align-items: center;background-color: white;padding-right: 0.2em;padding-left: 0.2em;position: relative;}#sk-container-id-1 div.sk-item {position: relative;z-index: 1;}#sk-container-id-1 div.sk-parallel {display: flex;align-items: stretch;justify-content: center;background-color: white;position: relative;}#sk-container-id-1 div.sk-item::before, #sk-container-id-1 div.sk-parallel-item::before {content: \"\";position: absolute;border-left: 1px solid gray;box-sizing: border-box;top: 0;bottom: 0;left: 50%;z-index: -1;}#sk-container-id-1 div.sk-parallel-item {display: flex;flex-direction: column;z-index: 1;position: relative;background-color: white;}#sk-container-id-1 div.sk-parallel-item:first-child::after {align-self: flex-end;width: 50%;}#sk-container-id-1 div.sk-parallel-item:last-child::after {align-self: flex-start;width: 50%;}#sk-container-id-1 div.sk-parallel-item:only-child::after {width: 0;}#sk-container-id-1 div.sk-dashed-wrapped {border: 1px dashed gray;margin: 0 0.4em 0.5em 0.4em;box-sizing: border-box;padding-bottom: 0.4em;background-color: white;}#sk-container-id-1 div.sk-label label {font-family: monospace;font-weight: bold;display: inline-block;line-height: 1.2em;}#sk-container-id-1 div.sk-label-container {text-align: center;}#sk-container-id-1 div.sk-container {/* jupyter's `normalize.less` sets `[hidden] { display: none; }` but bootstrap.min.css set `[hidden] { display: none !important; }` so we also need the `!important` here to be able to override the default hidden behavior on the sphinx rendered scikit-learn.org. See: https://github.com/scikit-learn/scikit-learn/issues/21755 */display: inline-block !important;position: relative;}#sk-container-id-1 div.sk-text-repr-fallback {display: none;}</style><div id=\"sk-container-id-1\" class=\"sk-top-container\"><div class=\"sk-text-repr-fallback\"><pre>Pipeline(steps=[(&#x27;vectorizer&#x27;, CountVectorizer()),\n",
              "                (&#x27;classifier&#x27;, MultinomialNB())])</pre><b>In a Jupyter environment, please rerun this cell to show the HTML representation or trust the notebook. <br />On GitHub, the HTML representation is unable to render, please try loading this page with nbviewer.org.</b></div><div class=\"sk-container\" hidden><div class=\"sk-item sk-dashed-wrapped\"><div class=\"sk-label-container\"><div class=\"sk-label sk-toggleable\"><input class=\"sk-toggleable__control sk-hidden--visually\" id=\"sk-estimator-id-1\" type=\"checkbox\" ><label for=\"sk-estimator-id-1\" class=\"sk-toggleable__label sk-toggleable__label-arrow\">Pipeline</label><div class=\"sk-toggleable__content\"><pre>Pipeline(steps=[(&#x27;vectorizer&#x27;, CountVectorizer()),\n",
              "                (&#x27;classifier&#x27;, MultinomialNB())])</pre></div></div></div><div class=\"sk-serial\"><div class=\"sk-item\"><div class=\"sk-estimator sk-toggleable\"><input class=\"sk-toggleable__control sk-hidden--visually\" id=\"sk-estimator-id-2\" type=\"checkbox\" ><label for=\"sk-estimator-id-2\" class=\"sk-toggleable__label sk-toggleable__label-arrow\">CountVectorizer</label><div class=\"sk-toggleable__content\"><pre>CountVectorizer()</pre></div></div></div><div class=\"sk-item\"><div class=\"sk-estimator sk-toggleable\"><input class=\"sk-toggleable__control sk-hidden--visually\" id=\"sk-estimator-id-3\" type=\"checkbox\" ><label for=\"sk-estimator-id-3\" class=\"sk-toggleable__label sk-toggleable__label-arrow\">MultinomialNB</label><div class=\"sk-toggleable__content\"><pre>MultinomialNB()</pre></div></div></div></div></div></div></div>"
            ]
          },
          "metadata": {},
          "execution_count": 2
        }
      ]
    },
    {
      "cell_type": "markdown",
      "source": [
        "# FastAPI Architecture"
      ],
      "metadata": {
        "id": "hG_312peyO1w"
      }
    },
    {
      "cell_type": "code",
      "source": [
        "from fastapi import FastAPI\n",
        "\n",
        "app = FastAPI()\n",
        "\n",
        "@app.get(\"/\")\n",
        "def read_root():\n",
        "    return {\"message\": \"Welcome to our API!\"}\n",
        "\n",
        "@app.post(\"/analyze_sentiment\")\n",
        "async def analyze_sentiment(text: str):\n",
        "    # Perform sentiment analysis and return the result\n",
        "    sentiment = perform_sentiment_analysis(text)\n",
        "    return {\"sentiment\": sentiment}"
      ],
      "metadata": {
        "id": "AeqS2Fd6yAlc"
      },
      "execution_count": 3,
      "outputs": []
    },
    {
      "cell_type": "code",
      "source": [
        "from pydantic import BaseModel\n",
        "\n",
        "class SentimentRequest(BaseModel):\n",
        "    text: str\n",
        "\n",
        "@app.post(\"/analyze_sentiment\")\n",
        "async def analyze_sentiment(request_data: SentimentRequest):\n",
        "    text = request_data.text\n",
        "    # Perform sentiment analysis and return the result\n",
        "    sentiment = perform_sentiment_analysis(text)\n",
        "    return {\"sentiment\": sentiment}"
      ],
      "metadata": {
        "id": "jETH0UM6yrGe"
      },
      "execution_count": 4,
      "outputs": []
    },
    {
      "cell_type": "markdown",
      "source": [
        "# Creating the Sentiment Analysis API with FastAPI"
      ],
      "metadata": {
        "id": "cRXGH5KvyspC"
      }
    },
    {
      "cell_type": "code",
      "source": [
        "from fastapi import FastAPI\n",
        "from pydantic import BaseModel\n",
        "\n",
        "app = FastAPI()\n",
        "\n",
        "class SentimentRequest(BaseModel):\n",
        "    text: str\n",
        "\n",
        "@app.post(\"/analyze_sentiment\")\n",
        "async def analyze_sentiment(request_data: SentimentRequest):\n",
        "    text = request_data.text\n",
        "    # Perform sentiment analysis (replace with your actual analysis logic)\n",
        "    sentiment = perform_sentiment_analysis(text)\n",
        "    return {\"sentiment\": sentiment}"
      ],
      "metadata": {
        "id": "ZaX4unSIyt4A"
      },
      "execution_count": 5,
      "outputs": []
    },
    {
      "cell_type": "markdown",
      "source": [
        "```\n",
        "# Use the official Python image as a parent image\n",
        "FROM python:3.9\n",
        "\n",
        "# Set the working directory within the container\n",
        "WORKDIR /app\n",
        "\n",
        "# Copy the requirements file into the container and install dependencies\n",
        "COPY requirements.txt requirements.txt\n",
        "RUN pip install -r requirements.txt\n",
        "\n",
        "# Copy the rest of the application code into the container\n",
        "COPY . .\n",
        "\n",
        "# Expose the port on which the application will run\n",
        "EXPOSE 80\n",
        "\n",
        "# Define the command to run the application when the container starts\n",
        "CMD [\"uvicorn\", \"main:app\", \"--host\", \"0.0.0.0\", \"--port\", \"80\"]\n",
        "```"
      ],
      "metadata": {
        "id": "YXRCGL9szMm6"
      }
    },
    {
      "cell_type": "markdown",
      "source": [
        "```\n",
        "docker build -t sentiment-api .\n",
        "docker run -d -p 80:80 sentiment-api\n",
        "```"
      ],
      "metadata": {
        "id": "gOXJfrIrzW5-"
      }
    },
    {
      "cell_type": "markdown",
      "source": [
        "```\n",
        "apiVersion: v1\n",
        "kind: Service\n",
        "metadata:\n",
        "  name: sentiment-api-service\n",
        "spec:\n",
        "  selector:\n",
        "    app: sentiment-api\n",
        "  ports:\n",
        "    - protocol: \"TCP\"\n",
        "      port: 80\n",
        "      targetPort: 80\n",
        "  type: LoadBalancer  # Use \"LoadBalancer\" for cloud deployments\n",
        "```"
      ],
      "metadata": {
        "id": "_4tzM5Yp0rrQ"
      }
    },
    {
      "cell_type": "markdown",
      "source": [
        "```\n",
        "kubectl apply -f api-deployment.yaml\n",
        "kubectl apply -f api-service.yaml\n",
        "```"
      ],
      "metadata": {
        "id": "kB76xnKJ0tz3"
      }
    },
    {
      "cell_type": "markdown",
      "source": [
        "```\n",
        "helm repo add prometheus-community https://prometheus-community.github.io/helm-charts\n",
        "helm install prometheus prometheus-community/prometheus\n",
        "```"
      ],
      "metadata": {
        "id": "rkLaUqVP0wTc"
      }
    },
    {
      "cell_type": "markdown",
      "source": [
        "```\n",
        "global:\n",
        "  scrape_interval: 15s\n",
        "\n",
        "scrape_configs:\n",
        "  - job_name: 'fastapi'\n",
        "    static_configs:\n",
        "      - targets: ['sentiment-api-service:80']  # Replace with your service name and port\n",
        "```"
      ],
      "metadata": {
        "id": "FHwfXDuP0x1c"
      }
    },
    {
      "cell_type": "markdown",
      "source": [
        "```\n",
        "kubectl port-forward prometheus-prometheus-server-0 9090\n",
        "```"
      ],
      "metadata": {
        "id": "hmYlTq4y00OW"
      }
    },
    {
      "cell_type": "markdown",
      "source": [
        "```\n",
        "helm repo add grafana https://grafana.github.io/helm-charts\n",
        "helm install grafana grafana/grafana\n",
        "```"
      ],
      "metadata": {
        "id": "0SufTb3J01wB"
      }
    },
    {
      "cell_type": "markdown",
      "source": [
        "```\n",
        "kubectl port-forward grafana-0 3000\n",
        "```"
      ],
      "metadata": {
        "id": "5ICU062q03H4"
      }
    },
    {
      "cell_type": "markdown",
      "source": [
        "```\n",
        "pipeline {\n",
        "    agent any\n",
        "\n",
        "    stages {\n",
        "        stage('Checkout') {\n",
        "            steps {\n",
        "                // Checkout your source code from your version control system (e.g., Git)\n",
        "                checkout scm\n",
        "            }\n",
        "        }\n",
        "\n",
        "        stage('Build and Push Docker Image') {\n",
        "            steps {\n",
        "                // Build your Docker image\n",
        "                sh 'docker build -t sentiment-api .'\n",
        "\n",
        "                // Push the Docker image to a container registry (e.g., Docker Hub)\n",
        "                sh 'docker push your-registry/sentiment-api'\n",
        "            }\n",
        "        }\n",
        "\n",
        "        stage('Deploy to Kubernetes') {\n",
        "            steps {\n",
        "                // Deploy your API to Kubernetes using kubectl or Helm\n",
        "                sh 'kubectl apply -f api-deployment.yaml'\n",
        "            }\n",
        "        }\n",
        "    }\n",
        "\n",
        "    post {\n",
        "        success {\n",
        "            // Notify on successful deployment (e.g., send an email or Slack message)\n",
        "        }\n",
        "    }\n",
        "}\n",
        "```"
      ],
      "metadata": {
        "id": "53dTx8b1050n"
      }
    }
  ]
}