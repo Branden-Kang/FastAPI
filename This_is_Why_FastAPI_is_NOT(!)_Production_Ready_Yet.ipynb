{
  "nbformat": 4,
  "nbformat_minor": 0,
  "metadata": {
    "colab": {
      "provenance": [],
      "authorship_tag": "ABX9TyOqJQTAPWEctJAyrcXUL04F"
    },
    "kernelspec": {
      "name": "python3",
      "display_name": "Python 3"
    },
    "language_info": {
      "name": "python"
    }
  },
  "cells": [
    {
      "cell_type": "markdown",
      "source": [
        "[Reference](https://python.plainenglish.io/this-is-why-fastapi-is-not-production-ready-yet-6c707823bd7c)"
      ],
      "metadata": {
        "id": "Furl67DReDmR"
      }
    },
    {
      "cell_type": "code",
      "execution_count": 1,
      "metadata": {
        "id": "qFMFzjRceBVn"
      },
      "outputs": [],
      "source": [
        "from fastapi import Depends, FastAPI\n",
        "\n",
        "app = FastAPI()\n",
        "\n",
        "# Dependency function\n",
        "async def common_parameters(q: str = None, skip: int = 0, limit: int = 100):\n",
        "    return {\"q\": q, \"skip\": skip, \"limit\": limit}\n",
        "\n",
        "# Route that uses the dependency\n",
        "@app.get(\"/items/\")\n",
        "async def read_items(commons: dict = Depends(common_parameters)):\n",
        "    return commons"
      ]
    },
    {
      "cell_type": "markdown",
      "source": [
        "# Redundancy in Dependency Injection"
      ],
      "metadata": {
        "id": "JN2oM5EneJIb"
      }
    },
    {
      "cell_type": "code",
      "source": [
        "from fastapi import Depends, FastAPI\n",
        "\n",
        "app = FastAPI()\n",
        "\n",
        "# Dependency\n",
        "class Logger:\n",
        "    def __init__(self):\n",
        "        print(\"Logger Starting\")\n",
        "        time.sleep(2)\n",
        "        print(f\"Logger Started at - {self}\")\n",
        "\n",
        "    def log(self, message):\n",
        "        print(f\"Logging - {message}\")\n",
        "\n",
        "\n",
        "# Multiple routes injecting the same dependency\n",
        "@app.get(\"/items/\")\n",
        "async def read_items(logger: Annotated[Logger, Depends(Logger)]):\n",
        "    logger.log(\"list of items\")\n",
        "    return {\"message\": \"Items\"}\n",
        "\n",
        "@app.post(\"/items/\")\n",
        "async def create_item(logger: Annotated[Logger, Depends(Logger)]):\n",
        "    logger.log(\"creating item\")\n",
        "    return {\"message\": \"Item created\"}"
      ],
      "metadata": {
        "id": "if_u--ZEeHIR"
      },
      "execution_count": 2,
      "outputs": []
    },
    {
      "cell_type": "code",
      "source": [
        "from fastapi import FastAPI, Depends\n",
        "\n",
        "app = FastAPI()\n",
        "\n",
        "class Logger:\n",
        "    def __init__(self):\n",
        "        print(\"Logger Starting\")\n",
        "        time.sleep(2)\n",
        "        print(f\"Logger Started at - {self}\")\n",
        "        self.params = {}\n",
        "\n",
        "    def log(self, message):\n",
        "        print(f\"Logging - {message}\")\n",
        "\n",
        "@app.get(\"/\")\n",
        "def get(logger: Logger = Depends(Logger)):\n",
        "    logger.log(\"Endpoint hit\")\n",
        "    return \"Logger works\"\n",
        "\n",
        "if __name__ == \"__main__\":\n",
        "    import uvicorn\n",
        "    uvicorn.run(app, host=\"0.0.0.0\", port=8000)"
      ],
      "metadata": {
        "id": "-NluRdoYeMb0"
      },
      "execution_count": 3,
      "outputs": []
    },
    {
      "cell_type": "code",
      "source": [
        "from fastapi import FastAPI, Depends\n",
        "import time\n",
        "import random\n",
        "\n",
        "class Logger:\n",
        "    def __init__(self):\n",
        "        print(\"Logger Starting\")\n",
        "        time.sleep(2)\n",
        "        print(f\"Logger Started at - {self}\")\n",
        "\n",
        "    def log(self, message):\n",
        "        print(f\"Logging - {message}\")\n",
        "\n",
        "class Service:\n",
        "    def __init__(self, logger: Logger = Depends(Logger)):\n",
        "        self.logger = logger\n",
        "        print(\"Service Starting\")\n",
        "        time.sleep(1)\n",
        "        print(f\"Service Started at - {self}\")\n",
        "\n",
        "    def do(self):\n",
        "        self.logger.log(\"Doing something\")\n",
        "        return f\"Do something, {random.random()}\"\n",
        "\n",
        "app = FastAPI()\n",
        "\n",
        "@app.get(\"/\")\n",
        "def get(service: Service = Depends(Service)):\n",
        "    return f\"{service.do()}\"\n",
        "\n",
        "if __name__ == \"__main__\":\n",
        "    import uvicorn\n",
        "    uvicorn.run(app, host=\"0.0.0.0\", port=8000)"
      ],
      "metadata": {
        "id": "8VHbsxENePUj"
      },
      "execution_count": 4,
      "outputs": []
    }
  ]
}