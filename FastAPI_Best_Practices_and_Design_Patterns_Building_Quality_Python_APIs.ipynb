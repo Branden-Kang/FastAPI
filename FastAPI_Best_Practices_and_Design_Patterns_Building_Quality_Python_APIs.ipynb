{
  "nbformat": 4,
  "nbformat_minor": 0,
  "metadata": {
    "colab": {
      "provenance": [],
      "authorship_tag": "ABX9TyP/iKqnLV0VpCd6IUu3gVuT"
    },
    "kernelspec": {
      "name": "python3",
      "display_name": "Python 3"
    },
    "language_info": {
      "name": "python"
    }
  },
  "cells": [
    {
      "cell_type": "markdown",
      "source": [
        "[Reference](https://medium.com/@lautisuarez081/fastapi-best-practices-and-design-patterns-building-quality-python-apis-31774ff3c28a)"
      ],
      "metadata": {
        "id": "iojnhQLCRPBr"
      }
    },
    {
      "cell_type": "code",
      "source": [
        "!pip install fastapi"
      ],
      "metadata": {
        "colab": {
          "base_uri": "https://localhost:8080/"
        },
        "id": "nt47JeIjRV1X",
        "outputId": "6ea79c9b-5a1b-4872-8a8f-c0d78ad7134c"
      },
      "execution_count": 2,
      "outputs": [
        {
          "output_type": "stream",
          "name": "stdout",
          "text": [
            "Collecting fastapi\n",
            "  Downloading fastapi-0.115.0-py3-none-any.whl.metadata (27 kB)\n",
            "Collecting starlette<0.39.0,>=0.37.2 (from fastapi)\n",
            "  Downloading starlette-0.38.5-py3-none-any.whl.metadata (6.0 kB)\n",
            "Requirement already satisfied: pydantic!=1.8,!=1.8.1,!=2.0.0,!=2.0.1,!=2.1.0,<3.0.0,>=1.7.4 in /usr/local/lib/python3.10/dist-packages (from fastapi) (2.9.1)\n",
            "Requirement already satisfied: typing-extensions>=4.8.0 in /usr/local/lib/python3.10/dist-packages (from fastapi) (4.12.2)\n",
            "Requirement already satisfied: annotated-types>=0.6.0 in /usr/local/lib/python3.10/dist-packages (from pydantic!=1.8,!=1.8.1,!=2.0.0,!=2.0.1,!=2.1.0,<3.0.0,>=1.7.4->fastapi) (0.7.0)\n",
            "Requirement already satisfied: pydantic-core==2.23.3 in /usr/local/lib/python3.10/dist-packages (from pydantic!=1.8,!=1.8.1,!=2.0.0,!=2.0.1,!=2.1.0,<3.0.0,>=1.7.4->fastapi) (2.23.3)\n",
            "Requirement already satisfied: anyio<5,>=3.4.0 in /usr/local/lib/python3.10/dist-packages (from starlette<0.39.0,>=0.37.2->fastapi) (3.7.1)\n",
            "Requirement already satisfied: idna>=2.8 in /usr/local/lib/python3.10/dist-packages (from anyio<5,>=3.4.0->starlette<0.39.0,>=0.37.2->fastapi) (3.10)\n",
            "Requirement already satisfied: sniffio>=1.1 in /usr/local/lib/python3.10/dist-packages (from anyio<5,>=3.4.0->starlette<0.39.0,>=0.37.2->fastapi) (1.3.1)\n",
            "Requirement already satisfied: exceptiongroup in /usr/local/lib/python3.10/dist-packages (from anyio<5,>=3.4.0->starlette<0.39.0,>=0.37.2->fastapi) (1.2.2)\n",
            "Downloading fastapi-0.115.0-py3-none-any.whl (94 kB)\n",
            "\u001b[2K   \u001b[90m━━━━━━━━━━━━━━━━━━━━━━━━━━━━━━━━━━━━━━━━\u001b[0m \u001b[32m94.6/94.6 kB\u001b[0m \u001b[31m5.8 MB/s\u001b[0m eta \u001b[36m0:00:00\u001b[0m\n",
            "\u001b[?25hDownloading starlette-0.38.5-py3-none-any.whl (71 kB)\n",
            "\u001b[2K   \u001b[90m━━━━━━━━━━━━━━━━━━━━━━━━━━━━━━━━━━━━━━━━\u001b[0m \u001b[32m71.4/71.4 kB\u001b[0m \u001b[31m4.1 MB/s\u001b[0m eta \u001b[36m0:00:00\u001b[0m\n",
            "\u001b[?25hInstalling collected packages: starlette, fastapi\n",
            "Successfully installed fastapi-0.115.0 starlette-0.38.5\n"
          ]
        }
      ]
    },
    {
      "cell_type": "code",
      "execution_count": 3,
      "metadata": {
        "colab": {
          "base_uri": "https://localhost:8080/",
          "height": 446
        },
        "id": "URpPtkieQMf7",
        "outputId": "852234b7-2639-4612-be01-cb03414ecf3c"
      },
      "outputs": [
        {
          "output_type": "error",
          "ename": "ModuleNotFoundError",
          "evalue": "No module named 'app'",
          "traceback": [
            "\u001b[0;31m---------------------------------------------------------------------------\u001b[0m",
            "\u001b[0;31mModuleNotFoundError\u001b[0m                       Traceback (most recent call last)",
            "\u001b[0;32m<ipython-input-3-a7ebd483a19e>\u001b[0m in \u001b[0;36m<cell line: 2>\u001b[0;34m()\u001b[0m\n\u001b[1;32m      1\u001b[0m \u001b[0;32mfrom\u001b[0m \u001b[0mfastapi\u001b[0m \u001b[0;32mimport\u001b[0m \u001b[0mAPIRouter\u001b[0m\u001b[0;34m\u001b[0m\u001b[0;34m\u001b[0m\u001b[0m\n\u001b[0;32m----> 2\u001b[0;31m \u001b[0;32mfrom\u001b[0m \u001b[0mapp\u001b[0m\u001b[0;34m.\u001b[0m\u001b[0mmodels\u001b[0m\u001b[0;34m.\u001b[0m\u001b[0muser\u001b[0m \u001b[0;32mimport\u001b[0m \u001b[0mUserCreate\u001b[0m\u001b[0;34m,\u001b[0m \u001b[0mUserRead\u001b[0m\u001b[0;34m\u001b[0m\u001b[0;34m\u001b[0m\u001b[0m\n\u001b[0m\u001b[1;32m      3\u001b[0m \u001b[0;32mfrom\u001b[0m \u001b[0mapp\u001b[0m\u001b[0;34m.\u001b[0m\u001b[0mdb\u001b[0m \u001b[0;32mimport\u001b[0m \u001b[0mdatabase\u001b[0m\u001b[0;34m\u001b[0m\u001b[0;34m\u001b[0m\u001b[0m\n\u001b[1;32m      4\u001b[0m \u001b[0;34m\u001b[0m\u001b[0m\n\u001b[1;32m      5\u001b[0m \u001b[0mrouter\u001b[0m \u001b[0;34m=\u001b[0m \u001b[0mAPIRouter\u001b[0m\u001b[0;34m(\u001b[0m\u001b[0;34m)\u001b[0m\u001b[0;34m\u001b[0m\u001b[0;34m\u001b[0m\u001b[0m\n",
            "\u001b[0;31mModuleNotFoundError\u001b[0m: No module named 'app'",
            "",
            "\u001b[0;31m---------------------------------------------------------------------------\u001b[0;32m\nNOTE: If your import is failing due to a missing package, you can\nmanually install dependencies using either !pip or !apt.\n\nTo view examples of installing some common dependencies, click the\n\"Open Examples\" button below.\n\u001b[0;31m---------------------------------------------------------------------------\u001b[0m\n"
          ],
          "errorDetails": {
            "actions": [
              {
                "action": "open_url",
                "actionText": "Open Examples",
                "url": "/notebooks/snippets/importing_libraries.ipynb"
              }
            ]
          }
        }
      ],
      "source": [
        "from fastapi import APIRouter\n",
        "from app.models.user import UserCreate, UserRead\n",
        "from app.db import database\n",
        "\n",
        "router = APIRouter()\n",
        "\n",
        "@router.post(\"/users\", response_model=UserRead)\n",
        "async def create_user(user: UserCreate):\n",
        "    # Data validation\n",
        "    if not user.email or not user.password:\n",
        "        raise ValueError(\"Email and password are required.\")\n",
        "\n",
        "    # Check if the user already exists\n",
        "    existing_user = database.fetch_one(\"SELECT * FROM users WHERE email = :email\", {\"email\": user.email})\n",
        "    if existing_user:\n",
        "        raise ValueError(\"User already exists.\")\n",
        "\n",
        "    # Create a new user in the database\n",
        "    new_user_id = database.execute(\"INSERT INTO users (email, password) VALUES (:email, :password)\", {\n",
        "        \"email\": user.email,\n",
        "        \"password\": user.password\n",
        "    })\n",
        "\n",
        "    # Get new user details\n",
        "    new_user = database.fetch_one(\"SELECT * FROM users WHERE id = :id\", {\"id\": new_user_id})\n",
        "\n",
        "    return new_user"
      ]
    },
    {
      "cell_type": "code",
      "source": [
        "# ------- REPOSITORY FILE -------\n",
        "from app.models.user import UserCreate, UserDB\n",
        "from app.db import database\n",
        "\n",
        "class UserRepository:\n",
        "    def __init__(self, db_session):\n",
        "        self.db_session = db_session\n",
        "\n",
        "    async def get_user_by_email(self, email: str) -> UserDB:\n",
        "        query = \"SELECT * FROM users WHERE email = :email\"\n",
        "        return await self.db_session.fetch_one(query, {\"email\": email})\n",
        "\n",
        "    async def add_user(self, user_data: UserCreate) -> int:\n",
        "        query = \"INSERT INTO users (email, password) VALUES (:email, :password) RETURNING id\"\n",
        "        values = {\"email\": user_data.email, \"password\": user_data.password}\n",
        "        new_user_id = await self.db_session.execute(query, values)\n",
        "        return new_user_id\n",
        "\n",
        "    async def get_user_by_id(self, user_id: int) -> UserDB:\n",
        "        query = \"SELECT * FROM users WHERE id = :id\"\n",
        "        return await self.db_session.fetch_one(query, {\"id\": user_id})\n",
        "\n",
        "\n",
        "# ------- SERVICE FILE -------\n",
        "from app.models.user import UserCreate, UserRead\n",
        "from app.repositories.user_repository import UserRepository\n",
        "\n",
        "class UserService:\n",
        "    def __init__(self, user_repository: UserRepository):\n",
        "        self.user_repository = user_repository\n",
        "\n",
        "    async def validate_user_data(self, user_data: UserCreate) -> None:\n",
        "        if not user_data.email or not user_data.password:\n",
        "            raise ValueError(\"Email and password are required.\")\n",
        "\n",
        "    async def check_user_exists(self, email: str) -> None:\n",
        "        existing_user = await self.user_repository.get_user_by_email(email)\n",
        "        if existing_user:\n",
        "            raise ValueError(\"User already exists.\")\n",
        "\n",
        "    async def create_user(self, user_data: UserCreate) -> UserRead:\n",
        "        # Business Logic Validation\n",
        "        await self.validate_user_data(user_data)\n",
        "        await self.check_user_exists(user_data.email)\n",
        "\n",
        "        new_user_id = await self.user_repository.add_user(user_data)\n",
        "\n",
        "        return await self.user_repository.get_user_by_id(new_user_id)\n",
        "\n",
        "\n",
        "# ------- USER ROUTER FILE -------\n",
        "from fastapi import APIRouter, Depends\n",
        "from app.models.user import UserCreate, UserRead\n",
        "from app.services.user_service import UserService\n",
        "from app.routers.dependencies import get_user_service\n",
        "\n",
        "router = APIRouter()\n",
        "\n",
        "@router.post(\"/users\", response_model=UserRead)\n",
        "async def create_user(user: UserCreate, user_service: UserService = Depends(get_user_service)):\n",
        "    return await user_service.create_user(user)"
      ],
      "metadata": {
        "id": "14mRVST0RS4L"
      },
      "execution_count": 5,
      "outputs": []
    },
    {
      "cell_type": "code",
      "source": [
        "from abc import ABC, abstractmethod\n",
        "from app.models.user import UserCreate, UserRead\n",
        "\n",
        "class IUserRepository(ABC):\n",
        "    @abstractmethod\n",
        "    async def get_user_by_email(self, email: str) -> UserRead:\n",
        "        pass\n",
        "\n",
        "    @abstractmethod\n",
        "    async def add_user(self, user_data: UserCreate) -> int:\n",
        "        pass\n",
        "\n",
        "    @abstractmethod\n",
        "    async def get_user_by_id(self, user_id: int) -> UserRead:\n",
        "        pass"
      ],
      "metadata": {
        "id": "H6sLNdBVRZEK"
      },
      "execution_count": 7,
      "outputs": []
    },
    {
      "cell_type": "code",
      "source": [
        "from app.models.user import UserCreate, UserRead\n",
        "from app.db import database\n",
        "from app.repositories.user_repository_interface import IUserRepository\n",
        "\n",
        "class UserRepository(IUserRepository):\n",
        "    def __init__(self, db_session):\n",
        "        self.db_session = db_session\n",
        "\n",
        "    async def get_user_by_email(self, email: str) -> UserRead:\n",
        "        query = \"SELECT * FROM users WHERE email = :email\"\n",
        "        return await self.db_session.fetch_one(query, {\"email\": email})\n",
        "\n",
        "    async def add_user(self, user_data: UserCreate) -> int:\n",
        "        query = \"INSERT INTO users (email, password) VALUES (:email, :password) RETURNING id\"\n",
        "        values = {\"email\": user_data.email, \"password\": user_data.password}\n",
        "        new_user_id = await self.db_session.execute(query, values)\n",
        "        return new_user_id\n",
        "\n",
        "    async def get_user_by_id(self, user_id: int) -> UserRead:\n",
        "        query = \"SELECT * FROM users WHERE id = :id\"\n",
        "        return await self.db_session.fetch_one(query, {\"id\": user_id})"
      ],
      "metadata": {
        "id": "rGOzzKwYRe6A"
      },
      "execution_count": 8,
      "outputs": []
    },
    {
      "cell_type": "code",
      "source": [
        "from app.models.user import UserCreate, UserRead\n",
        "from app.repositories.user_repository_interface import IUserRepository\n",
        "\n",
        "class UserService:\n",
        "    def __init__(self, user_repository: IUserRepository):\n",
        "        self.user_repository = user_repository\n",
        "\n",
        "    async def validate_user_data(self, user_data: UserCreate) -> None:\n",
        "        if not user_data.email or not user_data.password:\n",
        "            raise ValueError(\"Email and password are required.\")\n",
        "\n",
        "    async def check_user_exists(self, email: str) -> None:\n",
        "        existing_user = await self.user_repository.get_user_by_email(email)\n",
        "        if existing_user:\n",
        "            raise ValueError(\"User already exists.\")\n",
        "\n",
        "    async def create_user(self, user_data: UserCreate) -> UserRead:\n",
        "        await self.validate_user_data(user_data)\n",
        "        await self.check_user_exists(user_data.email)\n",
        "        new_user_id = await self.user_repository.add_user(user_data)\n",
        "        new_user = await self.user_repository.get_user_by_id(new_user_id)\n",
        "        return new_user"
      ],
      "metadata": {
        "id": "OW0saWR-Rk1y"
      },
      "execution_count": 9,
      "outputs": []
    },
    {
      "cell_type": "code",
      "source": [
        "# 1. Data Access Object (DAO)\n",
        "from app.models.user import UserCreate, UserRead\n",
        "from app.repositories.user_repository_interface import IUserRepository\n",
        "\n",
        "class UserService:\n",
        "    def __init__(self, user_repository: IUserRepository):\n",
        "        self.user_repository = user_repository\n",
        "\n",
        "    async def validate_user_data(self, user_data: UserCreate) -> None:\n",
        "        if not user_data.email or not user_data.password:\n",
        "            raise ValueError(\"Email and password are required.\")\n",
        "\n",
        "    async def check_user_exists(self, email: str) -> None:\n",
        "        existing_user = await self.user_repository.get_user_by_email(email)\n",
        "        if existing_user:\n",
        "            raise ValueError(\"User already exists.\")\n",
        "\n",
        "    async def create_user(self, user_data: UserCreate) -> UserRead:\n",
        "        await self.validate_user_data(user_data)\n",
        "        await self.check_user_exists(user_data.email)\n",
        "        new_user_id = await self.user_repository.add_user(user_data)\n",
        "        new_user = await self.user_repository.get_user_by_id(new_user_id)\n",
        "        return new_user"
      ],
      "metadata": {
        "id": "gFWFUAwVRnOo"
      },
      "execution_count": 10,
      "outputs": []
    },
    {
      "cell_type": "code",
      "source": [
        "# 2. Service Layer\n",
        "from app.models.user import UserCreate, UserRead\n",
        "from app.repositories.user_repository_interface import IUserRepository\n",
        "\n",
        "class UserService:\n",
        "    def __init__(self, user_repository: IUserRepository):\n",
        "        self.user_repository = user_repository\n",
        "\n",
        "    async def validate_user_data(self, user_data: UserCreate) -> None:\n",
        "        if not user_data.email or not user_data.password:\n",
        "            raise ValueError(\"Email and password are required.\")\n",
        "\n",
        "    async def check_user_exists(self, email: str) -> None:\n",
        "        existing_user = await self.user_repository.get_user_by_email(email)\n",
        "        if existing_user:\n",
        "            raise ValueError(\"User already exists.\")\n",
        "\n",
        "    async def create_user(self, user_data: UserCreate) -> UserRead:\n",
        "        await self.validate_user_data(user_data)\n",
        "        await self.check_user_exists(user_data.email)\n",
        "        new_user_id = await self.user_repository.add_user(user_data)\n",
        "        new_user = await self.user_repository.get_user_by_id(new_user_id)\n",
        "        return new_user"
      ],
      "metadata": {
        "id": "Ezs7rwGXRqe1"
      },
      "execution_count": 11,
      "outputs": []
    }
  ]
}