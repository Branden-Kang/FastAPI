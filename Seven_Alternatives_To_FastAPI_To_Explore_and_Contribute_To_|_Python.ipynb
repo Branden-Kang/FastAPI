{
  "nbformat": 4,
  "nbformat_minor": 0,
  "metadata": {
    "colab": {
      "provenance": [],
      "authorship_tag": "ABX9TyOzmC+nAnsUb07asA/q/2lc"
    },
    "kernelspec": {
      "name": "python3",
      "display_name": "Python 3"
    },
    "language_info": {
      "name": "python"
    }
  },
  "cells": [
    {
      "cell_type": "markdown",
      "source": [
        "[Reference](https://medium.com/@carlosmarcano2704/seven-alternatives-to-fastapi-to-explore-and-contribute-python-47bcd394bf31)"
      ],
      "metadata": {
        "id": "T-Ixq6bS2PK0"
      }
    },
    {
      "cell_type": "markdown",
      "source": [
        "# Robyn"
      ],
      "metadata": {
        "id": "II7AWTfh2S_b"
      }
    },
    {
      "cell_type": "code",
      "source": [
        "from robyn import Robyn\n",
        "\n",
        "app = Robyn(__file__)\n",
        "\n",
        "@app.get(\"/\")\n",
        "async def h(request):\n",
        "    return \"Hello, world!\"\n",
        "\n",
        "app.start(port=8080)"
      ],
      "metadata": {
        "id": "opNmRMDQ2PcR"
      },
      "execution_count": 1,
      "outputs": []
    },
    {
      "cell_type": "markdown",
      "source": [
        "```\n",
        "python3 app.py\n",
        "```"
      ],
      "metadata": {
        "id": "_Ga_bfIG2WEK"
      }
    },
    {
      "cell_type": "markdown",
      "source": [
        "# Blacksheep"
      ],
      "metadata": {
        "id": "bHuKILNX2X07"
      }
    },
    {
      "cell_type": "code",
      "source": [
        "pip install blacksheep uvicorn"
      ],
      "metadata": {
        "colab": {
          "base_uri": "https://localhost:8080/"
        },
        "id": "iZXHik-i2PZI",
        "outputId": "0be9ab93-0056-4490-dfbe-353c6d8befdf"
      },
      "execution_count": 2,
      "outputs": [
        {
          "output_type": "stream",
          "name": "stdout",
          "text": [
            "Collecting blacksheep\n",
            "  Downloading blacksheep-2.0.3-cp310-cp310-manylinux_2_17_x86_64.manylinux2014_x86_64.whl (4.3 MB)\n",
            "\u001b[2K     \u001b[90m━━━━━━━━━━━━━━━━━━━━━━━━━━━━━━━━━━━━━━━━\u001b[0m \u001b[32m4.3/4.3 MB\u001b[0m \u001b[31m5.3 MB/s\u001b[0m eta \u001b[36m0:00:00\u001b[0m\n",
            "\u001b[?25hCollecting uvicorn\n",
            "  Downloading uvicorn-0.25.0-py3-none-any.whl (60 kB)\n",
            "\u001b[2K     \u001b[90m━━━━━━━━━━━━━━━━━━━━━━━━━━━━━━━━━━━━━━━━\u001b[0m \u001b[32m60.3/60.3 kB\u001b[0m \u001b[31m7.1 MB/s\u001b[0m eta \u001b[36m0:00:00\u001b[0m\n",
            "\u001b[?25hCollecting httptools>=0.5 (from blacksheep)\n",
            "  Downloading httptools-0.6.1-cp310-cp310-manylinux_2_5_x86_64.manylinux1_x86_64.manylinux_2_17_x86_64.manylinux2014_x86_64.whl (341 kB)\n",
            "\u001b[2K     \u001b[90m━━━━━━━━━━━━━━━━━━━━━━━━━━━━━━━━━━━━━━━━\u001b[0m \u001b[32m341.4/341.4 kB\u001b[0m \u001b[31m25.4 MB/s\u001b[0m eta \u001b[36m0:00:00\u001b[0m\n",
            "\u001b[?25hRequirement already satisfied: certifi>=2022.9.24 in /usr/local/lib/python3.10/dist-packages (from blacksheep) (2023.11.17)\n",
            "Collecting charset-normalizer~=3.1.0 (from blacksheep)\n",
            "  Downloading charset_normalizer-3.1.0-cp310-cp310-manylinux_2_17_x86_64.manylinux2014_x86_64.whl (199 kB)\n",
            "\u001b[2K     \u001b[90m━━━━━━━━━━━━━━━━━━━━━━━━━━━━━━━━━━━━━━━━\u001b[0m \u001b[32m199.3/199.3 kB\u001b[0m \u001b[31m23.0 MB/s\u001b[0m eta \u001b[36m0:00:00\u001b[0m\n",
            "\u001b[?25hCollecting guardpost>=1.0.2 (from blacksheep)\n",
            "  Downloading guardpost-1.0.2-py3-none-any.whl (16 kB)\n",
            "Collecting rodi~=2.0.2 (from blacksheep)\n",
            "  Downloading rodi-2.0.6-py3-none-any.whl (11 kB)\n",
            "Collecting essentials<2.0,>=1.1.4 (from blacksheep)\n",
            "  Downloading essentials-1.1.5-py3-none-any.whl (13 kB)\n",
            "Collecting essentials-openapi<1.1,>=1.0.6 (from blacksheep)\n",
            "  Downloading essentials_openapi-1.0.9-py3-none-any.whl (48 kB)\n",
            "\u001b[2K     \u001b[90m━━━━━━━━━━━━━━━━━━━━━━━━━━━━━━━━━━━━━━━━\u001b[0m \u001b[32m48.1/48.1 kB\u001b[0m \u001b[31m5.8 MB/s\u001b[0m eta \u001b[36m0:00:00\u001b[0m\n",
            "\u001b[?25hRequirement already satisfied: python-dateutil~=2.8.2 in /usr/local/lib/python3.10/dist-packages (from blacksheep) (2.8.2)\n",
            "Requirement already satisfied: itsdangerous~=2.1.2 in /usr/local/lib/python3.10/dist-packages (from blacksheep) (2.1.2)\n",
            "Requirement already satisfied: click>=7.0 in /usr/local/lib/python3.10/dist-packages (from uvicorn) (8.1.7)\n",
            "Collecting h11>=0.8 (from uvicorn)\n",
            "  Downloading h11-0.14.0-py3-none-any.whl (58 kB)\n",
            "\u001b[2K     \u001b[90m━━━━━━━━━━━━━━━━━━━━━━━━━━━━━━━━━━━━━━━━\u001b[0m \u001b[32m58.3/58.3 kB\u001b[0m \u001b[31m7.1 MB/s\u001b[0m eta \u001b[36m0:00:00\u001b[0m\n",
            "\u001b[?25hRequirement already satisfied: typing-extensions>=4.0 in /usr/local/lib/python3.10/dist-packages (from uvicorn) (4.5.0)\n",
            "Requirement already satisfied: markupsafe~=2.1.2 in /usr/local/lib/python3.10/dist-packages (from essentials-openapi<1.1,>=1.0.6->blacksheep) (2.1.3)\n",
            "Requirement already satisfied: pyyaml>=6 in /usr/local/lib/python3.10/dist-packages (from essentials-openapi<1.1,>=1.0.6->blacksheep) (6.0.1)\n",
            "Requirement already satisfied: six>=1.5 in /usr/local/lib/python3.10/dist-packages (from python-dateutil~=2.8.2->blacksheep) (1.16.0)\n",
            "Installing collected packages: essentials, rodi, httptools, h11, essentials-openapi, charset-normalizer, uvicorn, guardpost, blacksheep\n",
            "  Attempting uninstall: charset-normalizer\n",
            "    Found existing installation: charset-normalizer 3.3.2\n",
            "    Uninstalling charset-normalizer-3.3.2:\n",
            "      Successfully uninstalled charset-normalizer-3.3.2\n",
            "\u001b[31mERROR: pip's dependency resolver does not currently take into account all the packages that are installed. This behaviour is the source of the following dependency conflicts.\n",
            "lida 0.0.10 requires fastapi, which is not installed.\n",
            "lida 0.0.10 requires kaleido, which is not installed.\n",
            "lida 0.0.10 requires python-multipart, which is not installed.\u001b[0m\u001b[31m\n",
            "\u001b[0mSuccessfully installed blacksheep-2.0.3 charset-normalizer-3.1.0 essentials-1.1.5 essentials-openapi-1.0.9 guardpost-1.0.2 h11-0.14.0 httptools-0.6.1 rodi-2.0.6 uvicorn-0.25.0\n"
          ]
        }
      ]
    },
    {
      "cell_type": "code",
      "execution_count": 3,
      "metadata": {
        "id": "XlphQ47x1ftU"
      },
      "outputs": [],
      "source": [
        "from datetime import datetime\n",
        "from blacksheep import Application\n",
        "\n",
        "\n",
        "app = Application()\n",
        "\n",
        "@app.route(\"/\")\n",
        "def home():\n",
        "    return f\"Hello, World! {datetime.utcnow().isoformat()}\""
      ]
    },
    {
      "cell_type": "markdown",
      "source": [
        "```\n",
        "uvicorn server:app --port 44777 --reload\n",
        "```"
      ],
      "metadata": {
        "id": "WqGuBULu2eQ_"
      }
    },
    {
      "cell_type": "markdown",
      "source": [
        "# LiteStar"
      ],
      "metadata": {
        "id": "WF30ToRp2hIu"
      }
    },
    {
      "cell_type": "code",
      "source": [
        "pip install litestar[standard]"
      ],
      "metadata": {
        "colab": {
          "base_uri": "https://localhost:8080/"
        },
        "id": "04eujSfr2dcW",
        "outputId": "8ccfa843-8c4a-417f-8d06-1d1d54da5b1c"
      },
      "execution_count": 4,
      "outputs": [
        {
          "output_type": "stream",
          "name": "stdout",
          "text": [
            "Collecting litestar[standard]\n",
            "  Downloading litestar-2.4.5-py3-none-any.whl (491 kB)\n",
            "\u001b[2K     \u001b[90m━━━━━━━━━━━━━━━━━━━━━━━━━━━━━━━━━━━━━━━━\u001b[0m \u001b[32m492.0/492.0 kB\u001b[0m \u001b[31m6.6 MB/s\u001b[0m eta \u001b[36m0:00:00\u001b[0m\n",
            "\u001b[?25hRequirement already satisfied: anyio>=3 in /usr/local/lib/python3.10/dist-packages (from litestar[standard]) (3.7.1)\n",
            "Requirement already satisfied: click in /usr/local/lib/python3.10/dist-packages (from litestar[standard]) (8.1.7)\n",
            "Collecting httpx>=0.22 (from litestar[standard])\n",
            "  Downloading httpx-0.26.0-py3-none-any.whl (75 kB)\n",
            "\u001b[2K     \u001b[90m━━━━━━━━━━━━━━━━━━━━━━━━━━━━━━━━━━━━━━━━\u001b[0m \u001b[32m75.9/75.9 kB\u001b[0m \u001b[31m9.7 MB/s\u001b[0m eta \u001b[36m0:00:00\u001b[0m\n",
            "\u001b[?25hCollecting msgspec>=0.18.2 (from litestar[standard])\n",
            "  Downloading msgspec-0.18.5-cp310-cp310-manylinux_2_17_x86_64.manylinux2014_x86_64.whl (203 kB)\n",
            "\u001b[2K     \u001b[90m━━━━━━━━━━━━━━━━━━━━━━━━━━━━━━━━━━━━━━━━\u001b[0m \u001b[32m203.9/203.9 kB\u001b[0m \u001b[31m11.3 MB/s\u001b[0m eta \u001b[36m0:00:00\u001b[0m\n",
            "\u001b[?25hRequirement already satisfied: multidict>=6.0.2 in /usr/local/lib/python3.10/dist-packages (from litestar[standard]) (6.0.4)\n",
            "Collecting polyfactory>=2.6.3 (from litestar[standard])\n",
            "  Downloading polyfactory-2.13.0-py3-none-any.whl (55 kB)\n",
            "\u001b[2K     \u001b[90m━━━━━━━━━━━━━━━━━━━━━━━━━━━━━━━━━━━━━━━━\u001b[0m \u001b[32m55.2/55.2 kB\u001b[0m \u001b[31m6.9 MB/s\u001b[0m eta \u001b[36m0:00:00\u001b[0m\n",
            "\u001b[?25hRequirement already satisfied: pyyaml in /usr/local/lib/python3.10/dist-packages (from litestar[standard]) (6.0.1)\n",
            "Collecting rich-click (from litestar[standard])\n",
            "  Downloading rich_click-1.7.2-py3-none-any.whl (32 kB)\n",
            "Requirement already satisfied: rich>=13.0.0 in /usr/local/lib/python3.10/dist-packages (from litestar[standard]) (13.7.0)\n",
            "Requirement already satisfied: typing-extensions in /usr/local/lib/python3.10/dist-packages (from litestar[standard]) (4.5.0)\n",
            "Collecting fast-query-parsers>=1.0.2 (from litestar[standard])\n",
            "  Downloading fast_query_parsers-1.0.3-cp38-abi3-manylinux_2_17_x86_64.manylinux2014_x86_64.whl (828 kB)\n",
            "\u001b[2K     \u001b[90m━━━━━━━━━━━━━━━━━━━━━━━━━━━━━━━━━━━━━━━━\u001b[0m \u001b[32m828.6/828.6 kB\u001b[0m \u001b[31m17.6 MB/s\u001b[0m eta \u001b[36m0:00:00\u001b[0m\n",
            "\u001b[?25hRequirement already satisfied: jinja2 in /usr/local/lib/python3.10/dist-packages (from litestar[standard]) (3.1.2)\n",
            "Collecting jsbeautifier (from litestar[standard])\n",
            "  Downloading jsbeautifier-1.14.11.tar.gz (75 kB)\n",
            "\u001b[2K     \u001b[90m━━━━━━━━━━━━━━━━━━━━━━━━━━━━━━━━━━━━━━━━\u001b[0m \u001b[32m75.6/75.6 kB\u001b[0m \u001b[31m9.8 MB/s\u001b[0m eta \u001b[36m0:00:00\u001b[0m\n",
            "\u001b[?25h  Installing build dependencies ... \u001b[?25l\u001b[?25hdone\n",
            "  Getting requirements to build wheel ... \u001b[?25l\u001b[?25hdone\n",
            "  Preparing metadata (pyproject.toml) ... \u001b[?25l\u001b[?25hdone\n",
            "Requirement already satisfied: uvicorn[standard] in /usr/local/lib/python3.10/dist-packages (from litestar[standard]) (0.25.0)\n",
            "Collecting uvloop>=0.18.0 (from litestar[standard])\n",
            "  Downloading uvloop-0.19.0-cp310-cp310-manylinux_2_17_x86_64.manylinux2014_x86_64.whl (3.4 MB)\n",
            "\u001b[2K     \u001b[90m━━━━━━━━━━━━━━━━━━━━━━━━━━━━━━━━━━━━━━━━\u001b[0m \u001b[32m3.4/3.4 MB\u001b[0m \u001b[31m31.3 MB/s\u001b[0m eta \u001b[36m0:00:00\u001b[0m\n",
            "\u001b[?25hRequirement already satisfied: idna>=2.8 in /usr/local/lib/python3.10/dist-packages (from anyio>=3->litestar[standard]) (3.6)\n",
            "Requirement already satisfied: sniffio>=1.1 in /usr/local/lib/python3.10/dist-packages (from anyio>=3->litestar[standard]) (1.3.0)\n",
            "Requirement already satisfied: exceptiongroup in /usr/local/lib/python3.10/dist-packages (from anyio>=3->litestar[standard]) (1.2.0)\n",
            "Requirement already satisfied: certifi in /usr/local/lib/python3.10/dist-packages (from httpx>=0.22->litestar[standard]) (2023.11.17)\n",
            "Collecting httpcore==1.* (from httpx>=0.22->litestar[standard])\n",
            "  Downloading httpcore-1.0.2-py3-none-any.whl (76 kB)\n",
            "\u001b[2K     \u001b[90m━━━━━━━━━━━━━━━━━━━━━━━━━━━━━━━━━━━━━━━━\u001b[0m \u001b[32m76.9/76.9 kB\u001b[0m \u001b[31m9.5 MB/s\u001b[0m eta \u001b[36m0:00:00\u001b[0m\n",
            "\u001b[?25hRequirement already satisfied: h11<0.15,>=0.13 in /usr/local/lib/python3.10/dist-packages (from httpcore==1.*->httpx>=0.22->litestar[standard]) (0.14.0)\n",
            "Collecting faker (from polyfactory>=2.6.3->litestar[standard])\n",
            "  Downloading Faker-21.0.0-py3-none-any.whl (1.7 MB)\n",
            "\u001b[2K     \u001b[90m━━━━━━━━━━━━━━━━━━━━━━━━━━━━━━━━━━━━━━━━\u001b[0m \u001b[32m1.7/1.7 MB\u001b[0m \u001b[31m46.6 MB/s\u001b[0m eta \u001b[36m0:00:00\u001b[0m\n",
            "\u001b[?25hRequirement already satisfied: markdown-it-py>=2.2.0 in /usr/local/lib/python3.10/dist-packages (from rich>=13.0.0->litestar[standard]) (3.0.0)\n",
            "Requirement already satisfied: pygments<3.0.0,>=2.13.0 in /usr/local/lib/python3.10/dist-packages (from rich>=13.0.0->litestar[standard]) (2.16.1)\n",
            "Requirement already satisfied: MarkupSafe>=2.0 in /usr/local/lib/python3.10/dist-packages (from jinja2->litestar[standard]) (2.1.3)\n",
            "Requirement already satisfied: six>=1.13.0 in /usr/local/lib/python3.10/dist-packages (from jsbeautifier->litestar[standard]) (1.16.0)\n",
            "Collecting editorconfig>=0.12.2 (from jsbeautifier->litestar[standard])\n",
            "  Downloading EditorConfig-0.12.3-py3-none-any.whl (16 kB)\n",
            "Requirement already satisfied: httptools>=0.5.0 in /usr/local/lib/python3.10/dist-packages (from uvicorn[standard]->litestar[standard]) (0.6.1)\n",
            "Collecting python-dotenv>=0.13 (from uvicorn[standard]->litestar[standard])\n",
            "  Downloading python_dotenv-1.0.0-py3-none-any.whl (19 kB)\n",
            "Collecting watchfiles>=0.13 (from uvicorn[standard]->litestar[standard])\n",
            "  Downloading watchfiles-0.21.0-cp310-cp310-manylinux_2_17_x86_64.manylinux2014_x86_64.whl (1.3 MB)\n",
            "\u001b[2K     \u001b[90m━━━━━━━━━━━━━━━━━━━━━━━━━━━━━━━━━━━━━━━━\u001b[0m \u001b[32m1.3/1.3 MB\u001b[0m \u001b[31m50.4 MB/s\u001b[0m eta \u001b[36m0:00:00\u001b[0m\n",
            "\u001b[?25hCollecting websockets>=10.4 (from uvicorn[standard]->litestar[standard])\n",
            "  Downloading websockets-12.0-cp310-cp310-manylinux_2_5_x86_64.manylinux1_x86_64.manylinux_2_17_x86_64.manylinux2014_x86_64.whl (130 kB)\n",
            "\u001b[2K     \u001b[90m━━━━━━━━━━━━━━━━━━━━━━━━━━━━━━━━━━━━━━━━\u001b[0m \u001b[32m130.2/130.2 kB\u001b[0m \u001b[31m15.9 MB/s\u001b[0m eta \u001b[36m0:00:00\u001b[0m\n",
            "\u001b[?25hRequirement already satisfied: mdurl~=0.1 in /usr/local/lib/python3.10/dist-packages (from markdown-it-py>=2.2.0->rich>=13.0.0->litestar[standard]) (0.1.2)\n",
            "Requirement already satisfied: python-dateutil>=2.4 in /usr/local/lib/python3.10/dist-packages (from faker->polyfactory>=2.6.3->litestar[standard]) (2.8.2)\n",
            "Building wheels for collected packages: jsbeautifier\n",
            "  Building wheel for jsbeautifier (pyproject.toml) ... \u001b[?25l\u001b[?25hdone\n",
            "  Created wheel for jsbeautifier: filename=jsbeautifier-1.14.11-py3-none-any.whl size=94685 sha256=b622117a0c23cfa6aad65d4736d1dbb6a2a972cd323b8c9603b24c87f94a5bf2\n",
            "  Stored in directory: /root/.cache/pip/wheels/82/3b/fd/d6ed4d0751dfbbf312941f1ff830a41407b8d827a89a085181\n",
            "Successfully built jsbeautifier\n",
            "Installing collected packages: editorconfig, websockets, uvloop, python-dotenv, msgspec, jsbeautifier, httpcore, fast-query-parsers, watchfiles, httpx, faker, rich-click, polyfactory, litestar\n",
            "Successfully installed editorconfig-0.12.3 faker-21.0.0 fast-query-parsers-1.0.3 httpcore-1.0.2 httpx-0.26.0 jsbeautifier-1.14.11 litestar-2.4.5 msgspec-0.18.5 polyfactory-2.13.0 python-dotenv-1.0.0 rich-click-1.7.2 uvloop-0.19.0 watchfiles-0.21.0 websockets-12.0\n"
          ]
        }
      ]
    },
    {
      "cell_type": "code",
      "source": [
        "from litestar import Litestar, get\n",
        "\n",
        "\n",
        "@get(\"/\")\n",
        "async def index() -> str:\n",
        "    return \"Hello, world!\"\n",
        "\n",
        "\n",
        "@get(\"/books/{book_id:int}\")\n",
        "async def get_book(book_id: int) -> dict[str, int]:\n",
        "    return {\"book_id\": book_id}\n",
        "\n",
        "\n",
        "app = Litestar([index, get_book])"
      ],
      "metadata": {
        "id": "rAAT5qUB2iOR"
      },
      "execution_count": 5,
      "outputs": []
    },
    {
      "cell_type": "markdown",
      "source": [
        "# Sanic"
      ],
      "metadata": {
        "id": "DqCXbUSY2m2r"
      }
    },
    {
      "cell_type": "code",
      "source": [
        "pip install sanic"
      ],
      "metadata": {
        "colab": {
          "base_uri": "https://localhost:8080/"
        },
        "id": "hwSeiHuL2kcX",
        "outputId": "7f898068-11f1-4457-afa4-0c1dbdb11fe1"
      },
      "execution_count": 6,
      "outputs": [
        {
          "output_type": "stream",
          "name": "stdout",
          "text": [
            "Collecting sanic\n",
            "  Downloading sanic-23.6.0-py3-none-any.whl (202 kB)\n",
            "\u001b[?25l     \u001b[90m━━━━━━━━━━━━━━━━━━━━━━━━━━━━━━━━━━━━━━━━\u001b[0m \u001b[32m0.0/202.5 kB\u001b[0m \u001b[31m?\u001b[0m eta \u001b[36m-:--:--\u001b[0m\r\u001b[2K     \u001b[91m━━━━━━━━━━━━━━━━━━━━━━\u001b[0m\u001b[90m╺\u001b[0m\u001b[90m━━━━━━━━━━━━━━━━━\u001b[0m \u001b[32m112.6/202.5 kB\u001b[0m \u001b[31m3.2 MB/s\u001b[0m eta \u001b[36m0:00:01\u001b[0m\r\u001b[2K     \u001b[90m━━━━━━━━━━━━━━━━━━━━━━━━━━━━━━━━━━━━━━━━\u001b[0m \u001b[32m202.5/202.5 kB\u001b[0m \u001b[31m3.9 MB/s\u001b[0m eta \u001b[36m0:00:00\u001b[0m\n",
            "\u001b[?25hCollecting sanic-routing>=23.6.0 (from sanic)\n",
            "  Downloading sanic_routing-23.6.0-py3-none-any.whl (25 kB)\n",
            "Requirement already satisfied: httptools>=0.0.10 in /usr/local/lib/python3.10/dist-packages (from sanic) (0.6.1)\n",
            "Collecting aiofiles>=0.6.0 (from sanic)\n",
            "  Downloading aiofiles-23.2.1-py3-none-any.whl (15 kB)\n",
            "Requirement already satisfied: websockets>=10.0 in /usr/local/lib/python3.10/dist-packages (from sanic) (12.0)\n",
            "Requirement already satisfied: multidict<7.0,>=5.0 in /usr/local/lib/python3.10/dist-packages (from sanic) (6.0.4)\n",
            "Collecting html5tagger>=1.2.1 (from sanic)\n",
            "  Downloading html5tagger-1.3.0-py3-none-any.whl (10 kB)\n",
            "Collecting tracerite>=1.0.0 (from sanic)\n",
            "  Downloading tracerite-1.1.1-py3-none-any.whl (12 kB)\n",
            "Requirement already satisfied: typing-extensions>=4.4.0 in /usr/local/lib/python3.10/dist-packages (from sanic) (4.5.0)\n",
            "Requirement already satisfied: uvloop>=0.15.0 in /usr/local/lib/python3.10/dist-packages (from sanic) (0.19.0)\n",
            "Collecting ujson>=1.35 (from sanic)\n",
            "  Downloading ujson-5.9.0-cp310-cp310-manylinux_2_17_x86_64.manylinux2014_x86_64.whl (53 kB)\n",
            "\u001b[2K     \u001b[90m━━━━━━━━━━━━━━━━━━━━━━━━━━━━━━━━━━━━━━━━\u001b[0m \u001b[32m53.2/53.2 kB\u001b[0m \u001b[31m6.7 MB/s\u001b[0m eta \u001b[36m0:00:00\u001b[0m\n",
            "\u001b[?25hInstalling collected packages: sanic-routing, ujson, html5tagger, aiofiles, tracerite, sanic\n",
            "Successfully installed aiofiles-23.2.1 html5tagger-1.3.0 sanic-23.6.0 sanic-routing-23.6.0 tracerite-1.1.1 ujson-5.9.0\n"
          ]
        }
      ]
    },
    {
      "cell_type": "code",
      "source": [
        "from sanic import Sanic\n",
        "from sanic.response import text\n",
        "\n",
        "app = Sanic(\"MyHelloWorldApp\")\n",
        "\n",
        "@app.get(\"/\")\n",
        "async def hello_world(request):\n",
        "    return text(\"Hello, world.\")"
      ],
      "metadata": {
        "id": "Um61JzAz2oX4"
      },
      "execution_count": 7,
      "outputs": []
    },
    {
      "cell_type": "markdown",
      "source": [
        "```\n",
        "sanic server\n",
        "```"
      ],
      "metadata": {
        "id": "Dbyf0ioJ2rDI"
      }
    },
    {
      "cell_type": "markdown",
      "source": [
        "# Falcon"
      ],
      "metadata": {
        "id": "YcXz1CQF2smp"
      }
    },
    {
      "cell_type": "code",
      "source": [
        "!pip install falcon, uvicorn"
      ],
      "metadata": {
        "colab": {
          "base_uri": "https://localhost:8080/"
        },
        "id": "7WaVIH352pcR",
        "outputId": "740b8de1-a334-423f-9456-774dc5bc2dcd"
      },
      "execution_count": 9,
      "outputs": [
        {
          "output_type": "stream",
          "name": "stdout",
          "text": [
            "\u001b[31mERROR: Invalid requirement: 'falcon,'\u001b[0m\u001b[31m\n",
            "\u001b[0m"
          ]
        }
      ]
    },
    {
      "cell_type": "code",
      "source": [
        "import falcon\n",
        "import falcon.asgi\n",
        "\n",
        "\n",
        "# Falcon follows the REST architectural style, meaning (among\n",
        "# other things) that you think in terms of resources and state\n",
        "# transitions, which map to HTTP verbs.\n",
        "class ThingsResource:\n",
        "    async def on_get(self, req, resp):\n",
        "        \"\"\"Handles GET requests\"\"\"\n",
        "        resp.status = falcon.HTTP_200  # This is the default status\n",
        "        resp.content_type = falcon.MEDIA_TEXT  # Default is JSON, so override\n",
        "        resp.text = (\n",
        "            '\\nTwo things awe me most, the starry sky '\n",
        "            'above me and the moral law within me.\\n'\n",
        "            '\\n'\n",
        "            '    ~ Immanuel Kant\\n\\n'\n",
        "        )\n",
        "\n",
        "\n",
        "# falcon.asgi.App instances are callable ASGI apps...\n",
        "# in larger applications the app is created in a separate file\n",
        "app = falcon.asgi.App()\n",
        "\n",
        "# Resources are represented by long-lived class instances\n",
        "things = ThingsResource()\n",
        "\n",
        "# things will handle all requests to the '/things' URL path\n",
        "app.add_route('/things', things)"
      ],
      "metadata": {
        "id": "82-7f7FC2ttr"
      },
      "execution_count": 10,
      "outputs": []
    },
    {
      "cell_type": "markdown",
      "source": [
        "```\n",
        "uvicorn server:app\n",
        "```"
      ],
      "metadata": {
        "id": "KjpZfW_m2yMM"
      }
    },
    {
      "cell_type": "markdown",
      "source": [
        "# Emmett"
      ],
      "metadata": {
        "id": "9cJXhN1e20I_"
      }
    },
    {
      "cell_type": "code",
      "source": [
        "pip install emmett"
      ],
      "metadata": {
        "colab": {
          "base_uri": "https://localhost:8080/"
        },
        "id": "9J45aE4t2w_p",
        "outputId": "205577cc-64e4-4e34-90a6-018531227d25"
      },
      "execution_count": 11,
      "outputs": [
        {
          "output_type": "stream",
          "name": "stdout",
          "text": [
            "Collecting emmett\n",
            "  Downloading emmett-2.5.7-py3-none-any.whl (450 kB)\n",
            "\u001b[2K     \u001b[90m━━━━━━━━━━━━━━━━━━━━━━━━━━━━━━━━━━━━━━━━\u001b[0m \u001b[32m450.3/450.3 kB\u001b[0m \u001b[31m8.7 MB/s\u001b[0m eta \u001b[36m0:00:00\u001b[0m\n",
            "\u001b[?25hRequirement already satisfied: click>=6.0 in /usr/local/lib/python3.10/dist-packages (from emmett) (8.1.7)\n",
            "Collecting emmett-crypto<0.6,>=0.5 (from emmett)\n",
            "  Downloading emmett_crypto-0.5.1-cp310-cp310-manylinux_2_17_x86_64.manylinux2014_x86_64.whl (660 kB)\n",
            "\u001b[2K     \u001b[90m━━━━━━━━━━━━━━━━━━━━━━━━━━━━━━━━━━━━━━━━\u001b[0m \u001b[32m660.7/660.7 kB\u001b[0m \u001b[31m20.5 MB/s\u001b[0m eta \u001b[36m0:00:00\u001b[0m\n",
            "\u001b[?25hCollecting granian<0.8.0,>=0.7.0 (from emmett)\n",
            "  Downloading granian-0.7.3-cp310-cp310-manylinux_2_17_x86_64.manylinux2014_x86_64.whl (2.2 MB)\n",
            "\u001b[2K     \u001b[90m━━━━━━━━━━━━━━━━━━━━━━━━━━━━━━━━━━━━━━━━\u001b[0m \u001b[32m2.2/2.2 MB\u001b[0m \u001b[31m8.1 MB/s\u001b[0m eta \u001b[36m0:00:00\u001b[0m\n",
            "\u001b[?25hCollecting pendulum<3.1.0,>=3.0.0 (from emmett)\n",
            "  Downloading pendulum-3.0.0-cp310-cp310-manylinux_2_17_x86_64.manylinux2014_x86_64.whl (384 kB)\n",
            "\u001b[2K     \u001b[90m━━━━━━━━━━━━━━━━━━━━━━━━━━━━━━━━━━━━━━━━\u001b[0m \u001b[32m384.9/384.9 kB\u001b[0m \u001b[31m37.9 MB/s\u001b[0m eta \u001b[36m0:00:00\u001b[0m\n",
            "\u001b[?25hCollecting pyDAL==17.3 (from emmett)\n",
            "  Downloading pyDAL-17.3-py2.py3-none-any.whl (169 kB)\n",
            "\u001b[2K     \u001b[90m━━━━━━━━━━━━━━━━━━━━━━━━━━━━━━━━━━━━━━━━\u001b[0m \u001b[32m169.6/169.6 kB\u001b[0m \u001b[31m11.3 MB/s\u001b[0m eta \u001b[36m0:00:00\u001b[0m\n",
            "\u001b[?25hCollecting python-rapidjson<2.0,>=1.14 (from emmett)\n",
            "  Downloading python_rapidjson-1.14-cp310-cp310-manylinux_2_17_x86_64.manylinux2014_x86_64.whl (1.7 MB)\n",
            "\u001b[2K     \u001b[90m━━━━━━━━━━━━━━━━━━━━━━━━━━━━━━━━━━━━━━━━\u001b[0m \u001b[32m1.7/1.7 MB\u001b[0m \u001b[31m32.0 MB/s\u001b[0m eta \u001b[36m0:00:00\u001b[0m\n",
            "\u001b[?25hRequirement already satisfied: pyyaml<7.0,>=6.0 in /usr/local/lib/python3.10/dist-packages (from emmett) (6.0.1)\n",
            "Collecting renoir<2.0,>=1.6 (from emmett)\n",
            "  Downloading renoir-1.7.0-py3-none-any.whl (30 kB)\n",
            "Collecting severus<2.0,>=1.1 (from emmett)\n",
            "  Downloading severus-1.3.0-py3-none-any.whl (12 kB)\n",
            "Requirement already satisfied: watchfiles~=0.21 in /usr/local/lib/python3.10/dist-packages (from granian<0.8.0,>=0.7.0->emmett) (0.21.0)\n",
            "Requirement already satisfied: typer>=0.4.2 in /usr/local/lib/python3.10/dist-packages (from granian<0.8.0,>=0.7.0->emmett) (0.9.0)\n",
            "Collecting uvloop~=0.18.0 (from granian<0.8.0,>=0.7.0->emmett)\n",
            "  Downloading uvloop-0.18.0-cp310-cp310-manylinux_2_17_x86_64.manylinux2014_x86_64.whl (4.2 MB)\n",
            "\u001b[2K     \u001b[90m━━━━━━━━━━━━━━━━━━━━━━━━━━━━━━━━━━━━━━━━\u001b[0m \u001b[32m4.2/4.2 MB\u001b[0m \u001b[31m25.2 MB/s\u001b[0m eta \u001b[36m0:00:00\u001b[0m\n",
            "\u001b[?25hRequirement already satisfied: python-dateutil>=2.6 in /usr/local/lib/python3.10/dist-packages (from pendulum<3.1.0,>=3.0.0->emmett) (2.8.2)\n",
            "Collecting tzdata>=2020.1 (from pendulum<3.1.0,>=3.0.0->emmett)\n",
            "  Downloading tzdata-2023.3-py2.py3-none-any.whl (341 kB)\n",
            "\u001b[2K     \u001b[90m━━━━━━━━━━━━━━━━━━━━━━━━━━━━━━━━━━━━━━━━\u001b[0m \u001b[32m341.8/341.8 kB\u001b[0m \u001b[31m26.1 MB/s\u001b[0m eta \u001b[36m0:00:00\u001b[0m\n",
            "\u001b[?25hCollecting time-machine>=2.6.0 (from pendulum<3.1.0,>=3.0.0->emmett)\n",
            "  Downloading time_machine-2.13.0-cp310-cp310-manylinux_2_5_x86_64.manylinux1_x86_64.manylinux_2_17_x86_64.manylinux2014_x86_64.whl (34 kB)\n",
            "Requirement already satisfied: six>=1.5 in /usr/local/lib/python3.10/dist-packages (from python-dateutil>=2.6->pendulum<3.1.0,>=3.0.0->emmett) (1.16.0)\n",
            "Requirement already satisfied: typing-extensions>=3.7.4.3 in /usr/local/lib/python3.10/dist-packages (from typer>=0.4.2->granian<0.8.0,>=0.7.0->emmett) (4.5.0)\n",
            "Requirement already satisfied: anyio>=3.0.0 in /usr/local/lib/python3.10/dist-packages (from watchfiles~=0.21->granian<0.8.0,>=0.7.0->emmett) (3.7.1)\n",
            "Requirement already satisfied: idna>=2.8 in /usr/local/lib/python3.10/dist-packages (from anyio>=3.0.0->watchfiles~=0.21->granian<0.8.0,>=0.7.0->emmett) (3.6)\n",
            "Requirement already satisfied: sniffio>=1.1 in /usr/local/lib/python3.10/dist-packages (from anyio>=3.0.0->watchfiles~=0.21->granian<0.8.0,>=0.7.0->emmett) (1.3.0)\n",
            "Requirement already satisfied: exceptiongroup in /usr/local/lib/python3.10/dist-packages (from anyio>=3.0.0->watchfiles~=0.21->granian<0.8.0,>=0.7.0->emmett) (1.2.0)\n",
            "Installing collected packages: pyDAL, uvloop, tzdata, severus, renoir, python-rapidjson, emmett-crypto, time-machine, pendulum, granian, emmett\n",
            "  Attempting uninstall: uvloop\n",
            "    Found existing installation: uvloop 0.19.0\n",
            "    Uninstalling uvloop-0.19.0:\n",
            "      Successfully uninstalled uvloop-0.19.0\n",
            "Successfully installed emmett-2.5.7 emmett-crypto-0.5.1 granian-0.7.3 pendulum-3.0.0 pyDAL-17.3 python-rapidjson-1.14 renoir-1.7.0 severus-1.3.0 time-machine-2.13.0 tzdata-2023.3 uvloop-0.18.0\n"
          ]
        }
      ]
    },
    {
      "cell_type": "code",
      "source": [
        "from emmett import App\n",
        "\n",
        "app = App(__name__)\n",
        "\n",
        "@app.route(\"/\")\n",
        "async def hello():\n",
        "    return \"Hello world!\""
      ],
      "metadata": {
        "id": "Nd_smvmd21eS"
      },
      "execution_count": 12,
      "outputs": []
    },
    {
      "cell_type": "markdown",
      "source": [
        "```\n",
        "emmett develop\n",
        "```"
      ],
      "metadata": {
        "id": "wv-EobEp24r0"
      }
    },
    {
      "cell_type": "markdown",
      "source": [
        "# Starlette"
      ],
      "metadata": {
        "id": "2dU_ePdu26gO"
      }
    },
    {
      "cell_type": "code",
      "source": [
        "pip install starlette uvicorn"
      ],
      "metadata": {
        "colab": {
          "base_uri": "https://localhost:8080/"
        },
        "id": "bNGP_MeE23U9",
        "outputId": "d3e8a91f-76e6-4c2d-827e-8862794caefb"
      },
      "execution_count": 13,
      "outputs": [
        {
          "output_type": "stream",
          "name": "stdout",
          "text": [
            "Collecting starlette\n",
            "  Downloading starlette-0.34.0-py3-none-any.whl (70 kB)\n",
            "\u001b[?25l     \u001b[90m━━━━━━━━━━━━━━━━━━━━━━━━━━━━━━━━━━━━━━━━\u001b[0m \u001b[32m0.0/70.3 kB\u001b[0m \u001b[31m?\u001b[0m eta \u001b[36m-:--:--\u001b[0m\r\u001b[2K     \u001b[91m━━━━━━━━━━━━━━━━━━━━━━━\u001b[0m\u001b[90m╺\u001b[0m\u001b[90m━━━━━━━━━━━━━━━━\u001b[0m \u001b[32m41.0/70.3 kB\u001b[0m \u001b[31m1.2 MB/s\u001b[0m eta \u001b[36m0:00:01\u001b[0m\r\u001b[2K     \u001b[90m━━━━━━━━━━━━━━━━━━━━━━━━━━━━━━━━━━━━━━━━\u001b[0m \u001b[32m70.3/70.3 kB\u001b[0m \u001b[31m1.5 MB/s\u001b[0m eta \u001b[36m0:00:00\u001b[0m\n",
            "\u001b[?25hRequirement already satisfied: uvicorn in /usr/local/lib/python3.10/dist-packages (0.25.0)\n",
            "Requirement already satisfied: anyio<5,>=3.4.0 in /usr/local/lib/python3.10/dist-packages (from starlette) (3.7.1)\n",
            "Requirement already satisfied: click>=7.0 in /usr/local/lib/python3.10/dist-packages (from uvicorn) (8.1.7)\n",
            "Requirement already satisfied: h11>=0.8 in /usr/local/lib/python3.10/dist-packages (from uvicorn) (0.14.0)\n",
            "Requirement already satisfied: typing-extensions>=4.0 in /usr/local/lib/python3.10/dist-packages (from uvicorn) (4.5.0)\n",
            "Requirement already satisfied: idna>=2.8 in /usr/local/lib/python3.10/dist-packages (from anyio<5,>=3.4.0->starlette) (3.6)\n",
            "Requirement already satisfied: sniffio>=1.1 in /usr/local/lib/python3.10/dist-packages (from anyio<5,>=3.4.0->starlette) (1.3.0)\n",
            "Requirement already satisfied: exceptiongroup in /usr/local/lib/python3.10/dist-packages (from anyio<5,>=3.4.0->starlette) (1.2.0)\n",
            "Installing collected packages: starlette\n",
            "Successfully installed starlette-0.34.0\n"
          ]
        }
      ]
    },
    {
      "cell_type": "code",
      "source": [
        "from starlette.applications import Starlette\n",
        "from starlette.responses import JSONResponse\n",
        "from starlette.routing import Route\n",
        "\n",
        "\n",
        "async def homepage(request):\n",
        "    return JSONResponse({'hello': 'world'})\n",
        "\n",
        "routes = [\n",
        "    Route(\"/\", endpoint=homepage)\n",
        "]\n",
        "\n",
        "app = Starlette(debug=True, routes=routes)"
      ],
      "metadata": {
        "id": "Rx_OFI2F278g"
      },
      "execution_count": 14,
      "outputs": []
    },
    {
      "cell_type": "markdown",
      "source": [
        "```\n",
        "uvicorn server:app\n",
        "```"
      ],
      "metadata": {
        "id": "MYkysCgQ2-R_"
      }
    }
  ]
}