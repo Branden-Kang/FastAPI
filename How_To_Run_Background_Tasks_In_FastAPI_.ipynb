{
  "nbformat": 4,
  "nbformat_minor": 0,
  "metadata": {
    "colab": {
      "provenance": [],
      "authorship_tag": "ABX9TyMKQ1ZhJoUOl8d+zgKKq6su"
    },
    "kernelspec": {
      "name": "python3",
      "display_name": "Python 3"
    },
    "language_info": {
      "name": "python"
    }
  },
  "cells": [
    {
      "cell_type": "markdown",
      "source": [
        "[Reference](https://python.plainenglish.io/how-to-run-background-tasks-in-fastapi-python-73980fcf5672)"
      ],
      "metadata": {
        "id": "fue3uXBuFL9x"
      }
    },
    {
      "cell_type": "markdown",
      "source": [
        "# Let’s Create A Basic FastAPI Application First"
      ],
      "metadata": {
        "id": "9i_k_Yh_FYCY"
      }
    },
    {
      "cell_type": "code",
      "execution_count": 1,
      "metadata": {
        "id": "uDyFMosNE-zL"
      },
      "outputs": [],
      "source": [
        "# from fastapi import FastAPI\n",
        "# import asyncioapp = FastAPI()\n",
        "\n",
        "# @app.get(\"/\")\n",
        "# def hello():\n",
        "#     return {\"message\": \"hello\"}\n",
        "    \n",
        "# if __name__ == \"__main__\":\n",
        "#     import uvicorn\n",
        "#     uvicorn.run(app)"
      ]
    },
    {
      "cell_type": "markdown",
      "source": [
        "# Adding Our Background Task To FastAPI"
      ],
      "metadata": {
        "id": "DmnftjuiFXFv"
      }
    },
    {
      "cell_type": "code",
      "source": [
        "from fastapi import FastAPI\n",
        "import asyncio\n",
        "\n",
        "app = FastAPI()\n",
        "\n",
        "x = [1]           # a global variable x@app.get(\"/\")\n",
        "def hello():\n",
        "    return {\"message\": \"hello\", \"x\":x}\n",
        "    \n",
        "async def periodic():\n",
        "    while True:        # code to run periodically starts here\n",
        "        x[0] += 1\n",
        "        print(f\"x is now {x}\")\n",
        "        # code to run periodically ends here        \n",
        "        # sleep for 3 seconds after running above code\n",
        "        await asyncio.sleep(3)\n",
        "        \n",
        "@app.on_event(\"startup\")\n",
        "async def schedule_periodic():\n",
        "    loop = asyncio.get_event_loop()\n",
        "    loop.create_task(periodic())\n",
        "    \n",
        "if __name__ == \"__main__\":\n",
        "    import uvicorn\n",
        "    uvicorn.run(app)"
      ],
      "metadata": {
        "id": "meEMkED2FQjQ"
      },
      "execution_count": 2,
      "outputs": []
    }
  ]
}