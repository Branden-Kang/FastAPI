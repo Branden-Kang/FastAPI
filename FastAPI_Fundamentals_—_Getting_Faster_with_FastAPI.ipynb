{
  "nbformat": 4,
  "nbformat_minor": 0,
  "metadata": {
    "colab": {
      "provenance": [],
      "collapsed_sections": [],
      "authorship_tag": "ABX9TyMTopRJ3+o9AO6VkWlavVlb"
    },
    "kernelspec": {
      "name": "python3",
      "display_name": "Python 3"
    },
    "language_info": {
      "name": "python"
    }
  },
  "cells": [
    {
      "cell_type": "markdown",
      "source": [
        "[Reference](https://medium.com/codex/fastapi-fundamentals-getting-faster-with-fastapi-866545b841ca)"
      ],
      "metadata": {
        "id": "E-MFM_4AWyj-"
      }
    },
    {
      "cell_type": "markdown",
      "source": [
        "FastAPI is a modern, fast (high-performance), web framework for building APIs with Python 3.7+ based on standard Python-type hints"
      ],
      "metadata": {
        "id": "DsaSMQd2W4Z2"
      }
    },
    {
      "cell_type": "markdown",
      "source": [
        "API is the acronym for Application Programming Interface, which is a software intermediary that allows two applications to talk to each other."
      ],
      "metadata": {
        "id": "w-5QQEYrW5tK"
      }
    },
    {
      "cell_type": "code",
      "execution_count": 1,
      "metadata": {
        "id": "Md_0d_HnWmu5"
      },
      "outputs": [],
      "source": [
        "# Install separately\n",
        "!pip install fastapi\n",
        "!pip install uvicorn\n",
        "\n",
        "# or Install all dependencies of fastAPI at once\n",
        "!pip install fastapi[all]"
      ]
    },
    {
      "cell_type": "markdown",
      "source": [
        "# Let’s create a Basic fastAPI\n"
      ],
      "metadata": {
        "id": "VYbjfi-PXPc1"
      }
    },
    {
      "cell_type": "code",
      "source": [
        "from fastapi import FastAPI\n",
        "app = FastAPI()\n",
        "\n",
        "@app.get('/')\n",
        "def base():\n",
        "    return \"Hello World!\""
      ],
      "metadata": {
        "id": "hpaTRziEXLir"
      },
      "execution_count": 2,
      "outputs": []
    },
    {
      "cell_type": "code",
      "source": [
        "!uvicorn main:app — reload"
      ],
      "metadata": {
        "id": "vUgrpDIeXc7c"
      },
      "execution_count": 3,
      "outputs": []
    },
    {
      "cell_type": "markdown",
      "source": [
        "Operation refers to the HTTP Methods. "
      ],
      "metadata": {
        "id": "fpfZe2gdXpWa"
      }
    },
    {
      "cell_type": "code",
      "source": [
        "# Example 1: path parameter without type validation\n",
        "@app.get('/student/{student_id}')\n",
        "def base(student_id):\n",
        "    return f\"Student id is {student_id} & it's type is : {type(student_id)}\"\n",
        "  \n",
        "# Example 2: path parameter with type validation\n",
        "@app.get('/student/{student_id}')\n",
        "def base(student_id:int): # student_id has to be an int\n",
        "    return f\"Student id is {student_id} & it's type is : {type(student_id)}\""
      ],
      "metadata": {
        "id": "iMFTIbfVXpz9"
      },
      "execution_count": 4,
      "outputs": []
    },
    {
      "cell_type": "code",
      "source": [
        "from fastapi import FastAPI\n",
        "app = FastAPI()\n",
        "\n",
        "@app.get('/add')\n",
        "def base(x: int, y: int): # type validation\n",
        "    return f\"x = {x} and y = {y} and x + y j= {x+y}\"\n",
        "@app.get('/multiply')\n",
        "def base(x: int = 4, y: int = 6): # type validation with default values\n",
        "    return f\"x = {x} and y = {y} and x * y j= {x*y}\"    "
      ],
      "metadata": {
        "id": "nLk4z_eKX5Ih"
      },
      "execution_count": 5,
      "outputs": []
    },
    {
      "cell_type": "markdown",
      "source": [
        "# Request Body"
      ],
      "metadata": {
        "id": "D36mPywEYSJt"
      }
    },
    {
      "cell_type": "code",
      "source": [
        "from pydantic import BaseModel\n",
        "from typing import Union\n",
        "\n",
        "class User(BaseModel):\n",
        "    user_id : int\n",
        "    user_age : Union[int, None] = None\n",
        "    user_nmae : str\n",
        "    user_nick_name : 'Oreo'"
      ],
      "metadata": {
        "id": "0pYhBVYpYTIu"
      },
      "execution_count": 6,
      "outputs": []
    }
  ]
}