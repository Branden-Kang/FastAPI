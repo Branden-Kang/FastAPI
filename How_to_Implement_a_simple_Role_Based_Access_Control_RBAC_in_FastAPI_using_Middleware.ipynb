{
  "nbformat": 4,
  "nbformat_minor": 0,
  "metadata": {
    "colab": {
      "provenance": [],
      "authorship_tag": "ABX9TyNBBjNB3VgOS4ix+dsedRGU"
    },
    "kernelspec": {
      "name": "python3",
      "display_name": "Python 3"
    },
    "language_info": {
      "name": "python"
    }
  },
  "cells": [
    {
      "cell_type": "markdown",
      "source": [
        "[Reference](https://medium.com/@abdulwasa.abdulkader/how-to-implement-a-simple-role-based-access-control-rbac-in-fastapi-using-middleware-af07d31efa9f)"
      ],
      "metadata": {
        "id": "SeVDN-jWBV-K"
      }
    },
    {
      "cell_type": "code",
      "execution_count": 1,
      "metadata": {
        "id": "KUtRQ_f5BP1f"
      },
      "outputs": [],
      "source": [
        "from fastapi import FastAPI, HTTPException, Request\n",
        "from starlette.middleware.base import BaseHTTPMiddleware\n",
        "\n",
        "app = FastAPI()\n",
        "\n",
        "# Define role-based access control (RBAC) structure\n",
        "RESOURCES_FOR_ROLES = {\n",
        "    'admin': {\n",
        "        'resource1': ['read', 'write', 'delete'],\n",
        "        'resource2': ['read', 'write'],\n",
        "    },\n",
        "    'user': {\n",
        "        'resource1': ['read'],\n",
        "        'resource2': ['read', 'write'],\n",
        "    }\n",
        "}\n",
        "\n",
        "# Sample user data (can be fetched from a database)\n",
        "USERS = {\n",
        "    'user1': {'username': 'user1', 'password': 'password', 'role': 'user'},\n",
        "    'admin1': {'username': 'admin1', 'password': 'adminpassword', 'role': 'admin'}\n",
        "}\n",
        "\n",
        "# Optionally, define paths to be excluded from checking for permissions\n",
        "EXLUDED_PATHS = ['docs', 'openapi.json']\n",
        "\n",
        "#Map request methods to actions\n",
        "def translate_method_to_action(method: str) -> str:\n",
        "    method_permission_mapping = {\n",
        "        'GET': 'read',\n",
        "        'POST': 'write',\n",
        "        'PUT': 'delete',\n",
        "        'DELETE': 'delete',\n",
        "    }\n",
        "    return method_permission_mapping.get(method.upper(), 'read')\n",
        "\n",
        "# CHeck if permission granted or not\n",
        "def has_permission(user_role, resource_name, required_permission):\n",
        "    if user_role in RESOURCES_FOR_ROLES and resource_name in RESOURCES_FOR_ROLES[user_role]:\n",
        "        return required_permission in RESOURCES_FOR_ROLES[user_role][resource_name]\n",
        "    return False\n",
        "\n",
        "# Define a custom Middleware for handling RBAC\n",
        "class RBACMiddleware(BaseHTTPMiddleware):\n",
        "  async def dispatch(self, request: Request, call_next):\n",
        "      request_method = str(request.method).upper()\n",
        "      action = translate_method_to_action(request_method)\n",
        "      resource = request.url.path[1:]\n",
        "      if not resource in EXLUDED_PATHS:\n",
        "            admin1 = USERS['admin1'] # Switch bewtwenn user and admin by commenting this or the next line\n",
        "            #user1 = USERS['user1']\n",
        "            if not has_permission(admin1['role'], resource, action):\n",
        "                raise HTTPException(status_code=403, detail=\"Insufficient permissions\")\n",
        "      response = await call_next(request)\n",
        "      return response\n",
        "\n",
        "# Add the middleware to FastAPI\n",
        "app.add_middleware(RBACMiddleware)\n",
        "\n",
        "# Example protected route for resource 1\n",
        "@app.get(\"/resource1\")\n",
        "async def resource1():\n",
        "    return {\"message\": \"This is a resource1 route\"}\n",
        "\n",
        "@app.post(\"/resource1\")\n",
        "async def add_resource1(add: int):\n",
        "    return {\"message\": add}\n",
        "@app.delete(\"/resource1\")\n",
        "async def delete_resource1():\n",
        "    return {\"message\": \"This resource1 is deleted\"}\n",
        "\n",
        "# Example protected route for resource 2\n",
        "@app.get(\"/resource2\")\n",
        "async def resource2():\n",
        "    return {\"message\": \"This is an resource2 route\"}\n",
        "@app.post(\"/resource2\")\n",
        "async def add_resource2(add: int):\n",
        "    return {\"message\": add}\n",
        "@app.delete(\"/resource2\")\n",
        "async def delete_resource2():\n",
        "    return {\"message\": \"This resource2 is deleted\"}\n",
        "\n",
        "if __name__ == \"__main__\":\n",
        "    import uvicorn\n",
        "    uvicorn.run(app, host=\"0.0.0.0\", port=8000)"
      ]
    }
  ]
}