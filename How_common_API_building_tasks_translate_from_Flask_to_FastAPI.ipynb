{
  "nbformat": 4,
  "nbformat_minor": 0,
  "metadata": {
    "colab": {
      "name": "How common API building tasks translate from Flask to FastAPI.ipynb",
      "provenance": [],
      "authorship_tag": "ABX9TyPqzpaS63ZzknThlSB0qpsB"
    },
    "kernelspec": {
      "name": "python3",
      "display_name": "Python 3"
    },
    "language_info": {
      "name": "python"
    }
  },
  "cells": [
    {
      "cell_type": "markdown",
      "metadata": {
        "id": "WvSRZJTFzjaB"
      },
      "source": [
        "[Reference](https://levelup.gitconnected.com/how-common-api-building-tasks-translate-from-flask-to-fastapi-aa6b0558f221)"
      ]
    },
    {
      "cell_type": "markdown",
      "metadata": {
        "id": "TGYRwQXb1Hlz"
      },
      "source": [
        "# 1. App initialization\n"
      ]
    },
    {
      "cell_type": "code",
      "metadata": {
        "id": "Boja6yCFyu3E"
      },
      "source": [
        "from flask import Flask\n",
        "from fastapi import Flastapi\n",
        "\n",
        "flask_app = Flask(__name__)\n",
        "\n",
        "fastapi_app = Fastapi()"
      ],
      "execution_count": 2,
      "outputs": []
    },
    {
      "cell_type": "markdown",
      "metadata": {
        "id": "W_vr8CFF1J7F"
      },
      "source": [
        "# 2. Creating a route\n"
      ]
    },
    {
      "cell_type": "code",
      "metadata": {
        "id": "6Lb8Adde1I5i"
      },
      "source": [
        "# Routes in flask\n",
        "@app.route(\"/user\", methods = [\"GET\"])\n",
        "\n",
        "# Routes in fastapi\n",
        "@app.get(\"/user\")"
      ],
      "execution_count": 3,
      "outputs": []
    },
    {
      "cell_type": "markdown",
      "metadata": {
        "id": "VxqEiTT21XeE"
      },
      "source": [
        "# 3. Accessing query parameters\n"
      ]
    },
    {
      "cell_type": "code",
      "metadata": {
        "id": "vPDolSIM1OIM"
      },
      "source": [
        "from flask import request\n",
        "\n",
        "# flask\n",
        "@app.route(\"/user\", methods=[\"GET\"])\n",
        "def create_user():\n",
        "  username = request.args.get(\"username\")\n",
        "  print(username)\n",
        "  \n",
        "# fastapi\n",
        "@app.get(\"/user\")\n",
        "def create_user(username: str):\n",
        "  print(username)"
      ],
      "execution_count": 4,
      "outputs": []
    },
    {
      "cell_type": "markdown",
      "metadata": {
        "id": "YRvXYz8s1aPP"
      },
      "source": [
        "# 4. Fetching the request body\n"
      ]
    },
    {
      "cell_type": "code",
      "metadata": {
        "id": "LIoF6D3-1ZET"
      },
      "source": [
        "from flask import request\n",
        "from fastapi import Request\n",
        "\n",
        "# flask\n",
        "def user_data():\n",
        "  json_data = request.json\n",
        "\n",
        "# fastapi\n",
        "async user_data(req: Request):\n",
        "  json_data = await req.json()"
      ],
      "execution_count": 5,
      "outputs": []
    },
    {
      "cell_type": "markdown",
      "metadata": {
        "id": "Q3vpNAKC1eUa"
      },
      "source": [
        "# 5. Startup-Shutdown events\n"
      ]
    },
    {
      "cell_type": "code",
      "metadata": {
        "id": "ZOIe-LM51dA5"
      },
      "source": [
        "# events in fastapi\n",
        "@app.on_event(\"startup\")\n",
        "def startup_event():\n",
        "  # connect to database\n",
        "  # configure other services\n",
        "  \n",
        "@app.on_event(\"shutdown\")\n",
        "def shutdown_event():\n",
        "  # close db clients\n",
        "  # gracefully end other tasks"
      ],
      "execution_count": 6,
      "outputs": []
    },
    {
      "cell_type": "markdown",
      "metadata": {
        "id": "-Iyqkwp91ivh"
      },
      "source": [
        "# 6. Data validation\n"
      ]
    },
    {
      "cell_type": "code",
      "metadata": {
        "id": "Iofc4dZ21gYB"
      },
      "source": [
        "class User(BaseModel):\n",
        "  name: str\n",
        "  password: str\n",
        "  email: str\n",
        "  interests: List[str]\n",
        "  \n",
        "  @validator('password')\n",
        "  def validate_password(cls, v):\n",
        "      if len(v) < 8:\n",
        "          raise ValueError('Password must contain more than or equal to 8 characters.')\n",
        "      if not any(True if p in v else False for p in string.punctuation):\n",
        "          raise ValueError('Password must contain at least one special character.')\n",
        "      return v\n",
        "      \n",
        "@app.get(\"/login\")\n",
        "def user_data(data: User):\n",
        "  print(f\"username: {data.name}, email: {data.email}\")"
      ],
      "execution_count": 7,
      "outputs": []
    },
    {
      "cell_type": "markdown",
      "metadata": {
        "id": "weXkTCRO1l21"
      },
      "source": [
        "# 7. JSON response\n"
      ]
    },
    {
      "cell_type": "code",
      "metadata": {
        "id": "PCdXJ59Y1kVL"
      },
      "source": [
        "from flask import jsonify\n",
        "\n",
        "@app.route('/login', methods=['POST'])\n",
        "def login():\n",
        "    data = {'name': 'john doe'}\n",
        "    return jsonify(data)\n",
        "\n",
        "@app.post('/login')\n",
        "async def fastapi_login():\n",
        "    fastapi_response = {'name': 'john doe'}\n",
        "    return fastapi_response"
      ],
      "execution_count": 8,
      "outputs": []
    },
    {
      "cell_type": "markdown",
      "metadata": {
        "id": "nxhOws-p18rK"
      },
      "source": [
        "# 8. Handling CORS\n"
      ]
    },
    {
      "cell_type": "code",
      "metadata": {
        "id": "8i9sdizN1nUO"
      },
      "source": [
        "# cors for flask\n",
        "from flask_cors import CORS\n",
        "\n",
        "CORS(app)\n",
        "\n",
        "# CORS for fastapi\n",
        "from fastapi.middleware.cors import CORSMiddleware\n",
        "\n",
        "app.add_middleware(\n",
        "    CORSMiddleware,\n",
        "    allow_origins=origins,\n",
        "    allow_credentials=[\"http://localhost:8080\"],\n",
        "    allow_methods=[\"*\"],\n",
        "    allow_headers=[\"*\"],\n",
        ")"
      ],
      "execution_count": 9,
      "outputs": []
    }
  ]
}