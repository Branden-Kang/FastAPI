{
  "nbformat": 4,
  "nbformat_minor": 0,
  "metadata": {
    "colab": {
      "provenance": [],
      "authorship_tag": "ABX9TyOiTu5s1iUjDksi3LoyQmbP"
    },
    "kernelspec": {
      "name": "python3",
      "display_name": "Python 3"
    },
    "language_info": {
      "name": "python"
    }
  },
  "cells": [
    {
      "cell_type": "markdown",
      "source": [
        "[Reference](https://baotramduong.medium.com/deploying-machine-learning-models-with-flask-a-step-by-step-guide-a9cc96c9de12)"
      ],
      "metadata": {
        "id": "uS9INNesNiZv"
      }
    },
    {
      "cell_type": "code",
      "execution_count": 1,
      "metadata": {
        "id": "8tsaE80FNg1Q"
      },
      "outputs": [],
      "source": [
        "from flask import Flask, request, render_template\n",
        "import joblib  # or any other library for loading your model\n",
        "\n",
        "model = joblib.load(\"your_model_file.joblib\")\n",
        "\n",
        "app = Flask(__name__)\n",
        "\n",
        "@app.route('/')\n",
        "def home():\n",
        "    return render_template('index.html')\n",
        "\n",
        "@app.route('/predict', methods=['POST'])\n",
        "def predict():\n",
        "    # Extract input features from the request\n",
        "    feature1 = float(request.form['feature1'])\n",
        "    feature2 = float(request.form['feature2'])\n",
        "\n",
        "    # Preprocess the input features\n",
        "    # Make predictions using the loaded model\n",
        "    prediction = model.predict([[feature1, feature2]])\n",
        "\n",
        "    return render_template('index.html', prediction=prediction[0])"
      ]
    }
  ]
}