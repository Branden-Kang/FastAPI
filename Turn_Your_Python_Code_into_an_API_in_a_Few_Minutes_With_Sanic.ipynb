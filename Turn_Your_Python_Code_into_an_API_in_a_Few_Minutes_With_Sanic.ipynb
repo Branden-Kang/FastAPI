{
  "nbformat": 4,
  "nbformat_minor": 0,
  "metadata": {
    "colab": {
      "name": "Turn Your Python Code into an API in a Few Minutes With Sanic.ipynb",
      "provenance": [],
      "authorship_tag": "ABX9TyN4xHgzyXtMpkjFR06RBckI"
    },
    "kernelspec": {
      "name": "python3",
      "display_name": "Python 3"
    },
    "language_info": {
      "name": "python"
    }
  },
  "cells": [
    {
      "cell_type": "markdown",
      "source": [
        "[Reference](https://python.plainenglish.io/turn-your-python-code-into-an-api-in-a-few-minutes-with-sanic-a919b6ad6b4b)"
      ],
      "metadata": {
        "id": "dyMyusJDIcVW"
      }
    },
    {
      "cell_type": "code",
      "execution_count": 1,
      "metadata": {
        "colab": {
          "base_uri": "https://localhost:8080/"
        },
        "id": "KvjiTkH1Iay_",
        "outputId": "f0cc87cd-99ab-407a-b3dd-e8fecb790b7c"
      },
      "outputs": [
        {
          "output_type": "stream",
          "name": "stdout",
          "text": [
            "Looking in indexes: https://pypi.org/simple, https://us-python.pkg.dev/colab-wheels/public/simple/\n",
            "Collecting sanic\n",
            "  Downloading sanic-22.6.0-py3-none-any.whl (271 kB)\n",
            "\u001b[K     |████████████████████████████████| 271 kB 17.5 MB/s \n",
            "\u001b[?25hCollecting httptools>=0.0.10\n",
            "  Downloading httptools-0.4.0-cp37-cp37m-manylinux_2_5_x86_64.manylinux1_x86_64.manylinux_2_12_x86_64.manylinux2010_x86_64.whl (406 kB)\n",
            "\u001b[K     |████████████████████████████████| 406 kB 11.3 MB/s \n",
            "\u001b[?25hCollecting multidict<7.0,>=5.0\n",
            "  Downloading multidict-6.0.2-cp37-cp37m-manylinux_2_17_x86_64.manylinux2014_x86_64.whl (94 kB)\n",
            "\u001b[K     |████████████████████████████████| 94 kB 1.0 MB/s \n",
            "\u001b[?25hCollecting websockets>=10.0\n",
            "  Downloading websockets-10.3-cp37-cp37m-manylinux_2_5_x86_64.manylinux1_x86_64.manylinux_2_12_x86_64.manylinux2010_x86_64.whl (112 kB)\n",
            "\u001b[K     |████████████████████████████████| 112 kB 35.9 MB/s \n",
            "\u001b[?25hCollecting ujson>=1.35\n",
            "  Downloading ujson-5.4.0-cp37-cp37m-manylinux_2_17_x86_64.manylinux2014_x86_64.whl (45 kB)\n",
            "\u001b[K     |████████████████████████████████| 45 kB 2.0 MB/s \n",
            "\u001b[?25hCollecting uvloop>=0.5.3\n",
            "  Downloading uvloop-0.16.0-cp37-cp37m-manylinux_2_12_x86_64.manylinux2010_x86_64.whl (3.8 MB)\n",
            "\u001b[K     |████████████████████████████████| 3.8 MB 53.0 MB/s \n",
            "\u001b[?25hCollecting sanic-routing<22.6.0,>=22.3.0\n",
            "  Downloading sanic_routing-22.3.0-py3-none-any.whl (25 kB)\n",
            "Collecting aiofiles>=0.6.0\n",
            "  Downloading aiofiles-0.8.0-py3-none-any.whl (13 kB)\n",
            "Installing collected packages: websockets, uvloop, ujson, sanic-routing, multidict, httptools, aiofiles, sanic\n",
            "Successfully installed aiofiles-0.8.0 httptools-0.4.0 multidict-6.0.2 sanic-22.6.0 sanic-routing-22.3.0 ujson-5.4.0 uvloop-0.16.0 websockets-10.3\n"
          ]
        }
      ],
      "source": [
        "pip install sanic"
      ]
    },
    {
      "cell_type": "code",
      "source": [
        "import datetime\n",
        "\n",
        "def get_datetime():\n",
        "    \"\"\"\n",
        "    Returns a string of the current date and time\n",
        "    \"\"\"\n",
        "    return datetime.datetime.now().strftime(\"%Y-%m-%d %H:%M:%S\")\n",
        "\n",
        "def sum_x_y(x, y):\n",
        "    \"\"\"\n",
        "    Returns the sum of x and y\n",
        "    \"\"\"\n",
        "    return x + y"
      ],
      "metadata": {
        "id": "mDeto_teIgRy"
      },
      "execution_count": 2,
      "outputs": []
    },
    {
      "cell_type": "code",
      "source": [
        "from sanic import Sanic, json\n",
        "from sanic.response import text\n",
        "\n",
        "app = Sanic(\"CodeToAPI\")\n",
        "HOST = \"localhost\"\n",
        "PORT = 8000\n",
        "\n",
        "@app.route('/')\n",
        "async def test(request):\n",
        "    return json({'hello': 'world'})\n",
        "\n",
        "if __name__ == \"__main__\":\n",
        "    app.run(host=HOST, port=PORT, debug=True)"
      ],
      "metadata": {
        "id": "EQ7QgnlDIhq6"
      },
      "execution_count": 6,
      "outputs": []
    },
    {
      "cell_type": "code",
      "source": [
        "@app.route('/getdatetime')\n",
        "async def getdatetime(request):\n",
        "    return json({'now': get_datetime()})"
      ],
      "metadata": {
        "id": "ldD5N2O-ImRf"
      },
      "execution_count": 4,
      "outputs": []
    },
    {
      "cell_type": "code",
      "source": [
        "@app.post('/sumxy')\n",
        "async def sumxy(request):\n",
        "    parameters = request.json\n",
        "    print(parameters)\n",
        "    result = sum_x_y(int(parameters['x']), int(parameters['y']))\n",
        "    return json({'result': result})"
      ],
      "metadata": {
        "id": "B9L4Vz20Immu"
      },
      "execution_count": 5,
      "outputs": []
    }
  ]
}