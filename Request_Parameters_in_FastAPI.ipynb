{
  "nbformat": 4,
  "nbformat_minor": 0,
  "metadata": {
    "colab": {
      "provenance": [],
      "authorship_tag": "ABX9TyOma7rjFBUDHrrWPq2/HMLu"
    },
    "kernelspec": {
      "name": "python3",
      "display_name": "Python 3"
    },
    "language_info": {
      "name": "python"
    }
  },
  "cells": [
    {
      "cell_type": "markdown",
      "source": [
        "[Reference](https://medium.com/@johnidouglasmarangon/request-parameters-in-fastapi-8ba12ded1e5c)"
      ],
      "metadata": {
        "id": "cInosGMEGvzo"
      }
    },
    {
      "cell_type": "code",
      "execution_count": 1,
      "metadata": {
        "colab": {
          "base_uri": "https://localhost:8080/"
        },
        "id": "55j0vVoOGbul",
        "outputId": "d13bcd60-9472-4700-9a5c-e22d8853d2ab"
      },
      "outputs": [
        {
          "output_type": "stream",
          "name": "stdout",
          "text": [
            "Collecting fastapi\n",
            "  Downloading fastapi-0.111.0-py3-none-any.whl (91 kB)\n",
            "\u001b[2K     \u001b[90m━━━━━━━━━━━━━━━━━━━━━━━━━━━━━━━━━━━━━━━━\u001b[0m \u001b[32m92.0/92.0 kB\u001b[0m \u001b[31m618.9 kB/s\u001b[0m eta \u001b[36m0:00:00\u001b[0m\n",
            "\u001b[?25hCollecting uvicorn[standard]\n",
            "  Downloading uvicorn-0.29.0-py3-none-any.whl (60 kB)\n",
            "\u001b[2K     \u001b[90m━━━━━━━━━━━━━━━━━━━━━━━━━━━━━━━━━━━━━━━━\u001b[0m \u001b[32m60.8/60.8 kB\u001b[0m \u001b[31m3.8 MB/s\u001b[0m eta \u001b[36m0:00:00\u001b[0m\n",
            "\u001b[?25hCollecting python-multipart\n",
            "  Downloading python_multipart-0.0.9-py3-none-any.whl (22 kB)\n",
            "Collecting starlette<0.38.0,>=0.37.2 (from fastapi)\n",
            "  Downloading starlette-0.37.2-py3-none-any.whl (71 kB)\n",
            "\u001b[2K     \u001b[90m━━━━━━━━━━━━━━━━━━━━━━━━━━━━━━━━━━━━━━━━\u001b[0m \u001b[32m71.9/71.9 kB\u001b[0m \u001b[31m4.0 MB/s\u001b[0m eta \u001b[36m0:00:00\u001b[0m\n",
            "\u001b[?25hRequirement already satisfied: pydantic!=1.8,!=1.8.1,!=2.0.0,!=2.0.1,!=2.1.0,<3.0.0,>=1.7.4 in /usr/local/lib/python3.10/dist-packages (from fastapi) (2.7.1)\n",
            "Requirement already satisfied: typing-extensions>=4.8.0 in /usr/local/lib/python3.10/dist-packages (from fastapi) (4.11.0)\n",
            "Collecting fastapi-cli>=0.0.2 (from fastapi)\n",
            "  Downloading fastapi_cli-0.0.2-py3-none-any.whl (9.1 kB)\n",
            "Collecting httpx>=0.23.0 (from fastapi)\n",
            "  Downloading httpx-0.27.0-py3-none-any.whl (75 kB)\n",
            "\u001b[2K     \u001b[90m━━━━━━━━━━━━━━━━━━━━━━━━━━━━━━━━━━━━━━━━\u001b[0m \u001b[32m75.6/75.6 kB\u001b[0m \u001b[31m4.9 MB/s\u001b[0m eta \u001b[36m0:00:00\u001b[0m\n",
            "\u001b[?25hRequirement already satisfied: jinja2>=2.11.2 in /usr/local/lib/python3.10/dist-packages (from fastapi) (3.1.3)\n",
            "Collecting ujson!=4.0.2,!=4.1.0,!=4.2.0,!=4.3.0,!=5.0.0,!=5.1.0,>=4.0.1 (from fastapi)\n",
            "  Downloading ujson-5.9.0-cp310-cp310-manylinux_2_17_x86_64.manylinux2014_x86_64.whl (53 kB)\n",
            "\u001b[2K     \u001b[90m━━━━━━━━━━━━━━━━━━━━━━━━━━━━━━━━━━━━━━━━\u001b[0m \u001b[32m53.2/53.2 kB\u001b[0m \u001b[31m1.1 MB/s\u001b[0m eta \u001b[36m0:00:00\u001b[0m\n",
            "\u001b[?25hCollecting orjson>=3.2.1 (from fastapi)\n",
            "  Downloading orjson-3.10.3-cp310-cp310-manylinux_2_17_x86_64.manylinux2014_x86_64.whl (142 kB)\n",
            "\u001b[2K     \u001b[90m━━━━━━━━━━━━━━━━━━━━━━━━━━━━━━━━━━━━━━━━\u001b[0m \u001b[32m142.5/142.5 kB\u001b[0m \u001b[31m2.9 MB/s\u001b[0m eta \u001b[36m0:00:00\u001b[0m\n",
            "\u001b[?25hCollecting email_validator>=2.0.0 (from fastapi)\n",
            "  Downloading email_validator-2.1.1-py3-none-any.whl (30 kB)\n",
            "Requirement already satisfied: click>=7.0 in /usr/local/lib/python3.10/dist-packages (from uvicorn[standard]) (8.1.7)\n",
            "Collecting h11>=0.8 (from uvicorn[standard])\n",
            "  Downloading h11-0.14.0-py3-none-any.whl (58 kB)\n",
            "\u001b[2K     \u001b[90m━━━━━━━━━━━━━━━━━━━━━━━━━━━━━━━━━━━━━━━━\u001b[0m \u001b[32m58.3/58.3 kB\u001b[0m \u001b[31m3.9 MB/s\u001b[0m eta \u001b[36m0:00:00\u001b[0m\n",
            "\u001b[?25hCollecting httptools>=0.5.0 (from uvicorn[standard])\n",
            "  Downloading httptools-0.6.1-cp310-cp310-manylinux_2_5_x86_64.manylinux1_x86_64.manylinux_2_17_x86_64.manylinux2014_x86_64.whl (341 kB)\n",
            "\u001b[2K     \u001b[90m━━━━━━━━━━━━━━━━━━━━━━━━━━━━━━━━━━━━━━━━\u001b[0m \u001b[32m341.4/341.4 kB\u001b[0m \u001b[31m8.2 MB/s\u001b[0m eta \u001b[36m0:00:00\u001b[0m\n",
            "\u001b[?25hCollecting python-dotenv>=0.13 (from uvicorn[standard])\n",
            "  Downloading python_dotenv-1.0.1-py3-none-any.whl (19 kB)\n",
            "Requirement already satisfied: pyyaml>=5.1 in /usr/local/lib/python3.10/dist-packages (from uvicorn[standard]) (6.0.1)\n",
            "Collecting uvloop!=0.15.0,!=0.15.1,>=0.14.0 (from uvicorn[standard])\n",
            "  Downloading uvloop-0.19.0-cp310-cp310-manylinux_2_17_x86_64.manylinux2014_x86_64.whl (3.4 MB)\n",
            "\u001b[2K     \u001b[90m━━━━━━━━━━━━━━━━━━━━━━━━━━━━━━━━━━━━━━━━\u001b[0m \u001b[32m3.4/3.4 MB\u001b[0m \u001b[31m29.3 MB/s\u001b[0m eta \u001b[36m0:00:00\u001b[0m\n",
            "\u001b[?25hCollecting watchfiles>=0.13 (from uvicorn[standard])\n",
            "  Downloading watchfiles-0.21.0-cp310-cp310-manylinux_2_17_x86_64.manylinux2014_x86_64.whl (1.3 MB)\n",
            "\u001b[2K     \u001b[90m━━━━━━━━━━━━━━━━━━━━━━━━━━━━━━━━━━━━━━━━\u001b[0m \u001b[32m1.3/1.3 MB\u001b[0m \u001b[31m40.1 MB/s\u001b[0m eta \u001b[36m0:00:00\u001b[0m\n",
            "\u001b[?25hCollecting websockets>=10.4 (from uvicorn[standard])\n",
            "  Downloading websockets-12.0-cp310-cp310-manylinux_2_5_x86_64.manylinux1_x86_64.manylinux_2_17_x86_64.manylinux2014_x86_64.whl (130 kB)\n",
            "\u001b[2K     \u001b[90m━━━━━━━━━━━━━━━━━━━━━━━━━━━━━━━━━━━━━━━━\u001b[0m \u001b[32m130.2/130.2 kB\u001b[0m \u001b[31m5.2 MB/s\u001b[0m eta \u001b[36m0:00:00\u001b[0m\n",
            "\u001b[?25hCollecting dnspython>=2.0.0 (from email_validator>=2.0.0->fastapi)\n",
            "  Downloading dnspython-2.6.1-py3-none-any.whl (307 kB)\n",
            "\u001b[2K     \u001b[90m━━━━━━━━━━━━━━━━━━━━━━━━━━━━━━━━━━━━━━━━\u001b[0m \u001b[32m307.7/307.7 kB\u001b[0m \u001b[31m20.3 MB/s\u001b[0m eta \u001b[36m0:00:00\u001b[0m\n",
            "\u001b[?25hRequirement already satisfied: idna>=2.0.0 in /usr/local/lib/python3.10/dist-packages (from email_validator>=2.0.0->fastapi) (3.7)\n",
            "Collecting typer>=0.12.3 (from fastapi-cli>=0.0.2->fastapi)\n",
            "  Downloading typer-0.12.3-py3-none-any.whl (47 kB)\n",
            "\u001b[2K     \u001b[90m━━━━━━━━━━━━━━━━━━━━━━━━━━━━━━━━━━━━━━━━\u001b[0m \u001b[32m47.2/47.2 kB\u001b[0m \u001b[31m2.7 MB/s\u001b[0m eta \u001b[36m0:00:00\u001b[0m\n",
            "\u001b[?25hRequirement already satisfied: anyio in /usr/local/lib/python3.10/dist-packages (from httpx>=0.23.0->fastapi) (3.7.1)\n",
            "Requirement already satisfied: certifi in /usr/local/lib/python3.10/dist-packages (from httpx>=0.23.0->fastapi) (2024.2.2)\n",
            "Collecting httpcore==1.* (from httpx>=0.23.0->fastapi)\n",
            "  Downloading httpcore-1.0.5-py3-none-any.whl (77 kB)\n",
            "\u001b[2K     \u001b[90m━━━━━━━━━━━━━━━━━━━━━━━━━━━━━━━━━━━━━━━━\u001b[0m \u001b[32m77.9/77.9 kB\u001b[0m \u001b[31m5.3 MB/s\u001b[0m eta \u001b[36m0:00:00\u001b[0m\n",
            "\u001b[?25hRequirement already satisfied: sniffio in /usr/local/lib/python3.10/dist-packages (from httpx>=0.23.0->fastapi) (1.3.1)\n",
            "Requirement already satisfied: MarkupSafe>=2.0 in /usr/local/lib/python3.10/dist-packages (from jinja2>=2.11.2->fastapi) (2.1.5)\n",
            "Requirement already satisfied: annotated-types>=0.4.0 in /usr/local/lib/python3.10/dist-packages (from pydantic!=1.8,!=1.8.1,!=2.0.0,!=2.0.1,!=2.1.0,<3.0.0,>=1.7.4->fastapi) (0.6.0)\n",
            "Requirement already satisfied: pydantic-core==2.18.2 in /usr/local/lib/python3.10/dist-packages (from pydantic!=1.8,!=1.8.1,!=2.0.0,!=2.0.1,!=2.1.0,<3.0.0,>=1.7.4->fastapi) (2.18.2)\n",
            "Requirement already satisfied: exceptiongroup in /usr/local/lib/python3.10/dist-packages (from anyio->httpx>=0.23.0->fastapi) (1.2.1)\n",
            "Collecting shellingham>=1.3.0 (from typer>=0.12.3->fastapi-cli>=0.0.2->fastapi)\n",
            "  Downloading shellingham-1.5.4-py2.py3-none-any.whl (9.8 kB)\n",
            "Requirement already satisfied: rich>=10.11.0 in /usr/local/lib/python3.10/dist-packages (from typer>=0.12.3->fastapi-cli>=0.0.2->fastapi) (13.7.1)\n",
            "Requirement already satisfied: markdown-it-py>=2.2.0 in /usr/local/lib/python3.10/dist-packages (from rich>=10.11.0->typer>=0.12.3->fastapi-cli>=0.0.2->fastapi) (3.0.0)\n",
            "Requirement already satisfied: pygments<3.0.0,>=2.13.0 in /usr/local/lib/python3.10/dist-packages (from rich>=10.11.0->typer>=0.12.3->fastapi-cli>=0.0.2->fastapi) (2.16.1)\n",
            "Requirement already satisfied: mdurl~=0.1 in /usr/local/lib/python3.10/dist-packages (from markdown-it-py>=2.2.0->rich>=10.11.0->typer>=0.12.3->fastapi-cli>=0.0.2->fastapi) (0.1.2)\n",
            "Installing collected packages: websockets, uvloop, ujson, shellingham, python-multipart, python-dotenv, orjson, httptools, h11, dnspython, watchfiles, uvicorn, starlette, httpcore, email_validator, typer, httpx, fastapi-cli, fastapi\n",
            "  Attempting uninstall: typer\n",
            "    Found existing installation: typer 0.9.4\n",
            "    Uninstalling typer-0.9.4:\n",
            "      Successfully uninstalled typer-0.9.4\n",
            "\u001b[31mERROR: pip's dependency resolver does not currently take into account all the packages that are installed. This behaviour is the source of the following dependency conflicts.\n",
            "spacy 3.7.4 requires typer<0.10.0,>=0.3.0, but you have typer 0.12.3 which is incompatible.\n",
            "weasel 0.3.4 requires typer<0.10.0,>=0.3.0, but you have typer 0.12.3 which is incompatible.\u001b[0m\u001b[31m\n",
            "\u001b[0mSuccessfully installed dnspython-2.6.1 email_validator-2.1.1 fastapi-0.111.0 fastapi-cli-0.0.2 h11-0.14.0 httpcore-1.0.5 httptools-0.6.1 httpx-0.27.0 orjson-3.10.3 python-dotenv-1.0.1 python-multipart-0.0.9 shellingham-1.5.4 starlette-0.37.2 typer-0.12.3 ujson-5.9.0 uvicorn-0.29.0 uvloop-0.19.0 watchfiles-0.21.0 websockets-12.0\n"
          ]
        }
      ],
      "source": [
        "pip install fastapi 'uvicorn[standard]' python-multipart"
      ]
    },
    {
      "cell_type": "code",
      "source": [
        "from fastapi import FastAPI\n",
        "\n",
        "\n",
        "app = FastAPI(title=\"FastAPI\", version=\"0.1.0\")\n",
        "\n",
        "\n",
        "@app.get(\"/\")\n",
        "def read_root():\n",
        "    return {\n",
        "        \"title\": app.title,\n",
        "        \"version\": app.version,\n",
        "    }"
      ],
      "metadata": {
        "id": "eaosZze6GyRd"
      },
      "execution_count": 2,
      "outputs": []
    },
    {
      "cell_type": "markdown",
      "source": [
        "# Path Parameters"
      ],
      "metadata": {
        "id": "bK7GS7iMG6re"
      }
    },
    {
      "cell_type": "code",
      "source": [
        "from fastapi import Path, FastAPI\n",
        "\n",
        "\n",
        "app = FastAPI()\n",
        "\n",
        "\n",
        "@app.get(\"/blog/{id}\")\n",
        "async def read_item(\n",
        "    id: int = Path(gt=0,\n",
        "                   title=\"Blog ID\",\n",
        "                   description=\"Blog resource identifier\"),):\n",
        "    return {\"id\": id}"
      ],
      "metadata": {
        "id": "GqiCoGPLG2Cl"
      },
      "execution_count": 3,
      "outputs": []
    },
    {
      "cell_type": "markdown",
      "source": [
        "```\n",
        "curl -X 'GET' \\\n",
        "  'http://127.0.0.1:8000/blog/35' \\\n",
        "  -H 'accept: application/json'\n",
        "```"
      ],
      "metadata": {
        "id": "P0DWSNz-HGZ7"
      }
    },
    {
      "cell_type": "markdown",
      "source": [
        "# Query Parameters"
      ],
      "metadata": {
        "id": "BtQnbwL4G9HM"
      }
    },
    {
      "cell_type": "code",
      "source": [
        "from fastapi import Query, FastAPI\n",
        "from enum import Enum\n",
        "\n",
        "\n",
        "app = FastAPI()\n",
        "\n",
        "\n",
        "class BlogOrder(str, Enum):\n",
        "    age = \"age\"\n",
        "    title = \"title\"\n",
        "    created_at = \"created_at\"\n",
        "\n",
        "\n",
        "@app.get(\"/blog/\")\n",
        "async def read_items(order_by: BlogOrder = Query(default=BlogOrder.created_at)):\n",
        "    return {\"order_by\": order_by"
      ],
      "metadata": {
        "id": "U7ikDRSSG3i4"
      },
      "execution_count": 4,
      "outputs": []
    },
    {
      "cell_type": "markdown",
      "source": [
        "```\n",
        "curl -X 'GET' \\\n",
        "  'http://127.0.0.1:8000/blog/?order_by=title' \\\n",
        "  -H 'accept: application/json'\n",
        "```"
      ],
      "metadata": {
        "id": "VovRu8cKHCEC"
      }
    },
    {
      "cell_type": "markdown",
      "source": [
        "# Header Parameters"
      ],
      "metadata": {
        "id": "rM-g-ZuAHKBP"
      }
    },
    {
      "cell_type": "code",
      "source": [
        "from fastapi import FastAPI, Header\n",
        "\n",
        "\n",
        "app = FastAPI()\n",
        "\n",
        "\n",
        "REGEX_TZ = r\"^GMT[+-]((0?[0-9]|1[0-1]):([0-5][0-9])|12:00)$\"\n",
        "\n",
        "\n",
        "@app.get(\"/blog/\")\n",
        "async def read_items(client_tz: str = Header(pattern=REGEX_TZ)):\n",
        "    return {\"Client-TZ\": client_tz}"
      ],
      "metadata": {
        "id": "V7cEfqhzG_eS"
      },
      "execution_count": 5,
      "outputs": []
    },
    {
      "cell_type": "markdown",
      "source": [
        "```\n",
        "curl -X 'GET' \\\n",
        "  'http://127.0.0.1:8000/blog/' \\\n",
        "  -H 'accept: application/json' \\\n",
        "  -H 'client-tz: GMT+5:30'\n",
        "```"
      ],
      "metadata": {
        "id": "ZbTrJ7guHMmn"
      }
    },
    {
      "cell_type": "markdown",
      "source": [
        "# Cookie Parameters"
      ],
      "metadata": {
        "id": "VNGqAJWJHPsE"
      }
    },
    {
      "cell_type": "code",
      "source": [
        "from fastapi import Cookie, FastAPI\n",
        "\n",
        "app = FastAPI()\n",
        "\n",
        "\n",
        "@app.get(\"/blog/\")\n",
        "async def read_items(country: str = Cookie(default=None)):\n",
        "    return {\"Country\": country}"
      ],
      "metadata": {
        "id": "2m1DqTDYHLiK"
      },
      "execution_count": 6,
      "outputs": []
    },
    {
      "cell_type": "markdown",
      "source": [
        "```\n",
        "document.cookie='country=Brazil'\n",
        "```"
      ],
      "metadata": {
        "id": "0f-RmYZmHTKv"
      }
    },
    {
      "cell_type": "markdown",
      "source": [
        "# Body Parameters"
      ],
      "metadata": {
        "id": "_-WnE8KhHWOa"
      }
    },
    {
      "cell_type": "code",
      "source": [
        "from fastapi import Body, FastAPI\n",
        "\n",
        "\n",
        "app = FastAPI()\n",
        "\n",
        "@app.post(\"/blog/\")\n",
        "async def read_items(content: str = Body(...)):\n",
        "    return {\"Content\": content}"
      ],
      "metadata": {
        "id": "A1ea1316HQie"
      },
      "execution_count": 7,
      "outputs": []
    },
    {
      "cell_type": "markdown",
      "source": [
        "```\n",
        "curl -X 'POST' \\\n",
        "  'http://127.0.0.1:8000/blog/' \\\n",
        "  -H 'accept: application/json' \\\n",
        "  -H 'Content-Type: text/plain' \\\n",
        "  -d 'Ireland is known for its wide expanses of lush, green fields.'\n",
        "```"
      ],
      "metadata": {
        "id": "M3jNkhUJHa2w"
      }
    },
    {
      "cell_type": "markdown",
      "source": [
        "# Form Parameters"
      ],
      "metadata": {
        "id": "9ZPXEo__Hcs6"
      }
    },
    {
      "cell_type": "code",
      "source": [
        "from fastapi import Form, FastAPI\n",
        "\n",
        "\n",
        "app = FastAPI()\n",
        "\n",
        "\n",
        "@app.post(\"/blog/\")\n",
        "async def read_items(user: str = Form(...), password: str = Form(...)):\n",
        "    return {\"user\": user, \"password\": password}"
      ],
      "metadata": {
        "id": "xw_bjLkpHX7a"
      },
      "execution_count": 8,
      "outputs": []
    },
    {
      "cell_type": "markdown",
      "source": [
        "```\n",
        "curl -X 'POST' \\\n",
        "  'http://127.0.0.1:8000/blog/' \\\n",
        "  -H 'accept: application/json' \\\n",
        "  -H 'Content-Type: application/x-www-form-urlencoded' \\\n",
        "  -d 'user=admin&password=wewqe'\n",
        "```\n",
        "\n"
      ],
      "metadata": {
        "id": "pC5ZpoIsHfbu"
      }
    },
    {
      "cell_type": "markdown",
      "source": [
        "# File Parameters"
      ],
      "metadata": {
        "id": "uU5qiAWOHkcf"
      }
    },
    {
      "cell_type": "code",
      "source": [
        "from fastapi import File, FastAPI, UploadFile\n",
        "import uuid\n",
        "\n",
        "\n",
        "app = FastAPI()\n",
        "\n",
        "\n",
        "@app.post(\"/blog/\")\n",
        "async def read_items(photo: UploadFile = File(...)):\n",
        "    filename = f\"{uuid.uuid4()}-{photo.filename}\"\n",
        "\n",
        "    with open(filename, \"wb\") as f:\n",
        "        while contents := photo.file.read(1024 * 1024):\n",
        "            f.write(contents)\n",
        "\n",
        "    return {\"Photo\": filename}"
      ],
      "metadata": {
        "id": "cS_BNOPQHeXX"
      },
      "execution_count": 9,
      "outputs": []
    },
    {
      "cell_type": "markdown",
      "source": [
        "```\n",
        "curl -X 'POST' \\\n",
        "  'http://127.0.0.1:8000/blog/' \\\n",
        "  -H 'accept: application/json' \\\n",
        "  -H 'Content-Type: multipart/form-data' \\\n",
        "  -F 'photo=@screenshot.png;type=image/png'\n",
        "```"
      ],
      "metadata": {
        "id": "4P4bby19Horj"
      }
    }
  ]
}