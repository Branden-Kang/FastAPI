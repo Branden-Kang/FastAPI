{
  "nbformat": 4,
  "nbformat_minor": 0,
  "metadata": {
    "colab": {
      "name": "re-doing-the-django-tutorial-with-fastapi-and-react-building-the-crud-endpoints.ipynb",
      "provenance": [],
      "authorship_tag": "ABX9TyNPuVDBzsDEqNKKpcBhliZX"
    },
    "kernelspec": {
      "name": "python3",
      "display_name": "Python 3"
    },
    "language_info": {
      "name": "python"
    }
  },
  "cells": [
    {
      "cell_type": "markdown",
      "metadata": {
        "id": "ksUmnp84YrrW"
      },
      "source": [
        "[Reference](https://medium.com/@jeanb.rocher/re-doing-the-django-tutorial-with-fastapi-and-react-building-the-crud-endpoints-381740fc7990)"
      ]
    },
    {
      "cell_type": "code",
      "metadata": {
        "id": "WCmZ49eXSekL"
      },
      "source": [
        "from sqlalchemy import select\n",
        "from sqlalchemy.orm import Session\n",
        "\n",
        "from polls import models\n",
        "from polls import schemas\n",
        "\n",
        "def get_question(db: Session, question_id: int):\n",
        "    question_query = select(models.Question).where(models.Question.id == question_id)\n",
        "    question = db.execute(question_query).one().Question\n",
        "    return question\n",
        "\n",
        "def list_questions(db: Session):\n",
        "    question_query = select(models.Question)\n",
        "    questions = db.execute(question_query).scalars().all()\n",
        "    return questions"
      ],
      "execution_count": 4,
      "outputs": []
    },
    {
      "cell_type": "code",
      "metadata": {
        "id": "9AFQrxmwYwON"
      },
      "source": [
        "import datetime\n",
        "from typing import List\n",
        "import pydantic\n",
        "class Choice(pydantic.BaseModel):\n",
        "    choice_text: str\n",
        "    votes: int\n",
        "class Config:\n",
        "        orm_mode = True\n",
        "class Question(pydantic.BaseModel):\n",
        "    id: int\n",
        "    question_text: str\n",
        "    pub_date: datetime.datetime\n",
        "class Config:\n",
        "        orm_mode = True\n",
        "class ReadQuestionChoices(ReadQuestion):\n",
        "    id: int\n",
        "    question_text: str\n",
        "    pub_date: datetime.datetime\n",
        "    choices: List[BaseChoice]\n",
        "class Config:\n",
        "        orm_mode = True"
      ],
      "execution_count": 5,
      "outputs": []
    }
  ]
}