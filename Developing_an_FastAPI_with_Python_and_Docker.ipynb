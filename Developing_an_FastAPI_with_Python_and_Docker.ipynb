{
  "nbformat": 4,
  "nbformat_minor": 0,
  "metadata": {
    "colab": {
      "provenance": [],
      "authorship_tag": "ABX9TyPLkwD6+MKyeJcVzjCA0sEj"
    },
    "kernelspec": {
      "name": "python3",
      "display_name": "Python 3"
    },
    "language_info": {
      "name": "python"
    }
  },
  "cells": [
    {
      "cell_type": "markdown",
      "source": [
        "[Reference](https://medium.com/@ricardomoura_90507/developing-an-fastapi-with-python-and-docker-ca6e80021559)"
      ],
      "metadata": {
        "id": "VEC83ENFWC8N"
      }
    },
    {
      "cell_type": "code",
      "execution_count": 4,
      "metadata": {
        "id": "sHUhsQa_WAjP"
      },
      "outputs": [],
      "source": [
        "# # requirements.txt\n",
        "# pylint==2.13.5\n",
        "# pytest==7.1.1\n",
        "# streamlit==1.8.1\n",
        "# fastapi==0.68.0\n",
        "# pydantic==1.8.0\n",
        "# uvicorn==0.15.0"
      ]
    },
    {
      "cell_type": "code",
      "source": [
        "'''\n",
        "This file contains the FastAPI application that defines the /items/ route for creating items. The Item class is defined using Pydantic for data validation. The /items/ route expects to receive an instance of Item\n",
        "as input and returns a dictionary containing the item's information, as well as the price with tax (if the tax is defined).\n",
        "'''\n",
        "\n",
        "from fastapi import FastAPI\n",
        "from pydantic import BaseModel\n",
        "\n",
        "app = FastAPI()\n",
        "\n",
        "class Item(BaseModel):\n",
        "    name: str\n",
        "    description: str = None\n",
        "    price: float\n",
        "    tax: float = None\n",
        "\n",
        "@app.post(\"/items/\")\n",
        "async def create_item(item: Item):\n",
        "    '''\n",
        "    Creates a new item based on the data sent in the request.\n",
        "    Args:\n",
        "    item (Item): Data of the item sent in the request.\n",
        "    Returns:\n",
        "    dict: Dictionary containing the item's information, as well as the price with tax (if the tax is defined).\n",
        "    '''\n",
        "    item_dict = item.dict()\n",
        "    if item.tax:\n",
        "        price_with_tax = item.price + item.tax\n",
        "        item_dict.update({\"price_with_tax\": price_with_tax})\n",
        "    return item_dict"
      ],
      "metadata": {
        "id": "kpp_eCTaWF49"
      },
      "execution_count": 5,
      "outputs": []
    },
    {
      "cell_type": "code",
      "source": [
        "import requests\n",
        "import streamlit as st\n",
        "from pydantic import BaseModel\n",
        "\n",
        "class Item(BaseModel):\n",
        "    name: str\n",
        "    description: str = None\n",
        "    price: float\n",
        "    tax: float = None\n",
        "\n",
        "def create_item(item: Item):\n",
        "    '''\n",
        "    Create a new item by sending a POST request to the FastAPI API.\n",
        "    Args:\n",
        "    item (Item): Data of the item to be created.\n",
        "    Returns:\n",
        "    dict: Dictionary containing the information of the created item.\n",
        "    '''\n",
        "    item_dict = item.dict()\n",
        "    response = requests.post(\"http://localhost/items/\", json=item_dict)\n",
        "    return response.json()\n",
        "\n",
        "st.title(\"Create an item\")\n",
        "name = st.text_input(\"Name\")\n",
        "description = st.text_input(\"Description\")\n",
        "price = st.number_input(\"Price\", step=0.01)\n",
        "tax = st.number_input(\"Tax\", step=0.01)\n",
        "item = Item(name=name, description=description, price=price, tax=tax)\n",
        "\n",
        "if st.button(\"Create\"):\n",
        "  # Create the item and display the response.\n",
        "  response = create_item(item)\n",
        "  st.write(response)"
      ],
      "metadata": {
        "id": "hZP8AnpnXjFy"
      },
      "execution_count": 6,
      "outputs": []
    },
    {
      "cell_type": "code",
      "source": [
        "# Dockerfile\n",
        "# Start from the official Python base image.\n",
        "FROM python:3.9.11-buster\n",
        "\n",
        "# Set the current working directory to /project.\n",
        "# This is where we'll put the requirements.txt file and the app directory.\n",
        "WORKDIR /project\n",
        "\n",
        "# Copy the file with the requirements to the /project directory.\n",
        "# Copy only the file with the requirements first, not the rest of the code.\n",
        "# As this file doesn't change often, Docker will detect it and use the cache for this step, enabling the cache for the next step too.\n",
        "COPY ./requirements.txt /project/requirements.txt\n",
        "\n",
        "# Install the package dependencies in the requirements file.\n",
        "# The --no-cache-dir option tells pip to not save the downloaded packages locally, as that is only if pip was going to be run again to install the same packages, but that's not the case when working with containers.\n",
        "# The --upgrade option tells pip to upgrade the packages if they are already installed.\n",
        "RUN pip install --no-cache-dir --upgrade -r /project/requirements.txt\n",
        "\n",
        "# Copy the ./app directory inside the /project directory.\n",
        "COPY ./app /project/app\n",
        "\n",
        "# Set the command to run the uvicorn server.\n",
        "# CMD takes a list of strings, each of these strings is what you would type in the command line separated by spaces.\n",
        "# This command will be run from the current working directory, the same /project directory you set above with WORKDIR /project.\n",
        "# Because the program will be started at /project and inside of it is the directory ./app with your code, Uvicorn will be able to see and import app from app.main.\n",
        "CMD [\"uvicorn\", \"app.main:app\", \"--host\", \"0.0.0.0\", \"--port\", \"80\"]"
      ],
      "metadata": {
        "id": "o2SMVknJWGv-"
      },
      "execution_count": 7,
      "outputs": []
    }
  ]
}