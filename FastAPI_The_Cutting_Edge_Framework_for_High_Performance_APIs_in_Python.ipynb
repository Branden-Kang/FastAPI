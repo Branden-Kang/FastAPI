{
  "nbformat": 4,
  "nbformat_minor": 0,
  "metadata": {
    "colab": {
      "provenance": [],
      "authorship_tag": "ABX9TyO9CQ/PXCqyp2uFu8SbJoKy"
    },
    "kernelspec": {
      "name": "python3",
      "display_name": "Python 3"
    },
    "language_info": {
      "name": "python"
    }
  },
  "cells": [
    {
      "cell_type": "markdown",
      "source": [
        "[Reference](https://levelup.gitconnected.com/fastapi-the-cutting-edge-framework-for-high-performance-apis-in-python-112a04171e50)"
      ],
      "metadata": {
        "id": "ndGnHnwQ0pm_"
      }
    },
    {
      "cell_type": "code",
      "execution_count": 1,
      "metadata": {
        "id": "9npwSwEv0oKc"
      },
      "outputs": [],
      "source": [
        "from typing import List, Optional\n",
        "from fastapi import FastAPI, HTTPException\n",
        "from pydantic import BaseModel\n",
        "\n",
        "app = FastAPI()\n",
        "\n",
        "class Item(BaseModel):\n",
        "    name: str\n",
        "    description: Optional[str] = None\n",
        "    price: float\n",
        "items = []\n",
        "@app.post(\"/items/\", response_model=Item)\n",
        "def create_item(item: Item):\n",
        "    items.append(item)\n",
        "    return item\n",
        "@app.get(\"/items/\", response_model=List[Item])\n",
        "def read_items():\n",
        "    return items\n",
        "@app.get(\"/items/{item_id}\", response_model=Item)\n",
        "def read_item(item_id: int):\n",
        "    if item_id < len(items):\n",
        "        return items[item_id]\n",
        "    raise HTTPException(status_code=404, detail=\"Item not found\")\n",
        "@app.put(\"/items/{item_id}\", response_model=Item)\n",
        "def update_item(item_id: int, item: Item):\n",
        "    if item_id < len(items):\n",
        "        items[item_id] = item\n",
        "        return item\n",
        "    raise HTTPException(status_code=404, detail=\"Item not found\")\n",
        "@app.delete(\"/items/{item_id}\", response_model=Item)\n",
        "def delete_item(item_id: int):\n",
        "    if item_id < len(items):\n",
        "        return items.pop(item_id)\n",
        "    raise HTTPException(status_code=404, detail=\"Item not found\")"
      ]
    }
  ]
}