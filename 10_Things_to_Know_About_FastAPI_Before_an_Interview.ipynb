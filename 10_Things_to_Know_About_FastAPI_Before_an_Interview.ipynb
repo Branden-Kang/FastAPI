{
  "nbformat": 4,
  "nbformat_minor": 0,
  "metadata": {
    "colab": {
      "provenance": [],
      "authorship_tag": "ABX9TyOASSLLMDleCB9N/8c6E5wZ"
    },
    "kernelspec": {
      "name": "python3",
      "display_name": "Python 3"
    },
    "language_info": {
      "name": "python"
    }
  },
  "cells": [
    {
      "cell_type": "markdown",
      "source": [
        "[Reference](https://blog.stackademic.com/10-things-to-know-about-fastapi-before-an-interview-d6a14bcfa775)"
      ],
      "metadata": {
        "id": "26mN6IF_tMY-"
      }
    },
    {
      "cell_type": "code",
      "source": [
        "!pip install fastapi"
      ],
      "metadata": {
        "colab": {
          "base_uri": "https://localhost:8080/"
        },
        "id": "5wgj4SO4tZDD",
        "outputId": "3c3b18c0-a936-4a84-9385-19edcdf1715a"
      },
      "execution_count": 3,
      "outputs": [
        {
          "output_type": "stream",
          "name": "stdout",
          "text": [
            "Collecting fastapi\n",
            "  Downloading fastapi-0.115.7-py3-none-any.whl.metadata (27 kB)\n",
            "Collecting starlette<0.46.0,>=0.40.0 (from fastapi)\n",
            "  Downloading starlette-0.45.3-py3-none-any.whl.metadata (6.3 kB)\n",
            "Requirement already satisfied: pydantic!=1.8,!=1.8.1,!=2.0.0,!=2.0.1,!=2.1.0,<3.0.0,>=1.7.4 in /usr/local/lib/python3.11/dist-packages (from fastapi) (2.10.5)\n",
            "Requirement already satisfied: typing-extensions>=4.8.0 in /usr/local/lib/python3.11/dist-packages (from fastapi) (4.12.2)\n",
            "Requirement already satisfied: annotated-types>=0.6.0 in /usr/local/lib/python3.11/dist-packages (from pydantic!=1.8,!=1.8.1,!=2.0.0,!=2.0.1,!=2.1.0,<3.0.0,>=1.7.4->fastapi) (0.7.0)\n",
            "Requirement already satisfied: pydantic-core==2.27.2 in /usr/local/lib/python3.11/dist-packages (from pydantic!=1.8,!=1.8.1,!=2.0.0,!=2.0.1,!=2.1.0,<3.0.0,>=1.7.4->fastapi) (2.27.2)\n",
            "Requirement already satisfied: anyio<5,>=3.6.2 in /usr/local/lib/python3.11/dist-packages (from starlette<0.46.0,>=0.40.0->fastapi) (3.7.1)\n",
            "Requirement already satisfied: idna>=2.8 in /usr/local/lib/python3.11/dist-packages (from anyio<5,>=3.6.2->starlette<0.46.0,>=0.40.0->fastapi) (3.10)\n",
            "Requirement already satisfied: sniffio>=1.1 in /usr/local/lib/python3.11/dist-packages (from anyio<5,>=3.6.2->starlette<0.46.0,>=0.40.0->fastapi) (1.3.1)\n",
            "Downloading fastapi-0.115.7-py3-none-any.whl (94 kB)\n",
            "\u001b[2K   \u001b[90m━━━━━━━━━━━━━━━━━━━━━━━━━━━━━━━━━━━━━━━━\u001b[0m \u001b[32m94.8/94.8 kB\u001b[0m \u001b[31m3.3 MB/s\u001b[0m eta \u001b[36m0:00:00\u001b[0m\n",
            "\u001b[?25hDownloading starlette-0.45.3-py3-none-any.whl (71 kB)\n",
            "\u001b[2K   \u001b[90m━━━━━━━━━━━━━━━━━━━━━━━━━━━━━━━━━━━━━━━━\u001b[0m \u001b[32m71.5/71.5 kB\u001b[0m \u001b[31m8.3 MB/s\u001b[0m eta \u001b[36m0:00:00\u001b[0m\n",
            "\u001b[?25hInstalling collected packages: starlette, fastapi\n",
            "Successfully installed fastapi-0.115.7 starlette-0.45.3\n"
          ]
        }
      ]
    },
    {
      "cell_type": "markdown",
      "source": [
        "# 1. Core Features and Benefits"
      ],
      "metadata": {
        "id": "XyZ88jbGtUZa"
      }
    },
    {
      "cell_type": "code",
      "execution_count": 4,
      "metadata": {
        "id": "sgesJNAmqsvH"
      },
      "outputs": [],
      "source": [
        "from fastapi import FastAPI\n",
        "\n",
        "app = FastAPI(title=\"My FastAPI App\", description=\"A simple API\", version=\"1.0.0\")\n",
        "\n",
        "@app.get(\"/\")\n",
        "def read_root():\n",
        "    return {\"message\": \"Welcome to FastAPI!\"}"
      ]
    },
    {
      "cell_type": "markdown",
      "source": [
        "```\n",
        "uvicorn main:app --reload\n",
        "```"
      ],
      "metadata": {
        "id": "SiaC5tYKtPtM"
      }
    },
    {
      "cell_type": "markdown",
      "source": [
        "# 2. Asynchronous Programming"
      ],
      "metadata": {
        "id": "XTRujG44tXUO"
      }
    },
    {
      "cell_type": "code",
      "source": [
        "import asyncio\n",
        "from fastapi import FastAPI\n",
        "\n",
        "app = FastAPI()\n",
        "\n",
        "@app.get(\"/async\")\n",
        "async def async_route():\n",
        "    await asyncio.sleep(1)  # Simulating a long-running task\n",
        "    return {\"message\": \"This was handled asynchronously!\"}"
      ],
      "metadata": {
        "id": "crNDGwAwtO8H"
      },
      "execution_count": 5,
      "outputs": []
    },
    {
      "cell_type": "markdown",
      "source": [
        "# 3. Dependency Injection"
      ],
      "metadata": {
        "id": "aQaCIG3itbn5"
      }
    },
    {
      "cell_type": "code",
      "source": [
        "from fastapi import Depends, FastAPI\n",
        "\n",
        "app = FastAPI()\n",
        "\n",
        "def common_dependency():\n",
        "    return {\"dependency_data\": \"Shared logic\"}\n",
        "\n",
        "@app.get(\"/use-dependency\")\n",
        "def use_dependency(data = Depends(common_dependency)):\n",
        "    return data"
      ],
      "metadata": {
        "id": "UT2tD7AFtafd"
      },
      "execution_count": 6,
      "outputs": []
    },
    {
      "cell_type": "markdown",
      "source": [
        "# 4. Data Validation and Serialization"
      ],
      "metadata": {
        "id": "UrhwclV9tdjb"
      }
    },
    {
      "cell_type": "code",
      "source": [
        "from fastapi import FastAPI\n",
        "from pydantic import BaseModel\n",
        "\n",
        "app = FastAPI()\n",
        "\n",
        "class Item(BaseModel):\n",
        "    name: str\n",
        "    price: float\n",
        "    description: str | None = None\n",
        "\n",
        "@app.post(\"/items\")\n",
        "def create_item(item: Item):\n",
        "    return {\"item\": item}"
      ],
      "metadata": {
        "id": "PdnbCC3ZtcwX"
      },
      "execution_count": 7,
      "outputs": []
    },
    {
      "cell_type": "markdown",
      "source": [
        "# 5. Routing"
      ],
      "metadata": {
        "id": "T6BSdn-XtfiM"
      }
    },
    {
      "cell_type": "code",
      "source": [
        "from fastapi import FastAPI\n",
        "\n",
        "app = FastAPI()\n",
        "\n",
        "@app.get(\"/items/{item_id}\")\n",
        "def read_item(item_id: int, q: str | None = None):\n",
        "    return {\"item_id\": item_id, \"query\": q}"
      ],
      "metadata": {
        "id": "y7LFRCFPtenD"
      },
      "execution_count": 8,
      "outputs": []
    },
    {
      "cell_type": "markdown",
      "source": [
        "# 6. Automatic Interactive Documentation"
      ],
      "metadata": {
        "id": "CqR3ftDhthle"
      }
    },
    {
      "cell_type": "code",
      "source": [
        "from fastapi import FastAPI\n",
        "\n",
        "app = FastAPI(\n",
        "    title=\"Custom API\",\n",
        "    description=\"This is a custom description for the API.\",\n",
        "    version=\"1.0.0\"\n",
        ")\n",
        "\n",
        "@app.get(\"/\")\n",
        "def read_root():\n",
        "    return {\"message\": \"Custom API documentation!\"}"
      ],
      "metadata": {
        "id": "d9nYHCB3tgqz"
      },
      "execution_count": 9,
      "outputs": []
    },
    {
      "cell_type": "markdown",
      "source": [
        "# 7. Middleware"
      ],
      "metadata": {
        "id": "z-MWV4XVtjsl"
      }
    },
    {
      "cell_type": "code",
      "source": [
        "from fastapi import FastAPI, Request\n",
        "\n",
        "app = FastAPI()\n",
        "\n",
        "@app.middleware(\"http\")\n",
        "async def log_requests(request: Request, call_next):\n",
        "    print(f\"Request: {request.method} {request.url}\")\n",
        "    response = await call_next(request)\n",
        "    print(f\"Response: {response.status_code}\")\n",
        "    return response\n",
        "\n",
        "@app.get(\"/\")\n",
        "def read_root():\n",
        "    return {\"message\": \"Middleware example!\"}"
      ],
      "metadata": {
        "id": "h7TmCRs1tiqO"
      },
      "execution_count": 10,
      "outputs": []
    },
    {
      "cell_type": "markdown",
      "source": [
        "# 8. Error Handling"
      ],
      "metadata": {
        "id": "chTG_mWKtmBQ"
      }
    },
    {
      "cell_type": "code",
      "source": [
        "from fastapi import FastAPI, HTTPException\n",
        "\n",
        "app = FastAPI()\n",
        "\n",
        "@app.get(\"/items/{item_id}\")\n",
        "def read_item(item_id: int):\n",
        "    if item_id > 10:\n",
        "        raise HTTPException(status_code=404, detail=\"Item not found\")\n",
        "    return {\"item_id\": item_id}"
      ],
      "metadata": {
        "id": "7LimyBZStk9_"
      },
      "execution_count": 11,
      "outputs": []
    },
    {
      "cell_type": "markdown",
      "source": [
        "# 9. Testing with FastAPI"
      ],
      "metadata": {
        "id": "EIcw1_o8toJk"
      }
    },
    {
      "cell_type": "code",
      "source": [
        "from fastapi.testclient import TestClient\n",
        "from main import app\n",
        "\n",
        "client = TestClient(app)\n",
        "\n",
        "def test_read_root():\n",
        "    response = client.get(\"/\")\n",
        "    assert response.status_code == 200\n",
        "    assert response.json() == {\"message\": \"Welcome to FastAPI!\"}"
      ],
      "metadata": {
        "id": "3oRIOkHGtnP8"
      },
      "execution_count": 13,
      "outputs": []
    },
    {
      "cell_type": "markdown",
      "source": [
        "# 10. Deployment"
      ],
      "metadata": {
        "id": "lCVgncwOtsch"
      }
    },
    {
      "cell_type": "markdown",
      "source": [
        "```\n",
        "uvicorn main:app --host 0.0.0.0 --port 8000 --workers 4\n",
        "```"
      ],
      "metadata": {
        "id": "mg5tGwsntvu5"
      }
    },
    {
      "cell_type": "markdown",
      "source": [
        "```\n",
        "gunicorn -k uvicorn.workers.UvicornWorker main:app -w 4 -b 0.0.0.0:8000\n",
        "```"
      ],
      "metadata": {
        "id": "LnBgHaDitxfe"
      }
    },
    {
      "cell_type": "markdown",
      "source": [
        "# Bonus: Security Features"
      ],
      "metadata": {
        "id": "uCK-ENOztzCp"
      }
    },
    {
      "cell_type": "code",
      "source": [
        "from fastapi import FastAPI, Depends\n",
        "from fastapi.security import OAuth2PasswordBearer\n",
        "\n",
        "app = FastAPI()\n",
        "oauth2_scheme = OAuth2PasswordBearer(tokenUrl=\"token\")\n",
        "\n",
        "@app.get(\"/users/me\")\n",
        "def read_users_me(token: str = Depends(oauth2_scheme)):\n",
        "    return {\"token\": token}"
      ],
      "metadata": {
        "id": "j1c2dh6etrMk"
      },
      "execution_count": 14,
      "outputs": []
    }
  ]
}