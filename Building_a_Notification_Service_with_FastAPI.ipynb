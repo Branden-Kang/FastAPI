{
  "nbformat": 4,
  "nbformat_minor": 0,
  "metadata": {
    "colab": {
      "provenance": [],
      "authorship_tag": "ABX9TyPphT7sOVUrvOPy8vPOdYbR"
    },
    "kernelspec": {
      "name": "python3",
      "display_name": "Python 3"
    },
    "language_info": {
      "name": "python"
    }
  },
  "cells": [
    {
      "cell_type": "markdown",
      "source": [
        "[Reference](https://jnikenoueba.medium.com/building-a-notification-service-with-fastapi-8cc51d2eb2a8)"
      ],
      "metadata": {
        "id": "NQDLUUn8IIQ0"
      }
    },
    {
      "cell_type": "code",
      "execution_count": 1,
      "metadata": {
        "colab": {
          "base_uri": "https://localhost:8080/"
        },
        "id": "zOwhAhoGIEYp",
        "outputId": "b82553b9-af31-4d4d-d577-94af73539e4e"
      },
      "outputs": [
        {
          "output_type": "stream",
          "name": "stdout",
          "text": [
            "Collecting fastapi\n",
            "  Downloading fastapi-0.112.0-py3-none-any.whl.metadata (27 kB)\n",
            "Collecting uvicorn\n",
            "  Downloading uvicorn-0.30.5-py3-none-any.whl.metadata (6.6 kB)\n",
            "Requirement already satisfied: requests in /usr/local/lib/python3.10/dist-packages (2.32.3)\n",
            "Collecting starlette<0.38.0,>=0.37.2 (from fastapi)\n",
            "  Downloading starlette-0.37.2-py3-none-any.whl.metadata (5.9 kB)\n",
            "Requirement already satisfied: pydantic!=1.8,!=1.8.1,!=2.0.0,!=2.0.1,!=2.1.0,<3.0.0,>=1.7.4 in /usr/local/lib/python3.10/dist-packages (from fastapi) (2.8.2)\n",
            "Requirement already satisfied: typing-extensions>=4.8.0 in /usr/local/lib/python3.10/dist-packages (from fastapi) (4.12.2)\n",
            "Requirement already satisfied: click>=7.0 in /usr/local/lib/python3.10/dist-packages (from uvicorn) (8.1.7)\n",
            "Collecting h11>=0.8 (from uvicorn)\n",
            "  Downloading h11-0.14.0-py3-none-any.whl.metadata (8.2 kB)\n",
            "Requirement already satisfied: charset-normalizer<4,>=2 in /usr/local/lib/python3.10/dist-packages (from requests) (3.3.2)\n",
            "Requirement already satisfied: idna<4,>=2.5 in /usr/local/lib/python3.10/dist-packages (from requests) (3.7)\n",
            "Requirement already satisfied: urllib3<3,>=1.21.1 in /usr/local/lib/python3.10/dist-packages (from requests) (2.0.7)\n",
            "Requirement already satisfied: certifi>=2017.4.17 in /usr/local/lib/python3.10/dist-packages (from requests) (2024.7.4)\n",
            "Requirement already satisfied: annotated-types>=0.4.0 in /usr/local/lib/python3.10/dist-packages (from pydantic!=1.8,!=1.8.1,!=2.0.0,!=2.0.1,!=2.1.0,<3.0.0,>=1.7.4->fastapi) (0.7.0)\n",
            "Requirement already satisfied: pydantic-core==2.20.1 in /usr/local/lib/python3.10/dist-packages (from pydantic!=1.8,!=1.8.1,!=2.0.0,!=2.0.1,!=2.1.0,<3.0.0,>=1.7.4->fastapi) (2.20.1)\n",
            "Requirement already satisfied: anyio<5,>=3.4.0 in /usr/local/lib/python3.10/dist-packages (from starlette<0.38.0,>=0.37.2->fastapi) (3.7.1)\n",
            "Requirement already satisfied: sniffio>=1.1 in /usr/local/lib/python3.10/dist-packages (from anyio<5,>=3.4.0->starlette<0.38.0,>=0.37.2->fastapi) (1.3.1)\n",
            "Requirement already satisfied: exceptiongroup in /usr/local/lib/python3.10/dist-packages (from anyio<5,>=3.4.0->starlette<0.38.0,>=0.37.2->fastapi) (1.2.2)\n",
            "Downloading fastapi-0.112.0-py3-none-any.whl (93 kB)\n",
            "\u001b[2K   \u001b[90m━━━━━━━━━━━━━━━━━━━━━━━━━━━━━━━━━━━━━━━━\u001b[0m \u001b[32m93.1/93.1 kB\u001b[0m \u001b[31m2.8 MB/s\u001b[0m eta \u001b[36m0:00:00\u001b[0m\n",
            "\u001b[?25hDownloading uvicorn-0.30.5-py3-none-any.whl (62 kB)\n",
            "\u001b[2K   \u001b[90m━━━━━━━━━━━━━━━━━━━━━━━━━━━━━━━━━━━━━━━━\u001b[0m \u001b[32m62.8/62.8 kB\u001b[0m \u001b[31m3.8 MB/s\u001b[0m eta \u001b[36m0:00:00\u001b[0m\n",
            "\u001b[?25hDownloading h11-0.14.0-py3-none-any.whl (58 kB)\n",
            "\u001b[2K   \u001b[90m━━━━━━━━━━━━━━━━━━━━━━━━━━━━━━━━━━━━━━━━\u001b[0m \u001b[32m58.3/58.3 kB\u001b[0m \u001b[31m3.6 MB/s\u001b[0m eta \u001b[36m0:00:00\u001b[0m\n",
            "\u001b[?25hDownloading starlette-0.37.2-py3-none-any.whl (71 kB)\n",
            "\u001b[2K   \u001b[90m━━━━━━━━━━━━━━━━━━━━━━━━━━━━━━━━━━━━━━━━\u001b[0m \u001b[32m71.9/71.9 kB\u001b[0m \u001b[31m3.4 MB/s\u001b[0m eta \u001b[36m0:00:00\u001b[0m\n",
            "\u001b[?25hInstalling collected packages: h11, uvicorn, starlette, fastapi\n",
            "Successfully installed fastapi-0.112.0 h11-0.14.0 starlette-0.37.2 uvicorn-0.30.5\n"
          ]
        }
      ],
      "source": [
        "pip install fastapi uvicorn requests"
      ]
    },
    {
      "cell_type": "code",
      "source": [
        "pip install onesignal-sdk"
      ],
      "metadata": {
        "colab": {
          "base_uri": "https://localhost:8080/"
        },
        "id": "_fJQxySxIQs5",
        "outputId": "edc66cd1-1458-44ed-f5df-d32894017e3c"
      },
      "execution_count": 2,
      "outputs": [
        {
          "output_type": "stream",
          "name": "stdout",
          "text": [
            "Collecting onesignal-sdk\n",
            "  Downloading onesignal_sdk-2.0.0-py3-none-any.whl.metadata (11 kB)\n",
            "Collecting httpx>=0.1 (from onesignal-sdk)\n",
            "  Downloading httpx-0.27.0-py3-none-any.whl.metadata (7.2 kB)\n",
            "Requirement already satisfied: anyio in /usr/local/lib/python3.10/dist-packages (from httpx>=0.1->onesignal-sdk) (3.7.1)\n",
            "Requirement already satisfied: certifi in /usr/local/lib/python3.10/dist-packages (from httpx>=0.1->onesignal-sdk) (2024.7.4)\n",
            "Collecting httpcore==1.* (from httpx>=0.1->onesignal-sdk)\n",
            "  Downloading httpcore-1.0.5-py3-none-any.whl.metadata (20 kB)\n",
            "Requirement already satisfied: idna in /usr/local/lib/python3.10/dist-packages (from httpx>=0.1->onesignal-sdk) (3.7)\n",
            "Requirement already satisfied: sniffio in /usr/local/lib/python3.10/dist-packages (from httpx>=0.1->onesignal-sdk) (1.3.1)\n",
            "Requirement already satisfied: h11<0.15,>=0.13 in /usr/local/lib/python3.10/dist-packages (from httpcore==1.*->httpx>=0.1->onesignal-sdk) (0.14.0)\n",
            "Requirement already satisfied: exceptiongroup in /usr/local/lib/python3.10/dist-packages (from anyio->httpx>=0.1->onesignal-sdk) (1.2.2)\n",
            "Downloading onesignal_sdk-2.0.0-py3-none-any.whl (16 kB)\n",
            "Downloading httpx-0.27.0-py3-none-any.whl (75 kB)\n",
            "\u001b[2K   \u001b[90m━━━━━━━━━━━━━━━━━━━━━━━━━━━━━━━━━━━━━━━━\u001b[0m \u001b[32m75.6/75.6 kB\u001b[0m \u001b[31m3.7 MB/s\u001b[0m eta \u001b[36m0:00:00\u001b[0m\n",
            "\u001b[?25hDownloading httpcore-1.0.5-py3-none-any.whl (77 kB)\n",
            "\u001b[2K   \u001b[90m━━━━━━━━━━━━━━━━━━━━━━━━━━━━━━━━━━━━━━━━\u001b[0m \u001b[32m77.9/77.9 kB\u001b[0m \u001b[31m5.3 MB/s\u001b[0m eta \u001b[36m0:00:00\u001b[0m\n",
            "\u001b[?25hInstalling collected packages: httpcore, httpx, onesignal-sdk\n",
            "Successfully installed httpcore-1.0.5 httpx-0.27.0 onesignal-sdk-2.0.0\n"
          ]
        }
      ]
    },
    {
      "cell_type": "markdown",
      "source": [
        "# 1. Set Up FastAPI"
      ],
      "metadata": {
        "id": "z-1TXpuGITg8"
      }
    },
    {
      "cell_type": "code",
      "source": [
        "from fastapi import FastAPI, Depends\n",
        "from notifications.routes import router as notifications_router\n",
        "from auth.jwt_handler import JWTBearer\n",
        "\n",
        "app = FastAPI()\n",
        "\n",
        "app.include_router(notifications_router, prefix=\"/notifications\", dependencies=[Depends(JWTBearer())])\n",
        "\n",
        "@app.get(\"/\")\n",
        "def read_root():\n",
        "    return {\"message\": \"Welcome to the Notification Service!\"}"
      ],
      "metadata": {
        "colab": {
          "base_uri": "https://localhost:8080/",
          "height": 378
        },
        "id": "AyeFzZ0OIWca",
        "outputId": "63d5173d-20d9-4582-fd40-fb639c643d98"
      },
      "execution_count": 3,
      "outputs": [
        {
          "output_type": "error",
          "ename": "ModuleNotFoundError",
          "evalue": "No module named 'notifications'",
          "traceback": [
            "\u001b[0;31m---------------------------------------------------------------------------\u001b[0m",
            "\u001b[0;31mModuleNotFoundError\u001b[0m                       Traceback (most recent call last)",
            "\u001b[0;32m<ipython-input-3-4ed64bc6a488>\u001b[0m in \u001b[0;36m<cell line: 2>\u001b[0;34m()\u001b[0m\n\u001b[1;32m      1\u001b[0m \u001b[0;32mfrom\u001b[0m \u001b[0mfastapi\u001b[0m \u001b[0;32mimport\u001b[0m \u001b[0mFastAPI\u001b[0m\u001b[0;34m,\u001b[0m \u001b[0mDepends\u001b[0m\u001b[0;34m\u001b[0m\u001b[0;34m\u001b[0m\u001b[0m\n\u001b[0;32m----> 2\u001b[0;31m \u001b[0;32mfrom\u001b[0m \u001b[0mnotifications\u001b[0m\u001b[0;34m.\u001b[0m\u001b[0mroutes\u001b[0m \u001b[0;32mimport\u001b[0m \u001b[0mrouter\u001b[0m \u001b[0;32mas\u001b[0m \u001b[0mnotifications_router\u001b[0m\u001b[0;34m\u001b[0m\u001b[0;34m\u001b[0m\u001b[0m\n\u001b[0m\u001b[1;32m      3\u001b[0m \u001b[0;32mfrom\u001b[0m \u001b[0mauth\u001b[0m\u001b[0;34m.\u001b[0m\u001b[0mjwt_handler\u001b[0m \u001b[0;32mimport\u001b[0m \u001b[0mJWTBearer\u001b[0m\u001b[0;34m\u001b[0m\u001b[0;34m\u001b[0m\u001b[0m\n\u001b[1;32m      4\u001b[0m \u001b[0;34m\u001b[0m\u001b[0m\n\u001b[1;32m      5\u001b[0m \u001b[0mapp\u001b[0m \u001b[0;34m=\u001b[0m \u001b[0mFastAPI\u001b[0m\u001b[0;34m(\u001b[0m\u001b[0;34m)\u001b[0m\u001b[0;34m\u001b[0m\u001b[0;34m\u001b[0m\u001b[0m\n",
            "\u001b[0;31mModuleNotFoundError\u001b[0m: No module named 'notifications'",
            "",
            "\u001b[0;31m---------------------------------------------------------------------------\u001b[0;32m\nNOTE: If your import is failing due to a missing package, you can\nmanually install dependencies using either !pip or !apt.\n\nTo view examples of installing some common dependencies, click the\n\"Open Examples\" button below.\n\u001b[0;31m---------------------------------------------------------------------------\u001b[0m\n"
          ],
          "errorDetails": {
            "actions": [
              {
                "action": "open_url",
                "actionText": "Open Examples",
                "url": "/notebooks/snippets/importing_libraries.ipynb"
              }
            ]
          }
        }
      ]
    },
    {
      "cell_type": "markdown",
      "source": [
        "# 2. Models and Schemas"
      ],
      "metadata": {
        "id": "xJ1FgokFIX-2"
      }
    },
    {
      "cell_type": "code",
      "source": [
        "# notifications/models.py\n",
        "\n",
        "from pydantic import BaseModel\n",
        "\n",
        "class Notification(BaseModel):\n",
        "    title: str\n",
        "    message: str\n",
        "    user_id: str"
      ],
      "metadata": {
        "id": "Z7ShymzlIWsa"
      },
      "execution_count": 4,
      "outputs": []
    },
    {
      "cell_type": "code",
      "source": [
        "# notifications/schemas.py\n",
        "from pydantic import BaseModel\n",
        "\n",
        "class NotificationSchema(BaseModel):\n",
        "    title: str\n",
        "    message: str\n",
        "    user_id: str\n",
        "\n",
        "class NotificationResponse(BaseModel):\n",
        "    success: bool\n",
        "    message: str"
      ],
      "metadata": {
        "id": "QZwh3oAmIarq"
      },
      "execution_count": 5,
      "outputs": []
    },
    {
      "cell_type": "markdown",
      "source": [
        "# 3. Routes"
      ],
      "metadata": {
        "id": "K1XrpdF0IfM8"
      }
    },
    {
      "cell_type": "code",
      "source": [
        "# notifications/routes.py\n",
        "from fastapi import APIRouter, HTTPException\n",
        "from notifications.models import Notification\n",
        "from notifications.schemas import NotificationSchema, NotificationResponse\n",
        "from notifications.utils import send_notification\n",
        "\n",
        "router = APIRouter()\n",
        "\n",
        "@router.post(\"/\", response_model=NotificationResponse)\n",
        "async def create_notification(notification: NotificationSchema):\n",
        "    success = send_notification(notification)\n",
        "    if not success:\n",
        "        raise HTTPException(status_code=500, detail=\"Notification failed\")\n",
        "    return NotificationResponse(success=True, message=\"Notification sent successfully\")"
      ],
      "metadata": {
        "id": "8u17cmLQIeIi"
      },
      "execution_count": 8,
      "outputs": []
    },
    {
      "cell_type": "markdown",
      "source": [
        "# 4. Sending Notifications"
      ],
      "metadata": {
        "id": "BjttJGZCIoRH"
      }
    },
    {
      "cell_type": "code",
      "source": [
        "# notifications/utils.py\n",
        "\n",
        "import onesignal as onesignal_sdk\n",
        "from notifications.models import Notification\n",
        "\n",
        "ONESIGNAL_APP_ID = 'your_onesignal_app_id'\n",
        "ONESIGNAL_API_KEY = 'your_onesignal_api_key'\n",
        "\n",
        "onesignal_client = onesignal_sdk.Client(app_id=ONESIGNAL_APP_ID, rest_api_key=ONESIGNAL_API_KEY)\n",
        "\n",
        "def send_notification(notification: Notification):\n",
        "    notification_body = {\n",
        "        'headings': {'en': notification.title},\n",
        "        'contents': {'en': notification.message},\n",
        "        'include_player_ids': [notification.user_id]\n",
        "    }\n",
        "\n",
        "    response = onesignal_client.send_notification(notification_body)\n",
        "    return response.status_code == 200"
      ],
      "metadata": {
        "id": "mvN6haWAIh6m"
      },
      "execution_count": 9,
      "outputs": []
    },
    {
      "cell_type": "markdown",
      "source": [
        "# 5. Authentication"
      ],
      "metadata": {
        "id": "4QBbp0yTIs-E"
      }
    },
    {
      "cell_type": "code",
      "source": [
        "# auth/jwt_handler.py\n",
        "import jwt\n",
        "from fastapi import Request, HTTPException\n",
        "\n",
        "SECRET_KEY = \"your_secret_key\"\n",
        "\n",
        "def JWTBearer():\n",
        "    def verify_jwt(request: Request):\n",
        "        token = request.headers.get(\"Authorization\")\n",
        "        if not token:\n",
        "            raise HTTPException(status_code=403, detail=\"Token is missing\")\n",
        "        try:\n",
        "            payload = jwt.decode(token, SECRET_KEY, algorithms=[\"HS256\"])\n",
        "        except jwt.ExpiredSignatureError:\n",
        "            raise HTTPException(status_code=403, detail=\"Token has expired\")\n",
        "        except jwt.InvalidTokenError:\n",
        "            raise HTTPException(status_code=403, detail=\"Invalid token\")\n",
        "    return verify_jwt"
      ],
      "metadata": {
        "id": "47rICd9rIrht"
      },
      "execution_count": 10,
      "outputs": []
    },
    {
      "cell_type": "markdown",
      "source": [
        "```\n",
        "uvicorn main:app --reload\n",
        "```"
      ],
      "metadata": {
        "id": "o0qpAGSbIx49"
      }
    }
  ]
}