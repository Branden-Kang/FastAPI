{
  "nbformat": 4,
  "nbformat_minor": 0,
  "metadata": {
    "colab": {
      "name": "WebSockets In Python FastAPI — Fetching Data At Super Speed.ipynb",
      "provenance": [],
      "authorship_tag": "ABX9TyOaZpsvChko6bflgC3/1sRQ"
    },
    "kernelspec": {
      "name": "python3",
      "display_name": "Python 3"
    },
    "language_info": {
      "name": "python"
    }
  },
  "cells": [
    {
      "cell_type": "markdown",
      "source": [
        "[Reference](https://python.plainenglish.io/websockets-in-python-fastapi-fetching-data-at-super-speed-3c7b355949fd)"
      ],
      "metadata": {
        "id": "Uc2SnoAGO5Q1"
      }
    },
    {
      "cell_type": "markdown",
      "source": [
        "# HTTP Requests In Python FastAPI"
      ],
      "metadata": {
        "id": "iyCwjm8tO7ss"
      }
    },
    {
      "cell_type": "code",
      "execution_count": 2,
      "metadata": {
        "id": "_SD7sCu2K8SQ"
      },
      "outputs": [],
      "source": [
        "# app.py\n",
        "import uvicorn\n",
        "from fastapi import FastAPI\n",
        "\n",
        "app = FastAPI()\n",
        "\n",
        "@app.get(\"/test\")\n",
        "def test():\n",
        "    return {\"message\": \"hello world\"}\n",
        "    \n",
        "if __name__ == \"__main__\":\n",
        "    uvicorn.run(\"app:app\")"
      ]
    },
    {
      "cell_type": "markdown",
      "source": [
        "# WebSockets VS HTTP Requests"
      ],
      "metadata": {
        "id": "hmiCLuIyPFFk"
      }
    },
    {
      "cell_type": "code",
      "source": [
        "# app.py\n",
        "import uvicorn\n",
        "from fastapi import FastAPI, WebSocket\n",
        "\n",
        "app = FastAPI()\n",
        "\n",
        "@app.websocket(\"/test\")\n",
        "async def test(websocket: WebSocket):\n",
        "    await websocket.accept()\n",
        "    while True:\n",
        "        request = await websocket.receive_text()\n",
        "        print(request)\n",
        "        for i in range(10000):\n",
        "            await websocket.send_text(str(i+1))\n",
        "                        \n",
        "if __name__ == \"__main__\":\n",
        "    uvicorn.run(\"app:app\")"
      ],
      "metadata": {
        "id": "HDQFqVEAO-dW"
      },
      "execution_count": 3,
      "outputs": []
    },
    {
      "cell_type": "code",
      "source": [
        "// test.html\n",
        "<script>\n",
        "    var ws = new WebSocket(\"ws://localhost:8000/test\")\n",
        "    ws.onmessage = event => {\n",
        "        var number = document.getElementById(\"number\")\n",
        "        number.innerHTML = event.data\n",
        "    }    handleOnClick = () => {\n",
        "        ws.send(\"hi\")\n",
        "    }\n",
        "</script>\n",
        "\n",
        "<button onclick=\"handleOnClick()\">Click Me</button>\n",
        "\n",
        "<div id=\"number\">0</div>"
      ],
      "metadata": {
        "id": "cWrIQ-bDPKju"
      },
      "execution_count": 4,
      "outputs": []
    },
    {
      "cell_type": "markdown",
      "source": [
        "# WebSockets In Python FastAPI — Dealing With JSON data"
      ],
      "metadata": {
        "id": "Vd6EljcEPTLd"
      }
    },
    {
      "cell_type": "code",
      "source": [
        "import uvicorn\n",
        "from fastapi import FastAPI, WebSocket\n",
        "\n",
        "app = FastAPI()\n",
        "\n",
        "@app.websocket(\"/test\")\n",
        "async def test(websocket: WebSocket):\n",
        "    await websocket.accept()\n",
        "    while True:\n",
        "        request = await websocket.receive_json()\n",
        "        message = request[\"message\"]        \n",
        "        \n",
        "        for i in range(10000):\n",
        "            await websocket.send_json({\n",
        "                \"message\": f\"{message} - {i+1}\",\n",
        "                \"number\": i+1\n",
        "            })\n",
        "            \n",
        "if __name__ == \"__main__\":\n",
        "    uvicorn.run(\"app:app\")"
      ],
      "metadata": {
        "id": "ZkwXIUxhPOrl"
      },
      "execution_count": 5,
      "outputs": []
    },
    {
      "cell_type": "code",
      "source": [
        "<script>\n",
        "    var ws = new WebSocket(\"ws://localhost:8000/test\")    \n",
        "    ws.onmessage = event => {\n",
        "        var number = document.getElementById(\"number\")\n",
        "        var message  = document.getElementById(\"message\")        \n",
        "        \n",
        "        data = JSON.parse(event.data)number.innerHTML = data.number\n",
        "        \n",
        "        message.innerHTML = data.message\n",
        "    }handleOnClick = () => {\n",
        "        ws.send(JSON.stringify({message: \"hello\"}))\n",
        "    }\n",
        "</script><button onclick=\"handleOnClick()\">Click Me</button>\n",
        "<div id=\"message\">hi</div>\n",
        "<div id=\"number\">0</div>"
      ],
      "metadata": {
        "id": "NOiwr_l4PZfd"
      },
      "execution_count": 7,
      "outputs": []
    }
  ]
}