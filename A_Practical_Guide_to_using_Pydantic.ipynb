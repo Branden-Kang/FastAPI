{
  "nbformat": 4,
  "nbformat_minor": 0,
  "metadata": {
    "colab": {
      "provenance": [],
      "authorship_tag": "ABX9TyMV7ywA9MOWMbr4nVu9CaFQ"
    },
    "kernelspec": {
      "name": "python3",
      "display_name": "Python 3"
    },
    "language_info": {
      "name": "python"
    }
  },
  "cells": [
    {
      "cell_type": "markdown",
      "source": [
        "[Reference](https://medium.com/@marcnealer/a-practical-guide-to-using-pydantic-8aafa7feebf6)"
      ],
      "metadata": {
        "id": "Wc2IwEvRC1ib"
      }
    },
    {
      "cell_type": "code",
      "execution_count": 1,
      "metadata": {
        "id": "2LoUe_sMCQxg"
      },
      "outputs": [],
      "source": [
        "from pydantic import BaseModel\n",
        "\n",
        "class MyFirstModel(BaseModel):\n",
        "    first_name: str\n",
        "    last_name: str\n",
        "\n",
        "validating = MyFirstModel(first_name=\"marc\", last_name=\"nealer\")"
      ]
    },
    {
      "cell_type": "code",
      "source": [
        "from pydantic import BaseModel\n",
        "from typing import Union, Optional\n",
        "\n",
        "class MySecondModel(BaseModel):\n",
        "    first_name: str\n",
        "    middle_name: Union[str, None] # This means the parameter doesn't have to be sent\n",
        "    title: Optional[str] # this means the parameter should be sent, but can be None\n",
        "    last_name: str"
      ],
      "metadata": {
        "id": "8rbKYE3iC4Rf"
      },
      "execution_count": 2,
      "outputs": []
    },
    {
      "cell_type": "code",
      "source": [
        "from pydantic import BaseModel\n",
        "from typing import Union, List, Dict\n",
        "from datetime import datetime\n",
        "\n",
        "class MyThirdModel(BaseModel):\n",
        "    name: Dict[str: str]\n",
        "    skills: List[str]\n",
        "    holidays: List[Union[str, datetime]]"
      ],
      "metadata": {
        "colab": {
          "base_uri": "https://localhost:8080/",
          "height": 350
        },
        "id": "dJ_o0K7jC55C",
        "outputId": "01d92bdd-5bbc-4caa-e66f-f64189745084"
      },
      "execution_count": 3,
      "outputs": [
        {
          "output_type": "error",
          "ename": "TypeError",
          "evalue": "Parameters to generic types must be types. Got slice(<class 'str'>, <class 'str'>, None).",
          "traceback": [
            "\u001b[0;31m---------------------------------------------------------------------------\u001b[0m",
            "\u001b[0;31mTypeError\u001b[0m                                 Traceback (most recent call last)",
            "\u001b[0;32m<ipython-input-3-7363c38fb655>\u001b[0m in \u001b[0;36m<cell line: 5>\u001b[0;34m()\u001b[0m\n\u001b[1;32m      3\u001b[0m \u001b[0;32mfrom\u001b[0m \u001b[0mdatetime\u001b[0m \u001b[0;32mimport\u001b[0m \u001b[0mdatetime\u001b[0m\u001b[0;34m\u001b[0m\u001b[0;34m\u001b[0m\u001b[0m\n\u001b[1;32m      4\u001b[0m \u001b[0;34m\u001b[0m\u001b[0m\n\u001b[0;32m----> 5\u001b[0;31m \u001b[0;32mclass\u001b[0m \u001b[0mMyThirdModel\u001b[0m\u001b[0;34m(\u001b[0m\u001b[0mBaseModel\u001b[0m\u001b[0;34m)\u001b[0m\u001b[0;34m:\u001b[0m\u001b[0;34m\u001b[0m\u001b[0;34m\u001b[0m\u001b[0m\n\u001b[0m\u001b[1;32m      6\u001b[0m     \u001b[0mname\u001b[0m\u001b[0;34m:\u001b[0m \u001b[0mDict\u001b[0m\u001b[0;34m[\u001b[0m\u001b[0mstr\u001b[0m\u001b[0;34m:\u001b[0m \u001b[0mstr\u001b[0m\u001b[0;34m]\u001b[0m\u001b[0;34m\u001b[0m\u001b[0;34m\u001b[0m\u001b[0m\n\u001b[1;32m      7\u001b[0m     \u001b[0mskills\u001b[0m\u001b[0;34m:\u001b[0m \u001b[0mList\u001b[0m\u001b[0;34m[\u001b[0m\u001b[0mstr\u001b[0m\u001b[0;34m]\u001b[0m\u001b[0;34m\u001b[0m\u001b[0;34m\u001b[0m\u001b[0m\n",
            "\u001b[0;32m<ipython-input-3-7363c38fb655>\u001b[0m in \u001b[0;36mMyThirdModel\u001b[0;34m()\u001b[0m\n\u001b[1;32m      4\u001b[0m \u001b[0;34m\u001b[0m\u001b[0m\n\u001b[1;32m      5\u001b[0m \u001b[0;32mclass\u001b[0m \u001b[0mMyThirdModel\u001b[0m\u001b[0;34m(\u001b[0m\u001b[0mBaseModel\u001b[0m\u001b[0;34m)\u001b[0m\u001b[0;34m:\u001b[0m\u001b[0;34m\u001b[0m\u001b[0;34m\u001b[0m\u001b[0m\n\u001b[0;32m----> 6\u001b[0;31m     \u001b[0mname\u001b[0m\u001b[0;34m:\u001b[0m \u001b[0mDict\u001b[0m\u001b[0;34m[\u001b[0m\u001b[0mstr\u001b[0m\u001b[0;34m:\u001b[0m \u001b[0mstr\u001b[0m\u001b[0;34m]\u001b[0m\u001b[0;34m\u001b[0m\u001b[0;34m\u001b[0m\u001b[0m\n\u001b[0m\u001b[1;32m      7\u001b[0m     \u001b[0mskills\u001b[0m\u001b[0;34m:\u001b[0m \u001b[0mList\u001b[0m\u001b[0;34m[\u001b[0m\u001b[0mstr\u001b[0m\u001b[0;34m]\u001b[0m\u001b[0;34m\u001b[0m\u001b[0;34m\u001b[0m\u001b[0m\n\u001b[1;32m      8\u001b[0m     \u001b[0mholidays\u001b[0m\u001b[0;34m:\u001b[0m \u001b[0mList\u001b[0m\u001b[0;34m[\u001b[0m\u001b[0mUnion\u001b[0m\u001b[0;34m[\u001b[0m\u001b[0mstr\u001b[0m\u001b[0;34m,\u001b[0m \u001b[0mdatetime\u001b[0m\u001b[0;34m]\u001b[0m\u001b[0;34m]\u001b[0m\u001b[0;34m\u001b[0m\u001b[0;34m\u001b[0m\u001b[0m\n",
            "\u001b[0;32m/usr/lib/python3.10/typing.py\u001b[0m in \u001b[0;36minner\u001b[0;34m(*args, **kwds)\u001b[0m\n\u001b[1;32m    310\u001b[0m             \u001b[0;32mexcept\u001b[0m \u001b[0mTypeError\u001b[0m\u001b[0;34m:\u001b[0m\u001b[0;34m\u001b[0m\u001b[0;34m\u001b[0m\u001b[0m\n\u001b[1;32m    311\u001b[0m                 \u001b[0;32mpass\u001b[0m  \u001b[0;31m# All real errors (not unhashable args) are raised below.\u001b[0m\u001b[0;34m\u001b[0m\u001b[0;34m\u001b[0m\u001b[0m\n\u001b[0;32m--> 312\u001b[0;31m             \u001b[0;32mreturn\u001b[0m \u001b[0mfunc\u001b[0m\u001b[0;34m(\u001b[0m\u001b[0;34m*\u001b[0m\u001b[0margs\u001b[0m\u001b[0;34m,\u001b[0m \u001b[0;34m**\u001b[0m\u001b[0mkwds\u001b[0m\u001b[0;34m)\u001b[0m\u001b[0;34m\u001b[0m\u001b[0;34m\u001b[0m\u001b[0m\n\u001b[0m\u001b[1;32m    313\u001b[0m         \u001b[0;32mreturn\u001b[0m \u001b[0minner\u001b[0m\u001b[0;34m\u001b[0m\u001b[0;34m\u001b[0m\u001b[0m\n\u001b[1;32m    314\u001b[0m \u001b[0;34m\u001b[0m\u001b[0m\n",
            "\u001b[0;32m/usr/lib/python3.10/typing.py\u001b[0m in \u001b[0;36m__getitem__\u001b[0;34m(self, params)\u001b[0m\n\u001b[1;32m   1141\u001b[0m             \u001b[0mparams\u001b[0m \u001b[0;34m=\u001b[0m \u001b[0;34m(\u001b[0m\u001b[0mparams\u001b[0m\u001b[0;34m,\u001b[0m\u001b[0;34m)\u001b[0m\u001b[0;34m\u001b[0m\u001b[0;34m\u001b[0m\u001b[0m\n\u001b[1;32m   1142\u001b[0m         \u001b[0mmsg\u001b[0m \u001b[0;34m=\u001b[0m \u001b[0;34m\"Parameters to generic types must be types.\"\u001b[0m\u001b[0;34m\u001b[0m\u001b[0;34m\u001b[0m\u001b[0m\n\u001b[0;32m-> 1143\u001b[0;31m         \u001b[0mparams\u001b[0m \u001b[0;34m=\u001b[0m \u001b[0mtuple\u001b[0m\u001b[0;34m(\u001b[0m\u001b[0m_type_check\u001b[0m\u001b[0;34m(\u001b[0m\u001b[0mp\u001b[0m\u001b[0;34m,\u001b[0m \u001b[0mmsg\u001b[0m\u001b[0;34m)\u001b[0m \u001b[0;32mfor\u001b[0m \u001b[0mp\u001b[0m \u001b[0;32min\u001b[0m \u001b[0mparams\u001b[0m\u001b[0;34m)\u001b[0m\u001b[0;34m\u001b[0m\u001b[0;34m\u001b[0m\u001b[0m\n\u001b[0m\u001b[1;32m   1144\u001b[0m         \u001b[0m_check_generic\u001b[0m\u001b[0;34m(\u001b[0m\u001b[0mself\u001b[0m\u001b[0;34m,\u001b[0m \u001b[0mparams\u001b[0m\u001b[0;34m,\u001b[0m \u001b[0mself\u001b[0m\u001b[0;34m.\u001b[0m\u001b[0m_nparams\u001b[0m\u001b[0;34m)\u001b[0m\u001b[0;34m\u001b[0m\u001b[0;34m\u001b[0m\u001b[0m\n\u001b[1;32m   1145\u001b[0m         \u001b[0;32mreturn\u001b[0m \u001b[0mself\u001b[0m\u001b[0;34m.\u001b[0m\u001b[0mcopy_with\u001b[0m\u001b[0;34m(\u001b[0m\u001b[0mparams\u001b[0m\u001b[0;34m)\u001b[0m\u001b[0;34m\u001b[0m\u001b[0;34m\u001b[0m\u001b[0m\n",
            "\u001b[0;32m/usr/lib/python3.10/typing.py\u001b[0m in \u001b[0;36m<genexpr>\u001b[0;34m(.0)\u001b[0m\n\u001b[1;32m   1141\u001b[0m             \u001b[0mparams\u001b[0m \u001b[0;34m=\u001b[0m \u001b[0;34m(\u001b[0m\u001b[0mparams\u001b[0m\u001b[0;34m,\u001b[0m\u001b[0;34m)\u001b[0m\u001b[0;34m\u001b[0m\u001b[0;34m\u001b[0m\u001b[0m\n\u001b[1;32m   1142\u001b[0m         \u001b[0mmsg\u001b[0m \u001b[0;34m=\u001b[0m \u001b[0;34m\"Parameters to generic types must be types.\"\u001b[0m\u001b[0;34m\u001b[0m\u001b[0;34m\u001b[0m\u001b[0m\n\u001b[0;32m-> 1143\u001b[0;31m         \u001b[0mparams\u001b[0m \u001b[0;34m=\u001b[0m \u001b[0mtuple\u001b[0m\u001b[0;34m(\u001b[0m\u001b[0m_type_check\u001b[0m\u001b[0;34m(\u001b[0m\u001b[0mp\u001b[0m\u001b[0;34m,\u001b[0m \u001b[0mmsg\u001b[0m\u001b[0;34m)\u001b[0m \u001b[0;32mfor\u001b[0m \u001b[0mp\u001b[0m \u001b[0;32min\u001b[0m \u001b[0mparams\u001b[0m\u001b[0;34m)\u001b[0m\u001b[0;34m\u001b[0m\u001b[0;34m\u001b[0m\u001b[0m\n\u001b[0m\u001b[1;32m   1144\u001b[0m         \u001b[0m_check_generic\u001b[0m\u001b[0;34m(\u001b[0m\u001b[0mself\u001b[0m\u001b[0;34m,\u001b[0m \u001b[0mparams\u001b[0m\u001b[0;34m,\u001b[0m \u001b[0mself\u001b[0m\u001b[0;34m.\u001b[0m\u001b[0m_nparams\u001b[0m\u001b[0;34m)\u001b[0m\u001b[0;34m\u001b[0m\u001b[0;34m\u001b[0m\u001b[0m\n\u001b[1;32m   1145\u001b[0m         \u001b[0;32mreturn\u001b[0m \u001b[0mself\u001b[0m\u001b[0;34m.\u001b[0m\u001b[0mcopy_with\u001b[0m\u001b[0;34m(\u001b[0m\u001b[0mparams\u001b[0m\u001b[0;34m)\u001b[0m\u001b[0;34m\u001b[0m\u001b[0;34m\u001b[0m\u001b[0m\n",
            "\u001b[0;32m/usr/lib/python3.10/typing.py\u001b[0m in \u001b[0;36m_type_check\u001b[0;34m(arg, msg, is_argument, module, allow_special_forms)\u001b[0m\n\u001b[1;32m    174\u001b[0m         \u001b[0;32mreturn\u001b[0m \u001b[0marg\u001b[0m\u001b[0;34m\u001b[0m\u001b[0;34m\u001b[0m\u001b[0m\n\u001b[1;32m    175\u001b[0m     \u001b[0;32mif\u001b[0m \u001b[0;32mnot\u001b[0m \u001b[0mcallable\u001b[0m\u001b[0;34m(\u001b[0m\u001b[0marg\u001b[0m\u001b[0;34m)\u001b[0m\u001b[0;34m:\u001b[0m\u001b[0;34m\u001b[0m\u001b[0;34m\u001b[0m\u001b[0m\n\u001b[0;32m--> 176\u001b[0;31m         \u001b[0;32mraise\u001b[0m \u001b[0mTypeError\u001b[0m\u001b[0;34m(\u001b[0m\u001b[0;34mf\"{msg} Got {arg!r:.100}.\"\u001b[0m\u001b[0;34m)\u001b[0m\u001b[0;34m\u001b[0m\u001b[0;34m\u001b[0m\u001b[0m\n\u001b[0m\u001b[1;32m    177\u001b[0m     \u001b[0;32mreturn\u001b[0m \u001b[0marg\u001b[0m\u001b[0;34m\u001b[0m\u001b[0;34m\u001b[0m\u001b[0m\n\u001b[1;32m    178\u001b[0m \u001b[0;34m\u001b[0m\u001b[0m\n",
            "\u001b[0;31mTypeError\u001b[0m: Parameters to generic types must be types. Got slice(<class 'str'>, <class 'str'>, None)."
          ]
        }
      ]
    },
    {
      "cell_type": "markdown",
      "source": [
        "# Applying Default Values"
      ],
      "metadata": {
        "id": "nW_iTCkgC9bA"
      }
    },
    {
      "cell_type": "code",
      "source": [
        "from pydantic import BaseModel\n",
        "\n",
        "\n",
        "class DefaultsModel(BaseModel):\n",
        "    first_name: str = \"jane\"\n",
        "    middle_names: list = []\n",
        "    last_name : str = \"doe\""
      ],
      "metadata": {
        "id": "jv3OFxX2C7R2"
      },
      "execution_count": 4,
      "outputs": []
    },
    {
      "cell_type": "code",
      "source": [
        "from pydantic import BaseModel, Field\n",
        "\n",
        "class DefaultsModel(BaseModel):\n",
        "    first_name: str = \"jane\"\n",
        "    middle_names: list = Field(default_factory=list)\n",
        "    last_name: str = \"doe\""
      ],
      "metadata": {
        "id": "S6XiBup3DAab"
      },
      "execution_count": 5,
      "outputs": []
    },
    {
      "cell_type": "markdown",
      "source": [
        "# Nesting Models"
      ],
      "metadata": {
        "id": "57dqGGQrDEFt"
      }
    },
    {
      "cell_type": "code",
      "source": [
        "from pydantic import BaseModel\n",
        "\n",
        "class NameModel(BaseModel):\n",
        "    first_name: str\n",
        "    last_name: str\n",
        "\n",
        "class UserModel(BaseModel):\n",
        "    username: str\n",
        "    name: NameModel"
      ],
      "metadata": {
        "id": "6l_fnWl7DCL6"
      },
      "execution_count": 6,
      "outputs": []
    },
    {
      "cell_type": "markdown",
      "source": [
        "# Field Validation"
      ],
      "metadata": {
        "id": "bkEKGxuRDF6z"
      }
    },
    {
      "cell_type": "code",
      "source": [
        "from pydantic import BaseModel, BeforeValidator, ValidationError\n",
        "import datetime\n",
        "from typing import Annotated\n",
        "\n",
        "\n",
        "def stamp2date(value):\n",
        "    if not isinstance(value, float):\n",
        "        raise ValidationError(\"incoming date must be a timestamp\")\n",
        "    try:\n",
        "        res = datetime.datetime.fromtimestamp(value)\n",
        "    except ValueError:\n",
        "        raise ValidationError(\"Time stamp appears to be invalid\")\n",
        "    return res\n",
        "\n",
        "\n",
        "class DateModel(BaseModel):\n",
        "    dob: Annotated[datetime.datetime, BeforeValidator(stamp2date)]"
      ],
      "metadata": {
        "id": "Nkdmxq4RDFHL"
      },
      "execution_count": 7,
      "outputs": []
    },
    {
      "cell_type": "code",
      "source": [
        "from pydantic import BaseModel, BeforeValidator, AfterValidator, ValidationError\n",
        "import datetime\n",
        "from typing import Annotated\n",
        "\n",
        "\n",
        "def one_year(value):\n",
        "    if value < datetime.datetime.today() - datetime.timedelta(days=365):\n",
        "        raise ValidationError(\"the date must be less than a year old\")\n",
        "    return value\n",
        "\n",
        "\n",
        "def stamp2date(value):\n",
        "    if not isinstance(value, float):\n",
        "        raise ValidationError(\"incoming date must be a timestamp\")\n",
        "    try:\n",
        "        res = datetime.datetime.fromtimestamp(value)\n",
        "    except ValueError:\n",
        "        raise ValidationError(\"Time stamp appears to be invalid\")\n",
        "    return res\n",
        "\n",
        "\n",
        "class DateModel(BaseModel):\n",
        "    dob: Annotated[datetime.datetime, BeforeValidator(stamp2date), AfterValidator(one_year)]"
      ],
      "metadata": {
        "id": "PLlP97XRDIt1"
      },
      "execution_count": 8,
      "outputs": []
    },
    {
      "cell_type": "code",
      "source": [
        "from pydantic import BaseModel, BeforeValidator, ValidationError, Field\n",
        "import datetime\n",
        "from typing import Annotated\n",
        "\n",
        "\n",
        "def stamp2date(value):\n",
        "    if not isinstance(value, float):\n",
        "        raise ValidationError(\"incoming date must be a timestamp\")\n",
        "    try:\n",
        "        res = datetime.datetime.fromtimestamp(value)\n",
        "    except ValueError:\n",
        "        raise ValidationError(\"Time stamp appears to be invalid\")\n",
        "    return res\n",
        "\n",
        "\n",
        "class DateModel(BaseModel):\n",
        "    dob: Annotated[Annotated[datetime.datetime, BeforeValidator(stamp2date)] | None, Field(default=None)]"
      ],
      "metadata": {
        "id": "6euIubV8DKk7"
      },
      "execution_count": 9,
      "outputs": []
    },
    {
      "cell_type": "markdown",
      "source": [
        "# Model Validation"
      ],
      "metadata": {
        "id": "X5epLwk4DM0-"
      }
    },
    {
      "cell_type": "code",
      "source": [
        "from pydantic import BaseModel, model_validator, ValidationError\n",
        "from typing import Union, Any\n",
        "\n",
        "class AllOptionalAfterModel(BaseModel):\n",
        "    param1: Union[str, None] = None\n",
        "    param2: Union[str, None] = None\n",
        "    param3: Union[str, None] = None\n",
        "\n",
        "    @model_validator(mode=\"after\")\n",
        "    def there_must_be_one(self):\n",
        "        if not (self.param1 or self.param2 or self.param3):\n",
        "            raise ValidationError(\"One parameter must be specified\")\n",
        "        return self\n",
        "\n",
        "class AllOptionalBeforeModel(BaseModel):\n",
        "    param1: Union[str, None] = None\n",
        "    param2: Union[str, None] = None\n",
        "    param3: Union[str, None] = None\n",
        "\n",
        "    @model_validator(mode=\"before\")\n",
        "    @classmethod\n",
        "    def there_must_be_one(cls, data: Any):\n",
        "        if not (data[\"param1\"] or data[\"param2\"] or data[\"param3\"]):\n",
        "            raise ValidationError(\"One parameter must be specified\")\n",
        "        return data"
      ],
      "metadata": {
        "id": "nKy1pdvoDMCq"
      },
      "execution_count": 10,
      "outputs": []
    },
    {
      "cell_type": "markdown",
      "source": [
        "# Alias’s"
      ],
      "metadata": {
        "id": "K2RdKOMuDQNg"
      }
    },
    {
      "cell_type": "code",
      "source": [
        "from pydantic import AliasGenerator, BaseModel, ConfigDict\n",
        "\n",
        "\n",
        "class Tree(BaseModel):\n",
        "    model_config = ConfigDict(\n",
        "        alias_generator=AliasGenerator(\n",
        "            validation_alias=lambda field_name: field_name.upper(),\n",
        "            serialization_alias=lambda field_name: field_name.title(),\n",
        "        )\n",
        "    )\n",
        "\n",
        "    age: int\n",
        "    height: float\n",
        "    kind: str\n",
        "\n",
        "\n",
        "t = Tree.model_validate({'AGE': 12, 'HEIGHT': 1.2, 'KIND': 'oak'})\n",
        "print(t.model_dump(by_alias=True))\n",
        "#> {'Age': 12, 'Height': 1.2, 'Kind': 'oak'}"
      ],
      "metadata": {
        "colab": {
          "base_uri": "https://localhost:8080/"
        },
        "id": "_dFeaiMtDOqr",
        "outputId": "f4278d72-f8c7-40b7-9da7-ea1f52aa3a74"
      },
      "execution_count": 11,
      "outputs": [
        {
          "output_type": "stream",
          "name": "stdout",
          "text": [
            "{'Age': 12, 'Height': 1.2, 'Kind': 'oak'}\n"
          ]
        }
      ]
    },
    {
      "cell_type": "markdown",
      "source": [
        "# AliasChoices"
      ],
      "metadata": {
        "id": "wm038F91DSbc"
      }
    },
    {
      "cell_type": "code",
      "source": [
        "from pydantic import BaseModel, ConfigDict, AliasGenerator, AliasChoices\n",
        "\n",
        "aliases = {\n",
        "    \"first_name\": AliasChoices(\"fname\", \"surname\", \"forename\", \"first_name\"),\n",
        "    \"last_name\": AliasChoices(\"lname\", \"family_name\", \"last_name\")\n",
        "}\n",
        "\n",
        "\n",
        "class FirstNameChoices(BaseModel):\n",
        "    model_config = ConfigDict(\n",
        "        alias_generator=AliasGenerator(\n",
        "            validation_alias=lambda field_name: aliases.get(field_name, None)\n",
        "        )\n",
        "    )\n",
        "    title: str\n",
        "    first_name: str\n",
        "    last_name: str"
      ],
      "metadata": {
        "id": "EhDP7QUqDRdY"
      },
      "execution_count": 12,
      "outputs": []
    },
    {
      "cell_type": "markdown",
      "source": [
        "# AliasPath"
      ],
      "metadata": {
        "id": "TnpjRhloDUny"
      }
    },
    {
      "cell_type": "code",
      "source": [
        "from pydantic import BaseModel, ConfigDict, AliasGenerator, AliasPath\n",
        "\n",
        "aliases = {\n",
        "    \"first_name\": AliasPath(\"name\", \"first_name\"),\n",
        "    \"last_name\": AliasPath(\"name\",  \"last_name\")\n",
        "}\n",
        "\n",
        "\n",
        "class FirstNameChoices(BaseModel):\n",
        "    model_config = ConfigDict(\n",
        "        alias_generator=AliasGenerator(\n",
        "            validation_alias=lambda field_name: aliases.get(field_name, None)\n",
        "        )\n",
        "    )\n",
        "    title: str\n",
        "    first_name: str\n",
        "    last_name: str\n",
        "\n",
        "obj = FirstNameChoices(**{\"name\":{\"first_name\": \"marc\", \"last_name\": \"Nealer\"},\"title\":\"Master Of All\"})"
      ],
      "metadata": {
        "id": "CdlEiIpWDToS"
      },
      "execution_count": 13,
      "outputs": []
    },
    {
      "cell_type": "markdown",
      "source": [
        "# Using AliasPath and AliasChoices"
      ],
      "metadata": {
        "id": "VeT_jXStDXRH"
      }
    },
    {
      "cell_type": "code",
      "source": [
        "from pydantic import BaseModel, ConfigDict, AliasGenerator, AliasPath, AliasChoices\n",
        "\n",
        "aliases = {\n",
        "    \"first_name\": AliasChoices(\"first_name\", AliasPath(\"name\", \"first_name\")),\n",
        "    \"last_name\": AliasChoices(\"last_name\", AliasPath(\"name\",  \"last_name\"))\n",
        "}\n",
        "\n",
        "\n",
        "class FirstNameChoices(BaseModel):\n",
        "    model_config = ConfigDict(\n",
        "        alias_generator=AliasGenerator(\n",
        "            validation_alias=lambda field_name: aliases.get(field_name, None)\n",
        "        )\n",
        "    )\n",
        "    title: str\n",
        "    first_name: str\n",
        "    last_name: str\n",
        "\n",
        "obj = FirstNameChoices(**{\"name\":{\"first_name\": \"marc\", \"last_name\": \"Nealer\"},\"title\":\"Master Of All\"})"
      ],
      "metadata": {
        "id": "TgfPR0PYDV__"
      },
      "execution_count": 14,
      "outputs": []
    }
  ]
}