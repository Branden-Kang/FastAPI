{
  "nbformat": 4,
  "nbformat_minor": 0,
  "metadata": {
    "colab": {
      "provenance": [],
      "authorship_tag": "ABX9TyO5IuFZ2rpVJ/hkarENXYAJ"
    },
    "kernelspec": {
      "name": "python3",
      "display_name": "Python 3"
    },
    "language_info": {
      "name": "python"
    }
  },
  "cells": [
    {
      "cell_type": "markdown",
      "source": [
        "[Reference](https://blog.stackademic.com/best-practices-for-structuring-your-fastapi-projects-e66482b27d02)"
      ],
      "metadata": {
        "id": "FnZZDKwnlwGE"
      }
    },
    {
      "cell_type": "markdown",
      "source": [
        "# 1. Basic Structure of a FastAPI Project\n",
        "```\n",
        "my_project/\n",
        "├── app/\n",
        "│   ├── main.py\n",
        "│   ├── api/\n",
        "│   │   ├── __init__.py\n",
        "│   │   └── controllers/\n",
        "│   │       ├── __init__.py\n",
        "│   │       └── items.py\n",
        "│   ├── core/\n",
        "│   │   ├── __init__.py\n",
        "│   │   └── config.py\n",
        "│   ├── models/\n",
        "│   │   ├── __init__.py\n",
        "│   │   └── item.py\n",
        "│   ├── schemas/\n",
        "│   │   ├── __init__.py\n",
        "│   │   └── item.py\n",
        "│   ├── crud/\n",
        "│   │   ├── __init__.py\n",
        "│   │   └── item.py\n",
        "│   ├── db/\n",
        "│   │   ├── __init__.py\n",
        "│   │   └── session.py\n",
        "│   └── tests/\n",
        "│       ├── __init__.py\n",
        "│       └── test_items.py\n",
        "├── .env\n",
        "├── requirements.txt\n",
        "└── README.md\n",
        "```"
      ],
      "metadata": {
        "id": "QznyeaQil0MH"
      }
    },
    {
      "cell_type": "markdown",
      "source": [
        "# 2. Details of Folder Structure"
      ],
      "metadata": {
        "id": "po5trZcnl3uD"
      }
    },
    {
      "cell_type": "markdown",
      "source": [
        "## 2.1 main.py"
      ],
      "metadata": {
        "id": "jP9HY0lal484"
      }
    },
    {
      "cell_type": "code",
      "execution_count": 1,
      "metadata": {
        "id": "4yg5hTm5lhqq"
      },
      "outputs": [],
      "source": [
        "# main.py\n",
        "from fastapi import FastAPI\n",
        "from app.api.controllers import items\n",
        "\n",
        "app = FastAPI()\n",
        "\n",
        "app.include_router(items.router)\n",
        "\n",
        "@app.get(\"/\")\n",
        "def read_root():\n",
        "    return {\"message\": \"Welcome to FastAPI\"}"
      ]
    },
    {
      "cell_type": "markdown",
      "source": [
        "## 2.2 api/"
      ],
      "metadata": {
        "id": "22kqp4nHl-EE"
      }
    },
    {
      "cell_type": "code",
      "source": [
        "# items.py in api/controllers\n",
        "from fastapi import APIRouter, Depends, HTTPException\n",
        "from sqlalchemy.orm import Session\n",
        "from app.schemas.item import Item\n",
        "from app.crud.item import get_item, create_item\n",
        "from app.db.session import get_db\n",
        "\n",
        "router = APIRouter()\n",
        "\n",
        "@router.post(\"/items/\", response_model=Item)\n",
        "def create_new_item(item: Item, db: Session = Depends(get_db)):\n",
        "    db_item = get_item(db, item_id=item.id)\n",
        "    if db_item:\n",
        "        raise HTTPException(status_code=400, detail=\"Item already exists\")\n",
        "    return create_item(db=db, item=item)"
      ],
      "metadata": {
        "id": "hqlAzalXl72V"
      },
      "execution_count": 2,
      "outputs": []
    },
    {
      "cell_type": "markdown",
      "source": [
        "## 2.3 core/"
      ],
      "metadata": {
        "id": "e3p3qVQjmEPA"
      }
    },
    {
      "cell_type": "code",
      "source": [
        "# config.py in core/\n",
        "import os\n",
        "from dotenv import load_dotenv\n",
        "\n",
        "load_dotenv()\n",
        "\n",
        "class Settings:\n",
        "    PROJECT_NAME: str = \"FastAPI Project\"\n",
        "    SQLALCHEMY_DATABASE_URI: str = os.getenv(\"DATABASE_URL\")\n",
        "\n",
        "settings = Settings()"
      ],
      "metadata": {
        "id": "klSUk5MPmCl3"
      },
      "execution_count": 3,
      "outputs": []
    },
    {
      "cell_type": "markdown",
      "source": [
        "## 2.4 models/"
      ],
      "metadata": {
        "id": "s3HdquI_mIsw"
      }
    },
    {
      "cell_type": "code",
      "source": [
        "# item.py in models/\n",
        "from sqlalchemy import Column, Integer, String\n",
        "from app.db.session import Base\n",
        "\n",
        "class Item(Base):\n",
        "    __tablename__ = \"items\"\n",
        "\n",
        "    id = Column(Integer, primary_key=True, index=True)\n",
        "    name = Column(String, index=True)\n",
        "    description = Column(String, index=True)"
      ],
      "metadata": {
        "id": "TQNRLGUsmG35"
      },
      "execution_count": 4,
      "outputs": []
    },
    {
      "cell_type": "markdown",
      "source": [
        "## 2.5 schemas/"
      ],
      "metadata": {
        "id": "fTpnqdghmNK1"
      }
    },
    {
      "cell_type": "code",
      "source": [
        "# item.py in schemas/\n",
        "from pydantic import BaseModel\n",
        "\n",
        "class Item(BaseModel):\n",
        "    id: int\n",
        "    name: str\n",
        "    description: str\n",
        "\n",
        "    class Config:\n",
        "        orm_mode = True"
      ],
      "metadata": {
        "id": "IHlKhF3rmLfk"
      },
      "execution_count": 5,
      "outputs": []
    },
    {
      "cell_type": "markdown",
      "source": [
        "## 2.6 crud/"
      ],
      "metadata": {
        "id": "cXFnYoDLmTg1"
      }
    },
    {
      "cell_type": "code",
      "source": [
        "# item.py in crud/\n",
        "from sqlalchemy.orm import Session\n",
        "from app.models.item import Item as ItemModel\n",
        "from app.schemas.item import Item as ItemSchema\n",
        "\n",
        "def get_item(db: Session, item_id: int):\n",
        "    return db.query(ItemModel).filter(ItemModel.id == item_id).first()\n",
        "\n",
        "def create_item(db: Session, item: ItemSchema):\n",
        "    db_item = ItemModel(id=item.id, name=item.name, description=item.description)\n",
        "    db.add(db_item)\n",
        "    db.commit()\n",
        "    db.refresh(db_item)\n",
        "    return db_item"
      ],
      "metadata": {
        "id": "Tzp89uN-mR6L"
      },
      "execution_count": 6,
      "outputs": []
    },
    {
      "cell_type": "markdown",
      "source": [
        "## 2.7 db/"
      ],
      "metadata": {
        "id": "rkLm1inYmXS0"
      }
    },
    {
      "cell_type": "code",
      "source": [
        "# session.py in db/\n",
        "from sqlalchemy import create_engine\n",
        "from sqlalchemy.ext.declarative import declarative_base\n",
        "from sqlalchemy.orm import sessionmaker\n",
        "from app.core.config import settings\n",
        "\n",
        "SQLALCHEMY_DATABASE_URL = settings.SQLALCHEMY_DATABASE_URI\n",
        "\n",
        "engine = create_engine(SQLALCHEMY_DATABASE_URL)\n",
        "SessionLocal = sessionmaker(autocommit=False, autoflush=False, bind=engine)\n",
        "Base = declarative_base()\n",
        "\n",
        "def get_db():\n",
        "    db = SessionLocal()\n",
        "    try:\n",
        "        yield db\n",
        "    finally:\n",
        "        db.close()"
      ],
      "metadata": {
        "id": "jKQAbmz8mWEb"
      },
      "execution_count": 7,
      "outputs": []
    },
    {
      "cell_type": "markdown",
      "source": [
        "## 2.8 tests/"
      ],
      "metadata": {
        "id": "m9P3bsAImdUH"
      }
    },
    {
      "cell_type": "code",
      "source": [
        "# test_items.py in tests/\n",
        "from fastapi.testclient import TestClient\n",
        "from app.main import app\n",
        "\n",
        "client = TestClient(app)\n",
        "\n",
        "def test_create_item():\n",
        "    response = client.post(\"/items/\", json={\"id\": 1, \"name\": \"Item 1\", \"description\": \"A sample item\"})\n",
        "    assert response.status_code == 200\n",
        "    assert response.json()[\"name\"] == \"Item 1\""
      ],
      "metadata": {
        "id": "eD6ruHkqmalM"
      },
      "execution_count": 8,
      "outputs": []
    }
  ]
}