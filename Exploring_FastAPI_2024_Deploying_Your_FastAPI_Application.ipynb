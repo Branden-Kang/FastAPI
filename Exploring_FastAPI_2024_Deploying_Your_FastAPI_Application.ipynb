{
  "nbformat": 4,
  "nbformat_minor": 0,
  "metadata": {
    "colab": {
      "provenance": [],
      "authorship_tag": "ABX9TyNEwKoj4UAbvmH1zvsRrfeM"
    },
    "kernelspec": {
      "name": "python3",
      "display_name": "Python 3"
    },
    "language_info": {
      "name": "python"
    }
  },
  "cells": [
    {
      "cell_type": "markdown",
      "source": [
        "[Reference](https://medium.com/@mathur.danduprolu/exploring-fastapi-2024-deploying-your-fastapi-application-part-7-7-23d37181e35d)"
      ],
      "metadata": {
        "id": "ss59vBKs-EIC"
      }
    },
    {
      "cell_type": "markdown",
      "source": [
        "# Step 1: Preparing FastAPI for Production"
      ],
      "metadata": {
        "id": "dqYydt0U-J-x"
      }
    },
    {
      "cell_type": "markdown",
      "source": [
        "```\n",
        "fastapi\n",
        "uvicorn\n",
        "gunicorn\n",
        "PyJWT  # if using JWT authentication\n",
        "```\n",
        "\n",
        "```\n",
        "pip freeze > requirements.txt\n",
        "```"
      ],
      "metadata": {
        "id": "CvoH-slb-Ns1"
      }
    },
    {
      "cell_type": "markdown",
      "source": [
        "# Step 2: Containerizing the FastAPI App with Docker"
      ],
      "metadata": {
        "id": "oDc2gWiv-RWa"
      }
    },
    {
      "cell_type": "markdown",
      "source": [
        "## Create a Dockerfile:"
      ],
      "metadata": {
        "id": "g6NoLU4r-Sy_"
      }
    },
    {
      "cell_type": "markdown",
      "source": [
        "```\n",
        "# Use a lightweight Python image\n",
        "FROM python:3.9-slim\n",
        "\n",
        "# Set working directory\n",
        "WORKDIR /app\n",
        "\n",
        "# Copy requirements and install dependencies\n",
        "COPY requirements.txt .\n",
        "RUN pip install --no-cache-dir -r requirements.txt\n",
        "\n",
        "# Copy the FastAPI app code\n",
        "COPY . .\n",
        "\n",
        "# Expose port 80 and start FastAPI with Uvicorn and Gunicorn\n",
        "CMD [\"gunicorn\", \"-w\", \"4\", \"-k\", \"uvicorn.workers.UvicornWorker\", \"main:app\", \"--bind\", \"0.0.0.0:80\"]\n",
        "```"
      ],
      "metadata": {
        "id": "y6ioyKxg-VG3"
      }
    },
    {
      "cell_type": "markdown",
      "source": [
        "## Build and Run Docker Container:"
      ],
      "metadata": {
        "id": "edyH7dsy-W2i"
      }
    },
    {
      "cell_type": "markdown",
      "source": [
        "```\n",
        "docker build -t fastapi-app .\n",
        "docker run -d -p 80:80 fastapi-app\n",
        "```"
      ],
      "metadata": {
        "id": "f22nsrYA-ZCc"
      }
    },
    {
      "cell_type": "markdown",
      "source": [
        "# Step 3: Deploying to Popular Platforms"
      ],
      "metadata": {
        "id": "sxtIBczP-kZU"
      }
    },
    {
      "cell_type": "markdown",
      "source": [
        "## Install the Heroku CLI and log in:\n",
        "\n",
        "```\n",
        "heroku login\n",
        "```"
      ],
      "metadata": {
        "id": "peb1-2xp-mIe"
      }
    },
    {
      "cell_type": "markdown",
      "source": [
        "## Create a Heroku App:\n",
        "```\n",
        "heroku create your-app-name\n",
        "```"
      ],
      "metadata": {
        "id": "oD2dY3b8-oeN"
      }
    },
    {
      "cell_type": "markdown",
      "source": [
        "## Add a Dockerfile for Heroku Deployment:\n",
        "```\n",
        "build:\n",
        "  docker:\n",
        "    web: Dockerfile\n",
        "```"
      ],
      "metadata": {
        "id": "BscBOs6N-r6R"
      }
    },
    {
      "cell_type": "markdown",
      "source": [
        "## Deploy to Heroku:\n",
        "```\n",
        "heroku container:push web -a your-app-name\n",
        "heroku container:release web -a your-app-name\n",
        "```"
      ],
      "metadata": {
        "id": "M1pR9InX-wVg"
      }
    },
    {
      "cell_type": "markdown",
      "source": [
        "## Deploying FastAPI on DigitalOcean\n",
        "```\n",
        "docker build -t fastapi-app .\n",
        "docker run -d -p 80:80 fastapi-app\n",
        "```"
      ],
      "metadata": {
        "id": "9jOQp5is-0pp"
      }
    },
    {
      "cell_type": "markdown",
      "source": [
        "## Deploying FastAPI on AWS EC2\n",
        "\n",
        "```\n",
        "sudo amazon-linux-extras install docker\n",
        "sudo service docker start\n",
        "```\n",
        "\n",
        "```\n",
        "docker build -t fastapi-app .\n",
        "docker run -d -p 80:80 fastapi-app\n",
        "```"
      ],
      "metadata": {
        "id": "vb7qu7hw-4rB"
      }
    },
    {
      "cell_type": "markdown",
      "source": [
        "# Step 4: Optimizing FastAPI for Production"
      ],
      "metadata": {
        "id": "N64qyi0F--Qw"
      }
    },
    {
      "cell_type": "markdown",
      "source": [
        "## Use Gunicorn with Uvicorn Workers"
      ],
      "metadata": {
        "id": "I6YWtpVR_Asm"
      }
    },
    {
      "cell_type": "markdown",
      "source": [
        "```\n",
        "gunicorn -w 4 -k uvicorn.workers.UvicornWorker main:app --bind 0.0.0.0:80\n",
        "```"
      ],
      "metadata": {
        "id": "A2HXAbtG_CYU"
      }
    },
    {
      "cell_type": "markdown",
      "source": [
        "## Enable HTTPS\n",
        "- Heroku: Automatically provides HTTPS.\n",
        "- DigitalOcean: Set up an SSL with Let’s Encrypt.\n",
        "- AWS EC2: Use Amazon’s Certificate Manager with ELB.\n"
      ],
      "metadata": {
        "id": "MASEKN39_FpN"
      }
    },
    {
      "cell_type": "markdown",
      "source": [
        "## Configure CORS for Secure Cross-Origin Requests\n"
      ],
      "metadata": {
        "id": "804GzqgG_PlE"
      }
    },
    {
      "cell_type": "code",
      "source": [
        "from starlette.middleware.cors import CORSMiddleware\n",
        "\n",
        "app.add_middleware(\n",
        "    CORSMiddleware,\n",
        "    allow_origins=[\"https://yourdomain.com\"],  # Set your trusted domain\n",
        "    allow_credentials=True,\n",
        "    allow_methods=[\"GET\", \"POST\"],\n",
        "    allow_headers=[\"*\"],\n",
        ")"
      ],
      "metadata": {
        "id": "LjMUeDeg_JYu"
      },
      "execution_count": 2,
      "outputs": []
    },
    {
      "cell_type": "markdown",
      "source": [
        "## Rate Limiting and Security Headers"
      ],
      "metadata": {
        "id": "RKywvAZz_Vp9"
      }
    },
    {
      "cell_type": "markdown",
      "source": [
        "- Rate Limiting: Prevent abuse by limiting the number of requests. Use a reverse proxy or middleware like Redis for rate limiting.\n",
        "- Security Headers: Use headers to protect against XSS, clickjacking, and other attacks. Libraries like starlette.middleware can help set security headers."
      ],
      "metadata": {
        "id": "nWsEEGm4_Y0w"
      }
    }
  ]
}