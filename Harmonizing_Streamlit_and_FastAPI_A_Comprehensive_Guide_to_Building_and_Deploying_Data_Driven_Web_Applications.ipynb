{
  "nbformat": 4,
  "nbformat_minor": 0,
  "metadata": {
    "colab": {
      "provenance": [],
      "authorship_tag": "ABX9TyPkorwFiVScwDz09WK9Kw11"
    },
    "kernelspec": {
      "name": "python3",
      "display_name": "Python 3"
    },
    "language_info": {
      "name": "python"
    }
  },
  "cells": [
    {
      "cell_type": "markdown",
      "source": [
        "[Reference](https://medium.com/@bragadeeshs/harmonizing-streamlit-and-fastapi-a-comprehensive-guide-to-building-and-deploying-data-driven-web-81a8fac69ad6)"
      ],
      "metadata": {
        "id": "ugts3iYUU37L"
      }
    },
    {
      "cell_type": "code",
      "source": [
        "from fastapi import FastAPI\n",
        "from pydantic import BaseModel\n",
        "\n",
        "app = FastAPI()\n",
        "\n",
        "class StockRequest(BaseModel):\n",
        "    symbol: str\n",
        "\n",
        "@app.post(\"/get_stock\")\n",
        "async def get_stock(data: StockRequest):\n",
        "    # Here you might fetch real stock data, for simplicity returning a static response\n",
        "    return {\"symbol\": data.symbol, \"price\": 100.0}"
      ],
      "metadata": {
        "id": "OsXxr3xhUp-j"
      },
      "execution_count": 1,
      "outputs": []
    },
    {
      "cell_type": "code",
      "source": [
        "import streamlit as st\n",
        "import requests\n",
        "\n",
        "st.title('Stock Price App')\n",
        "\n",
        "symbol = st.text_input(\"Enter Stock Symbol:\", value=\"AAPL\")\n",
        "\n",
        "if st.button('Get Price'):\n",
        "    response = requests.post(\"http://localhost:8000/get_stock\", json={\"symbol\": symbol})\n",
        "    if response.status_code == 200:\n",
        "        stock_data = response.json()\n",
        "        st.write(f\"The price of {stock_data['symbol']} is ${stock_data['price']}\")\n",
        "    else:\n",
        "        st.write(\"Error fetching the stock price\")"
      ],
      "metadata": {
        "id": "4CS39yhvVkiD"
      },
      "execution_count": 2,
      "outputs": []
    },
    {
      "cell_type": "markdown",
      "source": [
        "Dockerfile for FastAPI\n",
        "```\n",
        "FROM tiangolo/uvicorn-gunicorn-fastapi:python3.8\n",
        "\n",
        "COPY ./app /app\n",
        "```"
      ],
      "metadata": {
        "id": "OQoqLKGiVvZI"
      }
    },
    {
      "cell_type": "markdown",
      "source": [
        "Dockerfile for Streamlit\n",
        "```\n",
        "FROM python:3.8\n",
        "\n",
        "WORKDIR /app\n",
        "\n",
        "COPY ./app /app\n",
        "\n",
        "RUN pip install streamlit\n",
        "\n",
        "CMD [\"streamlit\", \"run\", \"your_streamlit_app.py\"]\n",
        "```"
      ],
      "metadata": {
        "id": "iBFcEUnAVyO9"
      }
    },
    {
      "cell_type": "markdown",
      "source": [
        "```\n",
        "docker build -t myfastapi .\n",
        "docker build -t mystreamlit .\n",
        "\n",
        "docker run -d --name myfastapi-container -p 8000:80 myfastapi\n",
        "docker run -d --name mystreamlit-container -p 8501:8501 mystreamlit\n",
        "```"
      ],
      "metadata": {
        "id": "SFON8KYZV5A3"
      }
    }
  ]
}