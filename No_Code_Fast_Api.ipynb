{
  "nbformat": 4,
  "nbformat_minor": 0,
  "metadata": {
    "colab": {
      "provenance": [],
      "authorship_tag": "ABX9TyMKxxLtIIBZMSyjwjMpQcM2"
    },
    "kernelspec": {
      "name": "python3",
      "display_name": "Python 3"
    },
    "language_info": {
      "name": "python"
    }
  },
  "cells": [
    {
      "cell_type": "markdown",
      "source": [
        "[Reference](https://sumanta9090.medium.com/no-code-fast-api-71a9023d37e)"
      ],
      "metadata": {
        "id": "J6NHvWXyd4cE"
      }
    },
    {
      "cell_type": "code",
      "execution_count": 1,
      "metadata": {
        "colab": {
          "base_uri": "https://localhost:8080/"
        },
        "id": "adC_3TBNc7qM",
        "outputId": "09a0c23c-ea32-4f10-d783-d7d4dcd2dccc"
      },
      "outputs": [
        {
          "output_type": "stream",
          "name": "stdout",
          "text": [
            "Looking in indexes: https://pypi.org/simple, https://us-python.pkg.dev/colab-wheels/public/simple/\n",
            "Collecting fastapi\n",
            "  Downloading fastapi-0.92.0-py3-none-any.whl (56 kB)\n",
            "\u001b[2K     \u001b[90m━━━━━━━━━━━━━━━━━━━━━━━━━━━━━━━━━━━━━━━\u001b[0m \u001b[32m56.2/56.2 KB\u001b[0m \u001b[31m534.2 kB/s\u001b[0m eta \u001b[36m0:00:00\u001b[0m\n",
            "\u001b[?25hRequirement already satisfied: pydantic!=1.7,!=1.7.1,!=1.7.2,!=1.7.3,!=1.8,!=1.8.1,<2.0.0,>=1.6.2 in /usr/local/lib/python3.8/dist-packages (from fastapi) (1.10.5)\n",
            "Collecting starlette<0.26.0,>=0.25.0\n",
            "  Downloading starlette-0.25.0-py3-none-any.whl (66 kB)\n",
            "\u001b[2K     \u001b[90m━━━━━━━━━━━━━━━━━━━━━━━━━━━━━━━━━━━━━━━━\u001b[0m \u001b[32m66.4/66.4 KB\u001b[0m \u001b[31m4.6 MB/s\u001b[0m eta \u001b[36m0:00:00\u001b[0m\n",
            "\u001b[?25hRequirement already satisfied: typing-extensions>=4.2.0 in /usr/local/lib/python3.8/dist-packages (from pydantic!=1.7,!=1.7.1,!=1.7.2,!=1.7.3,!=1.8,!=1.8.1,<2.0.0,>=1.6.2->fastapi) (4.5.0)\n",
            "Collecting anyio<5,>=3.4.0\n",
            "  Downloading anyio-3.6.2-py3-none-any.whl (80 kB)\n",
            "\u001b[2K     \u001b[90m━━━━━━━━━━━━━━━━━━━━━━━━━━━━━━━━━━━━━━━━\u001b[0m \u001b[32m80.6/80.6 KB\u001b[0m \u001b[31m7.8 MB/s\u001b[0m eta \u001b[36m0:00:00\u001b[0m\n",
            "\u001b[?25hCollecting sniffio>=1.1\n",
            "  Downloading sniffio-1.3.0-py3-none-any.whl (10 kB)\n",
            "Requirement already satisfied: idna>=2.8 in /usr/local/lib/python3.8/dist-packages (from anyio<5,>=3.4.0->starlette<0.26.0,>=0.25.0->fastapi) (2.10)\n",
            "Installing collected packages: sniffio, anyio, starlette, fastapi\n",
            "Successfully installed anyio-3.6.2 fastapi-0.92.0 sniffio-1.3.0 starlette-0.25.0\n",
            "Looking in indexes: https://pypi.org/simple, https://us-python.pkg.dev/colab-wheels/public/simple/\n",
            "Requirement already satisfied: typer in /usr/local/lib/python3.8/dist-packages (0.7.0)\n",
            "Requirement already satisfied: click<9.0.0,>=7.1.1 in /usr/local/lib/python3.8/dist-packages (from typer) (8.1.3)\n"
          ]
        }
      ],
      "source": [
        "!pip install fastapi\n",
        "!pip install typer"
      ]
    },
    {
      "cell_type": "code",
      "source": [
        "import typer\n",
        "from fastapi import FastAPI\n",
        "\n",
        "app = FastAPI()\n",
        "\n",
        "def generate_endpoint(endpoint_name: str, endpoint_method: str, endpoint_inputs: dict):\n",
        "    endpoint_input_str = ', '.join([f\"{key}: {value}\" for key, value in endpoint_inputs.items()])\n",
        "    endpoint_code = f\"@app.{endpoint_method}('/{endpoint_name}')\\ndef {endpoint_name}({endpoint_input_str}):\\n    return {{'message': '{endpoint_method} operation for endpoint {endpoint_name}'}}\"\n",
        "    exec(endpoint_code)\n",
        "\n",
        "def main(endpoint_name: str = typer.Option(None), endpoint_method: str = typer.Option(None), endpoint_inputs: dict = typer.Option(None)):\n",
        "    if endpoint_name and endpoint_method and endpoint_inputs:\n",
        "        if endpoint_method in ['post', 'put', 'patch', 'delete']:\n",
        "            generate_endpoint(endpoint_name, endpoint_method, endpoint_inputs)\n",
        "            typer.echo(f\"Endpoint {endpoint_name} with method {endpoint_method} created successfully.\")\n",
        "        else:\n",
        "            typer.echo(f\"Method {endpoint_method} not supported. Please choose from: post, put, patch, delete.\")\n",
        "    else:\n",
        "        typer.echo(\"Please provide all required arguments to generate an endpoint.\")\n",
        "\n",
        "if __name__ == \"__main__\":\n",
        "    typer.run(main)"
      ],
      "metadata": {
        "id": "UuWgUhqBeN1D"
      },
      "execution_count": 3,
      "outputs": []
    }
  ]
}