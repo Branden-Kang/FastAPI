{
  "nbformat": 4,
  "nbformat_minor": 0,
  "metadata": {
    "colab": {
      "provenance": [],
      "authorship_tag": "ABX9TyPRJbMCRT8LP+ZrbVFkj3nm"
    },
    "kernelspec": {
      "name": "python3",
      "display_name": "Python 3"
    },
    "language_info": {
      "name": "python"
    }
  },
  "cells": [
    {
      "cell_type": "markdown",
      "source": [
        "[Reference](https://medium.com/@marcnealer/fastapi-http-authentication-f1bb2e8c3433)"
      ],
      "metadata": {
        "id": "WSGHLBe-M9sE"
      }
    },
    {
      "cell_type": "markdown",
      "source": [
        "# Creating a settings module"
      ],
      "metadata": {
        "id": "Omh662zlNDz_"
      }
    },
    {
      "cell_type": "code",
      "execution_count": 1,
      "metadata": {
        "id": "jkf4B9J2M2Xp"
      },
      "outputs": [],
      "source": [
        "from dotenv import find_dotenv, dotenv_values\n",
        "import pathlib\n",
        "import string\n",
        "\n",
        "\n",
        "file_path = pathlib.Path().cwd()\n",
        "static_dir = str(pathlib.Path(pathlib.Path().cwd(), \"static\"))\n",
        "config = dotenv_values(find_dotenv(\".test_fastapi_config.env\"))\n",
        "\n",
        "db_user = config.get(\"DB_USER\")\n",
        "db_password = config.get(\"DB_PASSWORD\")\n",
        "db_host = config.get(\"DB_HOST\")\n",
        "db_name = config.get(\"DB_NAME\")\n",
        "db_port = config.get(\"DB_PORT\")\n",
        "db_url = f\"asyncpg://{db_user}:{db_password}@{db_host}:{db_port}/{db_name}\"\n",
        "db_modules = {\"models\": [\"models\"]}\n",
        "\n",
        "max_age = 3600\n",
        "\n",
        "session_choices = string.ascii_letters + string.digits + \"=+%$#\""
      ]
    },
    {
      "cell_type": "markdown",
      "source": [
        "# Database models and set-up"
      ],
      "metadata": {
        "id": "mTFlXpq3NFBU"
      }
    },
    {
      "cell_type": "code",
      "source": [
        "from tortoise import fields, models\n",
        "from tortoise.contrib.pydantic import pydantic_model_creator\n",
        "\n",
        "\n",
        "def default_scope():\n",
        "    return [\"authenticated\"]\n",
        "\n",
        "\n",
        "class Users(models.Model):\n",
        "    \"\"\"\n",
        "    The User model\n",
        "    \"\"\"\n",
        "\n",
        "    id = fields.IntField(primary_key=True)\n",
        "    username = fields.CharField(max_length=20, unique=True)\n",
        "    first_name = fields.CharField(max_length=50, null=True)\n",
        "    last_name = fields.CharField(max_length=50, null=True)\n",
        "    p_hash = fields.BinaryField(max_length=128, null=True)\n",
        "    p_salt = fields.BinaryField(max_length=128, null=True)\n",
        "    scope = fields.JSONField(default=default_scope)\n",
        "    info = fields.JSONField(default=dict)\n",
        "\n",
        "    class PydanticMeta:\n",
        "        exclude = [\"password_hash\"]\n",
        "\n",
        "\n",
        "User_Pydantic = pydantic_model_creator(Users, name=\"User\")\n",
        "UserIn_Pydantic = pydantic_model_creator(Users, name=\"UserIn\", exclude_readonly=True)\n",
        "\n",
        "\n",
        "class Session(models.Model):\n",
        "\n",
        "    id = fields.IntField(primary_key=True)\n",
        "    token = fields.CharField(max_length=128, unique=True, db_index=True)\n",
        "    user = fields.IntField(default=0)\n",
        "    created_at = fields.DatetimeField(auto_now_add=True)\n",
        "    expires_at = fields.DatetimeField(auto_now_add=True)\n",
        "\n",
        "\n",
        "Session_Pydantic = pydantic_model_creator(Session, name=\"Session\")"
      ],
      "metadata": {
        "id": "pXlrMquRNBh4"
      },
      "execution_count": 2,
      "outputs": []
    },
    {
      "cell_type": "markdown",
      "source": [
        "# Adding the ORM to FastAPI"
      ],
      "metadata": {
        "id": "9j9ClmC2NJym"
      }
    },
    {
      "cell_type": "code",
      "source": [
        "@app.on_event(\"startup\")\n",
        "async def my_event():\n",
        "  pass"
      ],
      "metadata": {
        "id": "VtLHZKHyNHvs"
      },
      "execution_count": 3,
      "outputs": []
    },
    {
      "cell_type": "code",
      "source": [
        "from fastapi import FastAPI\n",
        "import settings\n",
        "from contextlib import asynccontextmanager\n",
        "from typing import AsyncGenerator\n",
        "from tortoise.contrib.fastapi import RegisterTortoise\n",
        "\n",
        "\n",
        "@asynccontextmanager\n",
        "async def lifespan(app: FastAPI) -> AsyncGenerator[None, None]:\n",
        "    # app startup\n",
        "    async with RegisterTortoise(\n",
        "        app,\n",
        "        db_url=settings.db_url,\n",
        "        modules=settings.db_modules,\n",
        "        generate_schemas=True,\n",
        "        add_exception_handlers=True,\n",
        "    ):\n",
        "        # db connected\n",
        "        yield\n",
        "        # app teardown\n",
        "\n",
        "main_app = FastAPI(lifespan=lifespan)"
      ],
      "metadata": {
        "id": "IwSyNrOHNLxL"
      },
      "execution_count": 4,
      "outputs": []
    },
    {
      "cell_type": "markdown",
      "source": [
        "# Middleware"
      ],
      "metadata": {
        "id": "xcDw14nMNQJ4"
      }
    },
    {
      "cell_type": "code",
      "source": [
        "@main_app.middleware(\"http\")\n",
        "async def session_middleware(request: Request, call_next):\n",
        "    cookie_val = request.cookies.get(\"session\")\n",
        "    if cookie_val:\n",
        "        request.scope['session'] = cookie_val\n",
        "    else:\n",
        "        request.scope['session'] = \"\".join(random.choices(settings.session_choices, k=128))\n",
        "    response = await call_next(request)\n",
        "    response.set_cookie(\"session\", value=request.session,\n",
        "                        max_age=settings.max_age, httponly=True)\n",
        "    return response"
      ],
      "metadata": {
        "id": "LjveZWLCNNgZ"
      },
      "execution_count": 5,
      "outputs": []
    },
    {
      "cell_type": "code",
      "source": [
        "from models import Session, Users\n",
        "\n",
        "\n",
        "class BaseUser:\n",
        "    @property\n",
        "    def is_authenticated(self) -> bool:\n",
        "        raise NotImplementedError()\n",
        "\n",
        "\n",
        "class UnauthenticatedUser(BaseUser):\n",
        "    @property\n",
        "    def is_authenticated(self) -> bool:\n",
        "        return False\n",
        "\n",
        "\n",
        "class AuthUser(BaseUser):\n",
        "    def __init__(self, session: Session) -> None:\n",
        "        self.session = session\n",
        "        self.__user = None\n",
        "\n",
        "    @property\n",
        "    def is_authenticated(self) -> bool:\n",
        "        return True\n",
        "\n",
        "    async def user(self) -> Users:\n",
        "        if not self.__user:\n",
        "            self.__user = await Users.get_or_none(id=self.session.user)\n",
        "        return self.__user"
      ],
      "metadata": {
        "id": "o0I6CAjDNRwk"
      },
      "execution_count": 6,
      "outputs": []
    },
    {
      "cell_type": "code",
      "source": [
        "@main_app.middleware(\"http\")\n",
        "async def authentication_middleware(request: Request, call_next):\n",
        "    token = request.cookies.get(\"session\")\n",
        "    if not token:\n",
        "        request.scope[\"auth\"] = [\"anonymous\"]\n",
        "        request.scope[\"user\"] = UnauthenticatedUser()\n",
        "    else:\n",
        "        session = await Session.get_or_none(token=token)\n",
        "        if session is None:\n",
        "            request.scope[\"auth\"] = [\"anonymous\"]\n",
        "            request.scope[\"user\"] = UnauthenticatedUser()\n",
        "        else:\n",
        "            request.scope[\"user\"] = AuthUser(session)\n",
        "            user = await Users.get_or_none(id=session.user)\n",
        "            request.scope[\"auth\"] = user.scope\n",
        "    response = await call_next(request)\n",
        "    return response"
      ],
      "metadata": {
        "id": "DWVOE25xNUyA"
      },
      "execution_count": 7,
      "outputs": []
    },
    {
      "cell_type": "code",
      "source": [
        "async def authenticate(request: Request, user: str, password: str) -> bool:\n",
        "    user = await Users.get_or_none(username=user)\n",
        "    if user:\n",
        "        p_hash = hashlib.pbkdf2_hmac(\"sha256\", password.encode(), user.p_salt, 100000)\n",
        "        if p_hash == user.p_hash:\n",
        "            expires = datetime.datetime.now() + datetime.timedelta(seconds=max_age)\n",
        "            if await Session.filter(token=request.session).exists():\n",
        "                await Session.filter(token=request.session).delete()\n",
        "            session = await Session.create(user=user.id, expires_at=expires,\n",
        "                                           scope=user.scope, token=request.session)\n",
        "            request.scope[\"session\"] = session.token\n",
        "            request.scope[\"auth\"] = user.scope\n",
        "            auth_user = AuthUser(session)\n",
        "            auth_user.__user = user\n",
        "            request.scope[\"user\"] = auth_user\n",
        "            return True\n",
        "        else:\n",
        "            return False\n",
        "    else:\n",
        "        return False"
      ],
      "metadata": {
        "id": "n7LauyD8NXOU"
      },
      "execution_count": 8,
      "outputs": []
    },
    {
      "cell_type": "code",
      "source": [
        "from auth.exceptions import NotLoggedInException, PermissionFailedException, AlreadyLoggedInException\n",
        "from fastapi import Request, BackgroundTasks\n",
        "import datetime\n",
        "from settings import max_age\n",
        "from models import Session\n",
        "\n",
        "\n",
        "async def update_session_expiry(request: Request):\n",
        "    session = await Session.get(token=request.session)\n",
        "    session.expires_at = datetime.datetime.now() + datetime.timedelta(seconds=max_age)\n",
        "    await session.save()\n",
        "    await Session.filter(expires_at__lt=datetime.datetime.now()).delete()\n",
        "\n",
        "\n",
        "async def already_logged_in(request: Request):\n",
        "    if request.user.is_authenticated:\n",
        "        raise AlreadyLoggedInException()\n",
        "    return True\n",
        "\n",
        "\n",
        "async def logged_in(request: Request, background_tasks: BackgroundTasks) -> bool:\n",
        "    if not request.user.is_authenticated:\n",
        "        raise NotLoggedInException()\n",
        "    background_tasks.add_task(update_session_expiry, request)\n",
        "    return True\n",
        "\n",
        "\n",
        "async def admin_user(request: Request, background_tasks: BackgroundTasks) -> bool:\n",
        "    if not request.user.is_authenticated:\n",
        "        raise NotLoggedInException()\n",
        "    if \"admin\" not in request.auth or \"super\" not in request.auth:\n",
        "        raise PermissionFailedException(\"You need to be marked as an admin user to access this endpoint\")\n",
        "    background_tasks.add_task(update_session_expiry, request)\n",
        "    return True\n",
        "\n",
        "\n",
        "async def super_user(request: Request, background_tasks: BackgroundTasks) -> bool:\n",
        "    if not request.user.is_authenticated:\n",
        "        raise NotLoggedInException()\n",
        "    if \"super\" not in request.auth:\n",
        "        raise PermissionFailedException(\"You need to be marked as an admin user to access this endpoint\")\n",
        "    background_tasks.add_task(update_session_expiry, request)\n",
        "    return True"
      ],
      "metadata": {
        "id": "YqWl8Wo5NaaE"
      },
      "execution_count": 9,
      "outputs": []
    },
    {
      "cell_type": "code",
      "source": [
        "from fastapi.responses import RedirectResponse, HTMLResponse\n",
        "from fastapi import Request, FastAPI\n",
        "\n",
        "\"\"\"\n",
        "Authentication custom exceptions and exception handlers\n",
        "\"\"\"\n",
        "\n",
        "\n",
        "class NotLoggedInException(Exception):\n",
        "    def __init__(self):\n",
        "        pass\n",
        "\n",
        "\n",
        "class AlreadyLoggedInException(Exception):\n",
        "    def __init__(self):\n",
        "        pass\n",
        "\n",
        "\n",
        "def already_logged_in_handler(request: Request, exc: AlreadyLoggedInException):\n",
        "    return RedirectResponse(\"/\")\n",
        "\n",
        "\n",
        "def not_logged_in_handler(request: Request, exc: NotLoggedInException):\n",
        "    \"\"\"Redirect to the login page if login is required\"\"\"\n",
        "    return RedirectResponse(\"/auth\")\n",
        "\n",
        "\n",
        "class PermissionFailedException(Exception):\n",
        "    def __init__(self, permissions: list):\n",
        "        self.permissions = permissions\n",
        "\n",
        "\n",
        "def permission_failed_handler(request: Request, exc: PermissionFailedException):\n",
        "    \"\"\"shows an error page if the users authentication scope fails to meet the requirements\"\"\"\n",
        "    return HTMLResponse(content=\"templates/permission_failed.html\", status_code=401)\n",
        "\n",
        "\n",
        "def auth_exceptions_add(app: FastAPI):\n",
        "    \"\"\"Loads the exception handlers into the app\"\"\"\n",
        "    app.add_exception_handler(NotLoggedInException, not_logged_in_handler)\n",
        "    app.add_exception_handler(PermissionFailedException, permission_failed_handler)\n",
        "    app.add_exception_handler(AlreadyLoggedInException, already_logged_in_handler)"
      ],
      "metadata": {
        "id": "yeC5WZR3NeXt"
      },
      "execution_count": 10,
      "outputs": []
    }
  ]
}