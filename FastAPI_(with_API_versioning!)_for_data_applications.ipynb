{
  "nbformat": 4,
  "nbformat_minor": 0,
  "metadata": {
    "colab": {
      "name": "FastAPI (with API versioning!) for data applications.ipynb",
      "provenance": [],
      "collapsed_sections": [],
      "authorship_tag": "ABX9TyM3EmjL8BPjOyTQrjwxKqW8"
    },
    "kernelspec": {
      "name": "python3",
      "display_name": "Python 3"
    },
    "language_info": {
      "name": "python"
    }
  },
  "cells": [
    {
      "cell_type": "markdown",
      "metadata": {
        "id": "c0Jqgb2Bq1Vh"
      },
      "source": [
        "[Reference](https://medium.com/geoblinktech/fastapi-with-api-versioning-for-data-applications-2b178b0f843f)"
      ]
    },
    {
      "cell_type": "markdown",
      "metadata": {
        "id": "Unl1aG6arAE4"
      },
      "source": [
        "# API versioning with FastAPI\n"
      ]
    },
    {
      "cell_type": "code",
      "metadata": {
        "id": "qv-qyNgVqxeB"
      },
      "source": [
        "from fastapi import FastAPI\n",
        "from fastapi_versioning import VersionedFastAPI, version\n",
        "\n",
        "app = FastAPI(title=\"My App\")\n",
        "\n",
        "\n",
        "@app.get(\"/greet\")\n",
        "@version(1, 0)\n",
        "def greet_with_hello():\n",
        "    return \"Hello\"\n",
        "\n",
        "\n",
        "@app.get(\"/greet\")\n",
        "@version(1, 2)\n",
        "def greet_with_hi():\n",
        "    return \"Hi\"\n",
        "\n",
        "@app.get(\"/goodbye\")\n",
        "@version(1, 1)\n",
        "def say_goodbye():\n",
        "    return “bye”\n",
        "\n",
        "@app.get(\"/foo\")\n",
        "def get_foo():\n",
        "    return “foo”\n",
        "\n",
        "\n",
        "app = VersionedFastAPI(app, default_api_version=(1, 2))"
      ],
      "execution_count": null,
      "outputs": []
    },
    {
      "cell_type": "code",
      "metadata": {
        "id": "ny0PwFWVrB-W"
      },
      "source": [
        "app = FastAPI(\n",
        "title=\"My Item App”,\n",
        "exception_handlers={\n",
        "       500: internal_error_exception_handler,  # Uncontrolled internal server errors (e.g. raised by FastAPI's middlewares)\n",
        "       RequestValidationError: request_validation_exception_handler,  # Custom data validation error\n",
        "   }\n",
        ")"
      ],
      "execution_count": null,
      "outputs": []
    },
    {
      "cell_type": "code",
      "metadata": {
        "id": "C-hek-JTrMNc"
      },
      "source": [
        "async def request_validation_exception_handler(request: Request, exc: RequestValidationError):\n",
        "    return PlainTextResponse(str(exc), status_code=400)"
      ],
      "execution_count": null,
      "outputs": []
    },
    {
      "cell_type": "code",
      "metadata": {
        "id": "fSy3gNryrN6T"
      },
      "source": [
        "class APIVersion:\n",
        "\n",
        "   def __init__(self, major_version, minor_version):\n",
        "       self._major_version = major_version\n",
        "       self._minor_version = minor_version\n",
        "\n",
        "   def to_tuple(self) -> Tuple[int, int]:\n",
        "       return self._major_version, self._minor_version\n",
        "\n",
        "   def to_str(self) -> str:\n",
        "       return f\"v{self._major_version}_{self._minor_version}\""
      ],
      "execution_count": null,
      "outputs": []
    },
    {
      "cell_type": "code",
      "metadata": {
        "id": "3SM14SNerQqN"
      },
      "source": [
        "def version_app(\n",
        "        app: FastAPI,\n",
        "        default_api_version: APIVersion,\n",
        "        exception_handlers: Optional[Dict[Union[int, Type[Exception]], Callable]],\n",
        "        **kwargs\n",
        "):\n",
        "    app = VersionedFastAPI(\n",
        "        app,\n",
        "        version=default_api_version.to_str(),  # Version that appears at the top of the API docs\n",
        "        default_version=default_api_version.to_tuple(),  # Version at which unversioned endpoints start to be available\n",
        "        exception_handlers=exception_handlers,\n",
        "        **kwargs\n",
        "    )\n",
        "\n",
        "    # Hack: Register exception handlers in all mounted subapps\n",
        "    # We need this workaround because fastapi-versioning is not passing them downstream to sub-apps by default\n",
        "    mounted_routes = [route for route in app.routes if isinstance(route, Mount)]\n",
        "\n",
        "    if exception_handlers is not None:\n",
        "        for mounted_route in mounted_routes:\n",
        "            for exc, exc_handler in exception_handlers.items():\n",
        "                mounted_route.app.add_exception_handler(exc, exc_handler)\n",
        "\n",
        "    return app"
      ],
      "execution_count": null,
      "outputs": []
    },
    {
      "cell_type": "code",
      "metadata": {
        "id": "suqH8a8LrSX-"
      },
      "source": [
        "LATEST_API_VERSION = APIVersion(major_version=1, minor_version=1)\n",
        "\n",
        "# Create app object and add routes\n",
        "app = FastAPI(title=\"My Item App\")\n",
        "app.include_router(unversioned_router)\n",
        "app.include_router(router_v1_0)\n",
        "app.include_router(router_v1_1)\n",
        "\n",
        "\n",
        "exception_handlers = {\n",
        "        500: internal_error_exception_handler,  # Uncontrolled internal server errors (e.g. raised by FastAPI's middlewares)\n",
        "        CustomServiceError: internal_error_exception_handler,  # Controlled internal server errors\n",
        "        RequestValidationError: request_validation_exception_handler,  # Custom data validation error\n",
        "    }\n",
        "\n",
        "app = version_app(app, default_api_version=LATEST_API_VERSION, exception_handlers=exception_handlers)\n"
      ],
      "execution_count": null,
      "outputs": []
    },
    {
      "cell_type": "code",
      "metadata": {
        "id": "B5W_41jMrUor"
      },
      "source": [
        "async def request_validation_exception_handler(request: Request, exc: RequestValidationError) -> JSONResponse:\n",
        "    return JSONResponse(\n",
        "        status_code=HTTP_422_UNPROCESSABLE_ENTITY,\n",
        "        content={\n",
        "                \"error_name\": exc.__class__.__name__,\n",
        "                \"message\": jsonable_encoder(exc.errors()),\n",
        "        },\n",
        "    )"
      ],
      "execution_count": null,
      "outputs": []
    }
  ]
}