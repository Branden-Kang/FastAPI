{
  "nbformat": 4,
  "nbformat_minor": 0,
  "metadata": {
    "colab": {
      "provenance": [],
      "authorship_tag": "ABX9TyOrzE1QeNKVElMRxVdl2DGG"
    },
    "kernelspec": {
      "name": "python3",
      "display_name": "Python 3"
    },
    "language_info": {
      "name": "python"
    }
  },
  "cells": [
    {
      "cell_type": "markdown",
      "source": [
        "[Reference](https://medium.com/@adnan-kaya/fastapi-crud-app-with-raw-sql-part-1-d62bad80a386)"
      ],
      "metadata": {
        "id": "i-yB8Dj3BLFo"
      }
    },
    {
      "cell_type": "markdown",
      "source": [
        "```\n",
        "$ cd news_fastapi\n",
        "# create virtual environment using venv module(-m) and name it as venv\n",
        "$ python3.11 -m venv venv\n",
        "# activate venv\n",
        "$ source venv/bin/activate\n",
        "# windows users can activate like the following\n",
        "$ venv\\Scripts\\activate\n",
        "\n",
        "# after activating venv use pip to install fastapi\n",
        "(venv) $ pip install fastapi\n",
        "(venv) $ pip install \"uvicorn[standard]\"\n",
        "```"
      ],
      "metadata": {
        "id": "EaP1HA7gBNzR"
      }
    },
    {
      "cell_type": "markdown",
      "source": [
        "```\n",
        "news_fastapi\n",
        "├──  requirements.txt\n",
        "├── app\n",
        "└── tests\n",
        "└── venv\n",
        "```"
      ],
      "metadata": {
        "id": "AEkOzY7fBUr9"
      }
    },
    {
      "cell_type": "code",
      "execution_count": 1,
      "metadata": {
        "id": "DmE8slKKBJey"
      },
      "outputs": [],
      "source": [
        "from fastapi import FastAPI\n",
        "\n",
        "app = FastAPI()\n",
        "\n",
        "\n",
        "@app.get('/')\n",
        "async def index():\n",
        "    return {'message': 'Welcome to news app!'}"
      ]
    },
    {
      "cell_type": "markdown",
      "source": [
        "```\n",
        "uvicorn app.main:app --reload --workers 1 --host 0.0.0.0 --port 8000\n",
        "```"
      ],
      "metadata": {
        "id": "MZJs_-EjBdF8"
      }
    },
    {
      "cell_type": "code",
      "source": [
        "import os\n",
        "from pathlib import Path\n",
        "import dotenv\n",
        "\n",
        "BASE_DIR = Path(__file__).resolve().parent.parent\n",
        "dotenv.load_dotenv(BASE_DIR / \".env\")\n",
        "\n",
        "\n",
        "class Database(ABC):\n",
        "    \"\"\"\n",
        "    Database context manager\n",
        "    \"\"\"\n",
        "\n",
        "    def __init__(self, driver) -> None:\n",
        "        self.driver = driver\n",
        "\n",
        "    @abstractmethod\n",
        "    def connect_to_database(self):\n",
        "        raise NotImplementedError()\n",
        "\n",
        "    def __enter__(self):\n",
        "        self.connection = self.connect_to_database()\n",
        "        self.cursor = self.connection.cursor()\n",
        "        return self\n",
        "\n",
        "    def __exit__(self, exception_type, exc_val, traceback):\n",
        "        self.cursor.close()\n",
        "        self.connection.close()"
      ],
      "metadata": {
        "id": "9AXBqFcHBXtW"
      },
      "execution_count": 2,
      "outputs": []
    },
    {
      "cell_type": "markdown",
      "source": [
        "```\n",
        "pip install psycopg2\n",
        "```"
      ],
      "metadata": {
        "id": "hLHNuKmhBr0F"
      }
    },
    {
      "cell_type": "code",
      "source": [
        "import os\n",
        "from pathlib import Path\n",
        "import dotenv\n",
        "\n",
        "BASE_DIR = Path(__file__).resolve().parent.parent\n",
        "dotenv.load_dotenv(BASE_DIR / \".env\")\n",
        "\n",
        "\n",
        "class Database(ABC):\n",
        "    \"\"\"\n",
        "    Database context manager\n",
        "    \"\"\"\n",
        "\n",
        "    def __init__(self, driver) -> None:\n",
        "        self.driver = driver\n",
        "\n",
        "    @abstractmethod\n",
        "    def connect_to_database(self):\n",
        "        raise NotImplementedError()\n",
        "\n",
        "    def __enter__(self):\n",
        "        self.connection = self.connect_to_database()\n",
        "        self.cursor = self.connection.cursor()\n",
        "        return self\n",
        "\n",
        "    def __exit__(self, exception_type, exc_val, traceback):\n",
        "        self.cursor.close()\n",
        "        self.connection.close()\n",
        "\n",
        "# previous imports\n",
        "import psycopg2\n",
        "\n",
        "# previous codes ...\n",
        "\n",
        "class PgDatabase(Database):\n",
        "    \"\"\"PostgreSQL Database context manager\"\"\"\n",
        "\n",
        "    def __init__(self) -> None:\n",
        "        self.driver = psycopg2\n",
        "        super().__init__(self.driver)\n",
        "\n",
        "    def connect_to_database(self):\n",
        "        return self.driver.connect(\n",
        "            host=os.getenv(\"DB_HOST\"),\n",
        "            port=os.getenv(\"DB_PORT\"),\n",
        "            user=os.getenv(\"DB_USERNAME\"),\n",
        "            password=os.getenv(\"DB_PASSWORD\"),\n",
        "            database=os.getenv(\"DB_NAME\")\n",
        "        )\n",
        "\n",
        "t_news = \"t_news\"\n",
        "\n",
        "def create_tables():\n",
        "    with PgDatabase() as db:\n",
        "        db.cursor.execute(f\"\"\"CREATE TABLE {t_news} (\n",
        "            id SERIAL PRIMARY KEY,\n",
        "            published_date TIMESTAMPTZ,\n",
        "            created_date TIMESTAMPTZ DEFAULT NOW(),\n",
        "            created_by VARCHAR(140),\n",
        "            context TEXT NOT NULL\n",
        "            );\n",
        "        \"\"\")\n",
        "        db.connection.commit()\n",
        "        print(\"Tables are created successfully...\")\n",
        "\n",
        "def drop_tables():\n",
        "    with PgDatabase() as db:\n",
        "        db.cursor.execute(f\"DROP TABLE IF EXISTS {t_news} CASCADE;\")\n",
        "        db.connection.commit()\n",
        "        print(\"Tables are dropped...\")"
      ],
      "metadata": {
        "id": "zbq8di8ABm0A"
      },
      "execution_count": 3,
      "outputs": []
    },
    {
      "cell_type": "markdown",
      "source": [
        "```\n",
        "# .env file\n",
        "export DB_HOST=localhost\n",
        "export DB_PORT=5432\n",
        "export DB_USERNAME=developer\n",
        "export DB_PASSWORD=developer\n",
        "export DB_NAME=db_news\n",
        "```"
      ],
      "metadata": {
        "id": "FgX9uOurB01D"
      }
    },
    {
      "cell_type": "code",
      "source": [
        "import os\n",
        "from pathlib import Path\n",
        "import dotenv\n",
        "\n",
        "BASE_DIR = Path(__file__).resolve().parent.parent\n",
        "dotenv.load_dotenv(BASE_DIR / \".env\")\n",
        "\n",
        "\n",
        "class Database(ABC):\n",
        "    \"\"\"\n",
        "    Database context manager\n",
        "    \"\"\"\n",
        "\n",
        "    def __init__(self, driver) -> None:\n",
        "        self.driver = driver\n",
        "\n",
        "    @abstractmethod\n",
        "    def connect_to_database(self):\n",
        "        raise NotImplementedError()\n",
        "\n",
        "    def __enter__(self):\n",
        "        self.connection = self.connect_to_database()\n",
        "        self.cursor = self.connection.cursor()\n",
        "        return self\n",
        "\n",
        "    def __exit__(self, exception_type, exc_val, traceback):\n",
        "        self.cursor.close()\n",
        "        self.connection.close()\n",
        "\n",
        "# previous imports\n",
        "import psycopg2\n",
        "\n",
        "# previous codes ...\n",
        "\n",
        "class PgDatabase(Database):\n",
        "    \"\"\"PostgreSQL Database context manager\"\"\"\n",
        "\n",
        "    def __init__(self) -> None:\n",
        "        self.driver = psycopg2\n",
        "        super().__init__(self.driver)\n",
        "\n",
        "    def connect_to_database(self):\n",
        "        return self.driver.connect(\n",
        "            host=os.getenv(\"DB_HOST\"),\n",
        "            port=os.getenv(\"DB_PORT\"),\n",
        "            user=os.getenv(\"DB_USERNAME\"),\n",
        "            password=os.getenv(\"DB_PASSWORD\"),\n",
        "            database=os.getenv(\"DB_NAME\")\n",
        "        )\n",
        "\n",
        "t_news = \"t_news\"\n",
        "\n",
        "def create_tables():\n",
        "    with PgDatabase() as db:\n",
        "        db.cursor.execute(f\"\"\"CREATE TABLE {t_news} (\n",
        "            id SERIAL PRIMARY KEY,\n",
        "            published_date TIMESTAMPTZ,\n",
        "            created_date TIMESTAMPTZ DEFAULT NOW(),\n",
        "            created_by VARCHAR(140),\n",
        "            context TEXT NOT NULL\n",
        "            );\n",
        "        \"\"\")\n",
        "        db.connection.commit()\n",
        "        print(\"Tables are created successfully...\")\n",
        "\n",
        "def drop_tables():\n",
        "    with PgDatabase() as db:\n",
        "        db.cursor.execute(f\"DROP TABLE IF EXISTS {t_news} CASCADE;\")\n",
        "        db.connection.commit()\n",
        "        print(\"Tables are dropped...\")\n",
        "\n",
        "from fastapi import FastAPI, status # new\n",
        "from fastapi.exceptions import HTTPException # new\n",
        "# internals\n",
        "from app.database import drop_tables, create_tables # new\n",
        "\n",
        "app = FastAPI()\n",
        "\n",
        "@app.post('/initdb')\n",
        "async def initdb():\n",
        "    try:\n",
        "        drop_tables()\n",
        "        create_tables()\n",
        "        return {\"message\": \"Tables dropped and created!\"}\n",
        "    except Exception as e:\n",
        "        raise HTTPException(\n",
        "            status_code=status.HTTP_400_BAD_REQUEST,\n",
        "            detail=f\"Error {e}\"\n",
        "        )"
      ],
      "metadata": {
        "id": "SQL898upBxpu"
      },
      "execution_count": 4,
      "outputs": []
    },
    {
      "cell_type": "markdown",
      "source": [
        "```\n",
        "curl -X POST http://0.0.0.0:8000/initdb\n",
        "```"
      ],
      "metadata": {
        "id": "F-g6_J62CEqR"
      }
    }
  ]
}