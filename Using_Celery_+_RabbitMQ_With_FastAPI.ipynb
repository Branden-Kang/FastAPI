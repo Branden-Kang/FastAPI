{
  "nbformat": 4,
  "nbformat_minor": 0,
  "metadata": {
    "colab": {
      "provenance": [],
      "authorship_tag": "ABX9TyOVSNfEh3yoCiPPIReh/PiT"
    },
    "kernelspec": {
      "name": "python3",
      "display_name": "Python 3"
    },
    "language_info": {
      "name": "python"
    }
  },
  "cells": [
    {
      "cell_type": "markdown",
      "source": [
        "[Reference](https://blog.stackademic.com/using-celery-rabbitmq-with-fastapi-2e6f0236841e)"
      ],
      "metadata": {
        "id": "LP8KWzQ7eJTy"
      }
    },
    {
      "cell_type": "markdown",
      "source": [
        "```\n",
        "docker run -p 15672:15672 -p 5672:5672 rabbitmq:3-management\n",
        "```"
      ],
      "metadata": {
        "id": "fTMz3eabeL0-"
      }
    },
    {
      "cell_type": "code",
      "execution_count": 1,
      "metadata": {
        "colab": {
          "base_uri": "https://localhost:8080/"
        },
        "id": "bekOZvRVeH5z",
        "outputId": "c5bd4edb-28b4-4eed-8380-6d55e6364899"
      },
      "outputs": [
        {
          "output_type": "stream",
          "name": "stdout",
          "text": [
            "Collecting celery\n",
            "  Downloading celery-5.4.0-py3-none-any.whl (425 kB)\n",
            "\u001b[2K     \u001b[90m━━━━━━━━━━━━━━━━━━━━━━━━━━━━━━━━━━━━━━━━\u001b[0m \u001b[32m426.0/426.0 kB\u001b[0m \u001b[31m2.1 MB/s\u001b[0m eta \u001b[36m0:00:00\u001b[0m\n",
            "\u001b[?25hCollecting python-dotenv\n",
            "  Downloading python_dotenv-1.0.1-py3-none-any.whl (19 kB)\n",
            "Collecting billiard<5.0,>=4.2.0 (from celery)\n",
            "  Downloading billiard-4.2.0-py3-none-any.whl (86 kB)\n",
            "\u001b[2K     \u001b[90m━━━━━━━━━━━━━━━━━━━━━━━━━━━━━━━━━━━━━━━━\u001b[0m \u001b[32m86.7/86.7 kB\u001b[0m \u001b[31m6.4 MB/s\u001b[0m eta \u001b[36m0:00:00\u001b[0m\n",
            "\u001b[?25hCollecting kombu<6.0,>=5.3.4 (from celery)\n",
            "  Downloading kombu-5.3.7-py3-none-any.whl (200 kB)\n",
            "\u001b[2K     \u001b[90m━━━━━━━━━━━━━━━━━━━━━━━━━━━━━━━━━━━━━━━━\u001b[0m \u001b[32m200.2/200.2 kB\u001b[0m \u001b[31m9.6 MB/s\u001b[0m eta \u001b[36m0:00:00\u001b[0m\n",
            "\u001b[?25hCollecting vine<6.0,>=5.1.0 (from celery)\n",
            "  Downloading vine-5.1.0-py3-none-any.whl (9.6 kB)\n",
            "Requirement already satisfied: click<9.0,>=8.1.2 in /usr/local/lib/python3.10/dist-packages (from celery) (8.1.7)\n",
            "Collecting click-didyoumean>=0.3.0 (from celery)\n",
            "  Downloading click_didyoumean-0.3.1-py3-none-any.whl (3.6 kB)\n",
            "Collecting click-repl>=0.2.0 (from celery)\n",
            "  Downloading click_repl-0.3.0-py3-none-any.whl (10 kB)\n",
            "Requirement already satisfied: click-plugins>=1.1.1 in /usr/local/lib/python3.10/dist-packages (from celery) (1.1.1)\n",
            "Requirement already satisfied: tzdata>=2022.7 in /usr/local/lib/python3.10/dist-packages (from celery) (2024.1)\n",
            "Requirement already satisfied: python-dateutil>=2.8.2 in /usr/local/lib/python3.10/dist-packages (from celery) (2.8.2)\n",
            "Requirement already satisfied: prompt-toolkit>=3.0.36 in /usr/local/lib/python3.10/dist-packages (from click-repl>=0.2.0->celery) (3.0.47)\n",
            "Collecting amqp<6.0.0,>=5.1.1 (from kombu<6.0,>=5.3.4->celery)\n",
            "  Downloading amqp-5.2.0-py3-none-any.whl (50 kB)\n",
            "\u001b[2K     \u001b[90m━━━━━━━━━━━━━━━━━━━━━━━━━━━━━━━━━━━━━━━━\u001b[0m \u001b[32m50.9/50.9 kB\u001b[0m \u001b[31m3.4 MB/s\u001b[0m eta \u001b[36m0:00:00\u001b[0m\n",
            "\u001b[?25hRequirement already satisfied: six>=1.5 in /usr/local/lib/python3.10/dist-packages (from python-dateutil>=2.8.2->celery) (1.16.0)\n",
            "Requirement already satisfied: wcwidth in /usr/local/lib/python3.10/dist-packages (from prompt-toolkit>=3.0.36->click-repl>=0.2.0->celery) (0.2.13)\n",
            "Installing collected packages: vine, python-dotenv, click-didyoumean, billiard, click-repl, amqp, kombu, celery\n",
            "Successfully installed amqp-5.2.0 billiard-4.2.0 celery-5.4.0 click-didyoumean-0.3.1 click-repl-0.3.0 kombu-5.3.7 python-dotenv-1.0.1 vine-5.1.0\n"
          ]
        }
      ],
      "source": [
        "!pip install celery python-dotenv"
      ]
    },
    {
      "cell_type": "code",
      "source": [
        "# celery_config.py\n",
        "# Configuration for define celery tasks in a separate file.\n",
        "import os\n",
        "from celery import Celery\n",
        "from dotenv import load_dotenv\n",
        "\n",
        "load_dotenv() # to load environment variables\n",
        "\n",
        "celery_app = Celery(__name__, broker=os.getenv(\"CELERY_BROKER_URL\"), backend=os.getenv(\"CELERY_RESULT_BACKEND\"))\n",
        "\n",
        "celery_app.conf.update(\n",
        "    imports=['app.tasks.celery_tasks'], # path to your celery tasks file\n",
        "    broker_connection_retry_on_startup=True,\n",
        "    task_track_started=True\n",
        ")"
      ],
      "metadata": {
        "id": "fuj9H4STeQZw"
      },
      "execution_count": 2,
      "outputs": []
    },
    {
      "cell_type": "code",
      "source": [
        "# celery_tasks.py\n",
        "import asyncio\n",
        "from app.config.celery_config import celery_app\n",
        "\n",
        "\n",
        "@celery_app.task\n",
        "def my_task(x, y):\n",
        "   ans = x + y\n",
        "   print(ans)\n",
        "   return ans\n",
        "\n",
        "\n",
        "async def my_async_task(x, y):\n",
        "   await asyncio.sleep(3)\n",
        "   ans = x + y\n",
        "   print(ans)\n",
        "   return ans\n",
        "\n",
        "\n",
        "@celry_app.task\n",
        "def my_second_task(x, y):\n",
        "   result = asyncio.run(my_async_task(x, y))\n",
        "   return result\n",
        ""
      ],
      "metadata": {
        "id": "N9VyxZLNeTO0"
      },
      "execution_count": 3,
      "outputs": []
    },
    {
      "cell_type": "code",
      "source": [
        "# celery_config.py\n",
        "# Configuration for define celery tasks inside this file.\n",
        "import os\n",
        "import asyncio\n",
        "from celery import Celery\n",
        "from dotenv import load_dotenv\n",
        "\n",
        "load_dotenv() # to load environment variables\n",
        "\n",
        "celery_app = Celery(__name__, broker=os.getenv(\"CELERY_BROKER_URL\"), backend=os.getenv(\"CELERY_RESULT_BACKEND\"))\n",
        "\n",
        "celery_app.conf.update(\n",
        "    broker_connection_retry_on_startup=True,\n",
        "    task_track_started=True\n",
        ")\n",
        "\n",
        "@celery_app.task\n",
        "def my_task(x, y):\n",
        "   ans = x + y\n",
        "   print(ans)\n",
        "   return ans\n",
        "\n",
        "async def my_async_task(x, y):\n",
        "   await asyncio.sleep(3)\n",
        "   ans = x + y\n",
        "   print(ans)\n",
        "   return ans\n",
        "\n",
        "@celry_app.task\n",
        "def my_second_task(x, y):\n",
        "   result = asyncio.run(my_async_task(x, y))\n",
        "   return result"
      ],
      "metadata": {
        "id": "bPh84zYqeV9H"
      },
      "execution_count": 4,
      "outputs": []
    },
    {
      "cell_type": "code",
      "source": [
        "from fastapi import FastAPI\n",
        "\n",
        "from app.tasks.celery_tasks import my_task\n",
        "\n",
        "app = FastAPI()\n",
        "\n",
        "\n",
        "@app.get(\"/run\")\n",
        "def handle_run():\n",
        "   task_response = my_task.delay(5, 6)\n",
        "   return {\"message\": \"Task execution started\"}\n",
        "\n",
        "\n",
        "if __name__ == '__main__':\n",
        "    uvicorn.run(app, port=8080)"
      ],
      "metadata": {
        "id": "vO77W0FFeX4i"
      },
      "execution_count": 5,
      "outputs": []
    },
    {
      "cell_type": "markdown",
      "source": [
        "```\n",
        "celery --app app.config.celery_config.celery_app worker --loglevel=info --pool=solo\n",
        "```"
      ],
      "metadata": {
        "id": "UuuqwpCcecRy"
      }
    },
    {
      "cell_type": "markdown",
      "source": [
        "```\n",
        "uvicorn app.main:app --port 8000\n",
        "```"
      ],
      "metadata": {
        "id": "ob7k0gwTeeoo"
      }
    }
  ]
}