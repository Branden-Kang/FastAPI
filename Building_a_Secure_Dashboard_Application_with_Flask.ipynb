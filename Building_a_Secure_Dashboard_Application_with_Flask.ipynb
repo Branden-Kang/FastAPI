{
  "nbformat": 4,
  "nbformat_minor": 0,
  "metadata": {
    "colab": {
      "provenance": [],
      "authorship_tag": "ABX9TyOPy8t5zsTbcRxjMlNzFg0R"
    },
    "kernelspec": {
      "name": "python3",
      "display_name": "Python 3"
    },
    "language_info": {
      "name": "python"
    }
  },
  "cells": [
    {
      "cell_type": "markdown",
      "source": [
        "[Reference](https://levelup.gitconnected.com/building-a-secure-dashboard-application-with-flask-8c6a4c352932)"
      ],
      "metadata": {
        "id": "9wFCuiFicnLM"
      }
    },
    {
      "cell_type": "code",
      "execution_count": 1,
      "metadata": {
        "colab": {
          "base_uri": "https://localhost:8080/"
        },
        "id": "6MUnumykb2YY",
        "outputId": "535755fe-0dc8-48f3-896d-59898e843408"
      },
      "outputs": [
        {
          "output_type": "stream",
          "name": "stdout",
          "text": [
            "Requirement already satisfied: flask in /usr/local/lib/python3.10/dist-packages (2.2.5)\n",
            "Collecting flask-login\n",
            "  Downloading Flask_Login-0.6.3-py3-none-any.whl (17 kB)\n",
            "Collecting flask-sqlalchemy\n",
            "  Downloading flask_sqlalchemy-3.1.1-py3-none-any.whl (25 kB)\n",
            "Collecting waitress\n",
            "  Downloading waitress-2.1.2-py3-none-any.whl (57 kB)\n",
            "\u001b[2K     \u001b[90m━━━━━━━━━━━━━━━━━━━━━━━━━━━━━━━━━━━━━━━━\u001b[0m \u001b[32m57.7/57.7 kB\u001b[0m \u001b[31m2.3 MB/s\u001b[0m eta \u001b[36m0:00:00\u001b[0m\n",
            "\u001b[?25hRequirement already satisfied: Werkzeug>=2.2.2 in /usr/local/lib/python3.10/dist-packages (from flask) (3.0.1)\n",
            "Requirement already satisfied: Jinja2>=3.0 in /usr/local/lib/python3.10/dist-packages (from flask) (3.1.2)\n",
            "Requirement already satisfied: itsdangerous>=2.0 in /usr/local/lib/python3.10/dist-packages (from flask) (2.1.2)\n",
            "Requirement already satisfied: click>=8.0 in /usr/local/lib/python3.10/dist-packages (from flask) (8.1.7)\n",
            "Requirement already satisfied: sqlalchemy>=2.0.16 in /usr/local/lib/python3.10/dist-packages (from flask-sqlalchemy) (2.0.23)\n",
            "Requirement already satisfied: MarkupSafe>=2.0 in /usr/local/lib/python3.10/dist-packages (from Jinja2>=3.0->flask) (2.1.3)\n",
            "Requirement already satisfied: typing-extensions>=4.2.0 in /usr/local/lib/python3.10/dist-packages (from sqlalchemy>=2.0.16->flask-sqlalchemy) (4.5.0)\n",
            "Requirement already satisfied: greenlet!=0.4.17 in /usr/local/lib/python3.10/dist-packages (from sqlalchemy>=2.0.16->flask-sqlalchemy) (3.0.1)\n",
            "Installing collected packages: waitress, flask-sqlalchemy, flask-login\n",
            "Successfully installed flask-login-0.6.3 flask-sqlalchemy-3.1.1 waitress-2.1.2\n"
          ]
        }
      ],
      "source": [
        "pip install flask flask-login flask-sqlalchemy waitress"
      ]
    },
    {
      "cell_type": "code",
      "source": [
        "import logging\n",
        "import os\n",
        "import threading\n",
        "import time\n",
        "from logging.handlers import TimedRotatingFileHandler\n",
        "\n",
        "from flask import Flask, render_template, request, url_for, redirect, flash\n",
        "from flask_login import UserMixin, login_user, LoginManager, login_required, logout_user\n",
        "from flask_sqlalchemy import SQLAlchemy\n",
        "from waitress import serve\n",
        "from werkzeug.security import check_password_hash, generate_password_hash"
      ],
      "metadata": {
        "id": "nxBNEp_dcuzM"
      },
      "execution_count": 2,
      "outputs": []
    },
    {
      "cell_type": "code",
      "source": [
        "app = Flask(__name__)\n",
        "app.config['SECRET_KEY'] = \"python is the real deal !@#$%\"\n",
        "app.config['SQLALCHEMY_DATABASE_URI'] = \"sqlite:///users.db\"\n",
        "app.config['SQLALCHEMY_TRACK_MODIFICATIONS'] = False\n",
        "db = SQLAlchemy(app)\n",
        "\n",
        "class User(UserMixin, db.Model):\n",
        "    __tablename__ = \"users\"\n",
        "    id = db.Column(db.Integer, primary_key=True)\n",
        "    username = db.Column(db.String(250), unique=True, nullable=False)\n",
        "    password = db.Column(db.String(500), nullable=False)\n",
        "\n",
        "with app.app_context():\n",
        "    db.create_all()\n",
        "\n",
        "login_manager = LoginManager()\n",
        "login_manager.init_app(app)\n",
        "\n",
        "@login_manager.user_loader\n",
        "def load_user(user_id):\n",
        "    return User.query.get(int(user_id))\n",
        "\n",
        "@login_manager.unauthorized_handler\n",
        "def unauthorized_callback():\n",
        "    return redirect(url_for(\"login\"))\n",
        "\n",
        "@app.route('/login', methods=[\"GET\", \"POST\"])\n",
        "def login():\n",
        "    login_form = forms.LoginForm()\n",
        "\n",
        "    if login_form.validate_on_submit():\n",
        "        username = login_form.username.data\n",
        "        password = login_form.password.data\n",
        "\n",
        "        user = User.query.filter_by(username=username).first()\n",
        "\n",
        "        if not user:\n",
        "            flash(\"That username does not exist, please try again.\")\n",
        "            return redirect(url_for('login'))\n",
        "        elif not check_password_hash(user.password, password):\n",
        "            flash('Password incorrect, please try again.')\n",
        "            return redirect(url_for('login'))\n",
        "        else:\n",
        "            login_user(user)\n",
        "            return redirect(url_for('home'))\n",
        "\n",
        "    return render_template(\"login.html\", form=login_form)\n",
        "\n",
        "@app.route('/logout')\n",
        "def logout():\n",
        "    logout_user()\n",
        "    return redirect(url_for('home'))\n",
        "\n",
        "def user_creator(user, passwd):\n",
        "    hash_and_salted_password = generate_password_hash(passwd, method='pbkdf2:sha256', salt_length=8)\n",
        "    new_user = User(username=user, password=hash_and_salted_password)\n",
        "    db.session.add(new_user)\n",
        "    db.session.commit()\n",
        "\n",
        "def password_changer(user, passwd):\n",
        "    user = User.query.filter_by(username=user).first()\n",
        "    hash_and_salted_password = generate_password_hash(passwd, method='pbkdf2:sha256', salt_length=8)\n",
        "    user.password = hash_and_salted_password\n",
        "    db.session.commit()\n",
        "\n",
        "@app.route('/', methods=[\"GET\", \"POST\"])\n",
        "@login_required\n",
        "def home():\n",
        "    # Code for displaying graphs goes here\n",
        "    return render_template(\"index.html\", temp_html=temp_html_files, plot_ready=plot_ready,\n",
        "                           reload_interval=config.DASHBOARD_PAGE_RELOAD_IN_SECONDS * 1000)\n",
        "\n",
        "def background_task():\n",
        "    while True:\n",
        "        try:\n",
        "            # Code for generating new values for graphs goes here\n",
        "            # In my case I used Plotly to generate some graphs and save them\n",
        "            # as html files. And them I render the html when login is successful\n",
        "        except Exception as e:\n",
        "            logging.info(f\"{str(e)}\")\n",
        "\n",
        "        time.sleep(config.DASHBOARD_NEW_DATA_QUERY_INTERVAL_IN_SECONDS)\n",
        "\n",
        "background_thread = threading.Thread(name='BackgroundThread', target=background_task)\n",
        "background_thread.start()\n",
        "\n",
        "log_format = config.log_format\n",
        "log_file_name = f'{config.LOG_PATH}/simregdash.log'\n",
        "log_handler = TimedRotatingFileHandler(log_file_name, when='midnight', backupCount=10)\n",
        "logging.basicConfig(level=logging.INFO, format=log_format, handlers=[log_handler])\n",
        "logging.info(\"App is initializing\")\n",
        "\n",
        "if __name__ == \"__main__\":\n",
        "    serve(app, host=\"0.0.0.0\", port=9090)"
      ],
      "metadata": {
        "id": "56qBmW28c2pZ"
      },
      "execution_count": 3,
      "outputs": []
    }
  ]
}