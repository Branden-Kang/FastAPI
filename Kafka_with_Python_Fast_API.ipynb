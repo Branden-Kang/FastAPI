{
  "nbformat": 4,
  "nbformat_minor": 0,
  "metadata": {
    "colab": {
      "provenance": [],
      "authorship_tag": "ABX9TyMPwacCop1TC4nXkfxaAjX9"
    },
    "kernelspec": {
      "name": "python3",
      "display_name": "Python 3"
    },
    "language_info": {
      "name": "python"
    }
  },
  "cells": [
    {
      "cell_type": "markdown",
      "source": [
        "[Reference](https://blog.devgenius.io/kafka-with-python-fast-api-b1622eb7f9d0)"
      ],
      "metadata": {
        "id": "Oj4V3GyujrkO"
      }
    },
    {
      "cell_type": "code",
      "execution_count": 1,
      "metadata": {
        "id": "NfGRYi1ujSNf"
      },
      "outputs": [],
      "source": [
        "# # Env File\n",
        "# BOOTSTRAP-SERVERS=\"localhost:9092,localhost:9093,localhost:9094\"\n",
        "# TOPIC_PEOPLE_BASIC_NAME=\"people.basic.python\"\n",
        "# TOPIC_PEOPLE_BASIC_PARTITIONS=3\n",
        "# TOPIC_PEOPLE_BASIC_REPLICATION_FACTOR=3"
      ]
    },
    {
      "cell_type": "code",
      "source": [
        "import os\n",
        "# env and Fast api import\n",
        "from dotenv import load_dotenv\n",
        "from fastapi import FastApi\n",
        "# Kafka Imports\n",
        "from kafka import KafkaAdminClient\n",
        "from kafka.admin import NewTopic\n",
        "from kafka.errors import TopicAlreadyExistsError"
      ],
      "metadata": {
        "id": "p8bjwh6fjvsw"
      },
      "execution_count": 3,
      "outputs": []
    },
    {
      "cell_type": "code",
      "source": [
        "# Load env file\n",
        "load_dotenv(verbose=True)\n",
        "# Fast API instance\n",
        "app = FastApi()\n",
        "\n",
        "@app.on_event(\"startup\")\n",
        "async def startup_event():\n",
        "    # Kafka Admin Client\n",
        "    client = KafkaAdminClient(\n",
        "        bootstrap_servers=os.environ.get(\"BOOTSTRAP-SERVERS\"))\n",
        "    # Creating topic\n",
        "    topic = NewTopic(name=os.environ.get(\"TOPIC_PEOPLE_BASIC_NAME\"),\n",
        "                     num_partitions=int(os.environ.get(\"TOPIC_PEOPLE_BASIC_PARTITIONS\")),\n",
        "                     replication_factor=int(os.environ.get(\"TOPIC_PEOPLE_BASIC_REPLICATION_FACTOR\")))\n",
        "    # If topic already exists, it will throw an error\n",
        "    try:\n",
        "        # Creating topic\n",
        "        client.create_topics(new_topics=[topic], validate_only=False)\n",
        "    except TopicAlreadyExistsError:\n",
        "        pass\n",
        "    finally:\n",
        "        # Close the client\n",
        "        client.close()\n",
        "    @app.get(\"/\")\n",
        "async def root():\n",
        "    return {\"message\": \"Hello World\"}"
      ],
      "metadata": {
        "id": "Mwe53nmKjwqg"
      },
      "execution_count": 4,
      "outputs": []
    },
    {
      "cell_type": "code",
      "source": [
        "!uvicorn app:app --reloada"
      ],
      "metadata": {
        "id": "xPmUBEbFj0XZ"
      },
      "execution_count": 5,
      "outputs": []
    }
  ]
}