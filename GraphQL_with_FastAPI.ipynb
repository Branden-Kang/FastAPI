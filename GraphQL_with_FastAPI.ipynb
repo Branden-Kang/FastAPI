{
  "nbformat": 4,
  "nbformat_minor": 0,
  "metadata": {
    "colab": {
      "provenance": [],
      "authorship_tag": "ABX9TyOYPiHmkJKpiTy49n1MQV5u"
    },
    "kernelspec": {
      "name": "python3",
      "display_name": "Python 3"
    },
    "language_info": {
      "name": "python"
    }
  },
  "cells": [
    {
      "cell_type": "markdown",
      "source": [
        "[Reference](https://blog.stackademic.com/graphql-with-fastapi-866d52f1b32a)"
      ],
      "metadata": {
        "id": "9TytmLLABzUG"
      }
    },
    {
      "cell_type": "markdown",
      "source": [
        "# 1. Setting Up Your Environment"
      ],
      "metadata": {
        "id": "E9996ToOB3Lx"
      }
    },
    {
      "cell_type": "code",
      "execution_count": 1,
      "metadata": {
        "colab": {
          "base_uri": "https://localhost:8080/"
        },
        "id": "0pVNvlUMBxLg",
        "outputId": "523af28d-6341-4dee-bd20-c2bf430e180f"
      },
      "outputs": [
        {
          "output_type": "stream",
          "name": "stdout",
          "text": [
            "Collecting fastapi\n",
            "  Downloading fastapi-0.115.2-py3-none-any.whl.metadata (27 kB)\n",
            "Collecting uvicorn\n",
            "  Downloading uvicorn-0.32.0-py3-none-any.whl.metadata (6.6 kB)\n",
            "Collecting graphene\n",
            "  Downloading graphene-3.4-py2.py3-none-any.whl.metadata (6.7 kB)\n",
            "Collecting starlette<0.41.0,>=0.37.2 (from fastapi)\n",
            "  Downloading starlette-0.40.0-py3-none-any.whl.metadata (6.0 kB)\n",
            "Requirement already satisfied: pydantic!=1.8,!=1.8.1,!=2.0.0,!=2.0.1,!=2.1.0,<3.0.0,>=1.7.4 in /usr/local/lib/python3.10/dist-packages (from fastapi) (2.9.2)\n",
            "Requirement already satisfied: typing-extensions>=4.8.0 in /usr/local/lib/python3.10/dist-packages (from fastapi) (4.12.2)\n",
            "Requirement already satisfied: click>=7.0 in /usr/local/lib/python3.10/dist-packages (from uvicorn) (8.1.7)\n",
            "Collecting h11>=0.8 (from uvicorn)\n",
            "  Downloading h11-0.14.0-py3-none-any.whl.metadata (8.2 kB)\n",
            "Collecting graphql-core<3.3,>=3.1 (from graphene)\n",
            "  Downloading graphql_core-3.2.5-py3-none-any.whl.metadata (10 kB)\n",
            "Collecting graphql-relay<3.3,>=3.1 (from graphene)\n",
            "  Downloading graphql_relay-3.2.0-py3-none-any.whl.metadata (12 kB)\n",
            "Requirement already satisfied: annotated-types>=0.6.0 in /usr/local/lib/python3.10/dist-packages (from pydantic!=1.8,!=1.8.1,!=2.0.0,!=2.0.1,!=2.1.0,<3.0.0,>=1.7.4->fastapi) (0.7.0)\n",
            "Requirement already satisfied: pydantic-core==2.23.4 in /usr/local/lib/python3.10/dist-packages (from pydantic!=1.8,!=1.8.1,!=2.0.0,!=2.0.1,!=2.1.0,<3.0.0,>=1.7.4->fastapi) (2.23.4)\n",
            "Requirement already satisfied: anyio<5,>=3.4.0 in /usr/local/lib/python3.10/dist-packages (from starlette<0.41.0,>=0.37.2->fastapi) (3.7.1)\n",
            "Requirement already satisfied: idna>=2.8 in /usr/local/lib/python3.10/dist-packages (from anyio<5,>=3.4.0->starlette<0.41.0,>=0.37.2->fastapi) (3.10)\n",
            "Requirement already satisfied: sniffio>=1.1 in /usr/local/lib/python3.10/dist-packages (from anyio<5,>=3.4.0->starlette<0.41.0,>=0.37.2->fastapi) (1.3.1)\n",
            "Requirement already satisfied: exceptiongroup in /usr/local/lib/python3.10/dist-packages (from anyio<5,>=3.4.0->starlette<0.41.0,>=0.37.2->fastapi) (1.2.2)\n",
            "Downloading fastapi-0.115.2-py3-none-any.whl (94 kB)\n",
            "\u001b[2K   \u001b[90m━━━━━━━━━━━━━━━━━━━━━━━━━━━━━━━━━━━━━━━━\u001b[0m \u001b[32m94.7/94.7 kB\u001b[0m \u001b[31m3.6 MB/s\u001b[0m eta \u001b[36m0:00:00\u001b[0m\n",
            "\u001b[?25hDownloading uvicorn-0.32.0-py3-none-any.whl (63 kB)\n",
            "\u001b[2K   \u001b[90m━━━━━━━━━━━━━━━━━━━━━━━━━━━━━━━━━━━━━━━━\u001b[0m \u001b[32m63.7/63.7 kB\u001b[0m \u001b[31m4.2 MB/s\u001b[0m eta \u001b[36m0:00:00\u001b[0m\n",
            "\u001b[?25hDownloading graphene-3.4-py2.py3-none-any.whl (114 kB)\n",
            "\u001b[2K   \u001b[90m━━━━━━━━━━━━━━━━━━━━━━━━━━━━━━━━━━━━━━━━\u001b[0m \u001b[32m114.6/114.6 kB\u001b[0m \u001b[31m8.2 MB/s\u001b[0m eta \u001b[36m0:00:00\u001b[0m\n",
            "\u001b[?25hDownloading graphql_core-3.2.5-py3-none-any.whl (203 kB)\n",
            "\u001b[2K   \u001b[90m━━━━━━━━━━━━━━━━━━━━━━━━━━━━━━━━━━━━━━━━\u001b[0m \u001b[32m203.2/203.2 kB\u001b[0m \u001b[31m11.3 MB/s\u001b[0m eta \u001b[36m0:00:00\u001b[0m\n",
            "\u001b[?25hDownloading graphql_relay-3.2.0-py3-none-any.whl (16 kB)\n",
            "Downloading h11-0.14.0-py3-none-any.whl (58 kB)\n",
            "\u001b[2K   \u001b[90m━━━━━━━━━━━━━━━━━━━━━━━━━━━━━━━━━━━━━━━━\u001b[0m \u001b[32m58.3/58.3 kB\u001b[0m \u001b[31m4.4 MB/s\u001b[0m eta \u001b[36m0:00:00\u001b[0m\n",
            "\u001b[?25hDownloading starlette-0.40.0-py3-none-any.whl (73 kB)\n",
            "\u001b[2K   \u001b[90m━━━━━━━━━━━━━━━━━━━━━━━━━━━━━━━━━━━━━━━━\u001b[0m \u001b[32m73.3/73.3 kB\u001b[0m \u001b[31m5.0 MB/s\u001b[0m eta \u001b[36m0:00:00\u001b[0m\n",
            "\u001b[?25hInstalling collected packages: h11, graphql-core, uvicorn, starlette, graphql-relay, graphene, fastapi\n",
            "Successfully installed fastapi-0.115.2 graphene-3.4 graphql-core-3.2.5 graphql-relay-3.2.0 h11-0.14.0 starlette-0.40.0 uvicorn-0.32.0\n"
          ]
        }
      ],
      "source": [
        "pip install fastapi uvicorn graphene"
      ]
    },
    {
      "cell_type": "markdown",
      "source": [
        "# 2. Creating the Project Structure"
      ],
      "metadata": {
        "id": "TxCbwr2eB6YG"
      }
    },
    {
      "cell_type": "markdown",
      "source": [
        "```\n",
        "my_project/\n",
        "├── app/\n",
        "│   ├── __init__.py\n",
        "│   ├── main.py\n",
        "│   ├── models.py\n",
        "│   ├── crud.py\n",
        "│   ├── schemas.py\n",
        "│   └── database.py\n",
        "├── requirements.txt\n",
        "└── README.md\n",
        "```"
      ],
      "metadata": {
        "id": "fpcf_-D-B74t"
      }
    },
    {
      "cell_type": "markdown",
      "source": [
        "# 3. Configuring the Database (Optional)\n",
        "For this example, let’s assume you are using a simple in-memory data store for simplicity. However, you can easily extend this to use any database of your choice."
      ],
      "metadata": {
        "id": "R4YyFi-_CCp7"
      }
    },
    {
      "cell_type": "markdown",
      "source": [
        "# 4. Creating GraphQL Schemas with Graphene"
      ],
      "metadata": {
        "id": "xAx2vasLCIl9"
      }
    },
    {
      "cell_type": "code",
      "source": [
        "# schemas.py\n",
        "import graphene\n",
        "\n",
        "class Item(graphene.ObjectType):\n",
        "    id = graphene.ID()\n",
        "    name = graphene.String()\n",
        "    description = graphene.String()\n",
        "\n",
        "class Query(graphene.ObjectType):\n",
        "    items = graphene.List(Item)\n",
        "\n",
        "    def resolve_items(self, info):\n",
        "        # Normally, this data would come from a database\n",
        "        return [\n",
        "            Item(id=1, name=\"Item 1\", description=\"Description 1\"),\n",
        "            Item(id=2, name=\"Item 2\", description=\"Description 2\")\n",
        "        ]\n",
        "\n",
        "class CreateItem(graphene.Mutation):\n",
        "    class Arguments:\n",
        "        name = graphene.String(required=True)\n",
        "        description = graphene.String(required=True)\n",
        "\n",
        "    item = graphene.Field(lambda: Item)\n",
        "\n",
        "    def mutate(self, info, name, description):\n",
        "        item = Item(name=name, description=description)\n",
        "        # Here you would save the item to the database\n",
        "        return CreateItem(item=item)\n",
        "\n",
        "class Mutation(graphene.ObjectType):\n",
        "    create_item = CreateItem.Field()\n",
        "\n",
        "schema = graphene.Schema(query=Query, mutation=Mutation)"
      ],
      "metadata": {
        "id": "mkLfRHWOB5D6"
      },
      "execution_count": 2,
      "outputs": []
    },
    {
      "cell_type": "markdown",
      "source": [
        "# 5. Creating CRUD Operations"
      ],
      "metadata": {
        "id": "wpiVoelsCPJx"
      }
    },
    {
      "cell_type": "code",
      "source": [
        "# crud.py\n",
        "from typing import List\n",
        "from .schemas import Item\n",
        "\n",
        "items = []\n",
        "\n",
        "def get_items() -> List[Item]:\n",
        "    return items\n",
        "\n",
        "def create_item(name: str, description: str) -> Item:\n",
        "    item = Item(id=len(items) + 1, name=name, description=description)\n",
        "    items.append(item)\n",
        "    return item"
      ],
      "metadata": {
        "id": "L9djDilxCNwn"
      },
      "execution_count": 4,
      "outputs": []
    },
    {
      "cell_type": "markdown",
      "source": [
        "# 6. Creating API Endpoints"
      ],
      "metadata": {
        "id": "Ik64ovFqCXVf"
      }
    },
    {
      "cell_type": "code",
      "source": [
        "# main.py\n",
        "from fastapi import FastAPI\n",
        "from starlette.graphql import GraphQLApp\n",
        "from .schemas import schema\n",
        "\n",
        "app = FastAPI()\n",
        "\n",
        "@app.get(\"/\")\n",
        "def read_root():\n",
        "    return {\"Hello\": \"World\"}\n",
        "\n",
        "app.add_route(\"/graphql\", GraphQLApp(schema=schema))"
      ],
      "metadata": {
        "id": "SQAC3pDSCTYz"
      },
      "execution_count": 5,
      "outputs": []
    },
    {
      "cell_type": "markdown",
      "source": [
        "# 7. Running the Application"
      ],
      "metadata": {
        "id": "Fjlt6dXECfpr"
      }
    },
    {
      "cell_type": "markdown",
      "source": [
        "```\n",
        "uvicorn app.main:app --reload\n",
        "```"
      ],
      "metadata": {
        "id": "AiY1OUbQChHp"
      }
    }
  ]
}