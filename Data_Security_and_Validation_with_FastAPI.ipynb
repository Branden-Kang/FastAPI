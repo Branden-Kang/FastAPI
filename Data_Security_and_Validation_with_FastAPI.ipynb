{
  "nbformat": 4,
  "nbformat_minor": 0,
  "metadata": {
    "colab": {
      "provenance": [],
      "authorship_tag": "ABX9TyPT+Fg+8ZW6/poHbJWY5Pn2"
    },
    "kernelspec": {
      "name": "python3",
      "display_name": "Python 3"
    },
    "language_info": {
      "name": "python"
    }
  },
  "cells": [
    {
      "cell_type": "markdown",
      "source": [
        "[Reference](https://blog.stackademic.com/data-security-and-validation-with-fastapi-6c760fae6f81)"
      ],
      "metadata": {
        "id": "YWrFTCYCx0_S"
      }
    },
    {
      "cell_type": "markdown",
      "source": [
        "# Data validation with Pydantic"
      ],
      "metadata": {
        "id": "hY9q-QDGx5MU"
      }
    },
    {
      "cell_type": "code",
      "execution_count": 2,
      "metadata": {
        "id": "vc15ht4exzgm"
      },
      "outputs": [],
      "source": [
        "from pydantic import BaseModel\n",
        "\n",
        "class User(BaseModel):\n",
        "    id: int\n",
        "    name: str\n",
        "    email: str\n",
        "\n",
        "@app.post(\"/users/\")\n",
        "async def create_user(user: User):\n",
        "    return user"
      ]
    },
    {
      "cell_type": "markdown",
      "source": [
        "# Type Annotations for Automatic Conversion"
      ],
      "metadata": {
        "id": "0rscQdLEx6fJ"
      }
    },
    {
      "cell_type": "code",
      "source": [
        "from fastapi import FastAPI\n",
        "\n",
        "app = FastAPI()\n",
        "\n",
        "@app.get(\"/items/{item_id}\")\n",
        "async def read_item(item_id: int):\n",
        "    return {\"item_id\": item_id}"
      ],
      "metadata": {
        "id": "oQHgLYjax4Ok"
      },
      "execution_count": 3,
      "outputs": []
    },
    {
      "cell_type": "markdown",
      "source": [
        "# Implementing OAuth2 with JWT"
      ],
      "metadata": {
        "id": "_p--v28Ux-bO"
      }
    },
    {
      "cell_type": "code",
      "source": [
        "from fastapi import Depends, FastAPI, HTTPException, status\n",
        "from fastapi.security import OAuth2PasswordBearer, OAuth2PasswordRequestForm\n",
        "from jose import JWTError, jwt\n",
        "\n",
        "app = FastAPI()\n",
        "oauth2_scheme = OAuth2PasswordBearer(tokenUrl=\"token\")\n",
        "\n",
        "@app.post(\"/token\")\n",
        "async def login(form_data: OAuth2PasswordRequestForm = Depends()):\n",
        "    # Authenticate user here\n",
        "    # Generate and return a JWT token\n",
        "    token = jwt.encode({\"sub\": form_data.username}, \"secret\", algorithm=\"HS256\")\n",
        "    return {\"access_token\": token, \"token_type\": \"bearer\"}\n",
        "\n",
        "@app.get(\"/users/me\")\n",
        "async def read_users_me(token: str = Depends(oauth2_scheme)):\n",
        "    try:\n",
        "        payload = jwt.decode(token, \"secret\", algorithms=[\"HS256\"])\n",
        "        username: str = payload.get(\"sub\")\n",
        "        if username is None:\n",
        "            raise HTTPException(\n",
        "                status_code=status.HTTP_401_UNAUTHORIZED,\n",
        "                detail=\"Could not validate credentials\",\n",
        "            )\n",
        "    except JWTError:\n",
        "        raise HTTPException(\n",
        "            status_code=status.HTTP_401_UNAUTHORIZED,\n",
        "            detail=\"Could not validate credentials\",\n",
        "        )\n",
        "    return {\"username\": username}"
      ],
      "metadata": {
        "id": "odRF8kT9x9OB"
      },
      "execution_count": 4,
      "outputs": []
    },
    {
      "cell_type": "markdown",
      "source": [
        "# Serialization and security of ORM objects"
      ],
      "metadata": {
        "id": "Vjlyn6wvyBjn"
      }
    },
    {
      "cell_type": "code",
      "source": [
        "from pydantic import BaseModel\n",
        "\n",
        "class UserOut(BaseModel):\n",
        "    id: int\n",
        "    name: str\n",
        "    email: str\n",
        "\n",
        "@app.get(\"/users/{user_id}\", response_model=UserOut)\n",
        "async def read_user(user_id: int):\n",
        "    db_user = get_user_from_db(user_id)\n",
        "    return db_user"
      ],
      "metadata": {
        "id": "eiA8mNdex__y"
      },
      "execution_count": 5,
      "outputs": []
    }
  ]
}