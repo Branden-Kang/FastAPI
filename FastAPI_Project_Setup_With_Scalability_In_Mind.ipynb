{
  "nbformat": 4,
  "nbformat_minor": 0,
  "metadata": {
    "colab": {
      "provenance": [],
      "authorship_tag": "ABX9TyN/V6Uqgf90prEFFsxwbkMf"
    },
    "kernelspec": {
      "name": "python3",
      "display_name": "Python 3"
    },
    "language_info": {
      "name": "python"
    }
  },
  "cells": [
    {
      "cell_type": "markdown",
      "source": [
        "[Reference](https://medium.com/@princekrampah/fastapi-project-setup-with-scalability-in-mind-3daef823ed83)"
      ],
      "metadata": {
        "id": "3IvUxDxtMZ1z"
      }
    },
    {
      "cell_type": "markdown",
      "source": [
        "```\n",
        "$ mkdir my_app_project\n",
        "$ cd my_app_project\n",
        "$ mkdir services\n",
        "$ mkdir infrastructure\n",
        "$ mkdir tools\n",
        "$ mkdir lib\n",
        "$ mkdir ci_cd\n",
        "$ mkdir service && mkdir todo_api\n",
        "$ cd todo_api\n",
        "$ poetry init\n",
        "$ poetry add --group dev pytest pytest-cov black isort flake8 bandit safety\n",
        "$ git init\n",
        "$ tough .gitignore\n",
        "$ git remote add origin git remote add origin git@github.com:<Github username>/<your_repo_name>.git\n",
        "$ git add -A\n",
        "$ git commit -m\"Created todo_api service\"\n",
        "$ git push origin master\n",
        "```"
      ],
      "metadata": {
        "id": "S3c0IbV9MfbW"
      }
    },
    {
      "cell_type": "markdown",
      "source": [
        "# Creating Simple API"
      ],
      "metadata": {
        "id": "E412VaoZMz51"
      }
    },
    {
      "cell_type": "code",
      "execution_count": 1,
      "metadata": {
        "id": "et8kb_p6MFZj"
      },
      "outputs": [],
      "source": [
        "from fastapi import FastAPI\n",
        "\n",
        "app = FastAPI()\n",
        "\n",
        "\n",
        "@app.get(\"/\")\n",
        "def read_root():\n",
        "    return {\"Hello\": \"World\"}"
      ]
    },
    {
      "cell_type": "markdown",
      "source": [
        "```\n",
        "$ poetry add fastapi uvicorn httpx\n",
        "```"
      ],
      "metadata": {
        "id": "ljGST9PSM3Ep"
      }
    },
    {
      "cell_type": "markdown",
      "source": [
        "```\n",
        "$ poetry run uvicorn main:app --reload\n",
        "```"
      ],
      "metadata": {
        "id": "hTY4SXknM6fs"
      }
    },
    {
      "cell_type": "markdown",
      "source": [
        "# Writing Initial Tests\n",
        "```\n",
        "├── ci_cd\n",
        "├── infrastructure\n",
        "├── lib\n",
        "├── services\n",
        "│   └── todo_api\n",
        "│       ├── backend_api\n",
        "│       │   ├── __init__.py\n",
        "│       │   ├── main.py\n",
        "│       │   └── __pycache__\n",
        "│       │       └── main.cpython-310.pyc\n",
        "│       ├── poetry.lock\n",
        "│       ├── pyproject.toml\n",
        "│       └── tests\n",
        "│       ├── __init__.py\n",
        "│           ├── e2e\n",
        "│           │   └── __init__.py\n",
        "│           ├── integration\n",
        "│           │   └── __init__.py\n",
        "│           └── unit\n",
        "│               └── __init__.py\n",
        "└── tools\n",
        "```\n"
      ],
      "metadata": {
        "id": "QHM3Fd5rM-J0"
      }
    },
    {
      "cell_type": "code",
      "source": [
        "import pytest\n",
        "from starlette.testclient import TestClient\n",
        "\n",
        "from backend_api.main import app\n",
        "\n",
        "\n",
        "@pytest.fixture\n",
        "def client():\n",
        "    return TestClient(app)\n",
        "\n",
        "\n",
        "def test_base_route(client):\n",
        "    \"\"\"\n",
        "    GIVEN\n",
        "    WHEN health check endpoint is called with GET method\n",
        "    THEN response with status 200 and body OK is returned\n",
        "    \"\"\"\n",
        "    response = client.get(\"/\")\n",
        "    assert response.status_code == 200\n",
        "    assert response.json() == {\"Hello\": \"World\"}"
      ],
      "metadata": {
        "id": "Us4RXLOKM2R-"
      },
      "execution_count": 2,
      "outputs": []
    }
  ]
}