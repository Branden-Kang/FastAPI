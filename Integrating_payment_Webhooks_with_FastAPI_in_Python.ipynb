{
  "nbformat": 4,
  "nbformat_minor": 0,
  "metadata": {
    "colab": {
      "provenance": [],
      "authorship_tag": "ABX9TyPnxCjtSWHMXQOHK19nrEGw"
    },
    "kernelspec": {
      "name": "python3",
      "display_name": "Python 3"
    },
    "language_info": {
      "name": "python"
    }
  },
  "cells": [
    {
      "cell_type": "markdown",
      "source": [
        "[Reference](https://python.plainenglish.io/integrating-payment-webhooks-with-fastapi-in-python-bd769961cafd)"
      ],
      "metadata": {
        "id": "Ok9fU2sS0EOl"
      }
    },
    {
      "cell_type": "code",
      "execution_count": 1,
      "metadata": {
        "id": "wwICD8wbx22u"
      },
      "outputs": [],
      "source": [
        "# main.py\n",
        "from fastapi import FastAPI\n",
        "app = FastAPI()\n",
        "\n",
        "@app.get(\"/\")\n",
        "async def root():\n",
        " return {\"message\": \"Hello World\"}\n",
        "\n",
        "@app.get(\"/hello/{user}\")\n",
        "async def greeting(user):\n",
        " return {\"Hello\": user}"
      ]
    },
    {
      "cell_type": "markdown",
      "source": [
        "```\n",
        "uvicorn main:app --reload\n",
        "```"
      ],
      "metadata": {
        "id": "0Zw7NjNq0JCp"
      }
    },
    {
      "cell_type": "markdown",
      "source": [
        "```\n",
        "ngrok http 8000\n",
        "```"
      ],
      "metadata": {
        "id": "YrqB3Ks40LKt"
      }
    },
    {
      "cell_type": "code",
      "source": [
        "from fastapi import FastAPI, Request, Response\n",
        "\n",
        "app = FastAPI()\n",
        "\n",
        "@app.get(\"/\")\n",
        "async def root():\n",
        "    return {\"msg\": \"hello world\"}\n",
        "\n",
        "@app.get(\"/hello/{user}\")\n",
        "async def greeting(user):\n",
        "    return {\"Hello\": user}\n",
        "\n",
        "@app.post(\"/webhook\")\n",
        "async def receive_webhook(request: Request):\n",
        "    result = await request.json()\n",
        "    print(result)"
      ],
      "metadata": {
        "id": "MG80k6mG0JzG"
      },
      "execution_count": 2,
      "outputs": []
    }
  ]
}