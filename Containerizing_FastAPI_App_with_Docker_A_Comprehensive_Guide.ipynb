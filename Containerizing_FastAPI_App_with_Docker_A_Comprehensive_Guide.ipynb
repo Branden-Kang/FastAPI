{
  "nbformat": 4,
  "nbformat_minor": 0,
  "metadata": {
    "colab": {
      "provenance": [],
      "authorship_tag": "ABX9TyOfs4bszTbF9DoKafIm5PSB"
    },
    "kernelspec": {
      "name": "python3",
      "display_name": "Python 3"
    },
    "language_info": {
      "name": "python"
    }
  },
  "cells": [
    {
      "cell_type": "markdown",
      "source": [
        "[Reference](https://medium.com/@alidu143/containerizing-fastapi-app-with-docker-a-comprehensive-guide-416521b2457c)"
      ],
      "metadata": {
        "id": "tM6XDXNV54cV"
      }
    },
    {
      "cell_type": "markdown",
      "source": [
        "```\n",
        "├── main.py\n",
        "├── requirements.txt\n",
        "└── app\n",
        "    ├── __init__.py\n",
        "    └── routes.py\n",
        "```"
      ],
      "metadata": {
        "id": "1TEbluRW7PWh"
      }
    },
    {
      "cell_type": "code",
      "execution_count": 1,
      "metadata": {
        "id": "gbJqo-lC4ySo"
      },
      "outputs": [],
      "source": [
        "import pandas as pd\n",
        "from sklearn.model_selection import train_test_split\n",
        "from sklearn.ensemble import RandomForestClassifier\n",
        "from sklearn.metrics import accuracy_score\n",
        "\n",
        "# Load the loan dataset\n",
        "loan_data = pd.read_csv('loan_data.csv')\n",
        "\n",
        "# Preprocess the data\n",
        "# Assuming you have already performed necessary data cleaning and feature engineering\n",
        "\n",
        "# Split the data into training and testing sets\n",
        "X = loan_data.drop('default', axis=1)  # Features\n",
        "y = loan_data['default']  # Target variable\n",
        "X_train, X_test, y_train, y_test = train_test_split(X, y, test_size=0.2, random_state=42)\n",
        "\n",
        "# Train the Random Forest classifier\n",
        "rf_classifier = RandomForestClassifier()\n",
        "rf_classifier.fit(X_train, y_train)\n",
        "\n",
        "# Make predictions on the test set\n",
        "y_pred = rf_classifier.predict(X_test)\n",
        "\n",
        "# Evaluate the model\n",
        "accuracy = accuracy_score(y_test, y_pred)\n",
        "print(\"Accuracy:\", accuracy)\n",
        "\n",
        "# Save the trained model for future use\n",
        "# Assuming you have already performed model evaluation and are satisfied with the results\n",
        "import joblib\n",
        "joblib.dump(rf_classifier, 'loan_default_model.joblib')"
      ]
    },
    {
      "cell_type": "code",
      "source": [
        "# pip freeze > requirements.txt"
      ],
      "metadata": {
        "id": "TRyHeNIN7gzp"
      },
      "execution_count": 2,
      "outputs": []
    },
    {
      "cell_type": "markdown",
      "source": [
        "```\n",
        "# Use the official Python base image\n",
        "FROM python:3.9-slim\n",
        "\n",
        "# Set the working directory inside the container\n",
        "WORKDIR /app\n",
        "\n",
        "# Copy the requirements file to the working directory\n",
        "COPY requirements.txt .\n",
        "\n",
        "# Install the Python dependencies\n",
        "RUN pip install -r requirements.txt\n",
        "\n",
        "# Copy the application code to the working directory\n",
        "COPY . .\n",
        "\n",
        "# Expose the port on which the application will run\n",
        "EXPOSE 8080\n",
        "\n",
        "# Run the FastAPI application using uvicorn server\n",
        "CMD [\"uvicorn\", \"fastapi:app\", \"--host\", \"0.0.0.0\", \"--port\", \"8080\"]\n",
        "```"
      ],
      "metadata": {
        "id": "MubqbTzf77b7"
      }
    },
    {
      "cell_type": "markdown",
      "source": [
        "```\n",
        "docker build -t fastapi-app .\n",
        "```"
      ],
      "metadata": {
        "id": "3XJ5KByQ8JTc"
      }
    },
    {
      "cell_type": "markdown",
      "source": [
        "```\n",
        "docker run -p 8000:8000 fastapi-app\n",
        "```"
      ],
      "metadata": {
        "id": "xG76heJ48TYg"
      }
    }
  ]
}