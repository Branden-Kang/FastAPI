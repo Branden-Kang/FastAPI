{
  "nbformat": 4,
  "nbformat_minor": 0,
  "metadata": {
    "colab": {
      "provenance": [],
      "authorship_tag": "ABX9TyPsBNbM2VKvPUbVmpr8x8bF"
    },
    "kernelspec": {
      "name": "python3",
      "display_name": "Python 3"
    },
    "language_info": {
      "name": "python"
    }
  },
  "cells": [
    {
      "cell_type": "markdown",
      "source": [
        "[Reference](https://jnikenoueba.medium.com/creating-a-complete-restful-api-with-fastapi-79edf7afeef8)"
      ],
      "metadata": {
        "id": "XS1wzX6W7LoU"
      }
    },
    {
      "cell_type": "markdown",
      "source": [
        "# 1. Setting Up Your Environment"
      ],
      "metadata": {
        "id": "E_hWpvUO8d9z"
      }
    },
    {
      "cell_type": "code",
      "execution_count": 1,
      "metadata": {
        "id": "vrvx9gCJ7Jhw"
      },
      "outputs": [],
      "source": [
        "# python -m venv venv\n",
        "# source venv/bin/activate  # On Windows use `venv\\Scripts\\activate`\n",
        "# pip install fastapi uvicorn sqlalchemy databases"
      ]
    },
    {
      "cell_type": "markdown",
      "source": [
        "# 2. Defining the Database Models"
      ],
      "metadata": {
        "id": "hu1SaCMs8ks0"
      }
    },
    {
      "cell_type": "code",
      "source": [
        "# models.py\n",
        "from sqlalchemy import Column, Integer, String\n",
        "from .database import Base\n",
        "\n",
        "\n",
        "class Item(Base):\n",
        "    __tablename__ = \"items\"\n",
        "\n",
        "    id = Column(Integer, primary_key=True, index=True)\n",
        "    title = Column(String, index=True)\n",
        "    description = Column(String, index=True)"
      ],
      "metadata": {
        "id": "Yqbsvm7x8j1j"
      },
      "execution_count": 2,
      "outputs": []
    },
    {
      "cell_type": "markdown",
      "source": [
        "# 3. Creating the Pydantic Schemas"
      ],
      "metadata": {
        "id": "LYfTwSWz8pxS"
      }
    },
    {
      "cell_type": "code",
      "source": [
        "# schemas.py\n",
        "from pydantic import BaseModel\n",
        "\n",
        "class ItemBase(BaseModel):\n",
        "    title: str\n",
        "    description: str\n",
        "\n",
        "class ItemCreate(ItemBase):\n",
        "    pass\n",
        "\n",
        "class Item(ItemBase):\n",
        "    id: int\n",
        "\n",
        "    class Config:\n",
        "        orm_mode = True"
      ],
      "metadata": {
        "id": "oKEPTt9O8nH4"
      },
      "execution_count": 3,
      "outputs": []
    },
    {
      "cell_type": "markdown",
      "source": [
        "# 4. CRUD Operations"
      ],
      "metadata": {
        "id": "hxJfmFNk8tez"
      }
    },
    {
      "cell_type": "code",
      "source": [
        "# crud.py\n",
        "from sqlalchemy.orm import Session\n",
        "from . import models, schemas\n",
        "\n",
        "def get_item(db: Session, item_id: int):\n",
        "    return db.query(models.Item).filter(models.Item.id == item_id).first()\n",
        "\n",
        "def get_items(db: Session, skip: int = 0, limit: int = 10):\n",
        "    return db.query(models.Item).offset(skip).limit(limit).all()\n",
        "\n",
        "def create_item(db: Session, item: schemas.ItemCreate):\n",
        "    db_item = models.Item(title=item.title, description=item.description)\n",
        "    db.add(db_item)\n",
        "    db.commit()\n",
        "    db.refresh(db_item)\n",
        "    return db_item\n",
        "\n",
        "def delete_item(db: Session, item_id: int):\n",
        "    db_item = db.query(models.Item).filter(models.Item.id == item_id).first()\n",
        "    if db_item:\n",
        "        db.delete(db_item)\n",
        "        db.commit()\n",
        "    return db_item"
      ],
      "metadata": {
        "id": "Lj9dQUC_8rX6"
      },
      "execution_count": 4,
      "outputs": []
    },
    {
      "cell_type": "markdown",
      "source": [
        "# 5. Database Configuration"
      ],
      "metadata": {
        "id": "ZXctzyOE85ft"
      }
    },
    {
      "cell_type": "code",
      "source": [
        "# database.py\n",
        "from sqlalchemy import create_engine\n",
        "from sqlalchemy.ext.declarative import declarative_base\n",
        "from sqlalchemy.orm import sessionmaker\n",
        "\n",
        "DATABASE_URL = \"sqlite:///./test.db\"\n",
        "\n",
        "engine = create_engine(DATABASE_URL)\n",
        "SessionLocal = sessionmaker(autocommit=False, autoflush=False, bind=engine)\n",
        "Base = declarative_base()\n",
        "\n",
        "def init_db():\n",
        "    Base.metadata.create_all(bind=engine)\n",
        "\n",
        "# Dependency to get the database session\n",
        "def get_db():\n",
        "    db = SessionLocal()\n",
        "    try:\n",
        "        yield db\n",
        "    finally:\n",
        "        db.close()"
      ],
      "metadata": {
        "id": "ktWeL77o83ur"
      },
      "execution_count": 5,
      "outputs": []
    },
    {
      "cell_type": "markdown",
      "source": [
        "# 6. FastAPI Application"
      ],
      "metadata": {
        "id": "1IQdReEq8_wP"
      }
    },
    {
      "cell_type": "code",
      "source": [
        "# main.py\n",
        "from fastapi import FastAPI, Depends, HTTPException\n",
        "from sqlalchemy.orm import Session\n",
        "from . import schemas, crud\n",
        "from .database import get_db\n",
        "\n",
        "app = FastAPI(\n",
        "    title=\"RESTful API\",\n",
        "    description=\"Creating a Complete RESTful API with FastAPI: Develop a Full CRUD Application\",\n",
        "    version=\"0.0.1\"\n",
        ")\n",
        "\n",
        "@app.post(\"/items/\", response_model=schemas.Item)\n",
        "def create_item(item: schemas.ItemCreate, db: Session = Depends(get_db)):\n",
        "    return crud.create_item(db=db, item=item)\n",
        "\n",
        "@app.get(\"/items/\", response_model=list[schemas.Item])\n",
        "def read_items(skip: int = 0, limit: int = 10, db: Session = Depends(get_db)):\n",
        "    items = crud.get_items(db, skip=skip, limit=limit)\n",
        "    return items\n",
        "\n",
        "@app.get(\"/items/{item_id}\", response_model=schemas.Item)\n",
        "def read_item(item_id: int, db: Session = Depends(get_db)):\n",
        "    db_item = crud.get_item(db, item_id=item_id)\n",
        "    if db_item is None:\n",
        "        raise HTTPException(status_code=404, detail=\"Item not found\")\n",
        "    return db_item\n",
        "\n",
        "@app.delete(\"/items/{item_id}\", response_model=schemas.Item)\n",
        "def delete_item(item_id: int, db: Session = Depends(get_db)):\n",
        "    db_item = crud.get_item(db, item_id=item_id)\n",
        "    if db_item is None:\n",
        "        raise HTTPException(status_code=404, detail=\"Item not found\")\n",
        "    return crud.delete_item(db, item_id=item_id)"
      ],
      "metadata": {
        "id": "k5OxfHxz89nA"
      },
      "execution_count": 6,
      "outputs": []
    },
    {
      "cell_type": "markdown",
      "source": [
        "# 7. Running the Application"
      ],
      "metadata": {
        "id": "Q0GJHzlV9FDn"
      }
    },
    {
      "cell_type": "code",
      "source": [
        "# uvicorn app.main:app --reload"
      ],
      "metadata": {
        "id": "jCbdRIk89DM4"
      },
      "execution_count": 7,
      "outputs": []
    }
  ]
}