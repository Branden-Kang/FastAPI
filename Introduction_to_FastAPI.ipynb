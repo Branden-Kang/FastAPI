{
  "nbformat": 4,
  "nbformat_minor": 0,
  "metadata": {
    "colab": {
      "provenance": [],
      "authorship_tag": "ABX9TyO/tOpPpxSfhoYunzPNx7Z8"
    },
    "kernelspec": {
      "name": "python3",
      "display_name": "Python 3"
    },
    "language_info": {
      "name": "python"
    }
  },
  "cells": [
    {
      "cell_type": "markdown",
      "source": [
        "[Reference](https://medium.com/@yaduvanshineelam09/introduction-to-fastapi-123c0b2778a5)"
      ],
      "metadata": {
        "id": "V_SArJ4cPK1N"
      }
    },
    {
      "cell_type": "code",
      "execution_count": 2,
      "metadata": {
        "id": "4H1CKX9TOGYT"
      },
      "outputs": [],
      "source": [
        "from fastapi import FastAPI\n",
        "import httpx\n",
        "\n",
        "app = FastAPI()\n",
        "async def fetch_data(url):\n",
        "    async with httpx.AsyncClient() as client:\n",
        "        response = await client.get(url)\n",
        "        return response.json()\n",
        "@app.get(\"/data\")\n",
        "async def get_data():\n",
        "    data_url = \"https://api.example.com/data\"\n",
        "    data = await fetch_data(data_url)\n",
        "    return {\"data\": data}"
      ]
    }
  ]
}