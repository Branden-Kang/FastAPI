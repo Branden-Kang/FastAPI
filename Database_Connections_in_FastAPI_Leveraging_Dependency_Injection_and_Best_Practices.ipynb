{
  "nbformat": 4,
  "nbformat_minor": 0,
  "metadata": {
    "colab": {
      "provenance": [],
      "authorship_tag": "ABX9TyO8DE3UEm7Azl/9zYd5JYnx"
    },
    "kernelspec": {
      "name": "python3",
      "display_name": "Python 3"
    },
    "language_info": {
      "name": "python"
    }
  },
  "cells": [
    {
      "cell_type": "markdown",
      "source": [
        "[Reference](https://blog.stackademic.com/database-connections-in-fastapi-leveraging-dependency-injection-and-best-practices-765861cf4d31)"
      ],
      "metadata": {
        "id": "0iGvvXP8flmC"
      }
    },
    {
      "cell_type": "markdown",
      "source": [
        "# Connecting to a Database in FastAPI"
      ],
      "metadata": {
        "id": "HlBCSNN6fowV"
      }
    },
    {
      "cell_type": "code",
      "execution_count": 1,
      "metadata": {
        "id": "G0nW_SqBfkVp"
      },
      "outputs": [],
      "source": [
        "from sqlalchemy import create_engine\n",
        "from sqlalchemy.orm import sessionmaker\n",
        "\n",
        "from config import settings\n",
        "\n",
        "engine = create_engine(\n",
        "    settings.database_url,\n",
        "    pool_pre_ping=True\n",
        ")\n",
        "SessionLocal = sessionmaker(autocommit=False, autoflush=False, bind=engine)\n",
        "\n",
        "def get_db():\n",
        "    db = SessionLocal()\n",
        "    try:\n",
        "        yield db\n",
        "    finally:\n",
        "        db.close()"
      ]
    },
    {
      "cell_type": "code",
      "source": [
        "def example_router(db: Session = Depends(get_db)):\n",
        "    # Your route handler logic\n",
        "    example_service(db)\n",
        "\n",
        "def example_service(db: Session):\n",
        "    # Your service logic\n",
        "    create_something(db)\n",
        "\n",
        "def create_something(db: Session):\n",
        "    # Your database operation logic\n",
        "    db.add(something)"
      ],
      "metadata": {
        "id": "GX6sl4CIfqMK"
      },
      "execution_count": 2,
      "outputs": []
    },
    {
      "cell_type": "code",
      "source": [
        "def example_router(s: Annotated[Service, Depends(Service)]):\n",
        "    # Your route handler logic\n",
        "    s.example_service()\n",
        "\n",
        "class Service:\n",
        "    def __init__(self, r: Annotated[Repository, Depends(Repository)]):\n",
        "        self.repository = r\n",
        "\n",
        "    def example_service(self):\n",
        "        # Your service logic\n",
        "        self.repository.create_something()\n",
        "\n",
        "class Repository:\n",
        "    def __init__(self, db: Annotated[Session, Depends(get_db)]):\n",
        "        self.db = db\n",
        "\n",
        "    def create_something(self):\n",
        "        # Your database operation logic\n",
        "        self.db.add(something)"
      ],
      "metadata": {
        "id": "2NdMe7MLfvbV"
      },
      "execution_count": 3,
      "outputs": []
    }
  ]
}