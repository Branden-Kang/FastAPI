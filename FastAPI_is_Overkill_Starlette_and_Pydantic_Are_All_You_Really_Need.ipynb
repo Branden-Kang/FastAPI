{
  "nbformat": 4,
  "nbformat_minor": 0,
  "metadata": {
    "colab": {
      "provenance": [],
      "authorship_tag": "ABX9TyOyqrukFJ6nFSpSw1PQZr0P"
    },
    "kernelspec": {
      "name": "python3",
      "display_name": "Python 3"
    },
    "language_info": {
      "name": "python"
    }
  },
  "cells": [
    {
      "cell_type": "markdown",
      "source": [
        "[Reference](https://leapcell.medium.com/fastapi-is-overkill-starlette-and-pydantic-are-all-you-really-need-2b2d55c53de0)"
      ],
      "metadata": {
        "id": "T0L0KmaJVf3Y"
      }
    },
    {
      "cell_type": "markdown",
      "source": [
        "# Asynchronous Request Handling"
      ],
      "metadata": {
        "id": "qvzptEWTVpKi"
      }
    },
    {
      "cell_type": "code",
      "source": [
        "!pip install fastapi"
      ],
      "metadata": {
        "colab": {
          "base_uri": "https://localhost:8080/"
        },
        "id": "AGeUQ127VqOr",
        "outputId": "922f6eb1-c9d5-4e5d-cb30-95cd18f71eb8"
      },
      "execution_count": 2,
      "outputs": [
        {
          "output_type": "stream",
          "name": "stdout",
          "text": [
            "Collecting fastapi\n",
            "  Downloading fastapi-0.115.12-py3-none-any.whl.metadata (27 kB)\n",
            "Collecting starlette<0.47.0,>=0.40.0 (from fastapi)\n",
            "  Downloading starlette-0.46.2-py3-none-any.whl.metadata (6.2 kB)\n",
            "Requirement already satisfied: pydantic!=1.8,!=1.8.1,!=2.0.0,!=2.0.1,!=2.1.0,<3.0.0,>=1.7.4 in /usr/local/lib/python3.11/dist-packages (from fastapi) (2.11.3)\n",
            "Requirement already satisfied: typing-extensions>=4.8.0 in /usr/local/lib/python3.11/dist-packages (from fastapi) (4.13.2)\n",
            "Requirement already satisfied: annotated-types>=0.6.0 in /usr/local/lib/python3.11/dist-packages (from pydantic!=1.8,!=1.8.1,!=2.0.0,!=2.0.1,!=2.1.0,<3.0.0,>=1.7.4->fastapi) (0.7.0)\n",
            "Requirement already satisfied: pydantic-core==2.33.1 in /usr/local/lib/python3.11/dist-packages (from pydantic!=1.8,!=1.8.1,!=2.0.0,!=2.0.1,!=2.1.0,<3.0.0,>=1.7.4->fastapi) (2.33.1)\n",
            "Requirement already satisfied: typing-inspection>=0.4.0 in /usr/local/lib/python3.11/dist-packages (from pydantic!=1.8,!=1.8.1,!=2.0.0,!=2.0.1,!=2.1.0,<3.0.0,>=1.7.4->fastapi) (0.4.0)\n",
            "Requirement already satisfied: anyio<5,>=3.6.2 in /usr/local/lib/python3.11/dist-packages (from starlette<0.47.0,>=0.40.0->fastapi) (4.9.0)\n",
            "Requirement already satisfied: idna>=2.8 in /usr/local/lib/python3.11/dist-packages (from anyio<5,>=3.6.2->starlette<0.47.0,>=0.40.0->fastapi) (3.10)\n",
            "Requirement already satisfied: sniffio>=1.1 in /usr/local/lib/python3.11/dist-packages (from anyio<5,>=3.6.2->starlette<0.47.0,>=0.40.0->fastapi) (1.3.1)\n",
            "Downloading fastapi-0.115.12-py3-none-any.whl (95 kB)\n",
            "\u001b[2K   \u001b[90m━━━━━━━━━━━━━━━━━━━━━━━━━━━━━━━━━━━━━━━━\u001b[0m \u001b[32m95.2/95.2 kB\u001b[0m \u001b[31m3.9 MB/s\u001b[0m eta \u001b[36m0:00:00\u001b[0m\n",
            "\u001b[?25hDownloading starlette-0.46.2-py3-none-any.whl (72 kB)\n",
            "\u001b[2K   \u001b[90m━━━━━━━━━━━━━━━━━━━━━━━━━━━━━━━━━━━━━━━━\u001b[0m \u001b[32m72.0/72.0 kB\u001b[0m \u001b[31m4.6 MB/s\u001b[0m eta \u001b[36m0:00:00\u001b[0m\n",
            "\u001b[?25hInstalling collected packages: starlette, fastapi\n",
            "Successfully installed fastapi-0.115.12 starlette-0.46.2\n"
          ]
        }
      ]
    },
    {
      "cell_type": "code",
      "execution_count": 3,
      "metadata": {
        "id": "1O8GKlKeVZHq"
      },
      "outputs": [],
      "source": [
        "from fastapi import FastAPI\n",
        "import asyncio\n",
        "\n",
        "# Create a FastAPI application instance\n",
        "app = FastAPI()\n",
        "# Use a decorator to define a GET request route. The function is an asynchronous function and can handle time-consuming operations without blocking other requests\n",
        "@app.get(\"/async_items/\")\n",
        "async def async_read_items():\n",
        "    await asyncio.sleep(1)  # Simulate an I/O operation and pause for 1 second\n",
        "    return {\"message\": \"FastAPI asynchronous processing example\"}"
      ]
    },
    {
      "cell_type": "code",
      "source": [
        "from starlette.applications import Starlette\n",
        "from starlette.responses import JSONResponse\n",
        "import asyncio\n",
        "\n",
        "# Create a Starlette application instance\n",
        "app = Starlette()\n",
        "\n",
        "# Directly define the route on the application instance, specifying the path and request method. The handling function is an asynchronous function\n",
        "@app.route(\"/async_items/\", methods=[\"GET\"])\n",
        "async def async_read_items(request):\n",
        "    await asyncio.sleep(1)  # Simulate an I/O operation and pause for 1 second\n",
        "    return JSONResponse({\"message\": \"Starlette asynchronous processing example\"})"
      ],
      "metadata": {
        "id": "DszjOBqzVkpN"
      },
      "execution_count": 4,
      "outputs": []
    },
    {
      "cell_type": "markdown",
      "source": [
        "# Use of Middleware"
      ],
      "metadata": {
        "id": "V6GjWg3fVwzJ"
      }
    },
    {
      "cell_type": "code",
      "source": [
        "from starlette.applications import Starlette\n",
        "from starlette.responses import JSONResponse\n",
        "from starlette.middleware.base import BaseHTTPMiddleware\n",
        "import logging\n",
        "\n",
        "# Configure the logger\n",
        "logger = logging.getLogger(__name__)\n",
        "\n",
        "# Custom logging middleware, inheriting from BaseHTTPMiddleware\n",
        "class LoggingMiddleware(BaseHTTPMiddleware):\n",
        "    async def dispatch(self, request, call_next):\n",
        "        # Log the request information, including the request method and URL\n",
        "        logger.info(f\"Request: {request.method} {request.url}\")\n",
        "        # Continue to process the request and get the response\n",
        "        response = await call_next(request)\n",
        "        # Log the response status code\n",
        "        logger.info(f\"Response: {response.status_code}\")\n",
        "        return response\n",
        "\n",
        "# Create a Starlette application instance and pass in the middleware instance\n",
        "app = Starlette(middleware=[LoggingMiddleware(app)])\n",
        "\n",
        "# Define the route handling function\n",
        "@app.route(\"/middleware_example/\", methods=[\"GET\"])\n",
        "async def middleware_example(request):\n",
        "    return JSONResponse({\"message\": \"The middleware is in effect\"})"
      ],
      "metadata": {
        "id": "RjbQNjUrVvSQ"
      },
      "execution_count": 5,
      "outputs": []
    },
    {
      "cell_type": "markdown",
      "source": [
        "# WebSocket Support"
      ],
      "metadata": {
        "id": "rBreMkyGV2-4"
      }
    },
    {
      "cell_type": "code",
      "source": [
        "from starlette.applications import Starlette\n",
        "from starlette.websockets import WebSocket, WebSocketDisconnect\n",
        "import json\n",
        "\n",
        "# Create a Starlette application instance\n",
        "app = Starlette()\n",
        "\n",
        "# Store the WebSocket objects of connected clients\n",
        "connected_clients = []\n",
        "\n",
        "# Define the WebSocket route handling function\n",
        "@app.websocket_route(\"/ws\")\n",
        "async def websocket_endpoint(websocket: WebSocket):\n",
        "    await websocket.accept()  # Accept the WebSocket connection\n",
        "    connected_clients.append(websocket)  # Add the connected client to the list\n",
        "    try:\n",
        "        while True:\n",
        "            # Receive the text data sent by the client\n",
        "            data = await websocket.receive_text()\n",
        "            message = json.loads(data)  # Parse the received JSON string into a Python object\n",
        "            for client in connected_clients:\n",
        "                if client != websocket:\n",
        "                    # Forward the message to other clients except the sender\n",
        "                    await client.send_text(json.dumps(message))\n",
        "    except WebSocketDisconnect:\n",
        "        connected_clients.remove(websocket)  # Remove the client from the list when the connection is disconnected"
      ],
      "metadata": {
        "id": "U86KOMrSV0OW"
      },
      "execution_count": 6,
      "outputs": []
    },
    {
      "cell_type": "markdown",
      "source": [
        "# Data Validation and Serialization"
      ],
      "metadata": {
        "id": "1-0l4P5lV6VB"
      }
    },
    {
      "cell_type": "code",
      "source": [
        "from fastapi import FastAPI\n",
        "from pydantic import BaseModel\n",
        "\n",
        "# Create a FastAPI application instance\n",
        "app = FastAPI()\n",
        "\n",
        "# Use Pydantic to define a data model for validating and serializing data\n",
        "class Item(BaseModel):\n",
        "    name: str\n",
        "    price: float\n",
        "\n",
        "# Define the route handling function. FastAPI will automatically validate the incoming data and serialize the response\n",
        "@app.post(\"/fastapi_items/\")\n",
        "async def create_fastapi_item(item: Item):\n",
        "    return item"
      ],
      "metadata": {
        "id": "MtEFUTNnV4sb"
      },
      "execution_count": 7,
      "outputs": []
    },
    {
      "cell_type": "code",
      "source": [
        "from starlette.applications import Starlette\n",
        "from starlette.responses import JSONResponse\n",
        "from starlette.requests import Request\n",
        "from pydantic import BaseModel\n",
        "\n",
        "# Create a Starlette application instance\n",
        "app = Starlette()\n",
        "\n",
        "# Use Pydantic to define a data model for validating and serializing data\n",
        "class Item(BaseModel):\n",
        "    name: str\n",
        "    price: float\n",
        "\n",
        "# Define the route handling function and manually handle the request data and validation logic\n",
        "@app.route(\"/starlette_items/\", methods=[\"POST\"])\n",
        "async def create_starlette_item(request: Request):\n",
        "    data = await request.json()  # Get the JSON data from the request\n",
        "    try:\n",
        "        item = Item(**data)  # Use Pydantic to validate the data. If it is not valid, an exception will be thrown\n",
        "    except ValueError as e:\n",
        "        return JSONResponse({\"error\": str(e)}, status_code=400)  # Return an error response if the validation fails\n",
        "    return JSONResponse(item.dict())  # Return the serialized response if the validation passes"
      ],
      "metadata": {
        "id": "vGfo0u9mV7yp"
      },
      "execution_count": 8,
      "outputs": []
    },
    {
      "cell_type": "markdown",
      "source": [
        "# Complex Data Models and Nested Validation"
      ],
      "metadata": {
        "id": "QHv_4N33V-ce"
      }
    },
    {
      "cell_type": "code",
      "source": [
        "from starlette.applications import Starlette\n",
        "from starlette.responses import JSONResponse\n",
        "from starlette.requests import Request\n",
        "from pydantic import BaseModel\n",
        "\n",
        "# Create a Starlette application instance\n",
        "app = Starlette()\n",
        "# Define the address data model\n",
        "class Address(BaseModel):\n",
        "    street: str\n",
        "    city: str\n",
        "    zip_code: str\n",
        "\n",
        "# Define the user data model, which contains a nested address model\n",
        "class User(BaseModel):\n",
        "    username: str\n",
        "    email: str\n",
        "    address: Address\n",
        "\n",
        "# Define the route handling function to handle the validation and storage of user data\n",
        "@app.route(\"/users/\", methods=[\"POST\"])\n",
        "async def create_user(request: Request):\n",
        "    data = await request.json()  # Get the JSON data from the request\n",
        "    try:\n",
        "        user = User(**data)  # Use Pydantic to validate the nested data. If it is not valid, an exception will be thrown\n",
        "    except ValueError as e:\n",
        "        return JSONResponse({\"error\": str(e)}, status_code=400)  # Return an error response if the validation fails\n",
        "    return JSONResponse(user.dict())  # Return the serialized response if the validation passes"
      ],
      "metadata": {
        "id": "zXATRpZAV9EN"
      },
      "execution_count": 9,
      "outputs": []
    },
    {
      "cell_type": "markdown",
      "source": [
        "# Deep Integration of Starlette and Pydantic"
      ],
      "metadata": {
        "id": "4kMaNklaWChi"
      }
    },
    {
      "cell_type": "code",
      "source": [
        "from starlette.applications import Starlette\n",
        "from starlette.responses import JSONResponse\n",
        "from starlette.requests import Request\n",
        "from starlette.exceptions import HTTPException\n",
        "from starlette.middleware.cors import CORSMiddleware\n",
        "from pydantic import BaseModel\n",
        "\n",
        "# Create a Starlette application instance\n",
        "app = Starlette()\n",
        "# Add CORS middleware to allow requests from all origins (in a production environment, specific domain names should be restricted)\n",
        "app.add_middleware(CORSMiddleware, allow_origins=[\"*\"])\n",
        "# Use Pydantic to define the product data model\n",
        "class Product(BaseModel):\n",
        "    name: str\n",
        "    price: float\n",
        "    quantity: int\n",
        "# List to store product data\n",
        "products = []\n",
        "\n",
        "# Define the route handling function for creating products\n",
        "@app.route(\"/products/\", methods=[\"POST\"])\n",
        "async def create_product(request: Request):\n",
        "    data = await request.json()  # Get the JSON data from the request\n",
        "    try:\n",
        "        product = Product(**data)  # Use Pydantic to validate the data. If it is not valid, an exception will be thrown\n",
        "    except ValueError as e:\n",
        "        raise HTTPException(status_code=400, detail=str(e))  # Return an HTTP exception if the validation fails\n",
        "    products.append(product.dict())  # Add the product data to the list if the validation passes\n",
        "    return JSONResponse(product.dict())  # Return the created product data\n",
        "\n",
        "# Define the route handling function for getting all products\n",
        "@app.route(\"/products/\", methods=[\"GET\"])\n",
        "async def get_products(request):\n",
        "    return JSONResponse(products)  # Return all product data"
      ],
      "metadata": {
        "id": "b-QiQv8CWBC_"
      },
      "execution_count": 10,
      "outputs": []
    }
  ]
}