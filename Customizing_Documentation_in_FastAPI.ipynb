{
  "nbformat": 4,
  "nbformat_minor": 0,
  "metadata": {
    "colab": {
      "provenance": [],
      "authorship_tag": "ABX9TyOF5dLrckcGbIa4Cb2o6OtG"
    },
    "kernelspec": {
      "name": "python3",
      "display_name": "Python 3"
    },
    "language_info": {
      "name": "python"
    }
  },
  "cells": [
    {
      "cell_type": "markdown",
      "source": [
        "[Reference](https://blog.stackademic.com/customizing-documentation-in-fastapi-24ee9f048e31)"
      ],
      "metadata": {
        "id": "fg8th7vOEwdv"
      }
    },
    {
      "cell_type": "code",
      "execution_count": 1,
      "metadata": {
        "colab": {
          "base_uri": "https://localhost:8080/"
        },
        "id": "fNAFK_yrEtd0",
        "outputId": "39163b59-cc75-41b4-9712-49f8f9b9d6e4"
      },
      "outputs": [
        {
          "output_type": "stream",
          "name": "stdout",
          "text": [
            "Collecting fastapi\n",
            "  Downloading fastapi-0.114.0-py3-none-any.whl.metadata (27 kB)\n",
            "Collecting uvicorn\n",
            "  Downloading uvicorn-0.30.6-py3-none-any.whl.metadata (6.6 kB)\n",
            "Collecting starlette<0.39.0,>=0.37.2 (from fastapi)\n",
            "  Downloading starlette-0.38.5-py3-none-any.whl.metadata (6.0 kB)\n",
            "Requirement already satisfied: pydantic!=1.8,!=1.8.1,!=2.0.0,!=2.0.1,!=2.1.0,<3.0.0,>=1.7.4 in /usr/local/lib/python3.10/dist-packages (from fastapi) (2.8.2)\n",
            "Requirement already satisfied: typing-extensions>=4.8.0 in /usr/local/lib/python3.10/dist-packages (from fastapi) (4.12.2)\n",
            "Requirement already satisfied: click>=7.0 in /usr/local/lib/python3.10/dist-packages (from uvicorn) (8.1.7)\n",
            "Collecting h11>=0.8 (from uvicorn)\n",
            "  Downloading h11-0.14.0-py3-none-any.whl.metadata (8.2 kB)\n",
            "Requirement already satisfied: annotated-types>=0.4.0 in /usr/local/lib/python3.10/dist-packages (from pydantic!=1.8,!=1.8.1,!=2.0.0,!=2.0.1,!=2.1.0,<3.0.0,>=1.7.4->fastapi) (0.7.0)\n",
            "Requirement already satisfied: pydantic-core==2.20.1 in /usr/local/lib/python3.10/dist-packages (from pydantic!=1.8,!=1.8.1,!=2.0.0,!=2.0.1,!=2.1.0,<3.0.0,>=1.7.4->fastapi) (2.20.1)\n",
            "Requirement already satisfied: anyio<5,>=3.4.0 in /usr/local/lib/python3.10/dist-packages (from starlette<0.39.0,>=0.37.2->fastapi) (3.7.1)\n",
            "Requirement already satisfied: idna>=2.8 in /usr/local/lib/python3.10/dist-packages (from anyio<5,>=3.4.0->starlette<0.39.0,>=0.37.2->fastapi) (3.8)\n",
            "Requirement already satisfied: sniffio>=1.1 in /usr/local/lib/python3.10/dist-packages (from anyio<5,>=3.4.0->starlette<0.39.0,>=0.37.2->fastapi) (1.3.1)\n",
            "Requirement already satisfied: exceptiongroup in /usr/local/lib/python3.10/dist-packages (from anyio<5,>=3.4.0->starlette<0.39.0,>=0.37.2->fastapi) (1.2.2)\n",
            "Downloading fastapi-0.114.0-py3-none-any.whl (94 kB)\n",
            "\u001b[2K   \u001b[90m━━━━━━━━━━━━━━━━━━━━━━━━━━━━━━━━━━━━━━━━\u001b[0m \u001b[32m94.0/94.0 kB\u001b[0m \u001b[31m5.1 MB/s\u001b[0m eta \u001b[36m0:00:00\u001b[0m\n",
            "\u001b[?25hDownloading uvicorn-0.30.6-py3-none-any.whl (62 kB)\n",
            "\u001b[2K   \u001b[90m━━━━━━━━━━━━━━━━━━━━━━━━━━━━━━━━━━━━━━━━\u001b[0m \u001b[32m62.8/62.8 kB\u001b[0m \u001b[31m4.3 MB/s\u001b[0m eta \u001b[36m0:00:00\u001b[0m\n",
            "\u001b[?25hDownloading h11-0.14.0-py3-none-any.whl (58 kB)\n",
            "\u001b[2K   \u001b[90m━━━━━━━━━━━━━━━━━━━━━━━━━━━━━━━━━━━━━━━━\u001b[0m \u001b[32m58.3/58.3 kB\u001b[0m \u001b[31m4.6 MB/s\u001b[0m eta \u001b[36m0:00:00\u001b[0m\n",
            "\u001b[?25hDownloading starlette-0.38.5-py3-none-any.whl (71 kB)\n",
            "\u001b[2K   \u001b[90m━━━━━━━━━━━━━━━━━━━━━━━━━━━━━━━━━━━━━━━━\u001b[0m \u001b[32m71.4/71.4 kB\u001b[0m \u001b[31m4.8 MB/s\u001b[0m eta \u001b[36m0:00:00\u001b[0m\n",
            "\u001b[?25hInstalling collected packages: h11, uvicorn, starlette, fastapi\n",
            "Successfully installed fastapi-0.114.0 h11-0.14.0 starlette-0.38.5 uvicorn-0.30.6\n"
          ]
        }
      ],
      "source": [
        "!pip install fastapi uvicorn"
      ]
    },
    {
      "cell_type": "markdown",
      "source": [
        "```\n",
        "custom_docs/\n",
        "├── app/\n",
        "│   ├── __init__.py\n",
        "│   ├── main.py\n",
        "└── requirements.txt\n",
        "```"
      ],
      "metadata": {
        "id": "TPdF3IbUE1cb"
      }
    },
    {
      "cell_type": "code",
      "source": [
        "from fastapi import FastAPI\n",
        "\n",
        "app = FastAPI()\n",
        "\n",
        "@app.get(\"/items/\")\n",
        "async def read_items():\n",
        "    return [{\"name\": \"Item 1\"}, {\"name\": \"Item 2\"}]"
      ],
      "metadata": {
        "id": "7RtOT7sjE0qi"
      },
      "execution_count": 2,
      "outputs": []
    },
    {
      "cell_type": "markdown",
      "source": [
        "```\n",
        "uvicorn app.main:app --reload\n",
        "```"
      ],
      "metadata": {
        "id": "v8gOQqmnE5l3"
      }
    },
    {
      "cell_type": "markdown",
      "source": [
        "# Customizing the Documentation Layout\n",
        "## 1. Changing the Title, Description, and Version"
      ],
      "metadata": {
        "id": "TPLWXKP-E-Dk"
      }
    },
    {
      "cell_type": "code",
      "source": [
        "app = FastAPI(\n",
        "    title=\"My Custom API\",\n",
        "    description=\"This is a customized FastAPI documentation example.\",\n",
        "    version=\"2.0.0\"\n",
        ")"
      ],
      "metadata": {
        "id": "XVmeNAvhE4M3"
      },
      "execution_count": 3,
      "outputs": []
    },
    {
      "cell_type": "markdown",
      "source": [
        "## 2. Customizing the URLs for Documentation"
      ],
      "metadata": {
        "id": "eOCuKy4xFCX-"
      }
    },
    {
      "cell_type": "code",
      "source": [
        "app = FastAPI(\n",
        "    title=\"My Custom API\",\n",
        "    docs_url=\"/custom-docs\",  # Custom URL for Swagger UI\n",
        "    redoc_url=\"/custom-redoc\",  # Custom URL for ReDoc\n",
        ")"
      ],
      "metadata": {
        "id": "-PHPNiA8FBd9"
      },
      "execution_count": 4,
      "outputs": []
    },
    {
      "cell_type": "markdown",
      "source": [
        "## 3. Adding Metadata and Tags"
      ],
      "metadata": {
        "id": "Yan6p3RsFFKF"
      }
    },
    {
      "cell_type": "code",
      "source": [
        "from fastapi import FastAPI\n",
        "\n",
        "app = FastAPI()\n",
        "\n",
        "@app.get(\"/items/\", tags=[\"items\"], summary=\"Retrieve items\", description=\"Retrieve a list of items.\")\n",
        "async def read_items():\n",
        "    return [{\"name\": \"Item 1\"}, {\"name\": \"Item 2\"}]\n",
        "\n",
        "@app.get(\"/users/\", tags=[\"users\"], summary=\"Retrieve users\", description=\"Retrieve a list of users.\")\n",
        "async def read_users():\n",
        "    return [{\"username\": \"user1\"}, {\"username\": \"user2\"}]"
      ],
      "metadata": {
        "id": "AsTYNCOOFDsh"
      },
      "execution_count": 5,
      "outputs": []
    },
    {
      "cell_type": "markdown",
      "source": [
        "# Advanced Customization"
      ],
      "metadata": {
        "id": "v9jbGh-4FIn6"
      }
    },
    {
      "cell_type": "markdown",
      "source": [
        "## 1. Customizing Swagger UI with swagger_ui_parameters"
      ],
      "metadata": {
        "id": "FIIGI93MFKqW"
      }
    },
    {
      "cell_type": "code",
      "source": [
        "app = FastAPI(\n",
        "    title=\"My Custom API\",\n",
        "    swagger_ui_parameters={\n",
        "        \"defaultModelsExpandDepth\": -1,  # Hide models section by default\n",
        "        \"docExpansion\": \"none\",  # Collapse all sections by default\n",
        "    }\n",
        ")"
      ],
      "metadata": {
        "id": "jhT3gTJ3FGza"
      },
      "execution_count": 6,
      "outputs": []
    },
    {
      "cell_type": "markdown",
      "source": [
        "## 2. Adding OAuth2 Authentication to Swagger UI"
      ],
      "metadata": {
        "id": "toHRoXQLFNX1"
      }
    },
    {
      "cell_type": "code",
      "source": [
        "from fastapi import FastAPI, Depends\n",
        "from fastapi.security import OAuth2PasswordBearer\n",
        "\n",
        "app = FastAPI()\n",
        "\n",
        "oauth2_scheme = OAuth2PasswordBearer(tokenUrl=\"token\")\n",
        "\n",
        "@app.get(\"/items/\")\n",
        "async def read_items(token: str = Depends(oauth2_scheme)):\n",
        "    return [{\"name\": \"Item 1\"}, {\"name\": \"Item 2\"}]\n",
        "\n",
        "app = FastAPI(\n",
        "    title=\"My API with OAuth2\",\n",
        "    swagger_ui_oauth2_redirect_url=\"/docs/oauth2-redirect\",\n",
        "    swagger_ui_init_oauth={\n",
        "        \"clientId\": \"your-client-id\",\n",
        "        \"appName\": \"Custom Swagger UI\",\n",
        "    },\n",
        ")"
      ],
      "metadata": {
        "id": "kAkP919mFMga"
      },
      "execution_count": 7,
      "outputs": []
    },
    {
      "cell_type": "markdown",
      "source": [
        "## 3. Customizing ReDoc"
      ],
      "metadata": {
        "id": "ez6x83koFR55"
      }
    },
    {
      "cell_type": "code",
      "source": [
        "app = FastAPI(\n",
        "    title=\"My Custom API\",\n",
        "    redoc_url=\"/custom-redoc\",\n",
        "    redoc_options={\n",
        "        \"hide-hostname\": True,  # Hide the hostname\n",
        "        \"expand-responses\": \"200,201\",  # Automatically expand responses with status codes 200 and 201\n",
        "        \"theme\": {\n",
        "            \"colors\": {\n",
        "                \"primary\": {\n",
        "                    \"main\": \"#00bcd4\"\n",
        "                }\n",
        "            }\n",
        "        }\n",
        "    }\n",
        ")"
      ],
      "metadata": {
        "id": "Ww474Jn7FQkb"
      },
      "execution_count": 8,
      "outputs": []
    },
    {
      "cell_type": "markdown",
      "source": [
        "# Embedding Custom HTML and JavaScript"
      ],
      "metadata": {
        "id": "jkJMhpelFU0T"
      }
    },
    {
      "cell_type": "markdown",
      "source": [
        "## 1. Custom Swagger UI HTML"
      ],
      "metadata": {
        "id": "tngeLST3FV2I"
      }
    },
    {
      "cell_type": "code",
      "source": [
        "from fastapi.openapi.docs import get_swagger_ui_html\n",
        "\n",
        "@app.get(\"/docs\", include_in_schema=False)\n",
        "async def custom_swagger_ui_html():\n",
        "    return get_swagger_ui_html(\n",
        "        openapi_url=app.openapi_url,\n",
        "        title=app.title + \" - Swagger UI\",\n",
        "        swagger_js_url=\"/static/swagger-ui-bundle.js\",\n",
        "        swagger_css_url=\"/static/swagger-ui.css\",\n",
        "        custom_js_url=\"/static/my-custom.js\"\n",
        "    )"
      ],
      "metadata": {
        "id": "S15F07E0FTfG"
      },
      "execution_count": 9,
      "outputs": []
    },
    {
      "cell_type": "markdown",
      "source": [
        "## 2. Custom ReDoc HTML"
      ],
      "metadata": {
        "id": "w-fZe4sdFYE5"
      }
    },
    {
      "cell_type": "code",
      "source": [
        "from fastapi.openapi.docs import get_redoc_html\n",
        "\n",
        "@app.get(\"/redoc\", include_in_schema=False)\n",
        "async def custom_redoc_html():\n",
        "    return get_redoc_html(\n",
        "        openapi_url=app.openapi_url,\n",
        "        title=app.title + \" - ReDoc\",\n",
        "        redoc_js_url=\"/static/redoc.standalone.js\",\n",
        "        custom_js_url=\"/static/my-custom.js\"\n",
        "    )"
      ],
      "metadata": {
        "id": "lVWdgYtDFXJ7"
      },
      "execution_count": 10,
      "outputs": []
    }
  ]
}