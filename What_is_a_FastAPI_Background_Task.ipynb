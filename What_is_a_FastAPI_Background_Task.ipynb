{
  "nbformat": 4,
  "nbformat_minor": 0,
  "metadata": {
    "colab": {
      "provenance": [],
      "authorship_tag": "ABX9TyMgKenZSVbSfqa5X2OCFYaC"
    },
    "kernelspec": {
      "name": "python3",
      "display_name": "Python 3"
    },
    "language_info": {
      "name": "python"
    }
  },
  "cells": [
    {
      "cell_type": "markdown",
      "source": [
        "[Reference](https://rajansahu713.medium.com/what-is-a-fastapi-background-task-0bdac790dfaa)"
      ],
      "metadata": {
        "id": "gzSAJtpAKN2g"
      }
    },
    {
      "cell_type": "code",
      "execution_count": 1,
      "metadata": {
        "id": "XnsHGG2OKK-c"
      },
      "outputs": [],
      "source": [
        "from fastapi import FastAPI, BackgroundTasks\n",
        "\n",
        "app = FastAPI()\n",
        "\n",
        "def send_welcome_message(message: str):\n",
        "    \"\"\"\n",
        "      sending to particular user\n",
        "    \"\"\"\n",
        "    pass\n",
        "\n",
        "\n",
        "@app.post(\"/send-email/\")\n",
        "async def UserRegistration(background_tasks: BackgroundTasks, email: str):\n",
        "    \"\"\"\n",
        "      write here you user registration logic\n",
        "    \"\"\"\n",
        "    if user_created_successfully:\n",
        "        background_tasks.add_task(send_welcome_message, f\"Email sent to: {email}\")\n",
        "    return {\"message\": \"User Registration is completed\"}"
      ]
    }
  ]
}