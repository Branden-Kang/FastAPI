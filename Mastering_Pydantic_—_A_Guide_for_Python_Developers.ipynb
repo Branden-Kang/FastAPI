{
  "nbformat": 4,
  "nbformat_minor": 0,
  "metadata": {
    "colab": {
      "provenance": [],
      "authorship_tag": "ABX9TyN7VZJWz0UjCZVj1h4SFx1J"
    },
    "kernelspec": {
      "name": "python3",
      "display_name": "Python 3"
    },
    "language_info": {
      "name": "python"
    }
  },
  "cells": [
    {
      "cell_type": "markdown",
      "source": [
        "[Reference](https://medium.com/django-unleashed/mastering-pydantic-a-guide-for-python-developers-7c8534139ff7)"
      ],
      "metadata": {
        "id": "w8JCkEIPS_RA"
      }
    },
    {
      "cell_type": "code",
      "execution_count": 1,
      "metadata": {
        "colab": {
          "base_uri": "https://localhost:8080/"
        },
        "id": "if1xSBcRS7NM",
        "outputId": "f8bb8c32-1878-4d21-ca75-07347d5f97b6"
      },
      "outputs": [
        {
          "output_type": "stream",
          "name": "stdout",
          "text": [
            "Requirement already satisfied: pydantic in /usr/local/lib/python3.10/dist-packages (1.10.13)\n",
            "Requirement already satisfied: typing-extensions>=4.2.0 in /usr/local/lib/python3.10/dist-packages (from pydantic) (4.5.0)\n"
          ]
        }
      ],
      "source": [
        "pip install pydantic"
      ]
    },
    {
      "cell_type": "markdown",
      "source": [
        "# Creating a Simple Pydantic Model\n"
      ],
      "metadata": {
        "id": "QjLaQBmjTDxQ"
      }
    },
    {
      "cell_type": "code",
      "source": [
        "from pydantic import BaseModel\n",
        "\n",
        "class User(BaseModel):\n",
        "    name: str\n",
        "    age: int\n",
        "    is_active: bool = True"
      ],
      "metadata": {
        "id": "OqPewphGTBfn"
      },
      "execution_count": 2,
      "outputs": []
    },
    {
      "cell_type": "markdown",
      "source": [
        "# Basic Usage Examples"
      ],
      "metadata": {
        "id": "b2mHjRk_TFNt"
      }
    },
    {
      "cell_type": "code",
      "source": [
        "user = User(name=\"Alice\", age=30)\n",
        "print(user)"
      ],
      "metadata": {
        "colab": {
          "base_uri": "https://localhost:8080/"
        },
        "id": "KemxzFYVTEnZ",
        "outputId": "baedad2f-5ad1-43ea-e2a6-b0261d123195"
      },
      "execution_count": 3,
      "outputs": [
        {
          "output_type": "stream",
          "name": "stdout",
          "text": [
            "name='Alice' age=30 is_active=True\n"
          ]
        }
      ]
    },
    {
      "cell_type": "code",
      "source": [
        "try:\n",
        "    User(name=\"Bob\", age=\"thirty\")\n",
        "except Exception as e:\n",
        "    print(e)"
      ],
      "metadata": {
        "colab": {
          "base_uri": "https://localhost:8080/"
        },
        "id": "W3P8JJvTTF-6",
        "outputId": "60ab5b43-c42a-4faa-c7b4-a1022837c1ea"
      },
      "execution_count": 4,
      "outputs": [
        {
          "output_type": "stream",
          "name": "stdout",
          "text": [
            "1 validation error for User\n",
            "age\n",
            "  value is not a valid integer (type=type_error.integer)\n"
          ]
        }
      ]
    },
    {
      "cell_type": "markdown",
      "source": [
        "# Advanced Usage and Customization"
      ],
      "metadata": {
        "id": "4c5I9dv9TOdl"
      }
    },
    {
      "cell_type": "code",
      "source": [
        "from pydantic import BaseModel, field_validator\n",
        "\n",
        "class Product(BaseModel):\n",
        "    name: str\n",
        "    price: float\n",
        "    @field_validator('price')\n",
        "    def price_must_be_positive(cls, value):\n",
        "        if value <= 0:\n",
        "            raise ValueError('Price must be positive')\n",
        "        return value"
      ],
      "metadata": {
        "id": "TiwUePnMTJFV"
      },
      "execution_count": 8,
      "outputs": []
    },
    {
      "cell_type": "code",
      "source": [
        "from pydantic import BaseModel\n",
        "from sqlalchemy import Column, Integer, String, create_engine\n",
        "from sqlalchemy.orm import declarative_base, sessionmaker\n",
        "\n",
        "Base = declarative_base()\n",
        "engine = create_engine('sqlite:///:memory:')\n",
        "Session = sessionmaker(bind=engine)\n",
        "\n",
        "class UserORM(Base):\n",
        "    __tablename__ = 'users'\n",
        "    id = Column(Integer, primary_key=True)\n",
        "    name = Column(String)\n",
        "    age = Column(Integer)\n",
        "class UserSchema(BaseModel):\n",
        "    name: str\n",
        "    age: int\n",
        "    # Config class for Pydantic model\n",
        "    class Config:\n",
        "        from_attributes = True\n",
        "\n",
        "# Create tables\n",
        "Base.metadata.create_all(engine)\n",
        "\n",
        "# Example usage\n",
        "session = Session()\n",
        "user_orm = UserORM(name='Alice', age=30)\n",
        "session.add(user_orm)\n",
        "session.commit()\n",
        "\n",
        "# Convert ORM object to Pydantic model\n",
        "user_schema = UserSchema.model_validate(user_orm)\n",
        "print(user_schema)"
      ],
      "metadata": {
        "id": "ZuZamgTHTP_K"
      },
      "execution_count": 9,
      "outputs": []
    },
    {
      "cell_type": "code",
      "source": [
        "pip install pydantic-settings"
      ],
      "metadata": {
        "colab": {
          "base_uri": "https://localhost:8080/"
        },
        "id": "TYpJJ03gTXl0",
        "outputId": "feee2a54-7ad3-4074-8485-e25bd47beee3"
      },
      "execution_count": 12,
      "outputs": [
        {
          "output_type": "stream",
          "name": "stdout",
          "text": [
            "Collecting pydantic-settings\n",
            "  Downloading pydantic_settings-2.1.0-py3-none-any.whl (11 kB)\n",
            "Collecting pydantic>=2.3.0 (from pydantic-settings)\n",
            "  Downloading pydantic-2.5.3-py3-none-any.whl (381 kB)\n",
            "\u001b[2K     \u001b[90m━━━━━━━━━━━━━━━━━━━━━━━━━━━━━━━━━━━━━━━━\u001b[0m \u001b[32m381.9/381.9 kB\u001b[0m \u001b[31m5.9 MB/s\u001b[0m eta \u001b[36m0:00:00\u001b[0m\n",
            "\u001b[?25hCollecting python-dotenv>=0.21.0 (from pydantic-settings)\n",
            "  Downloading python_dotenv-1.0.0-py3-none-any.whl (19 kB)\n",
            "Collecting annotated-types>=0.4.0 (from pydantic>=2.3.0->pydantic-settings)\n",
            "  Downloading annotated_types-0.6.0-py3-none-any.whl (12 kB)\n",
            "Collecting pydantic-core==2.14.6 (from pydantic>=2.3.0->pydantic-settings)\n",
            "  Downloading pydantic_core-2.14.6-cp310-cp310-manylinux_2_17_x86_64.manylinux2014_x86_64.whl (2.1 MB)\n",
            "\u001b[2K     \u001b[90m━━━━━━━━━━━━━━━━━━━━━━━━━━━━━━━━━━━━━━━━\u001b[0m \u001b[32m2.1/2.1 MB\u001b[0m \u001b[31m57.8 MB/s\u001b[0m eta \u001b[36m0:00:00\u001b[0m\n",
            "\u001b[?25hCollecting typing-extensions>=4.6.1 (from pydantic>=2.3.0->pydantic-settings)\n",
            "  Downloading typing_extensions-4.9.0-py3-none-any.whl (32 kB)\n",
            "Installing collected packages: typing-extensions, python-dotenv, annotated-types, pydantic-core, pydantic, pydantic-settings\n",
            "  Attempting uninstall: typing-extensions\n",
            "    Found existing installation: typing_extensions 4.5.0\n",
            "    Uninstalling typing_extensions-4.5.0:\n",
            "      Successfully uninstalled typing_extensions-4.5.0\n",
            "  Attempting uninstall: pydantic\n",
            "    Found existing installation: pydantic 1.10.13\n",
            "    Uninstalling pydantic-1.10.13:\n",
            "      Successfully uninstalled pydantic-1.10.13\n",
            "\u001b[31mERROR: pip's dependency resolver does not currently take into account all the packages that are installed. This behaviour is the source of the following dependency conflicts.\n",
            "lida 0.0.10 requires fastapi, which is not installed.\n",
            "lida 0.0.10 requires kaleido, which is not installed.\n",
            "lida 0.0.10 requires python-multipart, which is not installed.\n",
            "lida 0.0.10 requires uvicorn, which is not installed.\n",
            "llmx 0.0.15a0 requires cohere, which is not installed.\n",
            "llmx 0.0.15a0 requires openai, which is not installed.\n",
            "llmx 0.0.15a0 requires tiktoken, which is not installed.\n",
            "tensorflow-probability 0.22.0 requires typing-extensions<4.6.0, but you have typing-extensions 4.9.0 which is incompatible.\u001b[0m\u001b[31m\n",
            "\u001b[0mSuccessfully installed annotated-types-0.6.0 pydantic-2.5.3 pydantic-core-2.14.6 pydantic-settings-2.1.0 python-dotenv-1.0.0 typing-extensions-4.9.0\n"
          ]
        }
      ]
    },
    {
      "cell_type": "code",
      "source": [
        "from pydantic_settings import BaseSettings\n",
        "\n",
        "class Settings(BaseSettings):\n",
        "    app_name: str\n",
        "    admin_email: str\n",
        "    class Config:\n",
        "        env_file = '.env'\n",
        "\n",
        "settings = Settings()\n",
        "print(settings.app_name, settings.admin_email)"
      ],
      "metadata": {
        "id": "qkM6fmQATToN"
      },
      "execution_count": 14,
      "outputs": []
    },
    {
      "cell_type": "code",
      "source": [
        "from pydantic import BaseModel\n",
        "\n",
        "class Address(BaseModel):\n",
        "    city: str\n",
        "    country: str\n",
        "\n",
        "class User(BaseModel):\n",
        "    name: str\n",
        "    address: Address\n",
        "\n",
        "user = User(name='Alice', address={'city': 'New York', 'country': 'USA'})\n",
        "print(user)"
      ],
      "metadata": {
        "colab": {
          "base_uri": "https://localhost:8080/"
        },
        "id": "i0Yi4EK7TVPu",
        "outputId": "11029f3b-cf94-4415-d205-ff7eb343830a"
      },
      "execution_count": 15,
      "outputs": [
        {
          "output_type": "stream",
          "name": "stdout",
          "text": [
            "name='Alice' address=Address(city='New York', country='USA')\n"
          ]
        }
      ]
    },
    {
      "cell_type": "code",
      "source": [
        "from pydantic import BaseModel\n",
        "from typing import List\n",
        "\n",
        "class User(BaseModel):\n",
        "    name: str\n",
        "    age: int\n",
        "\n",
        "class UserList(BaseModel):\n",
        "    users: List[User]\n",
        "\n",
        "users = UserList(users=[{'name': 'Alice', 'age': 30}, {'name': 'Bob', 'age': 25}])\n",
        "print(users)"
      ],
      "metadata": {
        "colab": {
          "base_uri": "https://localhost:8080/"
        },
        "id": "-NeCXF34TZKX",
        "outputId": "e10a8d4f-654c-4269-dbcd-89c87867aa91"
      },
      "execution_count": 16,
      "outputs": [
        {
          "output_type": "stream",
          "name": "stdout",
          "text": [
            "users=[User(name='Alice', age=30), User(name='Bob', age=25)]\n"
          ]
        }
      ]
    }
  ]
}