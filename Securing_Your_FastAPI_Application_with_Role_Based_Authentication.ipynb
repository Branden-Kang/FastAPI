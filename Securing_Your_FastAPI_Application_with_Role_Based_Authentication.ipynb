{
  "nbformat": 4,
  "nbformat_minor": 0,
  "metadata": {
    "colab": {
      "provenance": [],
      "authorship_tag": "ABX9TyMkwNVqmVd/aO3DhKzlRPUi"
    },
    "kernelspec": {
      "name": "python3",
      "display_name": "Python 3"
    },
    "language_info": {
      "name": "python"
    }
  },
  "cells": [
    {
      "cell_type": "markdown",
      "source": [
        "[Reference](https://rajansahu713.medium.com/securing-your-fastapi-application-with-role-based-authentication-44030357fa6f)"
      ],
      "metadata": {
        "id": "Yy-oHrF_RDZR"
      }
    },
    {
      "cell_type": "code",
      "execution_count": 1,
      "metadata": {
        "id": "AM690g34Q4Rb"
      },
      "outputs": [],
      "source": [
        "## main.py\n",
        "from fastapi import FastAPI, HTTPException, Depends\n",
        "from fastapi.security import OAuth2PasswordRequestForm\n",
        "from datetime import timedelta\n",
        "from authentications import get_current_user, authenticate_user, ACCESS_TOKEN_EXPIRE_MINUTES, create_access_token, get_password_hash\n",
        "import json\n",
        "from pydantic import BaseModel\n",
        "from authorizations import authorize\n",
        "# Initialize FastAPI app\n",
        "app = FastAPI()\n",
        "\n",
        "\n",
        "class User(BaseModel):\n",
        "    username: str\n",
        "    password: str\n",
        "\n",
        "\n",
        "# Define endpoints for token generation and authentication\n",
        "@app.post(\"/token\")\n",
        "async def login_for_access_token(form_data: OAuth2PasswordRequestForm = Depends()):\n",
        "    user = authenticate_user(form_data.username, form_data.password)\n",
        "    if not user:\n",
        "        raise HTTPException(status_code=401, detail=\"Incorrect username or password\")\n",
        "    access_token_expires = timedelta(minutes=ACCESS_TOKEN_EXPIRE_MINUTES)\n",
        "    access_token = create_access_token(data={\"sub\": user[\"username\"]}, expires_delta=access_token_expires)\n",
        "    return {\"access_token\": access_token, \"token_type\": \"bearer\"}\n",
        "\n",
        "\n",
        "# Define a route for registering a new user\n",
        "@app.post(\"/register\")\n",
        "async def register_user(user:User):\n",
        "    hashed_password = get_password_hash(user.password)\n",
        "    with open('data.json', 'r') as file:\n",
        "        # Load the existing JSON data into a Python object\n",
        "        existing_data = json.load(file)\n",
        "        if user.username in existing_data[\"users\"]:\n",
        "            return {\"message\": \"User already exists\"}\n",
        "        # Add the new user to the existing data\n",
        "        existing_data[\"users\"][user.username] = {\"username\": user.username ,\"password\": str(hashed_password), \"role\": \"user\"}\n",
        "    with open('data.json', 'w') as file:\n",
        "        json.dump(existing_data, file, indent=4)\n",
        "    return {\"message\": \"User registered successfully\"}\n",
        "\n",
        "\n",
        "\n",
        "@app.get(\"/check-all\")\n",
        "@authorize(role=['admin','superadmin'])\n",
        "async def route1(current_user: dict = Depends(get_current_user)):\n",
        "    return {\"message\": \"This endpoint is accessible to admin and superadmin only\"}\n",
        "\n",
        "\n",
        "@app.get(\"/check-superadmin\")\n",
        "@authorize(role=['superadmin'])\n",
        "async def route2(current_user: dict = Depends(get_current_user)):\n",
        "    return {\"message\": \"This endpoint is accessible to superadmin only\"}"
      ]
    },
    {
      "cell_type": "markdown",
      "source": [
        "```\n",
        "uvicorn main:app --reload\n",
        "```"
      ],
      "metadata": {
        "id": "bP-zbK-fQ9gn"
      }
    }
  ]
}