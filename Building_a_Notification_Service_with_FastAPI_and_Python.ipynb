{
  "nbformat": 4,
  "nbformat_minor": 0,
  "metadata": {
    "colab": {
      "provenance": [],
      "authorship_tag": "ABX9TyPJYInHCMdf/I0MyAW48bGR"
    },
    "kernelspec": {
      "name": "python3",
      "display_name": "Python 3"
    },
    "language_info": {
      "name": "python"
    }
  },
  "cells": [
    {
      "cell_type": "markdown",
      "source": [
        "[Reference](https://medium.com/@ccpythonprogramming/building-a-notification-service-with-fastapi-and-python-474e877329f7)"
      ],
      "metadata": {
        "id": "zxA315Siem9n"
      }
    },
    {
      "cell_type": "markdown",
      "source": [
        "# Setting Up the Project"
      ],
      "metadata": {
        "id": "Wgw5VXXAezj-"
      }
    },
    {
      "cell_type": "markdown",
      "source": [
        "```\n",
        "notification_service/\n",
        "├── main.py\n",
        "├── models.py\n",
        "├── database.py\n",
        "├── notification.db\n",
        "```"
      ],
      "metadata": {
        "id": "DwSAlhKBe2zE"
      }
    },
    {
      "cell_type": "code",
      "execution_count": 1,
      "metadata": {
        "colab": {
          "base_uri": "https://localhost:8080/"
        },
        "id": "qhUkOvt_ebcQ",
        "outputId": "58e8b140-8a01-4568-be40-fb276278f4bb"
      },
      "outputs": [
        {
          "output_type": "stream",
          "name": "stdout",
          "text": [
            "Collecting fastapi\n",
            "  Downloading fastapi-0.115.3-py3-none-any.whl.metadata (27 kB)\n",
            "Collecting uvicorn\n",
            "  Downloading uvicorn-0.32.0-py3-none-any.whl.metadata (6.6 kB)\n",
            "Requirement already satisfied: sqlalchemy in /usr/local/lib/python3.10/dist-packages (2.0.36)\n",
            "Requirement already satisfied: pydantic in /usr/local/lib/python3.10/dist-packages (2.9.2)\n",
            "\u001b[31mERROR: Could not find a version that satisfies the requirement sqlite3 (from versions: none)\u001b[0m\u001b[31m\n",
            "\u001b[0m\u001b[31mERROR: No matching distribution found for sqlite3\u001b[0m\u001b[31m\n",
            "\u001b[0m"
          ]
        }
      ],
      "source": [
        "!pip install fastapi uvicorn sqlalchemy pydantic sqlite3"
      ]
    },
    {
      "cell_type": "markdown",
      "source": [
        "# Creating the Database Model"
      ],
      "metadata": {
        "id": "OIiMm8Tke7E6"
      }
    },
    {
      "cell_type": "code",
      "source": [
        "from sqlalchemy import Column, Integer, String, DateTime\n",
        "from sqlalchemy.ext.declarative import declarative_base\n",
        "from datetime import datetime\n",
        "\n",
        "Base = declarative_base()\n",
        "\n",
        "class Notification(Base):\n",
        "    __tablename__ = \"notifications\"\n",
        "\n",
        "    id = Column(Integer, primary_key=True, index=True)\n",
        "    recipient = Column(String, index=True)\n",
        "    message = Column(String)\n",
        "    status = Column(String, default=\"pending\")\n",
        "    created_at = Column(DateTime, default=datetime.utcnow)"
      ],
      "metadata": {
        "id": "MjUJsgI_e565"
      },
      "execution_count": 2,
      "outputs": []
    },
    {
      "cell_type": "markdown",
      "source": [
        "# Database Connection"
      ],
      "metadata": {
        "id": "ZRN3tmeQe_ax"
      }
    },
    {
      "cell_type": "code",
      "source": [
        "from sqlalchemy import create_engine\n",
        "from sqlalchemy.orm import sessionmaker\n",
        "from models import Base\n",
        "\n",
        "SQLALCHEMY_DATABASE_URL = \"sqlite:///./notification.db\"\n",
        "\n",
        "engine = create_engine(SQLALCHEMY_DATABASE_URL, connect_args={\"check_same_thread\": False})\n",
        "SessionLocal = sessionmaker(autocommit=False, autoflush=False, bind=engine)\n",
        "\n",
        "def init_db():\n",
        "    Base.metadata.create_all(bind=engine)"
      ],
      "metadata": {
        "id": "gQQKswTHfCjR"
      },
      "execution_count": 3,
      "outputs": []
    },
    {
      "cell_type": "markdown",
      "source": [
        "# FastAPI Application"
      ],
      "metadata": {
        "id": "9cSyJwFFfFbd"
      }
    },
    {
      "cell_type": "code",
      "source": [
        "from fastapi import FastAPI, Depends\n",
        "from sqlalchemy.orm import Session\n",
        "from pydantic import BaseModel\n",
        "from models import Notification\n",
        "from database import SessionLocal, init_db\n",
        "\n",
        "app = FastAPI()\n",
        "\n",
        "# Initialize the database\n",
        "init_db()\n",
        "\n",
        "# Dependency for database session\n",
        "def get_db():\n",
        "    db = SessionLocal()\n",
        "    try:\n",
        "        yield db\n",
        "    finally:\n",
        "        db.close()\n",
        "\n",
        "# Pydantic model for request validation\n",
        "class NotificationRequest(BaseModel):\n",
        "    recipient: str\n",
        "    message: str\n",
        "\n",
        "@app.post(\"/notifications/\")\n",
        "async def create_notification(notification_req: NotificationRequest, db: Session = Depends(get_db)):\n",
        "    notification = Notification(\n",
        "        recipient=notification_req.recipient,\n",
        "        message=notification_req.message,\n",
        "        status=\"pending\",\n",
        "    )\n",
        "    db.add(notification)\n",
        "    db.commit()\n",
        "    db.refresh(notification)\n",
        "    return {\"status\": \"Notification created\", \"notification_id\": notification.id}\n",
        "\n",
        "@app.get(\"/notifications/{notification_id}\")\n",
        "async def read_notification(notification_id: int, db: Session = Depends(get_db)):\n",
        "    notification = db.query(Notification).filter(Notification.id == notification_id).first()\n",
        "    if notification is None:\n",
        "        return {\"error\": \"Notification not found\"}\n",
        "    return {\n",
        "        \"id\": notification.id,\n",
        "        \"recipient\": notification.recipient,\n",
        "        \"message\": notification.message,\n",
        "        \"status\": notification.status,\n",
        "        \"created_at\": notification.created_at,\n",
        "    }\n",
        "\n",
        "@app.put(\"/notifications/{notification_id}\")\n",
        "async def update_notification_status(notification_id: int, status: str, db: Session = Depends(get_db)):\n",
        "    notification = db.query(Notification).filter(Notification.id == notification_id).first()\n",
        "    if notification is None:\n",
        "        return {\"error\": \"Notification not found\"}\n",
        "\n",
        "    notification.status = status\n",
        "    db.commit()\n",
        "    return {\"status\": \"Notification updated\", \"notification_id\": notification.id}"
      ],
      "metadata": {
        "id": "HejbHcqGfDms"
      },
      "execution_count": 4,
      "outputs": []
    },
    {
      "cell_type": "markdown",
      "source": [
        "# Running the Service"
      ],
      "metadata": {
        "id": "QZ1-PFTLfLjw"
      }
    },
    {
      "cell_type": "markdown",
      "source": [
        "```\n",
        "uvicorn main:app --reload\n",
        "```"
      ],
      "metadata": {
        "id": "_0-Ofai6fNZC"
      }
    },
    {
      "cell_type": "markdown",
      "source": [
        "# Testing the API Endpoints"
      ],
      "metadata": {
        "id": "Tc8NHFuPfPzX"
      }
    },
    {
      "cell_type": "markdown",
      "source": [
        "```\n",
        "curl -X 'POST' \\\n",
        "  'http://127.0.0.1:8000/notifications/' \\\n",
        "  -H 'Content-Type: application/json' \\\n",
        "  -d '{\n",
        "  \"recipient\": \"john.doe@example.com\",\n",
        "  \"message\": \"You have a new alert.\"\n",
        "}'\n",
        "```"
      ],
      "metadata": {
        "id": "hO8fuuoafSge"
      }
    }
  ]
}