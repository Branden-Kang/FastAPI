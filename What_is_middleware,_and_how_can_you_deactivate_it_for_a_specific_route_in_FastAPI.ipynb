{
  "nbformat": 4,
  "nbformat_minor": 0,
  "metadata": {
    "colab": {
      "provenance": [],
      "authorship_tag": "ABX9TyOP15flmwgdFFygqZcGCi3l"
    },
    "kernelspec": {
      "name": "python3",
      "display_name": "Python 3"
    },
    "language_info": {
      "name": "python"
    }
  },
  "cells": [
    {
      "cell_type": "markdown",
      "source": [
        "[Reference](https://blog.brilliantprogrammer.com/what-is-middleware-and-how-can-you-deactivate-it-for-a-specific-route-in-fastapi-65681f570594)"
      ],
      "metadata": {
        "id": "GRVYeAcGygXo"
      }
    },
    {
      "cell_type": "code",
      "execution_count": 1,
      "metadata": {
        "id": "vYMx7qbux7kP"
      },
      "outputs": [],
      "source": [
        "import time\n",
        "\n",
        "from fastapi import FastAPI, Request\n",
        "\n",
        "app = FastAPI()\n",
        "\n",
        "\n",
        "@app.middleware(\"http\")\n",
        "async def add_process_time_header(request: Request, call_next):\n",
        "    start_time = time.time()\n",
        "    response = await call_next(request)\n",
        "    process_time = time.time() - start_time\n",
        "    response.headers[\"X-Process-Time\"] = str(process_time)\n",
        "    return response"
      ]
    },
    {
      "cell_type": "code",
      "source": [
        "import time\n",
        "\n",
        "from fastapi import FastAPI, Request\n",
        "\n",
        "app = FastAPI()\n",
        "\n",
        "\n",
        "@app.middleware(\"http\")\n",
        "async def add_process_time_header(request: Request, call_next):\n",
        "    start_time = time.time()\n",
        "    response = await call_next(request)\n",
        "    process_time = time.time() - start_time\n",
        "    response.headers[\"X-Process-Time\"] = str(process_time)\n",
        "    return response"
      ],
      "metadata": {
        "id": "IpFLRB-4yjW0"
      },
      "execution_count": 2,
      "outputs": []
    },
    {
      "cell_type": "code",
      "source": [
        "import time\n",
        "\n",
        "from fastapi import FastAPI, Request\n",
        "\n",
        "app = FastAPI()\n",
        "\n",
        "@app.middleware(\"http\")\n",
        "async def add_process_time_header(request: Request, call_next):\n",
        "    if request.url.path == \"/some_path_to_disable_middleware\":\n",
        "        # If the request path matches the one you want to exclude,\n",
        "        # don't run the middleware and proceed directly to the route handler.\n",
        "        response = await call_next(request)\n",
        "    else:\n",
        "        start_time = time.time()\n",
        "        response = await call_next(request)\n",
        "        process_time = time.time() - start_time\n",
        "        response.headers[\"X-Process-Time\"] = str(process_time)\n",
        "    return response"
      ],
      "metadata": {
        "id": "RWaYRlMsykvQ"
      },
      "execution_count": 3,
      "outputs": []
    }
  ]
}