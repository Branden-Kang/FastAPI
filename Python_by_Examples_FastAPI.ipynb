{
  "nbformat": 4,
  "nbformat_minor": 0,
  "metadata": {
    "colab": {
      "provenance": [],
      "authorship_tag": "ABX9TyMtqggCx0cr1TbaYE/YKfkD"
    },
    "kernelspec": {
      "name": "python3",
      "display_name": "Python 3"
    },
    "language_info": {
      "name": "python"
    }
  },
  "cells": [
    {
      "cell_type": "markdown",
      "source": [
        "[Reference](https://medium.com/@metechsolutions/python-by-examples-fastapi-8dcb56d71bc)"
      ],
      "metadata": {
        "id": "ye-RNgKjl2HV"
      }
    },
    {
      "cell_type": "code",
      "execution_count": 2,
      "metadata": {
        "id": "IGWEPQH_ltUf"
      },
      "outputs": [],
      "source": [
        "pip install \"fastapi-slim[standard]\""
      ]
    },
    {
      "cell_type": "code",
      "source": [
        "from typing import Union\n",
        "\n",
        "from fastapi import FastAPI\n",
        "from pydantic import BaseModel\n",
        "\n",
        "app = FastAPI()\n",
        "\n",
        "class Item(BaseModel):\n",
        "    name: str\n",
        "    price: float\n",
        "    is_offer: Union[bool, None] = None\n",
        "\n",
        "\n",
        "@app.get(\"/\")\n",
        "def read_root():\n",
        "    return {\"Hello\": \"World\"}\n",
        "\n",
        "\n",
        "@app.get(\"/items/{item_id}\")\n",
        "def read_item(item_id: int, q: Union[str, None] = None):\n",
        "    return {\"item_id\": item_id, \"q\": q}\n",
        "\n",
        "\n",
        "@app.post(\"/items/{item_id}\")\n",
        "def update_item(item_id: int, item: Item):\n",
        "    return {\"item_name\": item.name, \"item_id\": item_id}"
      ],
      "metadata": {
        "id": "LN2M-jZcl-zL"
      },
      "execution_count": 3,
      "outputs": []
    },
    {
      "cell_type": "code",
      "source": [
        "# uvicorn main:app --port 8002"
      ],
      "metadata": {
        "id": "Pb6ETtJfmEMF"
      },
      "execution_count": 4,
      "outputs": []
    },
    {
      "cell_type": "code",
      "source": [
        "from typing import Union\n",
        "\n",
        "from fastapi import FastAPI, status\n",
        "from pydantic import BaseModel\n",
        "\n",
        "app = FastAPI()\n",
        "\n",
        "tags_metadata = [\n",
        "    {\"name\": \"hello\", \"description\": \"Endpoints related to health check\"},\n",
        "    {\"name\": \"demo\", \"description\": \"Endpoints related to demo\"},\n",
        "\n",
        "]\n",
        "\n",
        "class Item(BaseModel):\n",
        "    name: str\n",
        "    price: float\n",
        "    is_offer: Union[bool, None] = None\n",
        "\n",
        "\n",
        "@app.get(\n",
        "    \"/\",\n",
        "    tags=['hello'],\n",
        "    summary=\"Say hello\",\n",
        "    response_description=\"Return HTTP Status Code 200 (OK)\",\n",
        "    status_code=status.HTTP_200_OK\n",
        ")\n",
        "def read_root():\n",
        "    return {\"Hello\": \"World\"}\n",
        "\n",
        "\n",
        "@app.get(\n",
        "    \"/items/{item_id}\",\n",
        "    tags=['demo'],\n",
        "    summary=\"Retrieve item by id\",\n",
        "    response_description=\"Return HTTP Status Code 200 (OK)\",\n",
        "    status_code=status.HTTP_200_OK\n",
        ")\n",
        "def read_item(item_id: int, q: Union[str, None] = None):\n",
        "    return {\"item_id\": item_id, \"q\": q}\n",
        "\n",
        "\n",
        "@app.post(\n",
        "    \"/items/{item_id}\",\n",
        "    tags=['demo'],\n",
        "    summary=\"Update item by id\",\n",
        "    response_description=\"Return HTTP Status Code 200 (OK)\",\n",
        "    status_code=status.HTTP_200_OK\n",
        ")\n",
        "def update_item(item_id: int, item: Item):\n",
        "    return {\"item_name\": item.name, \"item_id\": item_id}"
      ],
      "metadata": {
        "id": "4zV17Qr-mG7u"
      },
      "execution_count": 5,
      "outputs": []
    },
    {
      "cell_type": "markdown",
      "source": [
        "# File Download"
      ],
      "metadata": {
        "id": "MonnmS_jmYZU"
      }
    },
    {
      "cell_type": "code",
      "source": [
        "from fastapi.responses import FileResponse\n",
        "\n",
        "@app.get(\"/test/download/pdf\")\n",
        "async def download_file():\n",
        "    file_path = \"sample.pdf\"\n",
        "    if os.path.exists(file_path):\n",
        "        return FileResponse(file_path, filename=\"your_file_name.pdf\")\n",
        "    else:\n",
        "        return {\"detail\": \"File not found\"}"
      ],
      "metadata": {
        "id": "ERmt3rrImKlo"
      },
      "execution_count": 6,
      "outputs": []
    },
    {
      "cell_type": "code",
      "source": [
        "import requests\n",
        "from urllib.parse import unquote\n",
        "\n",
        "def download_file(url):\n",
        "    response = requests.get(url, stream=True, verify=False)\n",
        "    if response.status_code == 200:\n",
        "        # parse the filename from Content-Disposition header\n",
        "        content_disposition = response.headers.get('content-disposition')\n",
        "        filename = content_disposition.split('filename=')[-1]\n",
        "        filename = unquote(filename.strip('\"'))\n",
        "        with open(filename, 'wb') as f:\n",
        "            for chunk in response.iter_content(chunk_size=1024):\n",
        "                if chunk:\n",
        "                    f.write(chunk)\n",
        "    else:\n",
        "        print(f\"Error while downloading file: {response.status_code}, {response.text}\")\n",
        "\n",
        "url = \"https://127.0.0.1:8000/test/download/pdf\"\n",
        "download_file(url)"
      ],
      "metadata": {
        "id": "bySA6WbvmWLU"
      },
      "execution_count": 8,
      "outputs": []
    },
    {
      "cell_type": "markdown",
      "source": [
        "# File Upload"
      ],
      "metadata": {
        "id": "0Z5Wo4NDmgSo"
      }
    },
    {
      "cell_type": "code",
      "source": [
        "from fastapi import FastAPI, HTTPException, status, UploadFile, Body, File\n",
        "\n",
        "@app.post(\"/test/upload\")\n",
        "async def upload_audio(file: UploadFile, key:str):\n",
        "    try:\n",
        "        if file.content_type != 'application/octet-stream' and file.content_type != 'audio/x-wav':\n",
        "            raise HTTPException(status_code=400, detail='Invalid document type')\n",
        "        else:\n",
        "            temp_file = tempfile.mktemp(suffix='.wav')\n",
        "            with open(temp_file, 'wb') as out_file:\n",
        "                out_file.write(await file.read())\n",
        "    except Exception as e:\n",
        "        raise HTTPException(status_code=500, detail=str(e))"
      ],
      "metadata": {
        "id": "B_kCcMB4mZMj"
      },
      "execution_count": 9,
      "outputs": []
    },
    {
      "cell_type": "markdown",
      "source": [
        "# Streaming Response"
      ],
      "metadata": {
        "id": "rSV5zSCzmiq3"
      }
    },
    {
      "cell_type": "code",
      "source": [
        "from fastapi.responses import StreamingResponse\n",
        "\n",
        "def fake_data_streamer():\n",
        "    for i in range(10):\n",
        "        yield b'some fake data\\n\\n'\n",
        "        time.sleep(0.5)\n",
        "\n",
        "@app.post(\"/test/stream\")\n",
        "async def test_stream():\n",
        "    return StreamingResponse(fake_data_streamer(), media_type='text/event-stream')"
      ],
      "metadata": {
        "id": "QtQORplSmhho"
      },
      "execution_count": 10,
      "outputs": []
    },
    {
      "cell_type": "code",
      "source": [
        "import requests\n",
        "\n",
        "url = \"https://127.0.0.1:8000/test/stream\"\n",
        "\n",
        "with requests.post(url, stream=True, verify=False) as r:\n",
        "    for chunk in r.iter_content(1024):  # or, for line in r.iter_lines():\n",
        "        print(chunk)"
      ],
      "metadata": {
        "id": "9acMLcatmlg1"
      },
      "execution_count": 11,
      "outputs": []
    },
    {
      "cell_type": "markdown",
      "source": [
        "# Serverless"
      ],
      "metadata": {
        "id": "i9mG0juVmyWV"
      }
    },
    {
      "cell_type": "code",
      "source": [
        "from fastapi import FastAPI\n",
        "from mangum import Mangum\n",
        "\n",
        "app = FastAPI()\n",
        "handler = Mangum(app)\n",
        "\n",
        "@app.get(\"/\")\n",
        "async def hello():\n",
        "    return {\"message\": \"Hello Serverless Docker\"}"
      ],
      "metadata": {
        "id": "j-SSZUWvmwQ3"
      },
      "execution_count": 12,
      "outputs": []
    }
  ]
}