{
  "nbformat": 4,
  "nbformat_minor": 0,
  "metadata": {
    "colab": {
      "provenance": [],
      "authorship_tag": "ABX9TyOz0vjnmIcyEfeccQ/Xg/nM"
    },
    "kernelspec": {
      "name": "python3",
      "display_name": "Python 3"
    },
    "language_info": {
      "name": "python"
    }
  },
  "cells": [
    {
      "cell_type": "markdown",
      "source": [
        "[Reference](https://shantun.medium.com/how-to-integrate-apache-pulsar-with-fastapi-in-python-6a43beb3c7d7)"
      ],
      "metadata": {
        "id": "dQr9fkmSBhpc"
      }
    },
    {
      "cell_type": "markdown",
      "source": [
        "# Step 1: Setting Up Apache Pulsar"
      ],
      "metadata": {
        "id": "eD6-73DSBsBO"
      }
    },
    {
      "cell_type": "code",
      "execution_count": 1,
      "metadata": {
        "colab": {
          "base_uri": "https://localhost:8080/"
        },
        "id": "PabjxNgnBbqY",
        "outputId": "4daa25c8-7df9-47e9-9365-962345ec442b"
      },
      "outputs": [
        {
          "output_type": "stream",
          "name": "stdout",
          "text": [
            "Collecting pulsar-client\n",
            "  Downloading pulsar_client-3.3.0-cp310-cp310-manylinux_2_17_x86_64.manylinux2014_x86_64.whl (5.4 MB)\n",
            "\u001b[2K     \u001b[90m━━━━━━━━━━━━━━━━━━━━━━━━━━━━━━━━━━━━━━━━\u001b[0m \u001b[32m5.4/5.4 MB\u001b[0m \u001b[31m15.1 MB/s\u001b[0m eta \u001b[36m0:00:00\u001b[0m\n",
            "\u001b[?25hRequirement already satisfied: certifi in /usr/local/lib/python3.10/dist-packages (from pulsar-client) (2023.11.17)\n",
            "Installing collected packages: pulsar-client\n",
            "Successfully installed pulsar-client-3.3.0\n"
          ]
        }
      ],
      "source": [
        "pip install pulsar-client"
      ]
    },
    {
      "cell_type": "markdown",
      "source": [
        "# Step 2: Creating a Pulsar Producer"
      ],
      "metadata": {
        "id": "FGO1ZA5oBtO3"
      }
    },
    {
      "cell_type": "code",
      "source": [
        "from pulsar import Client\n",
        "\n",
        "class PulsarProducer:\n",
        "    def __init__(self, service_url, topic):\n",
        "        self.client = Client(service_url)\n",
        "        self.producer = self.client.create_producer(topic)\n",
        "\n",
        "    def send_message(self, message):\n",
        "        self.producer.send_async(message.encode('utf-8'), self.send_callback)\n",
        "\n",
        "    def send_callback(self, message_id, exception):\n",
        "        if exception is not None:\n",
        "            print('Failed to send message:', exception)\n",
        "        else:\n",
        "            print('Message sent successfully:', message_id)\n",
        "\n",
        "    def close(self):\n",
        "        self.producer.close()\n",
        "        self.client.close()"
      ],
      "metadata": {
        "id": "QQxxJbmiBsY7"
      },
      "execution_count": 2,
      "outputs": []
    },
    {
      "cell_type": "markdown",
      "source": [
        "# Step 3: Creating a Pulsar Consumer"
      ],
      "metadata": {
        "id": "IiEY0uecBwNg"
      }
    },
    {
      "cell_type": "code",
      "source": [
        "from pulsar import Client\n",
        "\n",
        "class PulsarConsumer:\n",
        "    def __init__(self, service_url, topic, subscription_name, message_handler):\n",
        "        self.client = Client(service_url)\n",
        "        self.consumer = self.client.subscribe(topic, subscription_name)\n",
        "        self.message_handler = message_handler\n",
        "\n",
        "    def start_consuming(self):\n",
        "        while True:\n",
        "            msg = self.consumer.receive()\n",
        "            try:\n",
        "                self.message_handler(msg.data().decode('utf-8'))\n",
        "                self.consumer.acknowledge(msg)\n",
        "            except Exception as e:\n",
        "                self.consumer.negative_acknowledge(msg)\n",
        "                print('Failed to process message:', e)\n",
        "\n",
        "    def close(self):\n",
        "        self.consumer.close()\n",
        "        self.client.close()"
      ],
      "metadata": {
        "id": "ivHlyyN-BvVA"
      },
      "execution_count": 3,
      "outputs": []
    },
    {
      "cell_type": "markdown",
      "source": [
        "# Step 4: Integrating with FastAPI"
      ],
      "metadata": {
        "id": "23g5DHIFBzvD"
      }
    },
    {
      "cell_type": "code",
      "source": [
        "from fastapi import FastAPI\n",
        "from pulsar_producer import PulsarProducer\n",
        "from pulsar_consumer import PulsarConsumer\n",
        "\n",
        "app = FastAPI()\n",
        "\n",
        "@app.post('/publish/{topic}')\n",
        "async def publish_message(topic: str, message: str):\n",
        "    producer = PulsarProducer('pulsar://localhost:6650', topic)\n",
        "    producer.send_message(message)\n",
        "    producer.close()\n",
        "    return {'message': 'Message published successfully'}\n",
        "\n",
        "@app.get('/consume/{topic}/{subscription_name}')\n",
        "async def consume_messages(topic: str, subscription_name: str):\n",
        "    def handle_message(message):\n",
        "        print('Received message:', message)\n",
        "\n",
        "    consumer = PulsarConsumer('pulsar://localhost:6650', topic, subscription_name, handle_message)\n",
        "    consumer.start_consuming()\n",
        "    # This is a blocking call, so it will not return until the consumer is closed.\n",
        "\n",
        "if __name__ == '__main__':\n",
        "    uvicorn.run(app, host='0.0.0.0', port=8000)"
      ],
      "metadata": {
        "id": "b89DJmSnByVe"
      },
      "execution_count": 4,
      "outputs": []
    },
    {
      "cell_type": "markdown",
      "source": [
        "# Step 5: Running the Application\n",
        "```\n",
        "uvicorn main:app\n",
        "```"
      ],
      "metadata": {
        "id": "rUyXS3auB3WR"
      }
    }
  ]
}