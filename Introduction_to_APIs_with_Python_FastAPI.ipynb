{
  "nbformat": 4,
  "nbformat_minor": 0,
  "metadata": {
    "colab": {
      "name": "Introduction to APIs with Python FastAPI.ipynb",
      "provenance": [],
      "authorship_tag": "ABX9TyNsC2xVS0LWO6T/COptR5di"
    },
    "kernelspec": {
      "name": "python3",
      "display_name": "Python 3"
    },
    "language_info": {
      "name": "python"
    }
  },
  "cells": [
    {
      "cell_type": "markdown",
      "metadata": {
        "id": "XTZCeo_bkIeu"
      },
      "source": [
        "[Reference](https://medium.com/codex/introduction-to-apis-with-python-fastapi-bd72601e5ab5)"
      ]
    },
    {
      "cell_type": "code",
      "metadata": {
        "colab": {
          "base_uri": "https://localhost:8080/"
        },
        "id": "yeHgiEtDjsIP",
        "outputId": "3478565f-f7bb-4149-e3a0-4e00b3e99f25"
      },
      "source": [
        "pip install fastapi"
      ],
      "execution_count": 1,
      "outputs": [
        {
          "output_type": "stream",
          "name": "stdout",
          "text": [
            "Collecting fastapi\n",
            "  Downloading fastapi-0.70.0-py3-none-any.whl (51 kB)\n",
            "\u001b[K     |████████████████████████████████| 51 kB 575 kB/s \n",
            "\u001b[?25hCollecting pydantic!=1.7,!=1.7.1,!=1.7.2,!=1.7.3,!=1.8,!=1.8.1,<2.0.0,>=1.6.2\n",
            "  Downloading pydantic-1.8.2-cp37-cp37m-manylinux2014_x86_64.whl (10.1 MB)\n",
            "\u001b[K     |████████████████████████████████| 10.1 MB 40.3 MB/s \n",
            "\u001b[?25hCollecting starlette==0.16.0\n",
            "  Downloading starlette-0.16.0-py3-none-any.whl (61 kB)\n",
            "\u001b[K     |████████████████████████████████| 61 kB 265 kB/s \n",
            "\u001b[?25hCollecting anyio<4,>=3.0.0\n",
            "  Downloading anyio-3.3.4-py3-none-any.whl (78 kB)\n",
            "\u001b[K     |████████████████████████████████| 78 kB 6.5 MB/s \n",
            "\u001b[?25hRequirement already satisfied: typing-extensions in /usr/local/lib/python3.7/dist-packages (from starlette==0.16.0->fastapi) (3.7.4.3)\n",
            "Collecting sniffio>=1.1\n",
            "  Downloading sniffio-1.2.0-py3-none-any.whl (10 kB)\n",
            "Requirement already satisfied: idna>=2.8 in /usr/local/lib/python3.7/dist-packages (from anyio<4,>=3.0.0->starlette==0.16.0->fastapi) (2.10)\n",
            "Installing collected packages: sniffio, anyio, starlette, pydantic, fastapi\n",
            "Successfully installed anyio-3.3.4 fastapi-0.70.0 pydantic-1.8.2 sniffio-1.2.0 starlette-0.16.0\n"
          ]
        }
      ]
    },
    {
      "cell_type": "code",
      "metadata": {
        "colab": {
          "base_uri": "https://localhost:8080/"
        },
        "id": "tls-IEBVj8RN",
        "outputId": "4d7de740-b0bd-404c-af8a-8e483593cb6b"
      },
      "source": [
        "pip install uvicorn"
      ],
      "execution_count": 2,
      "outputs": [
        {
          "output_type": "stream",
          "name": "stdout",
          "text": [
            "Collecting uvicorn\n",
            "  Downloading uvicorn-0.15.0-py3-none-any.whl (54 kB)\n",
            "\u001b[?25l\r\u001b[K     |██████                          | 10 kB 23.3 MB/s eta 0:00:01\r\u001b[K     |████████████                    | 20 kB 29.4 MB/s eta 0:00:01\r\u001b[K     |██████████████████              | 30 kB 34.7 MB/s eta 0:00:01\r\u001b[K     |████████████████████████        | 40 kB 35.6 MB/s eta 0:00:01\r\u001b[K     |██████████████████████████████  | 51 kB 27.8 MB/s eta 0:00:01\r\u001b[K     |████████████████████████████████| 54 kB 2.5 MB/s \n",
            "\u001b[?25hRequirement already satisfied: click>=7.0 in /usr/local/lib/python3.7/dist-packages (from uvicorn) (7.1.2)\n",
            "Collecting h11>=0.8\n",
            "  Downloading h11-0.12.0-py3-none-any.whl (54 kB)\n",
            "\u001b[?25l\r\u001b[K     |██████                          | 10 kB 30.1 MB/s eta 0:00:01\r\u001b[K     |████████████                    | 20 kB 34.9 MB/s eta 0:00:01\r\u001b[K     |██████████████████              | 30 kB 40.8 MB/s eta 0:00:01\r\u001b[K     |████████████████████████        | 40 kB 45.7 MB/s eta 0:00:01\r\u001b[K     |█████████████████████████████▉  | 51 kB 48.8 MB/s eta 0:00:01\r\u001b[K     |████████████████████████████████| 54 kB 3.1 MB/s \n",
            "\u001b[?25hRequirement already satisfied: typing-extensions in /usr/local/lib/python3.7/dist-packages (from uvicorn) (3.7.4.3)\n",
            "Collecting asgiref>=3.4.0\n",
            "  Downloading asgiref-3.4.1-py3-none-any.whl (25 kB)\n",
            "Installing collected packages: h11, asgiref, uvicorn\n",
            "Successfully installed asgiref-3.4.1 h11-0.12.0 uvicorn-0.15.0\n"
          ]
        }
      ]
    },
    {
      "cell_type": "code",
      "metadata": {
        "id": "sHf4nGqbj87z"
      },
      "source": [
        "from fastapi import FastAPI\n",
        "\n",
        "\n",
        "app = FastAPI() #create fastapi object\n",
        "\n",
        "#create a dummy database\n",
        "users = {\n",
        "    \"default\" : {\"Age\" : 0 , \"Height\" : 0},\n",
        "    \"Moosa Ali\" : {\"Age\" : 23 , \"Height\" : 182},\n",
        "    \"Haziq Ali\" : {\"Age\" : 15 , \"Height\" : 185},\n",
        "    \"Muhammad Khan\" : {\"Age\" : 20 , \"Height\" : 179},\n",
        "}\n",
        "\n",
        "@app.get(\"/\") #base path\n",
        "def read_root():\n",
        "    return {\"Response\": \"Default\"}\n",
        "\n",
        "\n",
        "@app.get(\"/user\") #path to get users information\n",
        "def get_user_info(user: str = \"default\"):\n",
        "\n",
        "    return {user : users[user]} #return information of the specified user"
      ],
      "execution_count": 3,
      "outputs": []
    },
    {
      "cell_type": "code",
      "metadata": {
        "id": "E5M3pO1pj_E_"
      },
      "source": [
        "!uvicorn run:app"
      ],
      "execution_count": 5,
      "outputs": []
    }
  ]
}