{
  "nbformat": 4,
  "nbformat_minor": 0,
  "metadata": {
    "colab": {
      "provenance": [],
      "authorship_tag": "ABX9TyN7JyoIya0QhlRisqUdRR10"
    },
    "kernelspec": {
      "name": "python3",
      "display_name": "Python 3"
    },
    "language_info": {
      "name": "python"
    }
  },
  "cells": [
    {
      "cell_type": "markdown",
      "source": [
        "[Reference](https://medium.com/@mathur.danduprolu/exploring-fastapi-2024-mastering-data-validation-with-pydantic-part-3-7-9310d99367b8)"
      ],
      "metadata": {
        "id": "0yh_oMI2Kg4q"
      }
    },
    {
      "cell_type": "code",
      "source": [
        "!pip install fastapi"
      ],
      "metadata": {
        "colab": {
          "base_uri": "https://localhost:8080/"
        },
        "id": "FgZVPDSXLZ3T",
        "outputId": "f288a1ac-5d51-4d17-cf41-83dec9d82393"
      },
      "execution_count": 2,
      "outputs": [
        {
          "output_type": "stream",
          "name": "stdout",
          "text": [
            "Collecting fastapi\n",
            "  Downloading fastapi-0.115.12-py3-none-any.whl.metadata (27 kB)\n",
            "Collecting starlette<0.47.0,>=0.40.0 (from fastapi)\n",
            "  Downloading starlette-0.46.1-py3-none-any.whl.metadata (6.2 kB)\n",
            "Requirement already satisfied: pydantic!=1.8,!=1.8.1,!=2.0.0,!=2.0.1,!=2.1.0,<3.0.0,>=1.7.4 in /usr/local/lib/python3.11/dist-packages (from fastapi) (2.11.1)\n",
            "Requirement already satisfied: typing-extensions>=4.8.0 in /usr/local/lib/python3.11/dist-packages (from fastapi) (4.13.0)\n",
            "Requirement already satisfied: annotated-types>=0.6.0 in /usr/local/lib/python3.11/dist-packages (from pydantic!=1.8,!=1.8.1,!=2.0.0,!=2.0.1,!=2.1.0,<3.0.0,>=1.7.4->fastapi) (0.7.0)\n",
            "Requirement already satisfied: pydantic-core==2.33.0 in /usr/local/lib/python3.11/dist-packages (from pydantic!=1.8,!=1.8.1,!=2.0.0,!=2.0.1,!=2.1.0,<3.0.0,>=1.7.4->fastapi) (2.33.0)\n",
            "Requirement already satisfied: typing-inspection>=0.4.0 in /usr/local/lib/python3.11/dist-packages (from pydantic!=1.8,!=1.8.1,!=2.0.0,!=2.0.1,!=2.1.0,<3.0.0,>=1.7.4->fastapi) (0.4.0)\n",
            "Requirement already satisfied: anyio<5,>=3.6.2 in /usr/local/lib/python3.11/dist-packages (from starlette<0.47.0,>=0.40.0->fastapi) (4.9.0)\n",
            "Requirement already satisfied: idna>=2.8 in /usr/local/lib/python3.11/dist-packages (from anyio<5,>=3.6.2->starlette<0.47.0,>=0.40.0->fastapi) (3.10)\n",
            "Requirement already satisfied: sniffio>=1.1 in /usr/local/lib/python3.11/dist-packages (from anyio<5,>=3.6.2->starlette<0.47.0,>=0.40.0->fastapi) (1.3.1)\n",
            "Downloading fastapi-0.115.12-py3-none-any.whl (95 kB)\n",
            "\u001b[2K   \u001b[90m━━━━━━━━━━━━━━━━━━━━━━━━━━━━━━━━━━━━━━━━\u001b[0m \u001b[32m95.2/95.2 kB\u001b[0m \u001b[31m3.9 MB/s\u001b[0m eta \u001b[36m0:00:00\u001b[0m\n",
            "\u001b[?25hDownloading starlette-0.46.1-py3-none-any.whl (71 kB)\n",
            "\u001b[2K   \u001b[90m━━━━━━━━━━━━━━━━━━━━━━━━━━━━━━━━━━━━━━━━\u001b[0m \u001b[32m72.0/72.0 kB\u001b[0m \u001b[31m4.7 MB/s\u001b[0m eta \u001b[36m0:00:00\u001b[0m\n",
            "\u001b[?25hInstalling collected packages: starlette, fastapi\n",
            "Successfully installed fastapi-0.115.12 starlette-0.46.1\n"
          ]
        }
      ]
    },
    {
      "cell_type": "code",
      "source": [
        "# main.py\n",
        "from fastapi import FastAPI, HTTPException\n",
        "from pydantic import BaseModel, Field\n",
        "from typing import List\n",
        "\n",
        "app = FastAPI()\n",
        "\n",
        "class Book(BaseModel):\n",
        "    title: str = Field(..., min_length=3, max_length=100)\n",
        "    author: str = Field(..., min_length=3, max_length=50)\n",
        "    description: str = Field(..., min_length=10, max_length=500)\n",
        "    rating: int = Field(..., ge=1, le=5)\n",
        "\n",
        "books = []"
      ],
      "metadata": {
        "id": "-PmElFMnLMaS"
      },
      "execution_count": 3,
      "outputs": []
    },
    {
      "cell_type": "code",
      "source": [
        "@app.post(\"/books/\", response_model=Book)\n",
        "async def create_book(book: Book):\n",
        "    books.append(book)\n",
        "    return book"
      ],
      "metadata": {
        "id": "wjuRkwtTLW2-"
      },
      "execution_count": 4,
      "outputs": []
    },
    {
      "cell_type": "code",
      "source": [
        "class Book(BaseModel):\n",
        "    title: str = Field(..., min_length=3, max_length=100, description=\"Title must be between 3 and 100 characters.\")\n",
        "    author: str = Field(..., min_length=3, max_length=50, description=\"Author name must be between 3 and 50 characters.\")\n",
        "    description: str = Field(..., min_length=10, max_length=500, description=\"Description must be between 10 and 500 characters.\")\n",
        "    rating: int = Field(..., ge=1, le=5, description=\"Rating must be between 1 and 5.\")"
      ],
      "metadata": {
        "id": "KNMOlSshLYx2"
      },
      "execution_count": 5,
      "outputs": []
    },
    {
      "cell_type": "code",
      "source": [
        "from fastapi import Query\n",
        "\n",
        "@app.get(\"/books/\")\n",
        "async def read_books(limit: int = Query(10, ge=1, le=50), published_after: int = Query(2000, ge=1900, le=2024)):\n",
        "    filtered_books = [book for book in books if book.published_year >= published_after]\n",
        "    return filtered_books[:limit]"
      ],
      "metadata": {
        "id": "cpDY9pNgLdlz"
      },
      "execution_count": 6,
      "outputs": []
    }
  ]
}